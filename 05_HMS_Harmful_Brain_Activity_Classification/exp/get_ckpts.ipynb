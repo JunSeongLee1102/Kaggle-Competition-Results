{
 "cells": [
  {
   "cell_type": "code",
   "execution_count": 1,
   "metadata": {},
   "outputs": [],
   "source": [
    "from glob import glob\n",
    "import os\n",
    "import numpy as np"
   ]
  },
  {
   "cell_type": "code",
   "execution_count": 2,
   "metadata": {},
   "outputs": [],
   "source": [
    "experiment_dir = \"e011\"\n",
    "version_range = np.arange(0, 5)\n",
    "ckpt_dir = \"ckpts\"\n",
    "os.makedirs(ckpt_dir, exist_ok=True)\n",
    "os.makedirs(f\"{ckpt_dir}/{experiment_dir}\", exist_ok=True)"
   ]
  },
  {
   "cell_type": "code",
   "execution_count": 3,
   "metadata": {},
   "outputs": [
    {
     "name": "stdout",
     "output_type": "stream",
     "text": [
      "e011/version_00/epoch=28-step=12412.ckpt\n",
      "e011/version_01/epoch=43-step=18832.ckpt\n",
      "e011/version_02/epoch=46-step=20116.ckpt\n",
      "e011/version_03/epoch=32-step=14124.ckpt\n",
      "e011/version_04/epoch=46-step=20116.ckpt\n",
      "ckpts/e011/\n",
      "ckpts/e011/e011_1_epoch=43-step=18832.ckpt\n",
      "ckpts/e011/e011_0_epoch=28-step=12412.ckpt\n",
      "ckpts/e011/e011_2_epoch=46-step=20116.ckpt\n",
      "ckpts/e011/e011_4_epoch=46-step=20116.ckpt\n",
      "ckpts/e011/e011_3_epoch=32-step=14124.ckpt\n"
     ]
    },
    {
     "data": {
      "text/plain": [
       "0"
      ]
     },
     "execution_count": 3,
     "metadata": {},
     "output_type": "execute_result"
    }
   ],
   "source": [
    "for v in version_range:\n",
    "    ckpt_file_path = glob(f\"{experiment_dir}/{'version_%02d'%(v)}/*ckpt\")\n",
    "    new_file_name = f\"{experiment_dir}_{v}_{ckpt_file_path[0].split('/')[-1]}\"\n",
    "    os.system(f\"cp {ckpt_file_path[0]} {ckpt_dir}/{experiment_dir}/{new_file_name}\")\n",
    "    print(ckpt_file_path[0])\n",
    "os.system(f\"tar -cvf {ckpt_dir}/{experiment_dir}.tar.gz {ckpt_dir}/{experiment_dir}\")\n",
    "os.system(f\"rm -rf {ckpt_dir}/{experiment_dir}\")"
   ]
  },
  {
   "cell_type": "code",
   "execution_count": null,
   "metadata": {},
   "outputs": [],
   "source": []
  }
 ],
 "metadata": {
  "kernelspec": {
   "display_name": "Python 3",
   "language": "python",
   "name": "python3"
  },
  "language_info": {
   "codemirror_mode": {
    "name": "ipython",
    "version": 3
   },
   "file_extension": ".py",
   "mimetype": "text/x-python",
   "name": "python",
   "nbconvert_exporter": "python",
   "pygments_lexer": "ipython3",
   "version": "3.10.12"
  }
 },
 "nbformat": 4,
 "nbformat_minor": 2
}

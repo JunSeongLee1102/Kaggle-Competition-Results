{
 "cells": [
  {
   "cell_type": "code",
   "execution_count": 45,
   "metadata": {},
   "outputs": [],
   "source": [
    "import pandas as pd\n",
    "import numpy as np\n",
    "from matplotlib import pyplot as plt\n",
    "\n",
    "\n",
    "def preprocess_train_df(csv_path, vote_bins=50, clip_max=100):\n",
    "    df = pd.read_csv(csv_path)\n",
    "    targets = df.columns[-6:]\n",
    "    print(\"Train shape:\", df.shape)\n",
    "    print(\"Targets\", list(targets))\n",
    "    train = df.groupby(\"eeg_id\")[\n",
    "        [\"spectrogram_id\", \"spectrogram_label_offset_seconds\"]\n",
    "    ].agg({\"spectrogram_id\": \"first\", \"spectrogram_label_offset_seconds\": \"min\"})\n",
    "    train.columns = [\"spec_id\", \"min\"]\n",
    "\n",
    "    tmp = df.groupby(\"eeg_id\")[\n",
    "        [\"spectrogram_id\", \"spectrogram_label_offset_seconds\"]\n",
    "    ].agg({\"spectrogram_label_offset_seconds\": \"max\"})\n",
    "    train[\"max\"] = tmp\n",
    "    tmp = df.groupby(\"eeg_id\")[[\"patient_id\"]].agg(\"first\")\n",
    "    train[\"patient_id\"] = tmp\n",
    "    tmp = df.groupby(\"eeg_id\")[targets].agg(\"sum\")\n",
    "    for t in targets:\n",
    "        train[t] = tmp[t].values\n",
    "    y_data = train[targets].values\n",
    "    vote_count = y_data.sum(axis=1)\n",
    "    y_data = y_data / y_data.sum(axis=1, keepdims=True)\n",
    "    train[targets] = y_data\n",
    "    tmp = df.groupby(\"eeg_id\")[[\"expert_consensus\"]].agg(\"first\")\n",
    "    train[\"target\"] = tmp\n",
    "    train[\"vote_count\"] = vote_count\n",
    "    train[\"vote_count\"].clip(0, clip_max, inplace=True)\n",
    "    # hist, edges = np.histogram(train[\"vote_count\"].to_numpy(), bins=50, range=(0, 100))\n",
    "    vote_count_dict = {}\n",
    "    for i in range(0, clip_max + 1):\n",
    "        vote_count_dict[i] = i // (clip_max // vote_bins)\n",
    "    train[\"vote_category\"] = train[\"vote_count\"].map(lambda x: vote_count_dict[x])\n",
    "    train = train.reset_index()\n",
    "    print(\"Train non-overlapp eeg_id shape:\", train.shape)\n",
    "    train.head()\n",
    "    return train, targets"
   ]
  },
  {
   "cell_type": "code",
   "execution_count": 61,
   "metadata": {},
   "outputs": [
    {
     "data": {
      "text/plain": [
       "2"
      ]
     },
     "execution_count": 61,
     "metadata": {},
     "output_type": "execute_result"
    }
   ],
   "source": []
  },
  {
   "cell_type": "code",
   "execution_count": 62,
   "metadata": {},
   "outputs": [],
   "source": []
  },
  {
   "cell_type": "code",
   "execution_count": 63,
   "metadata": {},
   "outputs": [
    {
     "data": {
      "text/plain": [
       "0        24\n",
       "1        50\n",
       "2         1\n",
       "3         0\n",
       "4         1\n",
       "         ..\n",
       "17084     1\n",
       "17085     1\n",
       "17086     0\n",
       "17087    37\n",
       "17088     1\n",
       "Name: vote_category, Length: 17089, dtype: int64"
      ]
     },
     "execution_count": 63,
     "metadata": {},
     "output_type": "execute_result"
    }
   ],
   "source": [
    "train[\"vote_category\"]"
   ]
  },
  {
   "cell_type": "code",
   "execution_count": 58,
   "metadata": {},
   "outputs": [
    {
     "name": "stdout",
     "output_type": "stream",
     "text": [
      "Train shape: (106800, 15)\n",
      "Targets ['seizure_vote', 'lpd_vote', 'gpd_vote', 'lrda_vote', 'grda_vote', 'other_vote']\n",
      "Train non-overlapp eeg_id shape: (17089, 13)\n"
     ]
    },
    {
     "data": {
      "text/plain": [
       "<BarContainer object of 50 artists>"
      ]
     },
     "execution_count": 58,
     "metadata": {},
     "output_type": "execute_result"
    },
    {
     "data": {
      "image/png": "[encoded data removed]",
      "text/plain": [
       "<Figure size 640x480 with 1 Axes>"
      ]
     },
     "metadata": {},
     "output_type": "display_data"
    }
   ],
   "source": [
    "csv_path = \"../input/hms-harmful-brain-activity-classification/train.csv\"\n",
    "train, targets = preprocess_train_df(csv_path)\n",
    "\n",
    "\n",
    "hist, edges = np.histogram(train[\"vote_count\"].to_numpy(), bins=50, range=(0, 100))\n",
    "plt.bar(edges[1:], hist)"
   ]
  },
  {
   "cell_type": "code",
   "execution_count": 57,
   "metadata": {},
   "outputs": [
    {
     "data": {
      "text/plain": [
       "(array([2884., 2451.,  170.,  687.,  656.,  167.,  941.,  833.,  254.,\n",
       "         533.,  446.,  106.,  406.,  416.,  151.,  429.,  228.,  106.,\n",
       "         288.,  255.,  119.,  171.,  326.,   41.,  205.,  133.,  125.,\n",
       "         130.,  138.,   17.,  279.,   45.,  127.,   72.,   55.,   50.,\n",
       "         110.,  140.,   32.,   78.,   91.,    9.,  125.,   20.,   22.,\n",
       "         171.,   29.,    6.,   60., 1756.]),\n",
       " array([  0.,   2.,   4.,   6.,   8.,  10.,  12.,  14.,  16.,  18.,  20.,\n",
       "         22.,  24.,  26.,  28.,  30.,  32.,  34.,  36.,  38.,  40.,  42.,\n",
       "         44.,  46.,  48.,  50.,  52.,  54.,  56.,  58.,  60.,  62.,  64.,\n",
       "         66.,  68.,  70.,  72.,  74.,  76.,  78.,  80.,  82.,  84.,  86.,\n",
       "         88.,  90.,  92.,  94.,  96.,  98., 100.]),\n",
       " <BarContainer object of 50 artists>)"
      ]
     },
     "execution_count": 57,
     "metadata": {},
     "output_type": "execute_result"
    },
    {
     "data": {
      "image/png": "[encoded data removed]",
      "text/plain": [
       "<Figure size 640x480 with 1 Axes>"
      ]
     },
     "metadata": {},
     "output_type": "display_data"
    }
   ],
   "source": [
    "plt.hist(train[\"vote_count\"].to_numpy(), bins=50, range=(0, 100))"
   ]
  },
  {
   "cell_type": "code",
   "execution_count": 35,
   "metadata": {},
   "outputs": [
    {
     "data": {
      "text/html": [
       "<div>\n",
       "<style scoped>\n",
       "    .dataframe tbody tr th:only-of-type {\n",
       "        vertical-align: middle;\n",
       "    }\n",
       "\n",
       "    .dataframe tbody tr th {\n",
       "        vertical-align: top;\n",
       "    }\n",
       "\n",
       "    .dataframe thead th {\n",
       "        text-align: right;\n",
       "    }\n",
       "</style>\n",
       "<table border=\"1\" class=\"dataframe\">\n",
       "  <thead>\n",
       "    <tr style=\"text-align: right;\">\n",
       "      <th></th>\n",
       "      <th>eeg_id</th>\n",
       "      <th>spec_id</th>\n",
       "      <th>min</th>\n",
       "      <th>max</th>\n",
       "      <th>patient_id</th>\n",
       "      <th>seizure_vote</th>\n",
       "      <th>lpd_vote</th>\n",
       "      <th>gpd_vote</th>\n",
       "      <th>lrda_vote</th>\n",
       "      <th>grda_vote</th>\n",
       "      <th>other_vote</th>\n",
       "      <th>target</th>\n",
       "      <th>vote_count</th>\n",
       "    </tr>\n",
       "  </thead>\n",
       "  <tbody>\n",
       "    <tr>\n",
       "      <th>0</th>\n",
       "      <td>568657</td>\n",
       "      <td>789577333</td>\n",
       "      <td>0.0</td>\n",
       "      <td>16.0</td>\n",
       "      <td>20654</td>\n",
       "      <td>0.0</td>\n",
       "      <td>0.000000</td>\n",
       "      <td>0.25</td>\n",
       "      <td>0.000000</td>\n",
       "      <td>0.166667</td>\n",
       "      <td>0.583333</td>\n",
       "      <td>Other</td>\n",
       "      <td>48</td>\n",
       "    </tr>\n",
       "    <tr>\n",
       "      <th>1</th>\n",
       "      <td>582999</td>\n",
       "      <td>1552638400</td>\n",
       "      <td>0.0</td>\n",
       "      <td>38.0</td>\n",
       "      <td>20230</td>\n",
       "      <td>0.0</td>\n",
       "      <td>0.857143</td>\n",
       "      <td>0.00</td>\n",
       "      <td>0.071429</td>\n",
       "      <td>0.000000</td>\n",
       "      <td>0.071429</td>\n",
       "      <td>LPD</td>\n",
       "      <td>154</td>\n",
       "    </tr>\n",
       "    <tr>\n",
       "      <th>2</th>\n",
       "      <td>642382</td>\n",
       "      <td>14960202</td>\n",
       "      <td>1008.0</td>\n",
       "      <td>1032.0</td>\n",
       "      <td>5955</td>\n",
       "      <td>0.0</td>\n",
       "      <td>0.000000</td>\n",
       "      <td>0.00</td>\n",
       "      <td>0.000000</td>\n",
       "      <td>0.000000</td>\n",
       "      <td>1.000000</td>\n",
       "      <td>Other</td>\n",
       "      <td>2</td>\n",
       "    </tr>\n",
       "    <tr>\n",
       "      <th>3</th>\n",
       "      <td>751790</td>\n",
       "      <td>618728447</td>\n",
       "      <td>908.0</td>\n",
       "      <td>908.0</td>\n",
       "      <td>38549</td>\n",
       "      <td>0.0</td>\n",
       "      <td>0.000000</td>\n",
       "      <td>1.00</td>\n",
       "      <td>0.000000</td>\n",
       "      <td>0.000000</td>\n",
       "      <td>0.000000</td>\n",
       "      <td>GPD</td>\n",
       "      <td>1</td>\n",
       "    </tr>\n",
       "    <tr>\n",
       "      <th>4</th>\n",
       "      <td>778705</td>\n",
       "      <td>52296320</td>\n",
       "      <td>0.0</td>\n",
       "      <td>0.0</td>\n",
       "      <td>40955</td>\n",
       "      <td>0.0</td>\n",
       "      <td>0.000000</td>\n",
       "      <td>0.00</td>\n",
       "      <td>0.000000</td>\n",
       "      <td>0.000000</td>\n",
       "      <td>1.000000</td>\n",
       "      <td>Other</td>\n",
       "      <td>2</td>\n",
       "    </tr>\n",
       "    <tr>\n",
       "      <th>...</th>\n",
       "      <td>...</td>\n",
       "      <td>...</td>\n",
       "      <td>...</td>\n",
       "      <td>...</td>\n",
       "      <td>...</td>\n",
       "      <td>...</td>\n",
       "      <td>...</td>\n",
       "      <td>...</td>\n",
       "      <td>...</td>\n",
       "      <td>...</td>\n",
       "      <td>...</td>\n",
       "      <td>...</td>\n",
       "      <td>...</td>\n",
       "    </tr>\n",
       "    <tr>\n",
       "      <th>17084</th>\n",
       "      <td>4293354003</td>\n",
       "      <td>1188113564</td>\n",
       "      <td>0.0</td>\n",
       "      <td>0.0</td>\n",
       "      <td>16610</td>\n",
       "      <td>0.0</td>\n",
       "      <td>0.000000</td>\n",
       "      <td>0.00</td>\n",
       "      <td>0.000000</td>\n",
       "      <td>0.500000</td>\n",
       "      <td>0.500000</td>\n",
       "      <td>GRDA</td>\n",
       "      <td>2</td>\n",
       "    </tr>\n",
       "    <tr>\n",
       "      <th>17085</th>\n",
       "      <td>4293843368</td>\n",
       "      <td>1549502620</td>\n",
       "      <td>0.0</td>\n",
       "      <td>0.0</td>\n",
       "      <td>15065</td>\n",
       "      <td>0.0</td>\n",
       "      <td>0.000000</td>\n",
       "      <td>0.00</td>\n",
       "      <td>0.000000</td>\n",
       "      <td>0.500000</td>\n",
       "      <td>0.500000</td>\n",
       "      <td>GRDA</td>\n",
       "      <td>2</td>\n",
       "    </tr>\n",
       "    <tr>\n",
       "      <th>17086</th>\n",
       "      <td>4294455489</td>\n",
       "      <td>2105480289</td>\n",
       "      <td>0.0</td>\n",
       "      <td>0.0</td>\n",
       "      <td>56</td>\n",
       "      <td>0.0</td>\n",
       "      <td>0.000000</td>\n",
       "      <td>0.00</td>\n",
       "      <td>0.000000</td>\n",
       "      <td>0.000000</td>\n",
       "      <td>1.000000</td>\n",
       "      <td>Other</td>\n",
       "      <td>1</td>\n",
       "    </tr>\n",
       "    <tr>\n",
       "      <th>17087</th>\n",
       "      <td>4294858825</td>\n",
       "      <td>657299228</td>\n",
       "      <td>0.0</td>\n",
       "      <td>12.0</td>\n",
       "      <td>4312</td>\n",
       "      <td>0.0</td>\n",
       "      <td>0.000000</td>\n",
       "      <td>0.00</td>\n",
       "      <td>0.000000</td>\n",
       "      <td>0.066667</td>\n",
       "      <td>0.933333</td>\n",
       "      <td>Other</td>\n",
       "      <td>75</td>\n",
       "    </tr>\n",
       "    <tr>\n",
       "      <th>17088</th>\n",
       "      <td>4294958358</td>\n",
       "      <td>260520016</td>\n",
       "      <td>2508.0</td>\n",
       "      <td>2508.0</td>\n",
       "      <td>25986</td>\n",
       "      <td>0.0</td>\n",
       "      <td>0.000000</td>\n",
       "      <td>0.00</td>\n",
       "      <td>0.000000</td>\n",
       "      <td>0.000000</td>\n",
       "      <td>1.000000</td>\n",
       "      <td>Other</td>\n",
       "      <td>2</td>\n",
       "    </tr>\n",
       "  </tbody>\n",
       "</table>\n",
       "<p>17089 rows × 13 columns</p>\n",
       "</div>"
      ],
      "text/plain": [
       "           eeg_id     spec_id     min     max  patient_id  seizure_vote  \\\n",
       "0          568657   789577333     0.0    16.0       20654           0.0   \n",
       "1          582999  1552638400     0.0    38.0       20230           0.0   \n",
       "2          642382    14960202  1008.0  1032.0        5955           0.0   \n",
       "3          751790   618728447   908.0   908.0       38549           0.0   \n",
       "4          778705    52296320     0.0     0.0       40955           0.0   \n",
       "...           ...         ...     ...     ...         ...           ...   \n",
       "17084  4293354003  1188113564     0.0     0.0       16610           0.0   \n",
       "17085  4293843368  1549502620     0.0     0.0       15065           0.0   \n",
       "17086  4294455489  2105480289     0.0     0.0          56           0.0   \n",
       "17087  4294858825   657299228     0.0    12.0        4312           0.0   \n",
       "17088  4294958358   260520016  2508.0  2508.0       25986           0.0   \n",
       "\n",
       "       lpd_vote  gpd_vote  lrda_vote  grda_vote  other_vote target  vote_count  \n",
       "0      0.000000      0.25   0.000000   0.166667    0.583333  Other          48  \n",
       "1      0.857143      0.00   0.071429   0.000000    0.071429    LPD         154  \n",
       "2      0.000000      0.00   0.000000   0.000000    1.000000  Other           2  \n",
       "3      0.000000      1.00   0.000000   0.000000    0.000000    GPD           1  \n",
       "4      0.000000      0.00   0.000000   0.000000    1.000000  Other           2  \n",
       "...         ...       ...        ...        ...         ...    ...         ...  \n",
       "17084  0.000000      0.00   0.000000   0.500000    0.500000   GRDA           2  \n",
       "17085  0.000000      0.00   0.000000   0.500000    0.500000   GRDA           2  \n",
       "17086  0.000000      0.00   0.000000   0.000000    1.000000  Other           1  \n",
       "17087  0.000000      0.00   0.000000   0.066667    0.933333  Other          75  \n",
       "17088  0.000000      0.00   0.000000   0.000000    1.000000  Other           2  \n",
       "\n",
       "[17089 rows x 13 columns]"
      ]
     },
     "execution_count": 35,
     "metadata": {},
     "output_type": "execute_result"
    }
   ],
   "source": [
    "train"
   ]
  },
  {
   "cell_type": "code",
   "execution_count": null,
   "metadata": {},
   "outputs": [],
   "source": []
  }
 ],
 "metadata": {
  "kernelspec": {
   "display_name": "Python 3",
   "language": "python",
   "name": "python3"
  },
  "language_info": {
   "codemirror_mode": {
    "name": "ipython",
    "version": 3
   },
   "file_extension": ".py",
   "mimetype": "text/x-python",
   "name": "python",
   "nbconvert_exporter": "python",
   "pygments_lexer": "ipython3",
   "version": "3.10.12"
  }
 },
 "nbformat": 4,
 "nbformat_minor": 2
}

{
 "cells": [
  {
   "cell_type": "code",
   "execution_count": 1,
   "metadata": {},
   "outputs": [],
   "source": [
    "import os\n",
    "import sys\n",
    "import gc\n",
    "import logging\n",
    "import random\n",
    "import time\n",
    "import warnings\n",
    "\n",
    "import rich\n",
    "import torch\n",
    "from torch import nn\n",
    "import torch.nn.functional as F\n",
    "from torch.utils.data import Dataset, DataLoader\n",
    "from torchvision.models import efficientnet_b0, EfficientNet_B0_Weights\n",
    "import lightning.pytorch as pl\n",
    "from lightning.pytorch.callbacks import EarlyStopping, ModelCheckpoint, RichProgressBar\n",
    "import pandas as pd, numpy as np\n",
    "import matplotlib.pyplot as plt\n",
    "import albumentations as albu\n",
    "from sklearn.model_selection import KFold, GroupKFold\n",
    "\n",
    "if os.path.isdir(\"/kaggle\"):\n",
    "    ROOT = \"/kaggle\"\n",
    "else:\n",
    "    ROOT = \"..\"\n",
    "INPUT = f\"{ROOT}/input\"\n",
    "sys.path.append(f\"{ROOT}/main/\")\n",
    "from kaggle_kl_div import score\n",
    "from data import HMS_DM\n",
    "from utils import grid_search, TBLogger, ExCB\n",
    "from bottle import HMS_Lightning"
   ]
  },
  {
   "cell_type": "code",
   "execution_count": 2,
   "metadata": {},
   "outputs": [],
   "source": [
    "n_trials = 0\n",
    "debug = 0\n",
    "n_workers = 0\n",
    "run_folds = [0]\n",
    "seed = 42\n",
    "early_stop = 10\n",
    "log_dir = \"e0\"\n",
    "pred_dir = \"subs\"\n",
    "pred = False\n",
    "metric = \"loss/V\"\n",
    "hp_conf = {\n",
    "    \"n_epochs\": 30,\n",
    "    \"lr\": 2e-3,\n",
    "    \"lr_warmup\": 0.02,\n",
    "    \"wt_decay\": 0.05,\n",
    "    \"n_grad_accum\": 1,\n",
    "    \"seed\": 5,\n",
    "    \"n_folds\": 5,\n",
    "    \"fold\": 0,\n",
    "    \"read_spec_files\": False,\n",
    "    \"read_eeg_spec_files\": False,\n",
    "    \"use_kaggle_spectrograms\": True,\n",
    "    \"use_eeg_spectrograms\": True,\n",
    "    \"batch_size\": 32,\n",
    "}\n",
    "hp_skip = []\n",
    "ckpt = (\n",
    "    f\"{ROOT}/input/hms-efficientnetb0-pt-ckpts/efficientnet_b0_rwightman-7f5810bc.pth\"\n",
    ")\n",
    "\n",
    "train_meta_csv_path = f\"{INPUT}/hms-harmful-brain-activity-classification/train.csv\"\n",
    "train_spec_path = (\n",
    "    f\"{INPUT}/hms-harmful-brain-activity-classification/train_spectrograms/\"\n",
    ")\n",
    "train_eeg_path = f\"{INPUT}/brain-eeg-spectrograms/\"\n",
    "test_meta_csv_path = f\"{INPUT}/hms-harmful-brain-activity-classification/test.csv\"\n",
    "test_spec_path = f\"{INPUT}/hms-harmful-brain-activity-classification/test_spectrograms/\"\n",
    "test_eeg_path = f\"{INPUT}/hms-harmful-brain-activity-classification/test_eegs/\"\n",
    "\n",
    "LOAD_MODELS_FROM = None  # f\"{ROOT}/input/hms-efficientnetb0-pt-ckpts/\"\n",
    "USE_KAGGLE_SPECTROGRAMS = True\n",
    "USE_EEG_SPECTROGRAMS = True"
   ]
  },
  {
   "cell_type": "code",
   "execution_count": 3,
   "metadata": {},
   "outputs": [
    {
     "data": {
      "text/html": [
       "<pre style=\"white-space:pre;overflow-x:auto;line-height:normal;font-family:Menlo,'DejaVu Sans Mono',consolas,'Courier New',monospace\"></pre>\n"
      ],
      "text/plain": []
     },
     "metadata": {},
     "output_type": "display_data"
    },
    {
     "name": "stdout",
     "output_type": "stream",
     "text": [
      "Log: e0 | EStop: 10 | Ckpt: ../input/hms-efficientnetb0-pt-ckpts/efficientnet_b0_rwightman-7f5810bc.pth | Pred: False\n",
      "Trial 1/1 Fold 1/1 (0)\n",
      "Train shape: (106800, 15)\n",
      "Targets ['seizure_vote', 'lpd_vote', 'gpd_vote', 'lrda_vote', 'grda_vote', 'other_vote']\n",
      "Train non-overlapp eeg_id shape: (17089, 12)\n",
      "There are 11138 spectrogram parquets\n",
      "Test shape (1, 3)\n",
      "There are 1 test spectrogram parquets\n",
      "0 , "
     ]
    },
    {
     "data": {
      "text/html": [
       "<pre style=\"white-space:pre;overflow-x:auto;line-height:normal;font-family:Menlo,'DejaVu Sans Mono',consolas,'Courier New',monospace\"></pre>\n"
      ],
      "text/plain": []
     },
     "metadata": {},
     "output_type": "display_data"
    },
    {
     "data": {
      "text/html": [
       "<pre style=\"white-space:pre;overflow-x:auto;line-height:normal;font-family:Menlo,'DejaVu Sans Mono',consolas,'Courier New',monospace\">\n",
       "</pre>\n"
      ],
      "text/plain": [
       "\n"
      ]
     },
     "metadata": {},
     "output_type": "display_data"
    },
    {
     "name": "stdout",
     "output_type": "stream",
     "text": [
      "Fit Interrupted\n"
     ]
    }
   ],
   "source": [
    "# try:\n",
    "with rich.get_console().status(\"Reticulating Splines\"):\n",
    "    if not debug:\n",
    "        warnings.filterwarnings(\"ignore\")\n",
    "        for n in logging.root.manager.loggerDict:\n",
    "            logging.getLogger(n).setLevel(logging.WARN)\n",
    "    torch.set_float32_matmul_precision(\"medium\")\n",
    "    torch.manual_seed(seed)\n",
    "    random.seed(seed)\n",
    "    os.makedirs(log_dir, exist_ok=True)\n",
    "    os.makedirs(pred_dir, exist_ok=True)\n",
    "    trials = grid_search(hp_conf, hp_skip)\n",
    "    n_trials = len(trials) if not n_trials else n_trials\n",
    "    n_trials = len(trials) if len(trials) < n_trials else n_trials\n",
    "\n",
    "print(f\"Log: {log_dir} | EStop: {early_stop} | Ckpt: {ckpt} | Pred: {pred}\")\n",
    "for i, hp in enumerate(trials[:n_trials]):\n",
    "    for j, f in enumerate(run_folds):\n",
    "        print(f\"Trial {i + 1}/{n_trials} Fold {j + 1}/{len(run_folds)} ({f})\")\n",
    "        hp.fold = f\n",
    "        tbl = TBLogger(os.getcwd(), log_dir, default_hp_metric=False)\n",
    "        cb = [RichProgressBar(), ExCB()]\n",
    "        cb += [ModelCheckpoint(tbl.log_dir, None, metric)] if ckpt else []\n",
    "        cb += [EarlyStopping(metric, 0, early_stop)] if early_stop else []\n",
    "        dm = HMS_DM(\n",
    "            hp,\n",
    "            n_workers,\n",
    "            train_meta_csv_path,\n",
    "            train_spec_path,\n",
    "            train_eeg_path,\n",
    "            test_meta_csv_path,\n",
    "            test_spec_path,\n",
    "            test_eeg_path,\n",
    "        )\n",
    "\n",
    "        model = HMS_Lightning(hp)\n",
    "        trainer = pl.Trainer(\n",
    "            precision=\"bf16-mixed\",\n",
    "            accelerator=\"gpu\",\n",
    "            benchmark=True,\n",
    "            max_epochs=hp.n_epochs,\n",
    "            accumulate_grad_batches=hp.n_grad_accum,\n",
    "            # gradient_clip_val=hp.grad_clip,\n",
    "            fast_dev_run=debug,\n",
    "            num_sanity_val_steps=0,\n",
    "            enable_model_summary=False,\n",
    "            logger=tbl,\n",
    "            callbacks=cb,\n",
    "        )\n",
    "        gc.collect()\n",
    "        try:\n",
    "            trainer.fit(model, datamodule=dm)\n",
    "        except KeyboardInterrupt:\n",
    "            print(\"Fit Interrupted\")\n",
    "            if i + 1 < n_trials:\n",
    "                with rich.get_console().status(\"Quit?\") as s:\n",
    "                    for k in range(3):\n",
    "                        s.update(f\"Quit? {3-k}\")\n",
    "                        time.sleep(1)\n",
    "            continue\n",
    "        if pred:\n",
    "            try:\n",
    "                cp = None if debug else \"best\"\n",
    "                preds = trainer.predict(model, datamodule=dm, ckpt_path=cp)\n",
    "            except KeyboardInterrupt:\n",
    "                print(\"Prediction Interrupted\")\n",
    "                continue\n",
    "            with rich.get_console().status(\"Processing Submission\"):\n",
    "                if hp.tta_flip:\n",
    "                    preds = [torch.concat(preds[i]).float() for i in [0, 1]]\n",
    "                    preds = (preds[0] + preds[1]) / 2\n",
    "                else:\n",
    "                    preds = torch.concat(preds).float()\n",
    "                fn = f\"{pred_dir}/{log_dir}v{tbl.version:02}\"\n",
    "                # submission(preds, fn if not debug else None)\n",
    "                del preds\n",
    "# except KeyboardInterrupt:\n",
    "#    print(\"Goodbye\")\n",
    "#    sys.exit()"
   ]
  },
  {
   "cell_type": "code",
   "execution_count": null,
   "metadata": {},
   "outputs": [],
   "source": []
  }
 ],
 "metadata": {
  "kernelspec": {
   "display_name": "Python 3",
   "language": "python",
   "name": "python3"
  },
  "language_info": {
   "codemirror_mode": {
    "name": "ipython",
    "version": 3
   },
   "file_extension": ".py",
   "mimetype": "text/x-python",
   "name": "python",
   "nbconvert_exporter": "python",
   "pygments_lexer": "ipython3",
   "version": "3.10.12"
  }
 },
 "nbformat": 4,
 "nbformat_minor": 2
}

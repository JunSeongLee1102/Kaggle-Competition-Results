{
 "cells": [
  {
   "cell_type": "code",
   "execution_count": 29,
   "id": "e799aac9",
   "metadata": {
    "execution": {
     "iopub.execute_input": "2023-06-15T01:59:31.651277Z",
     "iopub.status.busy": "2023-06-15T01:59:31.650492Z",
     "iopub.status.idle": "2023-06-15T01:59:33.261814Z",
     "shell.execute_reply": "2023-06-15T01:59:33.260530Z"
    },
    "papermill": {
     "duration": 1.623586,
     "end_time": "2023-06-15T01:59:33.265041",
     "exception": false,
     "start_time": "2023-06-15T01:59:31.641455",
     "status": "completed"
    },
    "tags": []
   },
   "outputs": [],
   "source": [
    "import cudf\n",
    "import pandas as pd\n",
    "import numpy as np\n",
    "import cupy as cp\n",
    "from catboost import CatBoostClassifier\n",
    "import pickle\n",
    "import sys\n",
    "import gc"
   ]
  },
  {
   "attachments": {},
   "cell_type": "markdown",
   "id": "1a27e7f8",
   "metadata": {},
   "source": [
    "# Parameters"
   ]
  },
  {
   "cell_type": "code",
   "execution_count": 30,
   "id": "19d8f772",
   "metadata": {},
   "outputs": [],
   "source": [
    "#input_dir = '../../04_LearningPrediction/inputs/'\n",
    "input_dir = 'inputs/'\n",
    "ind_list = [1,2, 3, 4, 5, 6, 7, 8, 9, 10, 11,12, 13, 14, 15, 16, 17, 18]\n",
    "n_fold = 10\n",
    "fold = 0\n",
    "kol_col_start = 16"
   ]
  },
  {
   "attachments": {},
   "cell_type": "markdown",
   "id": "40aa6003",
   "metadata": {
    "papermill": {
     "duration": 0.005898,
     "end_time": "2023-06-15T01:59:33.277315",
     "exception": false,
     "start_time": "2023-06-15T01:59:33.271417",
     "status": "completed"
    },
    "tags": []
   },
   "source": [
    "# Load Train Data and Labels"
   ]
  },
  {
   "cell_type": "code",
   "execution_count": 31,
   "id": "9bbb9ce5",
   "metadata": {
    "execution": {
     "iopub.execute_input": "2023-06-15T01:59:33.291997Z",
     "iopub.status.busy": "2023-06-15T01:59:33.291347Z",
     "iopub.status.idle": "2023-06-15T01:59:33.297566Z",
     "shell.execute_reply": "2023-06-15T01:59:33.296934Z"
    },
    "papermill": {
     "duration": 0.016265,
     "end_time": "2023-06-15T01:59:33.299845",
     "exception": false,
     "start_time": "2023-06-15T01:59:33.283580",
     "status": "completed"
    },
    "tags": []
   },
   "outputs": [],
   "source": [
    "dtypes = {\"session_id\": 'int64',\n",
    "          \"index\": np.int16,\n",
    "          \"elapsed_time\": np.int32,\n",
    "          \"event_name\": 'category',\n",
    "          \"name\": 'category',\n",
    "          \"level\": np.int8,\n",
    "          \"page\": np.float32,\n",
    "          \"room_coor_x\": np.float32,\n",
    "          \"room_coor_y\": np.float32,\n",
    "          \"screen_coor_x\": np.float32,\n",
    "          \"screen_coor_y\": np.float32,\n",
    "          \"hover_duration\": np.float32,\n",
    "          \"text\": 'category',\n",
    "          \"fqid\": 'category',\n",
    "          \"room_fqid\": 'category',\n",
    "          \"text_fqid\": 'category',\n",
    "          \"fullscreen\": np.int8,\n",
    "          \"hq\": np.int8,\n",
    "          \"music\": np.int8,\n",
    "          \"level_group\": 'category'\n",
    "          }\n",
    "\n",
    "use_col = ['session_id', 'index', 'elapsed_time', 'event_name', 'name', 'level', 'page',\n",
    "           'room_coor_x', 'room_coor_y', 'hover_duration', 'text', 'fqid', 'room_fqid', 'text_fqid', 'level_group']"
   ]
  },
  {
   "cell_type": "code",
   "execution_count": 32,
   "id": "552e1c44",
   "metadata": {
    "execution": {
     "iopub.execute_input": "2023-06-15T01:59:33.314713Z",
     "iopub.status.busy": "2023-06-15T01:59:33.314102Z",
     "iopub.status.idle": "2023-06-15T01:59:34.291923Z",
     "shell.execute_reply": "2023-06-15T01:59:34.291152Z"
    },
    "papermill": {
     "duration": 0.988229,
     "end_time": "2023-06-15T01:59:34.294950",
     "exception": false,
     "start_time": "2023-06-15T01:59:33.306721",
     "status": "completed"
    },
    "tags": []
   },
   "outputs": [
    {
     "name": "stdout",
     "output_type": "stream",
     "text": [
      "(424116, 4)\n"
     ]
    },
    {
     "data": {
      "text/html": [
       "<div>\n",
       "<style scoped>\n",
       "    .dataframe tbody tr th:only-of-type {\n",
       "        vertical-align: middle;\n",
       "    }\n",
       "\n",
       "    .dataframe tbody tr th {\n",
       "        vertical-align: top;\n",
       "    }\n",
       "\n",
       "    .dataframe thead th {\n",
       "        text-align: right;\n",
       "    }\n",
       "</style>\n",
       "<table border=\"1\" class=\"dataframe\">\n",
       "  <thead>\n",
       "    <tr style=\"text-align: right;\">\n",
       "      <th></th>\n",
       "      <th>session_id</th>\n",
       "      <th>correct</th>\n",
       "      <th>session</th>\n",
       "      <th>q</th>\n",
       "    </tr>\n",
       "  </thead>\n",
       "  <tbody>\n",
       "    <tr>\n",
       "      <th>0</th>\n",
       "      <td>20090312431273200_q1</td>\n",
       "      <td>1</td>\n",
       "      <td>20090312431273200</td>\n",
       "      <td>1</td>\n",
       "    </tr>\n",
       "    <tr>\n",
       "      <th>1</th>\n",
       "      <td>20090312433251036_q1</td>\n",
       "      <td>0</td>\n",
       "      <td>20090312433251036</td>\n",
       "      <td>1</td>\n",
       "    </tr>\n",
       "    <tr>\n",
       "      <th>2</th>\n",
       "      <td>20090312455206810_q1</td>\n",
       "      <td>1</td>\n",
       "      <td>20090312455206810</td>\n",
       "      <td>1</td>\n",
       "    </tr>\n",
       "    <tr>\n",
       "      <th>3</th>\n",
       "      <td>20090313091715820_q1</td>\n",
       "      <td>0</td>\n",
       "      <td>20090313091715820</td>\n",
       "      <td>1</td>\n",
       "    </tr>\n",
       "    <tr>\n",
       "      <th>4</th>\n",
       "      <td>20090313571836404_q1</td>\n",
       "      <td>1</td>\n",
       "      <td>20090313571836404</td>\n",
       "      <td>1</td>\n",
       "    </tr>\n",
       "  </tbody>\n",
       "</table>\n",
       "</div>"
      ],
      "text/plain": [
       "             session_id  correct            session  q\n",
       "0  20090312431273200_q1        1  20090312431273200  1\n",
       "1  20090312433251036_q1        0  20090312433251036  1\n",
       "2  20090312455206810_q1        1  20090312455206810  1\n",
       "3  20090313091715820_q1        0  20090313091715820  1\n",
       "4  20090313571836404_q1        1  20090313571836404  1"
      ]
     },
     "execution_count": 32,
     "metadata": {},
     "output_type": "execute_result"
    }
   ],
   "source": [
    "targets = pd.read_csv(input_dir + 'predict-student-performance-from-game-play/train_labels.csv')\n",
    "targets['session'] = targets.session_id.apply(lambda x: int(x.split('_')[0]) )\n",
    "targets['q'] = targets.session_id.apply(lambda x: int(x.split('_')[-1][1:]) )\n",
    "print( targets.shape )\n",
    "targets.head()"
   ]
  },
  {
   "cell_type": "code",
   "execution_count": 33,
   "id": "cd2eb644",
   "metadata": {
    "execution": {
     "iopub.execute_input": "2023-06-15T01:59:34.310770Z",
     "iopub.status.busy": "2023-06-15T01:59:34.310213Z",
     "iopub.status.idle": "2023-06-15T01:59:34.421532Z",
     "shell.execute_reply": "2023-06-15T01:59:34.420865Z"
    },
    "papermill": {
     "duration": 0.122245,
     "end_time": "2023-06-15T01:59:34.423949",
     "exception": false,
     "start_time": "2023-06-15T01:59:34.301704",
     "status": "completed"
    },
    "tags": []
   },
   "outputs": [],
   "source": [
    "feature_df = pd.read_csv(input_dir + 'featur/feature_sort.csv')"
   ]
  },
  {
   "attachments": {},
   "cell_type": "markdown",
   "id": "decf14a5",
   "metadata": {
    "papermill": {
     "duration": 0.006359,
     "end_time": "2023-06-15T01:59:34.437130",
     "exception": false,
     "start_time": "2023-06-15T01:59:34.430771",
     "status": "completed"
    },
    "tags": []
   },
   "source": [
    "# Feature Engineer"
   ]
  },
  {
   "cell_type": "code",
   "execution_count": 34,
   "id": "a37555bb",
   "metadata": {
    "execution": {
     "iopub.execute_input": "2023-06-15T01:59:34.452466Z",
     "iopub.status.busy": "2023-06-15T01:59:34.451911Z",
     "iopub.status.idle": "2023-06-15T01:59:34.458722Z",
     "shell.execute_reply": "2023-06-15T01:59:34.456997Z"
    },
    "papermill": {
     "duration": 0.017585,
     "end_time": "2023-06-15T01:59:34.461507",
     "exception": false,
     "start_time": "2023-06-15T01:59:34.443922",
     "status": "completed"
    },
    "tags": []
   },
   "outputs": [],
   "source": [
    "def delt_time_def(df):\n",
    "    df = df.sort_values(by=['session_id', 'elapsed_time'])\n",
    "    df['d_time'] = df['elapsed_time'].diff(1)\n",
    "    df['d_time'].fillna(0, inplace=True)\n",
    "    df['delt_time'] = df['d_time'].clip(0, 103000)\n",
    "    df['delt_time_next'] = df['delt_time'].shift(-1)\n",
    "    #df['d_room_coor_x'] = df['room_coor_x'].diff(1)\n",
    "    #df['d_room_coor_y'] = df['room_coor_y'].diff(2)\n",
    "    #df['dd_time'] = df['d_time'].diff(1)\n",
    "    df['d_hover_duration'] = df['hover_duration'].diff(1)\n",
    "    df['d_hover_duration'].fillna(0, inplace=True)\n",
    "    return df"
   ]
  },
  {
   "cell_type": "code",
   "execution_count": 35,
   "id": "9080b4ea",
   "metadata": {
    "execution": {
     "iopub.execute_input": "2023-06-15T01:59:34.477787Z",
     "iopub.status.busy": "2023-06-15T01:59:34.477403Z",
     "iopub.status.idle": "2023-06-15T01:59:34.490038Z",
     "shell.execute_reply": "2023-06-15T01:59:34.488509Z"
    },
    "papermill": {
     "duration": 0.024143,
     "end_time": "2023-06-15T01:59:34.492607",
     "exception": false,
     "start_time": "2023-06-15T01:59:34.468464",
     "status": "completed"
    },
    "tags": []
   },
   "outputs": [],
   "source": [
    "def feature_engineer(train, kol_f):\n",
    "    global kol_col, kol_col_max\n",
    "    kol_col = kol_col_start\n",
    "    kol_col_max = kol_col_start+2+kol_f*2\n",
    "    col = [i for i in range(0,kol_col_max)]\n",
    "    new_train = cudf.DataFrame(index=train['session_id'].unique(), columns=col, dtype=np.float32)  \n",
    "    new_train[kol_col+1] = new_train.index # \"session_id\"    \n",
    "    new_train_last = new_train[kol_col+1].to_pandas()\n",
    "    new_train[0] = train.groupby(['session_id'])['d_time'].quantile(q=0.3)\n",
    "    new_train[1] = train.groupby(['session_id'])['d_time'].quantile(q=0.5)\n",
    "    new_train[2] = train.groupby(['session_id'])['d_time'].quantile(q=0.65)\n",
    "    new_train[3] = train.groupby(['session_id'])['d_time'].quantile(q=0.8)\n",
    "    new_train[4] = train.groupby(['session_id'])['hover_duration'].agg('mean')\n",
    "    new_train[5] = train.groupby(['session_id'])['hover_duration'].agg('std')    \n",
    "    \n",
    "    new_train[6] = train.groupby(['session_id'])['room_coor_x'].agg('mean')\n",
    "    new_train[7] = train.groupby(['session_id'])['room_coor_x'].agg('std')\n",
    "    new_train[8] = train.groupby(['session_id'])['room_coor_y'].agg('mean')\n",
    "    new_train[9] = train.groupby(['session_id'])['room_coor_y'].agg('std')    \n",
    "    new_train[10] = train.groupby(['session_id'])['level'].agg('first')\n",
    "    new_train[11] = train.groupby(['session_id'])['level'].agg('last')      \n",
    "    new_train[12] = train.groupby(['session_id'])['fqid'].agg('nunique') \n",
    "\n",
    " \n",
    "\n",
    "    new_train[kol_col-3] = new_train_last.apply(lambda x: int(str(x)[:2])).astype(np.uint8) # \"year\"\n",
    "    new_train[kol_col-2] = new_train_last.apply(lambda x: int(str(x)[2:4])+1).astype(np.uint8) # \"month\"\n",
    "    new_train[kol_col-1] = new_train_last.apply(lambda x: int(str(x)[4:6])).astype(np.uint8) # \"day\"\n",
    "    new_train[kol_col+0] = new_train_last.apply(lambda x: int(str(x)[6:8])).astype(np.uint8) + new_train_last.apply(lambda x: int(str(x)[8:10])).astype(np.uint8)/60\n",
    "    new_train[kol_col+1] = 0\n",
    "    new_train = new_train.fillna(-1)\n",
    "    \n",
    "    return new_train"
   ]
  },
  {
   "cell_type": "code",
   "execution_count": 36,
   "id": "2dfc811b",
   "metadata": {
    "execution": {
     "iopub.execute_input": "2023-06-15T01:59:34.508228Z",
     "iopub.status.busy": "2023-06-15T01:59:34.507846Z",
     "iopub.status.idle": "2023-06-15T01:59:34.518064Z",
     "shell.execute_reply": "2023-06-15T01:59:34.516669Z"
    },
    "papermill": {
     "duration": 0.020688,
     "end_time": "2023-06-15T01:59:34.520308",
     "exception": false,
     "start_time": "2023-06-15T01:59:34.499620",
     "status": "completed"
    },
    "tags": []
   },
   "outputs": [],
   "source": [
    "def feature_next_t(row_f, new_train, train, gran_1, gran_2, i):\n",
    "    global kol_col\n",
    "    kol_col +=1\n",
    "    col1 = row_f['col1']\n",
    "    val1 = row_f['val1']\n",
    "\n",
    "    try:\n",
    "        maska = (train[col1] == val1)\n",
    "    except:\n",
    "        maska = (train[col1].to_pandas() ==val1)\n",
    "\n",
    "    if row_f['kol_col'] == 1:       \n",
    "        new_train[kol_col] = train[maska].groupby(['session_id'])['delt_time_next'].sum()\n",
    "        if gran_1:\n",
    "            kol_col +=1\n",
    "            new_train[kol_col] = train[maska].groupby(['session_id'])['delt_time'].mean()\n",
    "        if gran_2:\n",
    "            kol_col +=1\n",
    "            new_train[kol_col] = train[maska].groupby(['session_id'])['index'].count()                            \n",
    "    elif row_f['kol_col'] == 2: \n",
    "        col2 = row_f['col2']\n",
    "        val2 = row_f['val2']\n",
    "\n",
    "        # to deal with exception due to the nan\n",
    "        try:\n",
    "            maskb = train[col2]==val2\n",
    "        except:\n",
    "            maskb = maska.copy()\n",
    "            maskb[:] = False\n",
    "\n",
    "        try:\n",
    "            maska = maska & maskb    \n",
    "        except:\n",
    "            maska[:] = False\n",
    "            \n",
    "        new_train[kol_col] = train[maska].groupby(['session_id'])['delt_time_next'].sum()\n",
    "        if gran_1:\n",
    "            kol_col +=1\n",
    "            new_train[kol_col] = train[maska].groupby(['session_id'])['delt_time'].mean()\n",
    "        if gran_2:\n",
    "            kol_col +=1\n",
    "            new_train[kol_col] = train[maska].groupby(['session_id'])['index'].count()\n",
    "      \n",
    "    return new_train\n"
   ]
  },
  {
   "cell_type": "code",
   "execution_count": 37,
   "id": "1f7713d3",
   "metadata": {
    "execution": {
     "iopub.execute_input": "2023-06-15T01:59:34.609531Z",
     "iopub.status.busy": "2023-06-15T01:59:34.608905Z",
     "iopub.status.idle": "2023-06-15T01:59:34.614654Z",
     "shell.execute_reply": "2023-06-15T01:59:34.613508Z"
    },
    "papermill": {
     "duration": 0.015554,
     "end_time": "2023-06-15T01:59:34.616453",
     "exception": false,
     "start_time": "2023-06-15T01:59:34.600899",
     "status": "completed"
    },
    "tags": []
   },
   "outputs": [],
   "source": [
    "def feature_engineer_new(new_train, train, feature_q, kol_f):\n",
    "    g1 = 0.7\n",
    "    g2 = 0.3 \n",
    "    gran1 = round(kol_f * g1)\n",
    "    gran2 = round(kol_f * g2)    \n",
    "\n",
    "    for i in range(0, kol_f): \n",
    "        row_f = feature_q.loc[i]  \n",
    "        new_train = feature_next_t(row_f, new_train, train, i < gran1, i < gran2, i)         \n",
    "    return new_train\n",
    "\n"
   ]
  },
  {
   "cell_type": "code",
   "execution_count": 38,
   "id": "1ae5de5c",
   "metadata": {
    "execution": {
     "iopub.execute_input": "2023-06-15T01:59:34.631353Z",
     "iopub.status.busy": "2023-06-15T01:59:34.630691Z",
     "iopub.status.idle": "2023-06-15T01:59:34.637492Z",
     "shell.execute_reply": "2023-06-15T01:59:34.635944Z"
    },
    "papermill": {
     "duration": 0.017134,
     "end_time": "2023-06-15T01:59:34.640129",
     "exception": false,
     "start_time": "2023-06-15T01:59:34.622995",
     "status": "completed"
    },
    "tags": []
   },
   "outputs": [],
   "source": [
    "def feature_quest(new_train, train, quest, kol_f):\n",
    "    global kol_col\n",
    "    kol_col = kol_col_start\n",
    "    feature_q = feature_df[feature_df['quest'] == quest].copy()\n",
    "\n",
    "    feature_q.reset_index(drop=True, inplace=True)\n",
    "    new_train = feature_engineer_new(new_train, train, feature_q, kol_f)\n",
    "    col = [i for i in range(0,kol_col+1)]\n",
    "    return new_train[col]\n"
   ]
  },
  {
   "cell_type": "code",
   "execution_count": 39,
   "id": "4a45c787",
   "metadata": {
    "execution": {
     "iopub.execute_input": "2023-06-15T01:59:34.655170Z",
     "iopub.status.busy": "2023-06-15T01:59:34.654779Z",
     "iopub.status.idle": "2023-06-15T01:59:34.663515Z",
     "shell.execute_reply": "2023-06-15T01:59:34.662532Z"
    },
    "papermill": {
     "duration": 0.018483,
     "end_time": "2023-06-15T01:59:34.665356",
     "exception": false,
     "start_time": "2023-06-15T01:59:34.646873",
     "status": "completed"
    },
    "tags": []
   },
   "outputs": [],
   "source": [
    "def create_dataset(old_train, quests, models, list_kol_f):\n",
    "    \n",
    "    kol_quest = len(quests)\n",
    "    # ITERATE THRU QUESTIONS\n",
    "    for q in quests:\n",
    "        print('### quest ', q, end='')\n",
    "        new_train = feature_engineer(old_train, list_kol_f[q])\n",
    "        train_x = feature_quest(new_train, old_train, q, list_kol_f[q])\n",
    "        print (' ---- ', 'train_q.shape = ', train_x.shape)\n",
    "            \n",
    "        # TRAIN DATA\n",
    "        train_users = train_x.index.values\n",
    "        train_y = targets.loc[targets.q==q].set_index('session').loc[train_users.get()]\n",
    "        train_y = np.array(train_y['correct'].astype('float32'))\n",
    "        train_y = train_y.reshape(-1, 1)\n",
    "\n",
    "        # Save Data\n",
    "        train_x = train_x.to_pandas()\n",
    "        data = np.concatenate([train_x.astype('float32'), train_y], axis = 1)\n",
    "        with open(input_dir + f'preprocessed/{q}.npy', 'wb') as f:\n",
    "            np.save(f, data)\n",
    "    \n",
    "    return models"
   ]
  },
  {
   "cell_type": "code",
   "execution_count": 40,
   "id": "1ca94ae7",
   "metadata": {
    "execution": {
     "iopub.execute_input": "2023-06-15T01:59:34.679815Z",
     "iopub.status.busy": "2023-06-15T01:59:34.679396Z",
     "iopub.status.idle": "2023-06-15T01:59:34.684140Z",
     "shell.execute_reply": "2023-06-15T01:59:34.683077Z"
    },
    "papermill": {
     "duration": 0.015173,
     "end_time": "2023-06-15T01:59:34.687119",
     "exception": false,
     "start_time": "2023-06-15T01:59:34.671946",
     "status": "completed"
    },
    "tags": []
   },
   "outputs": [],
   "source": [
    "models = {}\n",
    "best_threshold = 0.63"
   ]
  },
  {
   "cell_type": "code",
   "execution_count": 41,
   "id": "ac0b59cf",
   "metadata": {
    "execution": {
     "iopub.execute_input": "2023-06-15T01:59:34.701522Z",
     "iopub.status.busy": "2023-06-15T01:59:34.701150Z",
     "iopub.status.idle": "2023-06-15T01:59:34.706882Z",
     "shell.execute_reply": "2023-06-15T01:59:34.705582Z"
    },
    "papermill": {
     "duration": 0.015178,
     "end_time": "2023-06-15T01:59:34.708907",
     "exception": false,
     "start_time": "2023-06-15T01:59:34.693729",
     "status": "completed"
    },
    "tags": []
   },
   "outputs": [],
   "source": [
    "list_kol_f = {\n",
    "    1:150, 2:100, 3:110, \n",
    "    4:100, 5:190, 6:150, 7:180, 8:110, 9:180, 10:160, 11:180, 12:140, 13:150,\n",
    "    14: 230, 15:160, 16:130, 17:230, 18:160   \n",
    "             }\n",
    "\n",
    "for i in range(1, 19):\n",
    "    list_kol_f[i] = 230"
   ]
  },
  {
   "cell_type": "code",
   "execution_count": 42,
   "id": "15a7f73a",
   "metadata": {},
   "outputs": [
    {
     "name": "stdout",
     "output_type": "stream",
     "text": [
      "### quest  1"
     ]
    },
    {
     "name": "stdout",
     "output_type": "stream",
     "text": [
      " ----  train_q.shape =  (23562, 477)\n",
      "### quest  2"
     ]
    }
   ],
   "source": [
    "df0_4 = cudf.read_csv(input_dir + 'featur/train_0_4t.csv', dtype=dtypes) \n",
    "kol_lvl = (df0_4 .groupby(['session_id'])['level'].agg('nunique') < 5)\n",
    "list_session = kol_lvl[kol_lvl].index\n",
    "df0_4  = df0_4 [~df0_4 ['session_id'].isin(list_session)]\n",
    "df0_4 = delt_time_def(df0_4)\n",
    "\n",
    "quests_0_4 = [1, 2, 3] \n",
    "#list_kol_f = {1:140,3:110}\n",
    "models = create_dataset(df0_4, quests_0_4, models, list_kol_f)\n",
    "del df0_4\n"
   ]
  },
  {
   "cell_type": "code",
   "execution_count": null,
   "id": "2be2a101",
   "metadata": {
    "execution": {
     "iopub.execute_input": "2023-06-15T02:00:49.357827Z",
     "iopub.status.busy": "2023-06-15T02:00:49.357243Z",
     "iopub.status.idle": "2023-06-15T02:07:17.323162Z",
     "shell.execute_reply": "2023-06-15T02:07:17.322085Z"
    },
    "papermill": {
     "duration": 387.975838,
     "end_time": "2023-06-15T02:07:17.325202",
     "exception": false,
     "start_time": "2023-06-15T02:00:49.349364",
     "status": "completed"
    },
    "tags": []
   },
   "outputs": [
    {
     "name": "stdout",
     "output_type": "stream",
     "text": [
      "### quest  4 ----  train_q.shape =  (23561, 477)\n",
      "### quest  5 ----  train_q.shape =  (23561, 477)\n",
      "### quest  6 ----  train_q.shape =  (23561, 477)\n",
      "### quest  7 ----  train_q.shape =  (23561, 477)\n",
      "### quest  8 ----  train_q.shape =  (23561, 477)\n",
      "### quest  9 ----  train_q.shape =  (23561, 477)\n",
      "### quest  10 ----  train_q.shape =  (23561, 477)\n",
      "### quest  11 ----  train_q.shape =  (23561, 477)\n",
      "### quest  12 ----  train_q.shape =  (23561, 477)\n",
      "***\n"
     ]
    },
    {
     "data": {
      "text/plain": [
       "0"
      ]
     },
     "execution_count": 16,
     "metadata": {},
     "output_type": "execute_result"
    }
   ],
   "source": [
    "df5_12 = cudf.read_csv(input_dir + 'featur/train_5_12t.csv', dtype=dtypes)\n",
    "kol_lvl = (df5_12.groupby(['session_id'])['level'].agg('nunique') < 8)\n",
    "list_session = kol_lvl[kol_lvl].index\n",
    "df5_12 = df5_12[~df5_12['session_id'].isin(list_session)]\n",
    "df5_12 = delt_time_def(df5_12)\n",
    "quests_5_12 = [4, 5, 6, 7, 8, 9, 10, 11, 12] \n",
    "# list_kol_f = {4:110, 5:220, 6:120, 7:110, 8:110, 9:100, 10:140, 11:120}\n",
    "\n",
    "models = create_dataset(df5_12, quests_5_12, models, list_kol_f)\n",
    "del df5_12\n",
    "gc.collect()"
   ]
  },
  {
   "cell_type": "code",
   "execution_count": null,
   "id": "ec782aea",
   "metadata": {
    "execution": {
     "iopub.execute_input": "2023-06-15T02:07:17.342379Z",
     "iopub.status.busy": "2023-06-15T02:07:17.341810Z",
     "iopub.status.idle": "2023-06-15T02:11:40.829495Z",
     "shell.execute_reply": "2023-06-15T02:11:40.827887Z"
    },
    "papermill": {
     "duration": 263.500903,
     "end_time": "2023-06-15T02:11:40.833604",
     "exception": false,
     "start_time": "2023-06-15T02:07:17.332701",
     "status": "completed"
    },
    "tags": []
   },
   "outputs": [
    {
     "name": "stdout",
     "output_type": "stream",
     "text": [
      "### quest  13 ----  train_q.shape =  (22986, 477)\n",
      "### quest  14 ----  train_q.shape =  (22986, 477)\n",
      "### quest  15 ----  train_q.shape =  (22986, 477)\n",
      "### quest  16 ----  train_q.shape =  (22986, 477)\n",
      "### quest  17 ----  train_q.shape =  (22986, 477)\n",
      "### quest  18 ----  train_q.shape =  (22986, 477)\n",
      "***\n"
     ]
    },
    {
     "data": {
      "text/plain": [
       "0"
      ]
     },
     "execution_count": 17,
     "metadata": {},
     "output_type": "execute_result"
    }
   ],
   "source": [
    "df13_22 = cudf.read_csv(input_dir + 'featur/train_13_22t.csv', dtype=dtypes) \n",
    "kol_lvl = (df13_22 .groupby(['session_id'])['level'].agg('nunique') < 10)\n",
    "list_session = kol_lvl[kol_lvl].index\n",
    "df13_22  = df13_22 [~df13_22 ['session_id'].isin(list_session)]\n",
    "df13_22 = delt_time_def(df13_22)\n",
    "\n",
    "quests_13_22 = [13, 14, 15, 16, 17, 18] \n",
    "# list_kol_f = {14: 160, 15:160, 16:105, 17:140}\n",
    "\n",
    "models = create_dataset(df13_22, quests_13_22, models, list_kol_f)\n",
    "del df13_22\n",
    "gc.collect()\n"
   ]
  },
  {
   "attachments": {},
   "cell_type": "markdown",
   "id": "17e56a15",
   "metadata": {},
   "source": [
    "# Score and Metric"
   ]
  },
  {
   "cell_type": "code",
   "execution_count": null,
   "id": "3c042a84",
   "metadata": {},
   "outputs": [],
   "source": [
    "def calc_f1_score(pred, target, threshold):\n",
    "    th_pred = pred >= threshold\n",
    "    precision = np.sum(target*th_pred) / (np.sum(th_pred)+1e-6)\n",
    "    recall    = np.sum(target*th_pred) / np.sum(target)\n",
    "\n",
    "    if (precision==0.0):\n",
    "        return 0\n",
    "    t_f1_score = 2/(1/precision + 1/recall)\n",
    "    \n",
    "    n_target = 1-target\n",
    "    #th_pred = pred >= threshold\n",
    "    th_pred = 1-th_pred\n",
    "    precision = np.sum(n_target*th_pred) / (np.sum(th_pred)+1e-6)\n",
    "    recall    = np.sum(n_target*th_pred) / np.sum(n_target)\n",
    "    if (precision==0.0):\n",
    "        return 0\n",
    "    f_f1_score = 2/(1/precision + 1/recall)\n",
    "    \n",
    "    macro_f1_score = (t_f1_score+f_f1_score)/2\n",
    "    \n",
    "    return macro_f1_score\n",
    "\n",
    "def get_best_f1_threshold(pred, target, thres_inter = 0.01):\n",
    "    threshold = np.arange(0, 1.00, thres_inter)\n",
    "    score_list = np.zeros(len(threshold))\n",
    "    for i in range(0, len(threshold)):\n",
    "        score_list[i] = calc_f1_score(pred, target, threshold[i])\n",
    "    best_ind = np.argmax(score_list)\n",
    "    best_threshold = best_ind*thres_inter\n",
    "    best_score = score_list[best_ind]\n",
    "    \n",
    "    return best_score, best_threshold\n",
    "\n",
    "class CatBoostEvalMetricMacroF1(object):\n",
    "    def get_best_f1_threshold(self, pred, target):\n",
    "        threshold = np.arange(0, 1.00, 0.01)\n",
    "        score_list = np.zeros(len(threshold))\n",
    "        for i in range(0, len(threshold)):\n",
    "            score_list[i] = calc_f1_score(pred, target, threshold[i])\n",
    "        best_ind = np.argmax(score_list)\n",
    "        best_threshold = best_ind*0.01\n",
    "        best_score = score_list[best_ind]\n",
    "        return best_score, best_threshold\n",
    "    \n",
    "    def get_final_error(self, error, weight):\n",
    "        return error\n",
    "\n",
    "    def is_max_optimal(self):\n",
    "        # the larger metric value the better\n",
    "        return True\n",
    "\n",
    "    def evaluate(self, approxes, target, weight):\n",
    "        assert len(approxes) == 1\n",
    "        assert len(target) == len(approxes[0])\n",
    "        preds = np.array(approxes[0])\n",
    "        target = np.array(target)\n",
    "        best_score, best_thres = self.get_best_f1_threshold(preds, target)\n",
    "        return best_score, 0"
   ]
  },
  {
   "attachments": {},
   "cell_type": "markdown",
   "id": "638b45ae",
   "metadata": {},
   "source": [
    "# Train"
   ]
  },
  {
   "cell_type": "code",
   "execution_count": null,
   "id": "09a84eea",
   "metadata": {},
   "outputs": [],
   "source": [
    "def load_npy(ind, n_fold = n_fold):\n",
    "    with open(input_dir + f'preprocessed/{ind}.npy', 'rb') as f:\n",
    "        xy = np.load(f)    \n",
    "    xy[np.isnan(xy)] = -1\n",
    "    \n",
    "    with open(input_dir + f'preprocessed/{n_fold}fold/{ind}_fold.npy', 'rb') as f:\n",
    "        fold = np.load(f).astype(int)\n",
    "    return xy, fold"
   ]
  },
  {
   "cell_type": "code",
   "execution_count": null,
   "id": "3595a5b1",
   "metadata": {},
   "outputs": [],
   "source": [
    "def train_catboost(ind, fold, n_fold = n_fold, exclude_fold = None, learning_rate = 0.02,\n",
    "                  depth = 6, l2_leaf_reg = 0.1, bagging_temperature = 0.5):\n",
    "    xy, fold_arr = load_npy(ind, n_fold)\n",
    "    \n",
    "\n",
    "    model = CatBoostClassifier(\n",
    "    n_estimators = 1000000,\n",
    "    learning_rate= learning_rate,\n",
    "    depth = depth,\n",
    "    l2_leaf_reg = l2_leaf_reg,\n",
    "    bagging_temperature = bagging_temperature,\n",
    "    task_type = 'CPU',\n",
    "    eval_metric = CatBoostEvalMetricMacroF1(),\n",
    "    )\n",
    "    \n",
    "\n",
    "    model.fit(xy[(fold_arr!=fold),:-1], xy[fold_arr!=fold,-1], \n",
    "          eval_set = (xy[fold_arr==fold,:-1], xy[fold_arr==fold,-1]), \n",
    "          verbose = 100000, \n",
    "          early_stopping_rounds = 500, \n",
    "          use_best_model = True,\n",
    "            )\n",
    "\n",
    "    pred = model.predict_proba(xy[fold_arr==fold,:-1])[:,1]\n",
    "    best_score, best_threshold = get_best_f1_threshold(pred, xy[fold_arr==fold, -1])\n",
    "        \n",
    "    print(f'ind{ind}_best_score: {best_score}')\n",
    "    print(f'ind{ind}_best_thres: {best_threshold}')\n",
    "    model.save_model(f'weights/cat_model_{ind}_f{fold}.bin')\n",
    "    \n",
    "    target = xy[fold_arr==fold,-1].copy()\n",
    "    del model, xy\n",
    "    gc.collect()\n",
    "    \n",
    "    return best_threshold, best_score, pred, target"
   ]
  },
  {
   "cell_type": "code",
   "execution_count": null,
   "id": "8c15b5ad",
   "metadata": {},
   "outputs": [
    {
     "name": "stdout",
     "output_type": "stream",
     "text": [
      "0:\tlearn: 0.6859929\ttest: 0.6859242\tbest: 0.6859242 (0)\ttotal: 82.3ms\tremaining: 49.3s\n",
      "599:\tlearn: 0.4376448\ttest: 0.4887725\tbest: 0.4885098 (564)\ttotal: 15.2s\tremaining: 0us\n",
      "\n",
      "bestTest = 0.4885098443\n",
      "bestIteration = 564\n",
      "\n",
      "Shrink model to first 565 iterations.\n",
      "ind1_best_score: 0.6890240084717365\n",
      "ind1_best_thres: 0.65\n",
      "0:\tlearn: 0.6556076\ttest: 0.6556574\tbest: 0.6556574 (0)\ttotal: 74.3ms\tremaining: 44.5s\n",
      "599:\tlearn: 0.0505065\ttest: 0.0959392\tbest: 0.0947591 (442)\ttotal: 16.3s\tremaining: 0us\n",
      "\n",
      "bestTest = 0.09475914216\n",
      "bestIteration = 442\n",
      "\n",
      "Shrink model to first 443 iterations.\n",
      "ind2_best_score: 0.6384708380408124\n",
      "ind2_best_thres: 0.9\n",
      "0:\tlearn: 0.6705127\ttest: 0.6707089\tbest: 0.6707089 (0)\ttotal: 50.4ms\tremaining: 30.2s\n",
      "599:\tlearn: 0.1685516\ttest: 0.2244642\tbest: 0.2233620 (518)\ttotal: 10.6s\tremaining: 0us\n",
      "\n",
      "bestTest = 0.2233619798\n",
      "bestIteration = 518\n",
      "\n",
      "Shrink model to first 519 iterations.\n",
      "ind3_best_score: 0.6132164364277979\n",
      "ind3_best_thres: 0.88\n",
      "0:\tlearn: 0.6816188\ttest: 0.6821729\tbest: 0.6821729 (0)\ttotal: 86.9ms\tremaining: 52s\n",
      "599:\tlearn: 0.3564181\ttest: 0.4313442\tbest: 0.4312692 (597)\ttotal: 17.1s\tremaining: 0us\n",
      "\n",
      "bestTest = 0.4312691619\n",
      "bestIteration = 597\n",
      "\n",
      "Shrink model to first 598 iterations.\n",
      "ind4_best_score: 0.6927536518989772\n",
      "ind4_best_thres: 0.72\n",
      "0:\tlearn: 0.6911876\ttest: 0.6914504\tbest: 0.6914504 (0)\ttotal: 86.4ms\tremaining: 51.8s\n",
      "599:\tlearn: 0.5531982\ttest: 0.6129155\tbest: 0.6127928 (559)\ttotal: 18.2s\tremaining: 0us\n",
      "\n",
      "bestTest = 0.612792773\n",
      "bestIteration = 559\n",
      "\n",
      "Shrink model to first 560 iterations.\n",
      "ind5_best_score: 0.6568121676747666\n",
      "ind5_best_thres: 0.54\n",
      "0:\tlearn: 0.6845829\ttest: 0.6850496\tbest: 0.6850496 (0)\ttotal: 83.5ms\tremaining: 50s\n",
      "599:\tlearn: 0.4032182\ttest: 0.4751364\tbest: 0.4751022 (521)\ttotal: 17.7s\tremaining: 0us\n",
      "\n",
      "bestTest = 0.4751022038\n",
      "bestIteration = 521\n",
      "\n",
      "Shrink model to first 522 iterations.\n",
      "ind6_best_score: 0.6698511098265009\n",
      "ind6_best_thres: 0.6900000000000001\n",
      "0:\tlearn: 0.6873157\ttest: 0.6872402\tbest: 0.6872402 (0)\ttotal: 95ms\tremaining: 56.9s\n",
      "599:\tlearn: 0.4594260\ttest: 0.5185255\tbest: 0.5185255 (599)\ttotal: 17.9s\tremaining: 0us\n",
      "\n",
      "bestTest = 0.5185255489\n",
      "bestIteration = 599\n",
      "\n",
      "ind7_best_score: 0.6274221248880955\n",
      "ind7_best_thres: 0.63\n",
      "0:\tlearn: 0.6916277\ttest: 0.6914837\tbest: 0.6914837 (0)\ttotal: 93.7ms\tremaining: 56.1s\n",
      "599:\tlearn: 0.5842395\ttest: 0.6362225\tbest: 0.6357771 (557)\ttotal: 16.6s\tremaining: 0us\n",
      "\n",
      "bestTest = 0.6357770858\n",
      "bestIteration = 557\n",
      "\n",
      "Shrink model to first 558 iterations.\n",
      "ind8_best_score: 0.56658851665164\n",
      "ind8_best_thres: 0.59\n",
      "0:\tlearn: 0.6868639\ttest: 0.6867951\tbest: 0.6867951 (0)\ttotal: 82.5ms\tremaining: 49.4s\n",
      "599:\tlearn: 0.4595167\ttest: 0.5179591\tbest: 0.5171505 (537)\ttotal: 16.5s\tremaining: 0us\n",
      "\n",
      "bestTest = 0.5171504737\n",
      "bestIteration = 537\n",
      "\n",
      "Shrink model to first 538 iterations.\n",
      "ind9_best_score: 0.6343369629579945\n",
      "ind9_best_thres: 0.6900000000000001\n",
      "0:\tlearn: 0.6916567\ttest: 0.6917380\tbest: 0.6917380 (0)\ttotal: 62.6ms\tremaining: 37.5s\n",
      "599:\tlearn: 0.5768114\ttest: 0.6356009\tbest: 0.6352302 (540)\ttotal: 11.6s\tremaining: 0us\n",
      "\n",
      "bestTest = 0.6352301877\n",
      "bestIteration = 540\n",
      "\n",
      "Shrink model to first 541 iterations.\n",
      "ind10_best_score: 0.6452350537218996\n",
      "ind10_best_thres: 0.5\n",
      "0:\tlearn: 0.6905258\ttest: 0.6907921\tbest: 0.6907921 (0)\ttotal: 75.3ms\tremaining: 45.1s\n",
      "599:\tlearn: 0.5510960\ttest: 0.6268770\tbest: 0.6266810 (585)\ttotal: 16.9s\tremaining: 0us\n",
      "\n",
      "bestTest = 0.6266809899\n",
      "bestIteration = 585\n",
      "\n",
      "Shrink model to first 586 iterations.\n",
      "ind11_best_score: 0.6191208863972586\n",
      "ind11_best_thres: 0.64\n",
      "0:\tlearn: 0.6792795\ttest: 0.6791381\tbest: 0.6791381 (0)\ttotal: 80.8ms\tremaining: 48.4s\n",
      "599:\tlearn: 0.3204395\ttest: 0.3709056\tbest: 0.3702563 (454)\ttotal: 16.5s\tremaining: 0us\n",
      "\n",
      "bestTest = 0.3702562589\n",
      "bestIteration = 454\n",
      "\n",
      "Shrink model to first 455 iterations.\n",
      "ind12_best_score: 0.5853488241865038\n",
      "ind12_best_thres: 0.8\n",
      "0:\tlearn: 0.6879495\ttest: 0.6883651\tbest: 0.6883651 (0)\ttotal: 34.4ms\tremaining: 20.6s\n",
      "599:\tlearn: 0.4989180\ttest: 0.5657179\tbest: 0.5655615 (578)\ttotal: 7.84s\tremaining: 0us\n",
      "\n",
      "bestTest = 0.5655614774\n",
      "bestIteration = 578\n",
      "\n",
      "Shrink model to first 579 iterations.\n",
      "ind13_best_score: 0.6140527982483917\n",
      "ind13_best_thres: 0.31\n",
      "0:\tlearn: 0.6876981\ttest: 0.6878253\tbest: 0.6878253 (0)\ttotal: 84.1ms\tremaining: 50.4s\n",
      "599:\tlearn: 0.4826458\ttest: 0.5520682\tbest: 0.5518629 (545)\ttotal: 16.9s\tremaining: 0us\n",
      "\n",
      "bestTest = 0.5518629245\n",
      "bestIteration = 545\n",
      "\n",
      "Shrink model to first 546 iterations.\n",
      "ind14_best_score: 0.6352434191445011\n",
      "ind14_best_thres: 0.63\n",
      "0:\tlearn: 0.6907978\ttest: 0.6910266\tbest: 0.6910266 (0)\ttotal: 81.8ms\tremaining: 49s\n",
      "599:\tlearn: 0.5519519\ttest: 0.6141962\tbest: 0.6140792 (596)\ttotal: 15.7s\tremaining: 0us\n",
      "\n",
      "bestTest = 0.6140792167\n",
      "bestIteration = 596\n",
      "\n",
      "Shrink model to first 597 iterations.\n",
      "ind15_best_score: 0.6683323221424742\n",
      "ind15_best_thres: 0.53\n",
      "0:\tlearn: 0.6881104\ttest: 0.6885578\tbest: 0.6885578 (0)\ttotal: 77.5ms\tremaining: 46.4s\n",
      "599:\tlearn: 0.5016311\ttest: 0.5830381\tbest: 0.5828909 (592)\ttotal: 16.1s\tremaining: 0us\n",
      "\n",
      "bestTest = 0.5828908979\n",
      "bestIteration = 592\n",
      "\n",
      "Shrink model to first 593 iterations.\n",
      "ind16_best_score: 0.5634996472861913\n",
      "ind16_best_thres: 0.71\n",
      "0:\tlearn: 0.6897385\ttest: 0.6900655\tbest: 0.6900655 (0)\ttotal: 76.4ms\tremaining: 45.8s\n",
      "599:\tlearn: 0.5443025\ttest: 0.6174676\tbest: 0.6172794 (579)\ttotal: 16.1s\tremaining: 0us\n",
      "\n",
      "bestTest = 0.617279447\n",
      "bestIteration = 579\n",
      "\n",
      "Shrink model to first 580 iterations.\n",
      "ind17_best_score: 0.5624557542053692\n",
      "ind17_best_thres: 0.66\n",
      "0:\tlearn: 0.6651434\ttest: 0.6653896\tbest: 0.6653896 (0)\ttotal: 58.2ms\tremaining: 34.8s\n",
      "599:\tlearn: 0.1247205\ttest: 0.1869456\tbest: 0.1859719 (456)\ttotal: 12.3s\tremaining: 0us\n",
      "\n",
      "bestTest = 0.1859719464\n",
      "bestIteration = 456\n",
      "\n",
      "Shrink model to first 457 iterations.\n",
      "ind18_best_score: 0.5983209405902474\n",
      "ind18_best_thres: 0.89\n"
     ]
    }
   ],
   "source": [
    "preds   = []\n",
    "targets = []\n",
    "\n",
    "for ind in ind_list:\n",
    "    thres, score, pred, target = train_catboost(ind, 0)\n",
    "    preds.append(pred)\n",
    "    targets.append(target)\n",
    "\n",
    "preds   = np.concatenate(preds, axis = 0)\n",
    "targets = np.concatenate(targets, axis = 0)\n"
   ]
  },
  {
   "cell_type": "code",
   "execution_count": null,
   "id": "dea93056",
   "metadata": {},
   "outputs": [
    {
     "name": "stdout",
     "output_type": "stream",
     "text": [
      "Best score:     0.6924199840845655\n",
      "Best threshold: 0.63\n"
     ]
    }
   ],
   "source": [
    "best_score, best_threshold = get_best_f1_threshold(preds, targets, 0.001)\n",
    "print(f'Best score:     {best_score}')\n",
    "print(f'Best threshold: {best_threshold}')"
   ]
  },
  {
   "cell_type": "code",
   "execution_count": null,
   "id": "30989748",
   "metadata": {},
   "outputs": [],
   "source": []
  }
 ],
 "metadata": {
  "kernelspec": {
   "display_name": "Python 3",
   "language": "python",
   "name": "python3"
  },
  "language_info": {
   "codemirror_mode": {
    "name": "ipython",
    "version": 3
   },
   "file_extension": ".py",
   "mimetype": "text/x-python",
   "name": "python",
   "nbconvert_exporter": "python",
   "pygments_lexer": "ipython3",
   "version": "3.10.11"
  },
  "papermill": {
   "default_parameters": {},
   "duration": 749.274547,
   "end_time": "2023-06-15T02:11:51.436743",
   "environment_variables": {},
   "exception": null,
   "input_path": "__notebook__.ipynb",
   "output_path": "__notebook__.ipynb",
   "parameters": {},
   "start_time": "2023-06-15T01:59:22.162196",
   "version": "2.3.4"
  }
 },
 "nbformat": 4,
 "nbformat_minor": 5
}

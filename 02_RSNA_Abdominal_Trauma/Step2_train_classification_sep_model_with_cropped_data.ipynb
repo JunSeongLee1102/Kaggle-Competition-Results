{
 "cells": [
  {
   "cell_type": "code",
   "execution_count": 1,
   "metadata": {},
   "outputs": [
    {
     "name": "stderr",
     "output_type": "stream",
     "text": [
      "/home/junseonglee/miniconda3/envs/rsna_abtd/lib/python3.11/site-packages/tqdm/auto.py:21: TqdmWarning: IProgress not found. Please update jupyter and ipywidgets. See https://ipywidgets.readthedocs.io/en/stable/user_install.html\n",
      "  from .autonotebook import tqdm as notebook_tqdm\n",
      "Failed to detect the name of this notebook, you can set it manually with the WANDB_NOTEBOOK_NAME environment variable to enable code saving.\n",
      "\u001b[34m\u001b[1mwandb\u001b[0m: Currently logged in as: \u001b[33mjunseonglee\u001b[0m. Use \u001b[1m`wandb login --relogin`\u001b[0m to force relogin\n",
      "\u001b[34m\u001b[1mwandb\u001b[0m: \u001b[33mWARNING\u001b[0m If you're specifying your api key in code, ensure this code is not shared publicly.\n",
      "\u001b[34m\u001b[1mwandb\u001b[0m: \u001b[33mWARNING\u001b[0m Consider setting the WANDB_API_KEY environment variable, or running `wandb login` from the command line.\n",
      "\u001b[34m\u001b[1mwandb\u001b[0m: Appending key for api.wandb.ai to your netrc file: /home/junseonglee/.netrc\n"
     ]
    },
    {
     "data": {
      "text/plain": [
       "True"
      ]
     },
     "execution_count": 1,
     "metadata": {},
     "output_type": "execute_result"
    }
   ],
   "source": [
    "import time\n",
    "from tqdm import tqdm\n",
    "import sys\n",
    "import glob\n",
    "import gc\n",
    "import os\n",
    "sys.path.append('./lib_models')\n",
    "#sys.path.append('')\n",
    "\n",
    "import pandas as pd\n",
    "import numpy as np\n",
    "import scipy as sp\n",
    "import cv2\n",
    "from PIL import Image\n",
    "from matplotlib import pyplot as plt\n",
    "import sklearn.metrics\n",
    "import warnings\n",
    "import pydicom\n",
    "import dicomsdl\n",
    "from joblib import Parallel, delayed\n",
    "import pickle\n",
    "import gzip\n",
    "from iterstrat.ml_stratifiers import MultilabelStratifiedKFold\n",
    "from multiprocessing import Pool\n",
    "import torch\n",
    "from torchvision import transforms\n",
    "from torch.utils.data import Dataset, DataLoader\n",
    "from torch.optim.lr_scheduler import CosineAnnealingLR\n",
    "from torch import nn\n",
    "from torchvision.io import read_image\n",
    "import segmentation_models_pytorch as smp\n",
    "import timm\n",
    "from timm.utils import AverageMeter\n",
    "from timm.models import resnet\n",
    "import timm_new\n",
    "\n",
    "from monai.transforms import Resize\n",
    "import  monai.transforms as transforms\n",
    "\n",
    "from timm.models.layers.conv2d_same import Conv2dSame\n",
    "from conv3d_same import Conv3dSame\n",
    "\n",
    "\n",
    "import wandb\n",
    "\n",
    "wandb.login(key = '585f58f321685308f7933861d9dde7488de0970b')"
   ]
  },
  {
   "cell_type": "markdown",
   "metadata": {},
   "source": [
    "# Parameters"
   ]
  },
  {
   "cell_type": "code",
   "execution_count": 2,
   "metadata": {},
   "outputs": [
    {
     "data": {
      "text/plain": [
       "device(type='cuda')"
      ]
     },
     "execution_count": 2,
     "metadata": {},
     "output_type": "execute_result"
    }
   ],
   "source": [
    "backbone = 'timm/resnet10t.c3_in1k'\n",
    "\n",
    "IS_WANDB = True\n",
    "PROJECT_NAME = 'RSNA_ABTD'\n",
    "GROUP_NAME= 'preprocessing_test'\n",
    "RUN_NAME=   f'{backbone}_2nd_std_opt-seg0.938'\n",
    "\n",
    "if not IS_WANDB:\n",
    "    PROJECT_NAME = 'Dummy_Project'\n",
    "\n",
    "BASE_PATH  = '/home/junseonglee/Desktop/01_codes/inputs/rsna-2023-abdominal-trauma-detection'\n",
    "TRAIN_PATH = f'{BASE_PATH}/train_images'\n",
    "DATA_PATH = f'{BASE_PATH}/3d_preprocessed'\n",
    "\n",
    "seg_inference_dir = f'{BASE_PATH}/seg_infer_results'\n",
    "cropped_img_dir   = f'{BASE_PATH}/3d_preprocessed_crop_ratio'\n",
    "\n",
    "if not os.path.isdir(DATA_PATH):\n",
    "    os.mkdir(DATA_PATH)\n",
    "\n",
    "RESOL = 128\n",
    "UP_RESOL = 128\n",
    "N_CHANNELS = 6\n",
    "BATCH_SIZE = 8\n",
    "ACCUM_STEPS = 3\n",
    "N_WORKERS  = 8\n",
    "LR = 0.005\n",
    "N_EPOCHS = 200\n",
    "EARLY_STOP_COUNT = 30\n",
    "N_FOLDS  = 5\n",
    "N_PREPROCESS_CHUNKS = 12\n",
    "PCT_START = 0.3\n",
    "n_blocks = 4\n",
    "drop_rate = 0.2\n",
    "drop_path_rate = 0.2\n",
    "p_mixup = 0.0\n",
    "\n",
    "\n",
    "\n",
    "DROP_REGION= {'HOLES': [3, 20],\n",
    "                'SIZE': [5, 20],\n",
    "                'PROB': 0.5,\n",
    "                'FILL': (-3, 3)}\n",
    "\n",
    "wandb_config = {\n",
    "    'RESOL': RESOL,\n",
    "    'BACKBONE': backbone,\n",
    "    'N_CHANNELS': N_CHANNELS,\n",
    "    'N_EPOCHS': N_EPOCHS,\n",
    "    'N_FOLDS': N_FOLDS,\n",
    "    'EARLY_STOP_COUNT': EARLY_STOP_COUNT,\n",
    "    'BATCH_SIZE': BATCH_SIZE,    \n",
    "    'LR': LR,\n",
    "    'N_EPOCHS': N_EPOCHS,\n",
    "    'DROP_RATE': drop_rate,\n",
    "    'DROP_PATH_RATE': drop_path_rate,\n",
    "    'MIXUP_RATE': p_mixup,\n",
    "    'DROP_REGION': DROP_REGION,\n",
    "    'PCT_START': PCT_START\n",
    "}\n",
    "\n",
    "DEVICE = torch.device('cuda' if torch.cuda.is_available() else 'cpu')\n",
    "DEVICE"
   ]
  },
  {
   "cell_type": "code",
   "execution_count": 3,
   "metadata": {},
   "outputs": [
    {
     "data": {
      "text/plain": [
       "(array([0, 1, 2, 3, 4]), array([929, 947, 948, 951, 936]))"
      ]
     },
     "execution_count": 3,
     "metadata": {},
     "output_type": "execute_result"
    }
   ],
   "source": [
    "# Mask related parameters\n",
    "# Order 0: Bowel, 1: left kidney, 2: right kidney, 3: liver, 4: spleen\n",
    "\n",
    "chan_keys = ['bowel', 'left_kidney', 'right_kidney', 'liver', 'spleen', 'total']\n",
    "chan_dict = {}\n",
    "for i in range(0, 6):\n",
    "    chan_dict[i] = chan_keys[i]\n",
    "\n",
    "train_meta_df = pd.read_csv(f'{BASE_PATH}/train_meta.csv')\n",
    "np.unique(train_meta_df['fold'].to_numpy(), return_counts = True)"
   ]
  },
  {
   "cell_type": "code",
   "execution_count": 4,
   "metadata": {},
   "outputs": [],
   "source": [
    "def compress(name, data):\n",
    "    with gzip.open(name, 'wb') as f:\n",
    "        pickle.dump(data, f)\n",
    "\n",
    "def decompress(name):\n",
    "    with gzip.open(name, 'rb') as f:\n",
    "        data = pickle.load(f)\n",
    "    return data\n",
    "\n",
    "\n",
    "def compress_fast(name, data):\n",
    "    with open(name, 'wb') as f:\n",
    "        pickle.dump(data, f)\n",
    "\n",
    "def decompress_fast(name):\n",
    "    with open(name, 'rb') as f:\n",
    "        data = pickle.load(f)\n",
    "    return data"
   ]
  },
  {
   "cell_type": "markdown",
   "metadata": {},
   "source": [
    "# Model"
   ]
  },
  {
   "cell_type": "code",
   "execution_count": 5,
   "metadata": {},
   "outputs": [],
   "source": [
    "def convert_3d(module):\n",
    "\n",
    "    module_output = module\n",
    "    if isinstance(module, torch.nn.BatchNorm2d):\n",
    "        module_output = torch.nn.BatchNorm3d(\n",
    "            module.num_features,\n",
    "            module.eps,\n",
    "            module.momentum,\n",
    "            module.affine,\n",
    "            module.track_running_stats,\n",
    "        )\n",
    "        if module.affine:\n",
    "            with torch.no_grad():\n",
    "                module_output.weight = module.weight\n",
    "                module_output.bias = module.bias\n",
    "        module_output.running_mean = module.running_mean\n",
    "        module_output.running_var = module.running_var\n",
    "        module_output.num_batches_tracked = module.num_batches_tracked\n",
    "        if hasattr(module, \"qconfig\"):\n",
    "            module_output.qconfig = module.qconfig\n",
    "            \n",
    "    elif isinstance(module, Conv2dSame):\n",
    "        module_output = Conv3dSame(\n",
    "            in_channels=module.in_channels,\n",
    "            out_channels=module.out_channels,\n",
    "            kernel_size=module.kernel_size[0],\n",
    "            stride=module.stride[0],\n",
    "            padding=module.padding[0],\n",
    "            dilation=module.dilation[0],\n",
    "            groups=module.groups,\n",
    "            bias=module.bias is not None,\n",
    "        )\n",
    "        module_output.weight = torch.nn.Parameter(module.weight.unsqueeze(-1).repeat(1,1,1,1,module.kernel_size[0]))\n",
    "\n",
    "    elif isinstance(module, torch.nn.Conv2d):\n",
    "        module_output = torch.nn.Conv3d(\n",
    "            in_channels=module.in_channels,\n",
    "            out_channels=module.out_channels,\n",
    "            kernel_size=module.kernel_size[0],\n",
    "            stride=module.stride[0],\n",
    "            padding=module.padding[0],\n",
    "            dilation=module.dilation[0],\n",
    "            groups=module.groups,\n",
    "            bias=module.bias is not None,\n",
    "            padding_mode=module.padding_mode\n",
    "        )\n",
    "        module_output.weight = torch.nn.Parameter(module.weight.unsqueeze(-1).repeat(1,1,1,1,module.kernel_size[0]))\n",
    "\n",
    "    elif isinstance(module, torch.nn.MaxPool2d):\n",
    "        module_output = torch.nn.MaxPool3d(\n",
    "            kernel_size=module.kernel_size,\n",
    "            stride=module.stride,\n",
    "            padding=module.padding,\n",
    "            dilation=module.dilation,\n",
    "            ceil_mode=module.ceil_mode,\n",
    "        )\n",
    "    elif isinstance(module, torch.nn.AvgPool2d):\n",
    "        module_output = torch.nn.AvgPool3d(\n",
    "            kernel_size=module.kernel_size,\n",
    "            stride=module.stride,\n",
    "            padding=module.padding,\n",
    "            ceil_mode=module.ceil_mode,\n",
    "        )\n",
    "\n",
    "    for name, child in module.named_children():\n",
    "        module_output.add_module(\n",
    "            name, convert_3d(child)\n",
    "        )\n",
    "    del module\n",
    "\n",
    "    return module_output"
   ]
  },
  {
   "cell_type": "code",
   "execution_count": 6,
   "metadata": {},
   "outputs": [],
   "source": [
    "class Timm3DModel(nn.Module):\n",
    "    def __init__(self, backbone, n_channels, n_labels, segtype='unet', pretrained=False):\n",
    "        super(Timm3DModel, self).__init__()\n",
    "        self.n_labels = n_labels\n",
    "        self.encoder = timm_new.create_model(\n",
    "            backbone,\n",
    "            in_chans=n_channels,\n",
    "            features_only=True,\n",
    "            drop_rate=drop_rate,\n",
    "            drop_path_rate=drop_path_rate,\n",
    "            pretrained=pretrained\n",
    "        )\n",
    "        g = self.encoder(torch.rand(1, n_channels, 64, 64))\n",
    "        encoder_channels = [1] + [_.shape[1] for _ in g]\n",
    "        decoder_channels = [256, 128, 64, 32, 16]\n",
    "\n",
    "        self.avgpool = nn.AvgPool2d(5, 4, 2)\n",
    "        \n",
    "        [_.shape[1] for _ in g]\n",
    "        self.convs1x1 = nn.ModuleList()    \n",
    "        self.batchnorms = nn.ModuleList()    \n",
    "        self.batchnorms13 = nn.ModuleList()\n",
    "        for i in range(0, len(g)):\n",
    "            self.convs1x1.append(nn.Conv2d(g[i].shape[1], self.n_labels, 1))\n",
    "        del g\n",
    "        gc.collect()\n",
    "        \n",
    "    def forward(self,x):\n",
    "        batch_size = x.shape[0]\n",
    "        global_features = self.encoder(x)[:n_blocks]        \n",
    "        for i in range(0, len(global_features)):\n",
    "            global_features[i] = self.convs1x1[i](global_features[i])\n",
    "        return global_features\n",
    "    \n",
    "    \n",
    "class Timm3DModelClassifier(nn.Module):\n",
    "    def __init__(self, backbone, n_channels, n_labels, segtype='unet', pretrained=False):\n",
    "        super(Timm3DModelClassifier, self).__init__()\n",
    "        self.model_3d = Timm3DModel(backbone, n_channels, n_labels, segtype, pretrained)\n",
    "        self.model_3d = convert_3d(self.model_3d)\n",
    "        self.n_channels = n_channels\n",
    "        self.n_labels = n_labels                        \n",
    "        \n",
    "    def forward(self, x):\n",
    "        batch_size = x.shape[0]\n",
    "        x = self.model_3d(x)\n",
    "        pooled_features = []\n",
    "        for i in range(0, len(x)):\n",
    "            pooled_features.append(torch.reshape(torch.mean(x[i], dim = (2, 3, 4)), (batch_size, self.n_labels, 1)))\n",
    "        pooled_features = torch.cat(pooled_features, dim=2)     \n",
    "        labels = torch.mean(pooled_features, dim = 2)\n",
    "        return labels"
   ]
  },
  {
   "cell_type": "code",
   "execution_count": 7,
   "metadata": {},
   "outputs": [],
   "source": [
    "class AbdominalClassifier(nn.Module):\n",
    "    def __init__(self, device = DEVICE):\n",
    "        super().__init__()\n",
    "        self.device = device\n",
    "        \n",
    "        self.model3d_bowel        = Timm3DModelClassifier(backbone, 1, 2)      \n",
    "        self.model3d_extrav       = Timm3DModelClassifier(backbone, 1, 2)\n",
    "        self.model3d_kidney_left  = Timm3DModelClassifier(backbone, 1, 3)\n",
    "        self.model3d_kidney_right = Timm3DModelClassifier(backbone, 1, 3)\n",
    "        self.model3d_liver        = Timm3DModelClassifier(backbone, 1, 3)\n",
    "        self.model3d_spleen       = Timm3DModelClassifier(backbone, 1, 3)\n",
    "        \n",
    "        self.flatten  = nn.Flatten()\n",
    "        self.dropout  = nn.Dropout(p=0.5)\n",
    "        self.softmax  = nn.Softmax(dim=1)        \n",
    "        self.maxpool  = nn.MaxPool1d(5, 1)\n",
    "        \n",
    "    def forward(self, x_bowel, x_kidney_left, x_kidney_right, x_liver, x_spleen, x_total):\n",
    "        bowel_label        = self.model3d_bowel(x_bowel)\n",
    "        extrav_label       = self.model3d_extrav(x_total)\n",
    "        kidney_label_left  = self.model3d_kidney_left(x_kidney_left)\n",
    "        kidney_label_right = self.model3d_kidney_right(x_kidney_right)\n",
    "        kidney_label       = (kidney_label_left + kidney_label_right)/2\n",
    "        liver_label        = self.model3d_liver(x_liver)\n",
    "        spleen_label       = self.model3d_spleen(x_spleen)\n",
    "        \n",
    "        \n",
    "        labels = torch.cat([bowel_label, extrav_label, kidney_label, liver_label, spleen_label], dim = 1)\n",
    "        \n",
    "        bowel_soft = self.softmax(bowel_label)\n",
    "        extrav_soft = self.softmax(extrav_label)\n",
    "        kidney_soft = self.softmax(kidney_label)\n",
    "        liver_soft = self.softmax(liver_label)\n",
    "        spleen_soft = self.softmax(spleen_label)\n",
    "\n",
    "        any_in = torch.cat([1-bowel_soft[:,0:1], 1-extrav_soft[:,0:1], \n",
    "                            1-kidney_soft[:,0:1], 1-liver_soft[:,0:1], 1-spleen_soft[:,0:1]], dim = 1) \n",
    "        any_in = self.maxpool(any_in)\n",
    "        any_not_in = 1-any_in\n",
    "        any_in = torch.cat([any_not_in, any_in], dim = 1)\n",
    "\n",
    "        any_in = torch.log(any_in + 1e-6)  # 1e-6은 0을 처리하기 위한 작은 값\n",
    "        return labels, any_in\n",
    "    "
   ]
  },
  {
   "cell_type": "code",
   "execution_count": 8,
   "metadata": {},
   "outputs": [
    {
     "name": "stdout",
     "output_type": "stream",
     "text": [
      "86478624\n"
     ]
    },
    {
     "data": {
      "text/plain": [
       "0"
      ]
     },
     "execution_count": 8,
     "metadata": {},
     "output_type": "execute_result"
    }
   ],
   "source": [
    "model = AbdominalClassifier()\n",
    "\n",
    "def get_n_params(model):\n",
    "    pp=0\n",
    "    for p in list(model.parameters()):\n",
    "        nn=1\n",
    "        for s in list(p.size()):\n",
    "            nn = nn*s\n",
    "        pp += nn\n",
    "    return pp\n",
    "\n",
    "print(get_n_params(model))\n",
    "del model\n",
    "gc.collect()"
   ]
  },
  {
   "cell_type": "markdown",
   "metadata": {},
   "source": [
    "# Metric & Loss"
   ]
  },
  {
   "cell_type": "code",
   "execution_count": 9,
   "metadata": {},
   "outputs": [],
   "source": [
    "weights = np.ones(2)\n",
    "weights[1] = 2\n",
    "crit_bowel  = nn.CrossEntropyLoss(weight = torch.from_numpy(weights).to(DEVICE))\n",
    "weights[1] = 6\n",
    "crit_extrav = nn.CrossEntropyLoss(weight = torch.from_numpy(weights).to(DEVICE))\n",
    "crit_any = nn.CrossEntropyLoss(weight = torch.from_numpy(weights).to(DEVICE))\n",
    "\n",
    "weights = np.ones((3))\n",
    "weights[1] = 2\n",
    "weights[2] = 4\n",
    "crit_kidney = nn.CrossEntropyLoss(weight = torch.from_numpy(weights).to(DEVICE))\n",
    "crit_liver  = nn.CrossEntropyLoss(weight = torch.from_numpy(weights).to(DEVICE))\n",
    "crit_spleen = nn.CrossEntropyLoss(weight = torch.from_numpy(weights).to(DEVICE))"
   ]
  },
  {
   "cell_type": "code",
   "execution_count": 10,
   "metadata": {},
   "outputs": [],
   "source": [
    "def normalize_to_one(tensor):\n",
    "    norm = torch.sum(tensor, 1)\n",
    "    for i in range(0, tensor.shape[1]):\n",
    "        tensor[:,i]/=norm\n",
    "    return tensor\n",
    "\n",
    "def apply_softmax_to_labels(X_out):\n",
    "    softmax = nn.Softmax(dim=1)\n",
    "\n",
    "    X_out[:,:2]    = normalize_to_one(softmax(X_out[:,:2]))\n",
    "    X_out[:,2:4]   = normalize_to_one(softmax(X_out[:,2:4]))\n",
    "    X_out[:,4:7]   = normalize_to_one(softmax(X_out[:,4:7]))\n",
    "    X_out[:,7:10]  = normalize_to_one(softmax(X_out[:,7:10]))\n",
    "    X_out[:,10:13] = normalize_to_one(softmax(X_out[:,10:13]))\n",
    "\n",
    "    return X_out\n",
    "\n",
    "def calculate_score(X_outs, ys, step = 'train'):\n",
    "    X_outs = X_outs.astype(np.float64)\n",
    "    ys     = ys.astype(np.float64)\n",
    "\n",
    "    isnan_x = np.isnan(X_outs).astype(int)\n",
    "    isnan_y = np.isnan(ys).astype(int)\n",
    "    \n",
    "    if(np.max(isnan_x)>0):\n",
    "        print('xnan')\n",
    "    if(np.max(isnan_y)>0):\n",
    "        print('ynan')\n",
    "        \n",
    "    X_outs[:, 13:15] = nn.Softmax(dim=1)(torch.from_numpy(X_outs[:, 13:15])).numpy()\n",
    "    bowel_weights  =  ys[:,0] + 2*ys[:,1]\n",
    "    extrav_weights = ys[:,2] + 6*ys[:,3]\n",
    "    kidney_weights = ys[:,4] + 2*ys[:,5] + 4*ys[:,6]\n",
    "    liver_weights  = ys[:,7] + 2*ys[:,8] + 4*ys[:,9]\n",
    "    spleen_weights = ys[:,10] + 2*ys[:,11] + 4*ys[:,12]\n",
    "    any_in_weights = ys[:,13] + 6*ys[:,14]\n",
    "\n",
    "    bowel_loss  = sklearn.metrics.log_loss(ys[:,:2], X_outs[:,:2], sample_weight = bowel_weights.astype(np.float64))\n",
    "    extrav_loss = sklearn.metrics.log_loss(ys[:,2:4], X_outs[:,2:4], sample_weight = extrav_weights.astype(np.float64))\n",
    "    kidney_loss = sklearn.metrics.log_loss(ys[:,4:7], X_outs[:,4:7], sample_weight = kidney_weights.astype(np.float64))\n",
    "    liver_loss  = sklearn.metrics.log_loss(ys[:,7:10], X_outs[:,7:10], sample_weight = liver_weights.astype(np.float64))\n",
    "    spleen_loss = sklearn.metrics.log_loss(ys[:,10:13], X_outs[:,10:13], sample_weight = spleen_weights.astype(np.float64))\n",
    "    any_in_loss = sklearn.metrics.log_loss(ys[:,13:15], X_outs[:,13:15], sample_weight =  any_in_weights.astype(np.float64))\n",
    "    \n",
    "    avg_loss = (bowel_loss + extrav_loss + kidney_loss + liver_loss + spleen_loss + any_in_loss)/6\n",
    "\n",
    "    losses= {f'{step}_bowel_metric': bowel_loss, f'{step}_extrav_metric': extrav_loss, f'{step}_kidney_metric': kidney_loss,\n",
    "             f'{step}_liver_metric': liver_loss, f'{step}_spleen_metric': spleen_loss, f'{step}_any_in_metric': any_in_loss,\n",
    "             f'{step}_avg_metric': avg_loss}\n",
    "\n",
    "    wandb.log(losses)\n",
    "    return avg_loss\n",
    "\n",
    "def calculate_loss(X_out, X_any, y):\n",
    "    batch_size = X_out.shape[0]\n",
    "    bowel_loss  = crit_bowel(X_out[:,:2], y[:,:2])\n",
    "    extrav_loss = crit_extrav(X_out[:,2:4], y[:,2:4])\n",
    "    kidney_loss = crit_kidney(X_out[:,4:7], y[:,4:7])\n",
    "    liver_loss  = crit_liver(X_out[:,7:10], y[:,7:10])\n",
    "    spleen_loss = crit_spleen(X_out[:,10:13], y[:,10:13])\n",
    "    any_in_loss = crit_any(X_any,  torch.cat([torch.ones(batch_size, 1).to(DEVICE)- y[:,13:14],y[:,13:14]], dim = 1))\n",
    "    \n",
    "    avg_loss = (bowel_loss + extrav_loss + kidney_loss + liver_loss + spleen_loss + any_in_loss)/6\n",
    "    return bowel_loss, extrav_loss, kidney_loss, liver_loss, spleen_loss, any_in_loss, avg_loss"
   ]
  },
  {
   "cell_type": "markdown",
   "metadata": {},
   "source": [
    "# Augmentations"
   ]
  },
  {
   "cell_type": "code",
   "execution_count": 11,
   "metadata": {},
   "outputs": [],
   "source": [
    "def mixup(inputs, truth, clip=[0, 1]):\n",
    "    indices = torch.randperm(inputs.size(0))\n",
    "    shuffled_input = inputs[indices]\n",
    "    shuffled_labels = truth[indices]\n",
    "\n",
    "    lam = np.random.uniform(clip[0], clip[1])\n",
    "    inputs = inputs * lam + shuffled_input * (1 - lam)\n",
    "    return inputs, truth, shuffled_labels, lam\n",
    "\n",
    "transforms_train = transforms.Compose([\n",
    "    transforms.RandFlipd(keys=chan_keys, prob=0.5, spatial_axis=0),    \n",
    "    transforms.RandFlipd(keys=chan_keys, prob=0.5, spatial_axis=1),\n",
    "    transforms.RandFlipd(keys=chan_keys, prob=0.5, spatial_axis=2),\n",
    "    #transforms.RandAffined(keys=chan_keys, translate_range=[int(x*y) for x, y in zip([RESOL, RESOL, RESOL], [0.3, 0.3, 0.3])], padding_mode='zeros', prob=0.7),\n",
    "    transforms.RandGridDistortiond(keys=chan_keys, prob=0.5, distort_limit=(-0.01, 0.01), mode=\"nearest\"),    \n",
    "])\n",
    "\n",
    "remain_transforms_train = transforms.Compose([\n",
    "    #transforms.RandCoarseDropout(holes = DROP_REGION['HOLES'][0], max_holes = DROP_REGION['HOLES'][1],\n",
    "    #                        spatial_size = DROP_REGION['SIZE'][0]*np.ones(3, int), max_spatial_size =DROP_REGION['SIZE'][1]*np.ones(3, int), \n",
    "    #                        prob = DROP_REGION['PROB'], \n",
    "    #                        fill_value = DROP_REGION['FILL'])\n",
    "])\n",
    "\n",
    "\n",
    "\n",
    "transforms_common_preprocessing = transforms.Compose([\n",
    "    #transforms.HistogramNormalize(num_bins = 256, min = 0, max = 255)\n",
    "])"
   ]
  },
  {
   "cell_type": "markdown",
   "metadata": {},
   "source": [
    "# Dataset"
   ]
  },
  {
   "cell_type": "code",
   "execution_count": 12,
   "metadata": {},
   "outputs": [],
   "source": [
    "class AbdominalCTDataset(Dataset):\n",
    "    def __init__(self, meta_df, is_train = True, transform_set = None, remain_transforms_set = None):\n",
    "        self.meta_df = meta_df\n",
    "        self.is_train = is_train\n",
    "        self.transform_set = transform_set\n",
    "        self.remain_transforms_set = remain_transforms_set\n",
    "        self.data_3ds = []        \n",
    "        for i in tqdm(range(0, len(self.meta_df))):\n",
    "            tmp_data_3ds = {}\n",
    "            base_name = self.meta_df.iloc[i]['cropped_path']            \n",
    "            for j in range(0, 6):\n",
    "                tmp_data_3d = decompress_fast(f'{base_name}_{j}').unsqueeze(0)\n",
    "                #tmp_data_3d = torch.from_numpy(tmp_data_3d)\n",
    "                tmp_data_3ds[chan_dict[j]] = tmp_data_3d            \n",
    "            self.data_3ds.append(tmp_data_3ds)\n",
    "\n",
    "    def __len__(self):\n",
    "        return len(self.meta_df)\n",
    "    \n",
    "    def __getitem__(self, idx):\n",
    "        row = self.meta_df.iloc[idx]\n",
    "        label = row[['bowel_healthy','bowel_injury',\n",
    "                    'extravasation_healthy','extravasation_injury',\n",
    "                    'kidney_healthy','kidney_low','kidney_high',\n",
    "                    'liver_healthy','liver_low','liver_high',\n",
    "                    'spleen_healthy','spleen_low','spleen_high', 'any_injury']]\n",
    "        \n",
    "        data_3d = self.data_3ds[idx].copy()\n",
    "        \n",
    "        if self.is_train:\n",
    "            if self.transform_set is not None:\n",
    "                data_3d = self.transform_set(data_3d)\n",
    "\n",
    "            if self.remain_transforms_set is not None:   \n",
    "                for i in range(0, 6):\n",
    "                    data_3d[chan_dict[i]] = self.remain_transforms_set(data_3d[chan_dict[i]])\n",
    "        \n",
    "        label = label.to_numpy().astype(np.float32)                    \n",
    "        label = torch.from_numpy(label)\n",
    "                    \n",
    "        return data_3d['bowel'], data_3d['left_kidney'], data_3d['right_kidney'], \\\n",
    "                data_3d['liver'], data_3d['spleen'], data_3d['total'], label        \n"
   ]
  },
  {
   "cell_type": "code",
   "execution_count": 13,
   "metadata": {},
   "outputs": [],
   "source": [
    "#data_3d= torch.rand((6, 128, 128, 128))*0.5\n",
    "#data_3d = remain_transforms_train(data_3d)\n",
    "#torch.max(data_3d)\n",
    "#print(data_3d)"
   ]
  },
  {
   "cell_type": "markdown",
   "metadata": {},
   "source": [
    "# Train loop"
   ]
  },
  {
   "cell_type": "code",
   "execution_count": 14,
   "metadata": {},
   "outputs": [],
   "source": [
    "def train_func(model, train_loader, scaler, scheduler, optimizer, epoch, accum_points, accum_scale):\n",
    "    train_meters = {'loss': AverageMeter()}\n",
    "    model.train()\n",
    "    X_outs=[]\n",
    "    ys=[]\n",
    "    accum_counter = 0\n",
    "    counter = 0\n",
    "    for X_bowel, X_lkid, X_rkid, X_liv, X_spl, X_tot, y in train_loader:\n",
    "        X_bowel, X_lkid, X_rkid = X_bowel.to(DEVICE), X_lkid.to(DEVICE), X_rkid.to(DEVICE)\n",
    "        X_liv, X_spl, X_tot     = X_liv.to(DEVICE), X_spl.to(DEVICE), X_tot.to(DEVICE)\n",
    "        y = y.to(DEVICE)\n",
    "        current_lr = float(scheduler.get_last_lr()[0])\n",
    "        \n",
    "        batch_size = X_bowel.shape[0]\n",
    "        optimizer.zero_grad()\n",
    "        with torch.cuda.amp.autocast(enabled=True):  \n",
    "            X_out, X_any  = model(X_bowel, X_lkid, X_rkid, X_liv, X_spl, X_tot)\n",
    "            bowel_loss, extrav_loss, kidney_loss, liver_loss, spleen_loss, any_in_loss, avg_loss = calculate_loss(X_out, X_any, y)\n",
    "                \n",
    "            step = 'train'\n",
    "            wandb.log({ 'lr': current_lr,\n",
    "                        f'{step}_bowel_loss': bowel_loss.item(),\n",
    "                        f'{step}_extrav_loss': extrav_loss.item(),\n",
    "                        f'{step}_kidney_loss': kidney_loss.item(),\n",
    "                        f'{step}_liver_loss': liver_loss.item(),\n",
    "                        f'{step}_spleen_loss': spleen_loss.item(),\n",
    "                        f'{step}_any_loss': any_in_loss.item(),\n",
    "                        f'{step}_avg_loss': avg_loss.item()\n",
    "                        })\n",
    "            \n",
    "            scaler.scale(avg_loss/accum_scale[accum_counter]).backward()\n",
    "            if(counter==accum_points[accum_counter]):\n",
    "                scaler.step(optimizer)\n",
    "                scheduler.step()\n",
    "                scaler.update()    \n",
    "                accum_counter+=1                \n",
    "        counter+=1                   \n",
    "\n",
    "        #Metric calculation\n",
    "        y_any = torch.cat([torch.ones(batch_size, 1).to(DEVICE)- y[:,13:14],y[:,13:14]], dim = 1)    \n",
    "        X_out = apply_softmax_to_labels(X_out).detach().to('cpu').numpy()\n",
    "        X_any = X_any.detach().to('cpu').numpy()\n",
    "        X_out = np.hstack([X_out, X_any])\n",
    "        X_outs.append(X_out)\n",
    "\n",
    "        y     = y.to('cpu').numpy()[:,:-1]\n",
    "        y_any = y_any.to('cpu').numpy()\n",
    "        y     = np.hstack([y, y_any])\n",
    "        ys.append(y)\n",
    "\n",
    "        trn_loss = avg_loss.item()      \n",
    "        train_meters['loss'].update(trn_loss, n=batch_size)     \n",
    "        #pbar.set_description(f'Train loss: {trn_loss}')   \n",
    "        \n",
    "        \n",
    "    print('Epoch {:d} / trn/loss={:.4f}'.format(epoch+1, train_meters['loss'].avg))    \n",
    "\n",
    "    X_outs = np.vstack(X_outs) \n",
    "    ys     = np.vstack(ys)\n",
    "    metric = calculate_score(X_outs, ys, 'train')                 \n",
    "    print('Epoch {:d} / train/metric={:.4f}'.format(epoch+1, metric))   \n",
    "\n",
    "    del X_bowel, X_lkid, X_rkid, X_liv, X_spl, X_tot, X_outs, y, ys, X_any\n",
    "    gc.collect()\n",
    "    torch.cuda.empty_cache()    \n",
    "    return scheduler, scaler, optimizer\n",
    "\n",
    "\n",
    "def valid_func(model, valid_loader, epoch):\n",
    "    X_outs=[]\n",
    "    ys=[]\n",
    "    model.eval()\n",
    "    for X_bowel, X_lkid, X_rkid, X_liv, X_spl, X_tot, y in valid_loader:\n",
    "        batch_size = y.shape[0]\n",
    "        X_bowel, X_lkid, X_rkid = X_bowel.to(DEVICE), X_lkid.to(DEVICE), X_rkid.to(DEVICE)\n",
    "        X_liv, X_spl, X_tot     = X_liv.to(DEVICE), X_spl.to(DEVICE), X_tot.to(DEVICE)\n",
    "        y = y.to(DEVICE)           \n",
    "        with torch.cuda.amp.autocast(enabled=True):                \n",
    "            with torch.no_grad():                 \n",
    "                X_out, X_any = model(X_bowel, X_lkid, X_rkid, X_liv, X_spl, X_tot)                                          \n",
    "                y_any = torch.cat([torch.ones(batch_size, 1).to(DEVICE)- y[:,13:14],y[:,13:14]], dim = 1)              \n",
    "                X_out = apply_softmax_to_labels(X_out).to('cpu').numpy()\n",
    "\n",
    "                X_any = X_any.to('cpu').numpy()\n",
    "                X_out = np.hstack([X_out, X_any])\n",
    "                X_outs.append(X_out)\n",
    "\n",
    "                y     = y.to('cpu').numpy()[:,:-1]\n",
    "                y_any = y_any.to('cpu').numpy()\n",
    "                y     = np.hstack([y, y_any])\n",
    "                ys.append(y)\n",
    "\n",
    "    X_outs = np.vstack(X_outs) \n",
    "    ys     = np.vstack(ys)\n",
    "    metric = calculate_score(X_outs, ys, 'valid')                \n",
    "    print('Epoch {:d} / val/metric={:.4f}'.format(epoch+1, metric))           \n",
    "    \n",
    "    del X_bowel, X_lkid, X_rkid, X_liv, X_spl, X_tot, X_outs, y, ys, X_any\n",
    "    gc.collect()        \n",
    "    torch.cuda.empty_cache()   \n",
    "    return metric "
   ]
  },
  {
   "cell_type": "code",
   "execution_count": 15,
   "metadata": {},
   "outputs": [
    {
     "data": {
      "text/html": [
       "wandb version 0.15.11 is available!  To upgrade, please run:\n",
       " $ pip install wandb --upgrade"
      ],
      "text/plain": [
       "<IPython.core.display.HTML object>"
      ]
     },
     "metadata": {},
     "output_type": "display_data"
    },
    {
     "data": {
      "text/html": [
       "Tracking run with wandb version 0.15.9"
      ],
      "text/plain": [
       "<IPython.core.display.HTML object>"
      ]
     },
     "metadata": {},
     "output_type": "display_data"
    },
    {
     "data": {
      "text/html": [
       "Run data is saved locally in <code>/home/junseonglee/Desktop/01_codes/inputs/rsna-2023-abdominal-trauma-detection/wandb/run-20231003_012612-fr086z2f</code>"
      ],
      "text/plain": [
       "<IPython.core.display.HTML object>"
      ]
     },
     "metadata": {},
     "output_type": "display_data"
    },
    {
     "data": {
      "text/html": [
       "Syncing run <strong><a href='https://wandb.ai/junseonglee/RSNA_ABTD/runs/fr086z2f' target=\"_blank\">timm/resnet10t.c3_in1k_2nd_std_opt-seg0.938</a></strong> to <a href='https://wandb.ai/junseonglee/RSNA_ABTD' target=\"_blank\">Weights & Biases</a> (<a href='https://wandb.me/run' target=\"_blank\">docs</a>)<br/>"
      ],
      "text/plain": [
       "<IPython.core.display.HTML object>"
      ]
     },
     "metadata": {},
     "output_type": "display_data"
    },
    {
     "data": {
      "text/html": [
       " View project at <a href='https://wandb.ai/junseonglee/RSNA_ABTD' target=\"_blank\">https://wandb.ai/junseonglee/RSNA_ABTD</a>"
      ],
      "text/plain": [
       "<IPython.core.display.HTML object>"
      ]
     },
     "metadata": {},
     "output_type": "display_data"
    },
    {
     "data": {
      "text/html": [
       " View run at <a href='https://wandb.ai/junseonglee/RSNA_ABTD/runs/fr086z2f' target=\"_blank\">https://wandb.ai/junseonglee/RSNA_ABTD/runs/fr086z2f</a>"
      ],
      "text/plain": [
       "<IPython.core.display.HTML object>"
      ]
     },
     "metadata": {},
     "output_type": "display_data"
    },
    {
     "name": "stderr",
     "output_type": "stream",
     "text": [
      "100%|██████████| 3782/3782 [01:27<00:00, 43.16it/s]\n",
      "100%|██████████| 929/929 [00:31<00:00, 29.80it/s]\n",
      "  0%|          | 0/200 [00:00<?, ?it/s]"
     ]
    },
    {
     "name": "stdout",
     "output_type": "stream",
     "text": [
      "Epoch 1 / trn/loss=0.8748\n",
      "Epoch 1 / train/metric=0.6359\n",
      "Epoch 1 / val/metric=0.5753\n",
      "Best val_metric 0.5752747294629229 at epoch 1!\n"
     ]
    },
    {
     "name": "stderr",
     "output_type": "stream",
     "text": [
      "  0%|          | 1/200 [04:31<15:00:21, 271.47s/it]"
     ]
    },
    {
     "name": "stdout",
     "output_type": "stream",
     "text": [
      "Epoch 2 / trn/loss=0.8038\n",
      "Epoch 2 / train/metric=0.5717\n",
      "Epoch 2 / val/metric=0.5573\n",
      "Best val_metric 0.5572913849431376 at epoch 2!\n"
     ]
    },
    {
     "name": "stderr",
     "output_type": "stream",
     "text": [
      "  1%|          | 2/200 [08:47<14:26:50, 262.68s/it]"
     ]
    },
    {
     "name": "stdout",
     "output_type": "stream",
     "text": [
      "Epoch 3 / trn/loss=0.8008\n",
      "Epoch 3 / train/metric=0.5666\n"
     ]
    },
    {
     "name": "stderr",
     "output_type": "stream",
     "text": [
      "  2%|▏         | 3/200 [13:04<14:13:56, 260.08s/it]"
     ]
    },
    {
     "name": "stdout",
     "output_type": "stream",
     "text": [
      "Epoch 3 / val/metric=0.5581\n",
      "Epoch 4 / trn/loss=0.7943\n",
      "Epoch 4 / train/metric=0.5629\n",
      "Epoch 4 / val/metric=0.5498\n",
      "Best val_metric 0.5498073912789178 at epoch 4!\n"
     ]
    },
    {
     "name": "stderr",
     "output_type": "stream",
     "text": [
      "  2%|▏         | 4/200 [17:22<14:06:43, 259.20s/it]"
     ]
    },
    {
     "name": "stdout",
     "output_type": "stream",
     "text": [
      "Epoch 5 / trn/loss=0.7932\n",
      "Epoch 5 / train/metric=0.5619\n",
      "Epoch 5 / val/metric=0.5446\n",
      "Best val_metric 0.5445510173353698 at epoch 5!\n"
     ]
    },
    {
     "name": "stderr",
     "output_type": "stream",
     "text": [
      "  2%|▎         | 5/200 [21:41<14:01:28, 258.92s/it]"
     ]
    },
    {
     "name": "stdout",
     "output_type": "stream",
     "text": [
      "Epoch 6 / trn/loss=0.7922\n",
      "Epoch 6 / train/metric=0.5620\n"
     ]
    },
    {
     "name": "stderr",
     "output_type": "stream",
     "text": [
      "  3%|▎         | 6/200 [25:59<13:56:05, 258.59s/it]"
     ]
    },
    {
     "name": "stdout",
     "output_type": "stream",
     "text": [
      "Epoch 6 / val/metric=0.5510\n",
      "Epoch 7 / trn/loss=0.7968\n",
      "Epoch 7 / train/metric=0.5645\n"
     ]
    },
    {
     "name": "stderr",
     "output_type": "stream",
     "text": [
      "  4%|▎         | 7/200 [30:17<13:51:58, 258.64s/it]"
     ]
    },
    {
     "name": "stdout",
     "output_type": "stream",
     "text": [
      "Epoch 7 / val/metric=0.5453\n",
      "Epoch 8 / trn/loss=0.7933\n",
      "Epoch 8 / train/metric=0.5613\n"
     ]
    },
    {
     "name": "stderr",
     "output_type": "stream",
     "text": [
      "  4%|▍         | 8/200 [34:36<13:47:50, 258.70s/it]"
     ]
    },
    {
     "name": "stdout",
     "output_type": "stream",
     "text": [
      "Epoch 8 / val/metric=0.5515\n",
      "Epoch 9 / trn/loss=0.7904\n",
      "Epoch 9 / train/metric=0.5593\n",
      "Epoch 9 / val/metric=0.5395\n",
      "Best val_metric 0.539505760875706 at epoch 9!\n"
     ]
    },
    {
     "name": "stderr",
     "output_type": "stream",
     "text": [
      "  4%|▍         | 9/200 [38:55<13:43:49, 258.79s/it]"
     ]
    },
    {
     "name": "stdout",
     "output_type": "stream",
     "text": [
      "Epoch 10 / trn/loss=0.7947\n",
      "Epoch 10 / train/metric=0.5595\n"
     ]
    },
    {
     "name": "stderr",
     "output_type": "stream",
     "text": [
      "  5%|▌         | 10/200 [43:14<13:38:58, 258.62s/it]"
     ]
    },
    {
     "name": "stdout",
     "output_type": "stream",
     "text": [
      "Epoch 10 / val/metric=0.5549\n",
      "Epoch 11 / trn/loss=0.7990\n",
      "Epoch 11 / train/metric=0.5664\n"
     ]
    },
    {
     "name": "stderr",
     "output_type": "stream",
     "text": [
      "  6%|▌         | 11/200 [47:32<13:34:58, 258.72s/it]"
     ]
    },
    {
     "name": "stdout",
     "output_type": "stream",
     "text": [
      "Epoch 11 / val/metric=0.5434\n",
      "Epoch 12 / trn/loss=0.7910\n",
      "Epoch 12 / train/metric=0.5554\n",
      "Epoch 12 / val/metric=0.5327\n",
      "Best val_metric 0.5326668023090585 at epoch 12!\n"
     ]
    },
    {
     "name": "stderr",
     "output_type": "stream",
     "text": [
      "  6%|▌         | 12/200 [51:52<13:31:22, 258.95s/it]"
     ]
    },
    {
     "name": "stdout",
     "output_type": "stream",
     "text": [
      "Epoch 13 / trn/loss=0.7845\n",
      "Epoch 13 / train/metric=0.5517\n"
     ]
    },
    {
     "name": "stderr",
     "output_type": "stream",
     "text": [
      "  6%|▋         | 13/200 [56:11<13:26:55, 258.90s/it]"
     ]
    },
    {
     "name": "stdout",
     "output_type": "stream",
     "text": [
      "Epoch 13 / val/metric=0.5507\n",
      "Epoch 14 / trn/loss=0.7916\n",
      "Epoch 14 / train/metric=0.5573\n"
     ]
    },
    {
     "name": "stderr",
     "output_type": "stream",
     "text": [
      "  7%|▋         | 14/200 [1:00:30<13:23:04, 259.05s/it]"
     ]
    },
    {
     "name": "stdout",
     "output_type": "stream",
     "text": [
      "Epoch 14 / val/metric=0.5475\n",
      "Epoch 15 / trn/loss=0.7865\n",
      "Epoch 15 / train/metric=0.5530\n"
     ]
    },
    {
     "name": "stderr",
     "output_type": "stream",
     "text": [
      "  8%|▊         | 15/200 [1:04:50<13:19:08, 259.18s/it]"
     ]
    },
    {
     "name": "stdout",
     "output_type": "stream",
     "text": [
      "Epoch 15 / val/metric=0.5479\n",
      "Epoch 16 / trn/loss=0.7946\n",
      "Epoch 16 / train/metric=0.5584\n"
     ]
    },
    {
     "name": "stderr",
     "output_type": "stream",
     "text": [
      "  8%|▊         | 16/200 [1:09:08<13:14:30, 259.08s/it]"
     ]
    },
    {
     "name": "stdout",
     "output_type": "stream",
     "text": [
      "Epoch 16 / val/metric=0.5583\n",
      "Epoch 17 / trn/loss=0.7957\n",
      "Epoch 17 / train/metric=0.5586\n"
     ]
    },
    {
     "name": "stderr",
     "output_type": "stream",
     "text": [
      "  8%|▊         | 17/200 [1:13:27<13:09:38, 258.90s/it]"
     ]
    },
    {
     "name": "stdout",
     "output_type": "stream",
     "text": [
      "Epoch 17 / val/metric=0.5510\n",
      "Epoch 18 / trn/loss=0.7889\n",
      "Epoch 18 / train/metric=0.5549\n"
     ]
    },
    {
     "name": "stderr",
     "output_type": "stream",
     "text": [
      "  9%|▉         | 18/200 [1:17:46<13:05:06, 258.82s/it]"
     ]
    },
    {
     "name": "stdout",
     "output_type": "stream",
     "text": [
      "Epoch 18 / val/metric=0.5676\n",
      "Epoch 19 / trn/loss=0.7909\n",
      "Epoch 19 / train/metric=0.5561\n"
     ]
    },
    {
     "name": "stderr",
     "output_type": "stream",
     "text": [
      " 10%|▉         | 19/200 [1:22:05<13:01:43, 259.13s/it]"
     ]
    },
    {
     "name": "stdout",
     "output_type": "stream",
     "text": [
      "Epoch 19 / val/metric=0.5455\n",
      "Epoch 20 / trn/loss=0.7845\n",
      "Epoch 20 / train/metric=0.5521\n",
      "Epoch 20 / val/metric=0.5248\n",
      "Best val_metric 0.5248208714189742 at epoch 20!\n"
     ]
    },
    {
     "name": "stderr",
     "output_type": "stream",
     "text": [
      " 10%|█         | 20/200 [1:26:25<12:57:51, 259.28s/it]"
     ]
    },
    {
     "name": "stdout",
     "output_type": "stream",
     "text": [
      "Epoch 21 / trn/loss=0.7851\n",
      "Epoch 21 / train/metric=0.5515\n"
     ]
    },
    {
     "name": "stderr",
     "output_type": "stream",
     "text": [
      " 10%|█         | 21/200 [1:30:44<12:53:25, 259.25s/it]"
     ]
    },
    {
     "name": "stdout",
     "output_type": "stream",
     "text": [
      "Epoch 21 / val/metric=0.5385\n",
      "Epoch 22 / trn/loss=0.7916\n",
      "Epoch 22 / train/metric=0.5547\n"
     ]
    },
    {
     "name": "stderr",
     "output_type": "stream",
     "text": [
      " 11%|█         | 22/200 [1:35:03<12:49:00, 259.22s/it]"
     ]
    },
    {
     "name": "stdout",
     "output_type": "stream",
     "text": [
      "Epoch 22 / val/metric=0.5448\n",
      "Epoch 23 / trn/loss=0.7831\n",
      "Epoch 23 / train/metric=0.5496\n"
     ]
    },
    {
     "name": "stderr",
     "output_type": "stream",
     "text": [
      " 12%|█▏        | 23/200 [1:39:23<12:44:56, 259.30s/it]"
     ]
    },
    {
     "name": "stdout",
     "output_type": "stream",
     "text": [
      "Epoch 23 / val/metric=0.5374\n",
      "Epoch 24 / trn/loss=0.7857\n",
      "Epoch 24 / train/metric=0.5517\n"
     ]
    },
    {
     "name": "stderr",
     "output_type": "stream",
     "text": [
      " 12%|█▏        | 24/200 [1:43:41<12:39:59, 259.09s/it]"
     ]
    },
    {
     "name": "stdout",
     "output_type": "stream",
     "text": [
      "Epoch 24 / val/metric=0.5366\n",
      "Epoch 25 / trn/loss=0.7921\n",
      "Epoch 25 / train/metric=0.5600\n"
     ]
    },
    {
     "name": "stderr",
     "output_type": "stream",
     "text": [
      " 12%|█▎        | 25/200 [1:48:01<12:35:46, 259.12s/it]"
     ]
    },
    {
     "name": "stdout",
     "output_type": "stream",
     "text": [
      "Epoch 25 / val/metric=0.5363\n",
      "Epoch 26 / trn/loss=0.7944\n",
      "Epoch 26 / train/metric=0.5591\n",
      "Epoch 26 / val/metric=0.5117\n",
      "Best val_metric 0.5117374426160188 at epoch 26!\n"
     ]
    },
    {
     "name": "stderr",
     "output_type": "stream",
     "text": [
      " 13%|█▎        | 26/200 [1:52:20<12:31:49, 259.25s/it]"
     ]
    },
    {
     "name": "stdout",
     "output_type": "stream",
     "text": [
      "Epoch 27 / trn/loss=0.7918\n",
      "Epoch 27 / train/metric=0.5560\n"
     ]
    },
    {
     "name": "stderr",
     "output_type": "stream",
     "text": [
      " 14%|█▎        | 27/200 [1:56:39<12:27:09, 259.13s/it]"
     ]
    },
    {
     "name": "stdout",
     "output_type": "stream",
     "text": [
      "Epoch 27 / val/metric=0.5297\n",
      "Epoch 28 / trn/loss=0.7870\n",
      "Epoch 28 / train/metric=0.5547\n"
     ]
    },
    {
     "name": "stderr",
     "output_type": "stream",
     "text": [
      " 14%|█▍        | 28/200 [2:00:58<12:22:39, 259.07s/it]"
     ]
    },
    {
     "name": "stdout",
     "output_type": "stream",
     "text": [
      "Epoch 28 / val/metric=0.5145\n",
      "Epoch 29 / trn/loss=0.7880\n",
      "Epoch 29 / train/metric=0.5550\n"
     ]
    },
    {
     "name": "stderr",
     "output_type": "stream",
     "text": [
      " 14%|█▍        | 29/200 [2:05:17<12:17:56, 258.93s/it]"
     ]
    },
    {
     "name": "stdout",
     "output_type": "stream",
     "text": [
      "Epoch 29 / val/metric=0.5329\n",
      "Epoch 30 / trn/loss=0.7799\n",
      "Epoch 30 / train/metric=0.5511\n"
     ]
    },
    {
     "name": "stderr",
     "output_type": "stream",
     "text": [
      " 15%|█▌        | 30/200 [2:09:35<12:13:35, 258.92s/it]"
     ]
    },
    {
     "name": "stdout",
     "output_type": "stream",
     "text": [
      "Epoch 30 / val/metric=0.5339\n",
      "Epoch 31 / trn/loss=0.7852\n",
      "Epoch 31 / train/metric=0.5530\n"
     ]
    },
    {
     "name": "stderr",
     "output_type": "stream",
     "text": [
      " 16%|█▌        | 31/200 [2:13:55<12:09:25, 258.97s/it]"
     ]
    },
    {
     "name": "stdout",
     "output_type": "stream",
     "text": [
      "Epoch 31 / val/metric=0.5362\n",
      "Epoch 32 / trn/loss=0.7865\n",
      "Epoch 32 / train/metric=0.5540\n"
     ]
    },
    {
     "name": "stderr",
     "output_type": "stream",
     "text": [
      " 16%|█▌        | 32/200 [2:18:14<12:05:11, 259.00s/it]"
     ]
    },
    {
     "name": "stdout",
     "output_type": "stream",
     "text": [
      "Epoch 32 / val/metric=0.5334\n",
      "Epoch 33 / trn/loss=0.7813\n",
      "Epoch 33 / train/metric=0.5487\n"
     ]
    },
    {
     "name": "stderr",
     "output_type": "stream",
     "text": [
      " 16%|█▋        | 33/200 [2:22:33<12:01:11, 259.11s/it]"
     ]
    },
    {
     "name": "stdout",
     "output_type": "stream",
     "text": [
      "Epoch 33 / val/metric=0.5307\n",
      "Epoch 34 / trn/loss=0.7819\n",
      "Epoch 34 / train/metric=0.5510\n"
     ]
    },
    {
     "name": "stderr",
     "output_type": "stream",
     "text": [
      " 17%|█▋        | 34/200 [2:26:52<11:56:36, 259.01s/it]"
     ]
    },
    {
     "name": "stdout",
     "output_type": "stream",
     "text": [
      "Epoch 34 / val/metric=0.5337\n",
      "Epoch 35 / trn/loss=0.7883\n",
      "Epoch 35 / train/metric=0.5557\n"
     ]
    },
    {
     "name": "stderr",
     "output_type": "stream",
     "text": [
      " 18%|█▊        | 35/200 [2:31:11<11:52:14, 259.00s/it]"
     ]
    },
    {
     "name": "stdout",
     "output_type": "stream",
     "text": [
      "Epoch 35 / val/metric=0.5174\n",
      "Epoch 36 / trn/loss=0.7772\n",
      "Epoch 36 / train/metric=0.5460\n"
     ]
    },
    {
     "name": "stderr",
     "output_type": "stream",
     "text": [
      " 18%|█▊        | 36/200 [2:35:30<11:47:47, 258.95s/it]"
     ]
    },
    {
     "name": "stdout",
     "output_type": "stream",
     "text": [
      "Epoch 36 / val/metric=0.5385\n",
      "Epoch 37 / trn/loss=0.7697\n",
      "Epoch 37 / train/metric=0.5398\n"
     ]
    },
    {
     "name": "stderr",
     "output_type": "stream",
     "text": [
      " 18%|█▊        | 37/200 [2:39:48<11:43:23, 258.92s/it]"
     ]
    },
    {
     "name": "stdout",
     "output_type": "stream",
     "text": [
      "Epoch 37 / val/metric=0.5188\n",
      "Epoch 38 / trn/loss=0.7776\n",
      "Epoch 38 / train/metric=0.5474\n"
     ]
    },
    {
     "name": "stderr",
     "output_type": "stream",
     "text": [
      " 19%|█▉        | 38/200 [2:44:07<11:38:50, 258.83s/it]"
     ]
    },
    {
     "name": "stdout",
     "output_type": "stream",
     "text": [
      "Epoch 38 / val/metric=0.5497\n",
      "Epoch 39 / trn/loss=0.7761\n",
      "Epoch 39 / train/metric=0.5455\n"
     ]
    },
    {
     "name": "stderr",
     "output_type": "stream",
     "text": [
      " 20%|█▉        | 39/200 [2:48:26<11:34:38, 258.88s/it]"
     ]
    },
    {
     "name": "stdout",
     "output_type": "stream",
     "text": [
      "Epoch 39 / val/metric=0.5332\n",
      "Epoch 40 / trn/loss=0.7774\n",
      "Epoch 40 / train/metric=0.5489\n"
     ]
    },
    {
     "name": "stderr",
     "output_type": "stream",
     "text": [
      " 20%|██        | 40/200 [2:52:45<11:30:02, 258.77s/it]"
     ]
    },
    {
     "name": "stdout",
     "output_type": "stream",
     "text": [
      "Epoch 40 / val/metric=0.5408\n",
      "Epoch 41 / trn/loss=0.7728\n",
      "Epoch 41 / train/metric=0.5442\n"
     ]
    },
    {
     "name": "stderr",
     "output_type": "stream",
     "text": [
      " 20%|██        | 41/200 [2:57:03<11:25:47, 258.79s/it]"
     ]
    },
    {
     "name": "stdout",
     "output_type": "stream",
     "text": [
      "Epoch 41 / val/metric=0.5188\n",
      "Epoch 42 / trn/loss=0.7734\n",
      "Epoch 42 / train/metric=0.5425\n"
     ]
    },
    {
     "name": "stderr",
     "output_type": "stream",
     "text": [
      " 21%|██        | 42/200 [3:01:22<11:21:23, 258.76s/it]"
     ]
    },
    {
     "name": "stdout",
     "output_type": "stream",
     "text": [
      "Epoch 42 / val/metric=0.5555\n",
      "Epoch 43 / trn/loss=0.7796\n",
      "Epoch 43 / train/metric=0.5474\n"
     ]
    },
    {
     "name": "stderr",
     "output_type": "stream",
     "text": [
      " 22%|██▏       | 43/200 [3:05:41<11:17:03, 258.75s/it]"
     ]
    },
    {
     "name": "stdout",
     "output_type": "stream",
     "text": [
      "Epoch 43 / val/metric=0.5200\n",
      "Epoch 44 / trn/loss=0.7629\n",
      "Epoch 44 / train/metric=0.5330\n"
     ]
    },
    {
     "name": "stderr",
     "output_type": "stream",
     "text": [
      " 22%|██▏       | 44/200 [3:09:59<11:12:36, 258.69s/it]"
     ]
    },
    {
     "name": "stdout",
     "output_type": "stream",
     "text": [
      "Epoch 44 / val/metric=0.5340\n",
      "Epoch 45 / trn/loss=0.7691\n",
      "Epoch 45 / train/metric=0.5419\n"
     ]
    },
    {
     "name": "stderr",
     "output_type": "stream",
     "text": [
      " 22%|██▎       | 45/200 [3:14:18<11:08:10, 258.65s/it]"
     ]
    },
    {
     "name": "stdout",
     "output_type": "stream",
     "text": [
      "Epoch 45 / val/metric=0.5125\n",
      "Epoch 46 / trn/loss=0.7673\n",
      "Epoch 46 / train/metric=0.5397\n",
      "Epoch 46 / val/metric=0.5105\n",
      "Best val_metric 0.5104905504212512 at epoch 46!\n"
     ]
    },
    {
     "name": "stderr",
     "output_type": "stream",
     "text": [
      " 23%|██▎       | 46/200 [3:18:37<11:04:04, 258.73s/it]"
     ]
    },
    {
     "name": "stdout",
     "output_type": "stream",
     "text": [
      "Epoch 47 / trn/loss=0.7730\n",
      "Epoch 47 / train/metric=0.5462\n"
     ]
    },
    {
     "name": "stderr",
     "output_type": "stream",
     "text": [
      " 24%|██▎       | 47/200 [3:22:55<10:59:10, 258.50s/it]"
     ]
    },
    {
     "name": "stdout",
     "output_type": "stream",
     "text": [
      "Epoch 47 / val/metric=0.5179\n",
      "Epoch 48 / trn/loss=0.7713\n",
      "Epoch 48 / train/metric=0.5417\n"
     ]
    },
    {
     "name": "stderr",
     "output_type": "stream",
     "text": [
      " 24%|██▍       | 48/200 [3:27:13<10:54:43, 258.44s/it]"
     ]
    },
    {
     "name": "stdout",
     "output_type": "stream",
     "text": [
      "Epoch 48 / val/metric=0.5116\n",
      "Epoch 49 / trn/loss=0.7663\n",
      "Epoch 49 / train/metric=0.5401\n"
     ]
    },
    {
     "name": "stderr",
     "output_type": "stream",
     "text": [
      " 24%|██▍       | 49/200 [3:31:31<10:50:10, 258.35s/it]"
     ]
    },
    {
     "name": "stdout",
     "output_type": "stream",
     "text": [
      "Epoch 49 / val/metric=0.5261\n",
      "Epoch 50 / trn/loss=0.7682\n",
      "Epoch 50 / train/metric=0.5394\n"
     ]
    },
    {
     "name": "stderr",
     "output_type": "stream",
     "text": [
      " 25%|██▌       | 50/200 [3:35:50<10:46:09, 258.47s/it]"
     ]
    },
    {
     "name": "stdout",
     "output_type": "stream",
     "text": [
      "Epoch 50 / val/metric=0.5409\n",
      "Epoch 51 / trn/loss=0.7726\n",
      "Epoch 51 / train/metric=0.5436\n"
     ]
    },
    {
     "name": "stderr",
     "output_type": "stream",
     "text": [
      " 26%|██▌       | 51/200 [3:40:09<10:41:58, 258.51s/it]"
     ]
    },
    {
     "name": "stdout",
     "output_type": "stream",
     "text": [
      "Epoch 51 / val/metric=0.5275\n",
      "Epoch 52 / trn/loss=0.7705\n",
      "Epoch 52 / train/metric=0.5426\n",
      "Epoch 52 / val/metric=0.5099\n",
      "Best val_metric 0.5098904788878159 at epoch 52!\n"
     ]
    },
    {
     "name": "stderr",
     "output_type": "stream",
     "text": [
      " 26%|██▌       | 52/200 [3:44:27<10:37:48, 258.57s/it]"
     ]
    },
    {
     "name": "stdout",
     "output_type": "stream",
     "text": [
      "Epoch 53 / trn/loss=0.7650\n",
      "Epoch 53 / train/metric=0.5378\n"
     ]
    },
    {
     "name": "stderr",
     "output_type": "stream",
     "text": [
      " 26%|██▋       | 53/200 [3:48:45<10:33:10, 258.44s/it]"
     ]
    },
    {
     "name": "stdout",
     "output_type": "stream",
     "text": [
      "Epoch 53 / val/metric=0.5232\n",
      "Epoch 54 / trn/loss=0.7674\n",
      "Epoch 54 / train/metric=0.5398\n"
     ]
    },
    {
     "name": "stderr",
     "output_type": "stream",
     "text": [
      " 27%|██▋       | 54/200 [3:53:04<10:28:53, 258.45s/it]"
     ]
    },
    {
     "name": "stdout",
     "output_type": "stream",
     "text": [
      "Epoch 54 / val/metric=0.5219\n",
      "Epoch 55 / trn/loss=0.7680\n",
      "Epoch 55 / train/metric=0.5389\n"
     ]
    },
    {
     "name": "stderr",
     "output_type": "stream",
     "text": [
      " 28%|██▊       | 55/200 [3:57:22<10:24:24, 258.38s/it]"
     ]
    },
    {
     "name": "stdout",
     "output_type": "stream",
     "text": [
      "Epoch 55 / val/metric=0.5702\n",
      "Epoch 56 / trn/loss=0.7649\n",
      "Epoch 56 / train/metric=0.5386\n"
     ]
    },
    {
     "name": "stderr",
     "output_type": "stream",
     "text": [
      " 28%|██▊       | 56/200 [4:01:40<10:19:57, 258.32s/it]"
     ]
    },
    {
     "name": "stdout",
     "output_type": "stream",
     "text": [
      "Epoch 56 / val/metric=0.5257\n",
      "Epoch 57 / trn/loss=0.7592\n",
      "Epoch 57 / train/metric=0.5343\n"
     ]
    },
    {
     "name": "stderr",
     "output_type": "stream",
     "text": [
      " 28%|██▊       | 57/200 [4:05:59<10:15:45, 258.36s/it]"
     ]
    },
    {
     "name": "stdout",
     "output_type": "stream",
     "text": [
      "Epoch 57 / val/metric=0.5403\n",
      "Epoch 58 / trn/loss=0.7710\n",
      "Epoch 58 / train/metric=0.5427\n"
     ]
    },
    {
     "name": "stderr",
     "output_type": "stream",
     "text": [
      " 29%|██▉       | 58/200 [4:10:16<10:10:59, 258.16s/it]"
     ]
    },
    {
     "name": "stdout",
     "output_type": "stream",
     "text": [
      "Epoch 58 / val/metric=0.5193\n",
      "Epoch 59 / trn/loss=0.7594\n",
      "Epoch 59 / train/metric=0.5333\n"
     ]
    },
    {
     "name": "stderr",
     "output_type": "stream",
     "text": [
      " 30%|██▉       | 59/200 [4:14:35<10:07:07, 258.35s/it]"
     ]
    },
    {
     "name": "stdout",
     "output_type": "stream",
     "text": [
      "Epoch 59 / val/metric=0.5118\n",
      "Epoch 60 / trn/loss=0.7612\n",
      "Epoch 60 / train/metric=0.5347\n"
     ]
    },
    {
     "name": "stderr",
     "output_type": "stream",
     "text": [
      " 30%|███       | 60/200 [4:18:53<10:02:32, 258.24s/it]"
     ]
    },
    {
     "name": "stdout",
     "output_type": "stream",
     "text": [
      "Epoch 60 / val/metric=0.5251\n",
      "Epoch 61 / trn/loss=0.7668\n",
      "Epoch 61 / train/metric=0.5405\n"
     ]
    },
    {
     "name": "stderr",
     "output_type": "stream",
     "text": [
      " 30%|███       | 61/200 [4:23:11<9:58:12, 258.22s/it] "
     ]
    },
    {
     "name": "stdout",
     "output_type": "stream",
     "text": [
      "Epoch 61 / val/metric=0.6048\n",
      "Epoch 62 / trn/loss=0.7513\n",
      "Epoch 62 / train/metric=0.5292\n"
     ]
    },
    {
     "name": "stderr",
     "output_type": "stream",
     "text": [
      " 31%|███       | 62/200 [4:27:30<9:53:50, 258.19s/it]"
     ]
    },
    {
     "name": "stdout",
     "output_type": "stream",
     "text": [
      "Epoch 62 / val/metric=0.5256\n",
      "Epoch 63 / trn/loss=0.7747\n",
      "Epoch 63 / train/metric=0.5435\n"
     ]
    },
    {
     "name": "stderr",
     "output_type": "stream",
     "text": [
      " 32%|███▏      | 63/200 [4:31:47<9:49:21, 258.11s/it]"
     ]
    },
    {
     "name": "stdout",
     "output_type": "stream",
     "text": [
      "Epoch 63 / val/metric=0.5239\n",
      "Epoch 64 / trn/loss=0.7636\n",
      "Epoch 64 / train/metric=0.5358\n"
     ]
    },
    {
     "name": "stderr",
     "output_type": "stream",
     "text": [
      " 32%|███▏      | 64/200 [4:36:06<9:45:08, 258.15s/it]"
     ]
    },
    {
     "name": "stdout",
     "output_type": "stream",
     "text": [
      "Epoch 64 / val/metric=0.5502\n",
      "Epoch 65 / trn/loss=0.7591\n",
      "Epoch 65 / train/metric=0.5334\n"
     ]
    },
    {
     "name": "stderr",
     "output_type": "stream",
     "text": [
      " 32%|███▎      | 65/200 [4:40:24<9:40:40, 258.08s/it]"
     ]
    },
    {
     "name": "stdout",
     "output_type": "stream",
     "text": [
      "Epoch 65 / val/metric=0.5157\n",
      "Epoch 66 / trn/loss=0.7609\n",
      "Epoch 66 / train/metric=0.5348\n"
     ]
    },
    {
     "name": "stderr",
     "output_type": "stream",
     "text": [
      " 33%|███▎      | 66/200 [4:44:42<9:36:28, 258.13s/it]"
     ]
    },
    {
     "name": "stdout",
     "output_type": "stream",
     "text": [
      "Epoch 66 / val/metric=0.5232\n",
      "Epoch 67 / trn/loss=0.7609\n",
      "Epoch 67 / train/metric=0.5355\n"
     ]
    },
    {
     "name": "stderr",
     "output_type": "stream",
     "text": [
      " 34%|███▎      | 67/200 [4:49:00<9:32:11, 258.13s/it]"
     ]
    },
    {
     "name": "stdout",
     "output_type": "stream",
     "text": [
      "Epoch 67 / val/metric=0.5211\n",
      "Epoch 68 / trn/loss=0.7626\n",
      "Epoch 68 / train/metric=0.5384\n"
     ]
    },
    {
     "name": "stderr",
     "output_type": "stream",
     "text": [
      " 34%|███▍      | 68/200 [4:53:18<9:27:58, 258.17s/it]"
     ]
    },
    {
     "name": "stdout",
     "output_type": "stream",
     "text": [
      "Epoch 68 / val/metric=0.5190\n",
      "Epoch 69 / trn/loss=0.7578\n",
      "Epoch 69 / train/metric=0.5338\n"
     ]
    },
    {
     "name": "stderr",
     "output_type": "stream",
     "text": [
      " 34%|███▍      | 69/200 [4:57:36<9:23:08, 257.93s/it]"
     ]
    },
    {
     "name": "stdout",
     "output_type": "stream",
     "text": [
      "Epoch 69 / val/metric=0.5374\n",
      "Epoch 70 / trn/loss=0.7548\n",
      "Epoch 70 / train/metric=0.5304\n"
     ]
    },
    {
     "name": "stderr",
     "output_type": "stream",
     "text": [
      " 35%|███▌      | 70/200 [5:01:54<9:19:23, 258.18s/it]"
     ]
    },
    {
     "name": "stdout",
     "output_type": "stream",
     "text": [
      "Epoch 70 / val/metric=0.5247\n",
      "Epoch 71 / trn/loss=0.7547\n",
      "Epoch 71 / train/metric=0.5293\n"
     ]
    },
    {
     "name": "stderr",
     "output_type": "stream",
     "text": [
      " 36%|███▌      | 71/200 [5:06:12<9:14:43, 258.01s/it]"
     ]
    },
    {
     "name": "stdout",
     "output_type": "stream",
     "text": [
      "Epoch 71 / val/metric=0.5459\n",
      "Epoch 72 / trn/loss=0.7590\n",
      "Epoch 72 / train/metric=0.5331\n"
     ]
    },
    {
     "name": "stderr",
     "output_type": "stream",
     "text": [
      " 36%|███▌      | 72/200 [5:10:30<9:10:14, 257.92s/it]"
     ]
    },
    {
     "name": "stdout",
     "output_type": "stream",
     "text": [
      "Epoch 72 / val/metric=0.5557\n",
      "Epoch 73 / trn/loss=0.7531\n",
      "Epoch 73 / train/metric=0.5298\n"
     ]
    },
    {
     "name": "stderr",
     "output_type": "stream",
     "text": [
      " 36%|███▋      | 73/200 [5:14:47<9:05:47, 257.86s/it]"
     ]
    },
    {
     "name": "stdout",
     "output_type": "stream",
     "text": [
      "Epoch 73 / val/metric=0.5144\n",
      "Epoch 74 / trn/loss=0.7418\n",
      "Epoch 74 / train/metric=0.5185\n"
     ]
    },
    {
     "name": "stderr",
     "output_type": "stream",
     "text": [
      " 37%|███▋      | 74/200 [5:19:06<9:01:46, 257.98s/it]"
     ]
    },
    {
     "name": "stdout",
     "output_type": "stream",
     "text": [
      "Epoch 74 / val/metric=0.5598\n",
      "Epoch 75 / trn/loss=0.7559\n",
      "Epoch 75 / train/metric=0.5304\n"
     ]
    },
    {
     "name": "stderr",
     "output_type": "stream",
     "text": [
      " 38%|███▊      | 75/200 [5:23:23<8:57:15, 257.88s/it]"
     ]
    },
    {
     "name": "stdout",
     "output_type": "stream",
     "text": [
      "Epoch 75 / val/metric=0.5221\n",
      "Epoch 76 / trn/loss=0.7505\n",
      "Epoch 76 / train/metric=0.5258\n"
     ]
    },
    {
     "name": "stderr",
     "output_type": "stream",
     "text": [
      " 38%|███▊      | 76/200 [5:27:41<8:53:03, 257.93s/it]"
     ]
    },
    {
     "name": "stdout",
     "output_type": "stream",
     "text": [
      "Epoch 76 / val/metric=0.5281\n",
      "Epoch 77 / trn/loss=0.7503\n",
      "Epoch 77 / train/metric=0.5281\n"
     ]
    },
    {
     "name": "stderr",
     "output_type": "stream",
     "text": [
      " 38%|███▊      | 77/200 [5:32:00<8:49:02, 258.07s/it]"
     ]
    },
    {
     "name": "stdout",
     "output_type": "stream",
     "text": [
      "Epoch 77 / val/metric=0.5140\n",
      "Epoch 78 / trn/loss=0.7551\n",
      "Epoch 78 / train/metric=0.5324\n"
     ]
    },
    {
     "name": "stderr",
     "output_type": "stream",
     "text": [
      " 39%|███▉      | 78/200 [5:36:18<8:44:41, 258.04s/it]"
     ]
    },
    {
     "name": "stdout",
     "output_type": "stream",
     "text": [
      "Epoch 78 / val/metric=0.5100\n",
      "Epoch 79 / trn/loss=0.7467\n",
      "Epoch 79 / train/metric=0.5229\n",
      "Epoch 79 / val/metric=0.5041\n",
      "Best val_metric 0.504135394512725 at epoch 79!\n"
     ]
    },
    {
     "name": "stderr",
     "output_type": "stream",
     "text": [
      " 40%|███▉      | 79/200 [5:40:36<8:40:28, 258.09s/it]"
     ]
    },
    {
     "name": "stdout",
     "output_type": "stream",
     "text": [
      "Epoch 80 / trn/loss=0.7453\n",
      "Epoch 80 / train/metric=0.5224\n"
     ]
    },
    {
     "name": "stderr",
     "output_type": "stream",
     "text": [
      " 40%|████      | 80/200 [5:44:54<8:35:58, 257.98s/it]"
     ]
    },
    {
     "name": "stdout",
     "output_type": "stream",
     "text": [
      "Epoch 80 / val/metric=0.5597\n",
      "Epoch 81 / trn/loss=0.7491\n",
      "Epoch 81 / train/metric=0.5268\n"
     ]
    },
    {
     "name": "stderr",
     "output_type": "stream",
     "text": [
      " 40%|████      | 81/200 [5:49:12<8:31:34, 257.94s/it]"
     ]
    },
    {
     "name": "stdout",
     "output_type": "stream",
     "text": [
      "Epoch 81 / val/metric=0.5073\n",
      "Epoch 82 / trn/loss=0.7432\n",
      "Epoch 82 / train/metric=0.5217\n",
      "Epoch 82 / val/metric=0.4993\n",
      "Best val_metric 0.4992911459527776 at epoch 82!\n"
     ]
    },
    {
     "name": "stderr",
     "output_type": "stream",
     "text": [
      " 41%|████      | 82/200 [5:53:30<8:27:26, 258.03s/it]"
     ]
    },
    {
     "name": "stdout",
     "output_type": "stream",
     "text": [
      "Epoch 83 / trn/loss=0.7492\n",
      "Epoch 83 / train/metric=0.5260\n"
     ]
    },
    {
     "name": "stderr",
     "output_type": "stream",
     "text": [
      " 42%|████▏     | 83/200 [5:57:48<8:23:00, 257.95s/it]"
     ]
    },
    {
     "name": "stdout",
     "output_type": "stream",
     "text": [
      "Epoch 83 / val/metric=0.5001\n",
      "Epoch 84 / trn/loss=0.7477\n",
      "Epoch 84 / train/metric=0.5236\n"
     ]
    },
    {
     "name": "stderr",
     "output_type": "stream",
     "text": [
      " 42%|████▏     | 84/200 [6:02:05<8:18:35, 257.90s/it]"
     ]
    },
    {
     "name": "stdout",
     "output_type": "stream",
     "text": [
      "Epoch 84 / val/metric=0.5066\n",
      "Epoch 85 / trn/loss=0.7448\n",
      "Epoch 85 / train/metric=0.5218\n"
     ]
    },
    {
     "name": "stderr",
     "output_type": "stream",
     "text": [
      " 42%|████▎     | 85/200 [6:06:23<8:14:13, 257.86s/it]"
     ]
    },
    {
     "name": "stdout",
     "output_type": "stream",
     "text": [
      "Epoch 85 / val/metric=0.5116\n",
      "Epoch 86 / trn/loss=0.7447\n",
      "Epoch 86 / train/metric=0.5226\n"
     ]
    },
    {
     "name": "stderr",
     "output_type": "stream",
     "text": [
      " 43%|████▎     | 86/200 [6:10:41<8:09:59, 257.89s/it]"
     ]
    },
    {
     "name": "stdout",
     "output_type": "stream",
     "text": [
      "Epoch 86 / val/metric=0.5096\n",
      "Epoch 87 / trn/loss=0.7455\n",
      "Epoch 87 / train/metric=0.5238\n"
     ]
    },
    {
     "name": "stderr",
     "output_type": "stream",
     "text": [
      " 44%|████▎     | 87/200 [6:14:59<8:05:36, 257.85s/it]"
     ]
    },
    {
     "name": "stdout",
     "output_type": "stream",
     "text": [
      "Epoch 87 / val/metric=0.5139\n",
      "Epoch 88 / trn/loss=0.7433\n",
      "Epoch 88 / train/metric=0.5213\n"
     ]
    },
    {
     "name": "stderr",
     "output_type": "stream",
     "text": [
      " 44%|████▍     | 88/200 [6:19:17<8:01:20, 257.86s/it]"
     ]
    },
    {
     "name": "stdout",
     "output_type": "stream",
     "text": [
      "Epoch 88 / val/metric=0.5083\n",
      "Epoch 89 / trn/loss=0.7364\n",
      "Epoch 89 / train/metric=0.5179\n"
     ]
    },
    {
     "name": "stderr",
     "output_type": "stream",
     "text": [
      " 44%|████▍     | 89/200 [6:23:35<7:57:05, 257.89s/it]"
     ]
    },
    {
     "name": "stdout",
     "output_type": "stream",
     "text": [
      "Epoch 89 / val/metric=0.5206\n",
      "Epoch 90 / trn/loss=0.7424\n",
      "Epoch 90 / train/metric=0.5198\n"
     ]
    },
    {
     "name": "stderr",
     "output_type": "stream",
     "text": [
      " 45%|████▌     | 90/200 [6:27:53<7:52:55, 257.96s/it]"
     ]
    },
    {
     "name": "stdout",
     "output_type": "stream",
     "text": [
      "Epoch 90 / val/metric=0.5545\n",
      "Epoch 91 / trn/loss=0.7331\n",
      "Epoch 91 / train/metric=0.5155\n"
     ]
    },
    {
     "name": "stderr",
     "output_type": "stream",
     "text": [
      " 46%|████▌     | 91/200 [6:32:11<7:48:37, 257.96s/it]"
     ]
    },
    {
     "name": "stdout",
     "output_type": "stream",
     "text": [
      "Epoch 91 / val/metric=0.5322\n",
      "Epoch 92 / trn/loss=0.7426\n",
      "Epoch 92 / train/metric=0.5236\n"
     ]
    },
    {
     "name": "stderr",
     "output_type": "stream",
     "text": [
      " 46%|████▌     | 92/200 [6:36:29<7:44:17, 257.94s/it]"
     ]
    },
    {
     "name": "stdout",
     "output_type": "stream",
     "text": [
      "Epoch 92 / val/metric=0.5089\n",
      "Epoch 93 / trn/loss=0.7448\n",
      "Epoch 93 / train/metric=0.5217\n"
     ]
    },
    {
     "name": "stderr",
     "output_type": "stream",
     "text": [
      " 46%|████▋     | 93/200 [6:40:47<7:40:00, 257.95s/it]"
     ]
    },
    {
     "name": "stdout",
     "output_type": "stream",
     "text": [
      "Epoch 93 / val/metric=0.5275\n",
      "Epoch 94 / trn/loss=0.7437\n",
      "Epoch 94 / train/metric=0.5203\n"
     ]
    },
    {
     "name": "stderr",
     "output_type": "stream",
     "text": [
      " 47%|████▋     | 94/200 [6:45:04<7:35:33, 257.86s/it]"
     ]
    },
    {
     "name": "stdout",
     "output_type": "stream",
     "text": [
      "Epoch 94 / val/metric=0.5082\n",
      "Epoch 95 / trn/loss=0.7366\n",
      "Epoch 95 / train/metric=0.5157\n"
     ]
    },
    {
     "name": "stderr",
     "output_type": "stream",
     "text": [
      " 48%|████▊     | 95/200 [6:49:22<7:31:22, 257.93s/it]"
     ]
    },
    {
     "name": "stdout",
     "output_type": "stream",
     "text": [
      "Epoch 95 / val/metric=0.5105\n",
      "Epoch 96 / trn/loss=0.7377\n",
      "Epoch 96 / train/metric=0.5186\n"
     ]
    },
    {
     "name": "stderr",
     "output_type": "stream",
     "text": [
      " 48%|████▊     | 96/200 [6:53:40<7:27:04, 257.93s/it]"
     ]
    },
    {
     "name": "stdout",
     "output_type": "stream",
     "text": [
      "Epoch 96 / val/metric=0.5023\n",
      "Epoch 97 / trn/loss=0.7371\n",
      "Epoch 97 / train/metric=0.5179\n"
     ]
    },
    {
     "name": "stderr",
     "output_type": "stream",
     "text": [
      " 48%|████▊     | 97/200 [6:57:58<7:22:53, 258.00s/it]"
     ]
    },
    {
     "name": "stdout",
     "output_type": "stream",
     "text": [
      "Epoch 97 / val/metric=0.5081\n",
      "Epoch 98 / trn/loss=0.7340\n",
      "Epoch 98 / train/metric=0.5154\n",
      "Epoch 98 / val/metric=0.4985\n",
      "Best val_metric 0.49847422133937336 at epoch 98!\n"
     ]
    },
    {
     "name": "stderr",
     "output_type": "stream",
     "text": [
      " 49%|████▉     | 98/200 [7:02:17<7:18:49, 258.13s/it]"
     ]
    },
    {
     "name": "stdout",
     "output_type": "stream",
     "text": [
      "Epoch 99 / trn/loss=0.7285\n",
      "Epoch 99 / train/metric=0.5091\n"
     ]
    },
    {
     "name": "stderr",
     "output_type": "stream",
     "text": [
      " 50%|████▉     | 99/200 [7:06:34<7:14:10, 257.93s/it]"
     ]
    },
    {
     "name": "stdout",
     "output_type": "stream",
     "text": [
      "Epoch 99 / val/metric=0.5036\n",
      "Epoch 100 / trn/loss=0.7364\n",
      "Epoch 100 / train/metric=0.5168\n"
     ]
    },
    {
     "name": "stderr",
     "output_type": "stream",
     "text": [
      " 50%|█████     | 100/200 [7:10:53<7:10:04, 258.04s/it]"
     ]
    },
    {
     "name": "stdout",
     "output_type": "stream",
     "text": [
      "Epoch 100 / val/metric=0.5145\n",
      "Epoch 101 / trn/loss=0.7356\n",
      "Epoch 101 / train/metric=0.5153\n"
     ]
    },
    {
     "name": "stderr",
     "output_type": "stream",
     "text": [
      " 50%|█████     | 101/200 [7:15:11<7:05:43, 258.01s/it]"
     ]
    },
    {
     "name": "stdout",
     "output_type": "stream",
     "text": [
      "Epoch 101 / val/metric=0.5075\n",
      "Epoch 102 / trn/loss=0.7328\n",
      "Epoch 102 / train/metric=0.5140\n"
     ]
    },
    {
     "name": "stderr",
     "output_type": "stream",
     "text": [
      " 51%|█████     | 102/200 [7:19:28<7:01:07, 257.83s/it]"
     ]
    },
    {
     "name": "stdout",
     "output_type": "stream",
     "text": [
      "Epoch 102 / val/metric=0.4988\n",
      "Epoch 103 / trn/loss=0.7404\n",
      "Epoch 103 / train/metric=0.5198\n"
     ]
    },
    {
     "name": "stderr",
     "output_type": "stream",
     "text": [
      " 52%|█████▏    | 103/200 [7:23:46<6:56:40, 257.74s/it]"
     ]
    },
    {
     "name": "stdout",
     "output_type": "stream",
     "text": [
      "Epoch 103 / val/metric=0.5144\n",
      "Epoch 104 / trn/loss=0.7302\n",
      "Epoch 104 / train/metric=0.5109\n"
     ]
    },
    {
     "name": "stderr",
     "output_type": "stream",
     "text": [
      " 52%|█████▏    | 104/200 [7:28:04<6:52:42, 257.94s/it]"
     ]
    },
    {
     "name": "stdout",
     "output_type": "stream",
     "text": [
      "Epoch 104 / val/metric=0.5045\n",
      "Epoch 105 / trn/loss=0.7334\n",
      "Epoch 105 / train/metric=0.5132\n"
     ]
    },
    {
     "name": "stderr",
     "output_type": "stream",
     "text": [
      " 52%|█████▎    | 105/200 [7:32:22<6:48:21, 257.92s/it]"
     ]
    },
    {
     "name": "stdout",
     "output_type": "stream",
     "text": [
      "Epoch 105 / val/metric=0.5348\n",
      "Epoch 106 / trn/loss=0.7367\n",
      "Epoch 106 / train/metric=0.5156\n"
     ]
    },
    {
     "name": "stderr",
     "output_type": "stream",
     "text": [
      " 53%|█████▎    | 106/200 [7:36:40<6:44:03, 257.91s/it]"
     ]
    },
    {
     "name": "stdout",
     "output_type": "stream",
     "text": [
      "Epoch 106 / val/metric=0.5288\n",
      "Epoch 107 / trn/loss=0.7298\n",
      "Epoch 107 / train/metric=0.5092\n",
      "Epoch 107 / val/metric=0.4854\n",
      "Best val_metric 0.4854485944553019 at epoch 107!\n"
     ]
    },
    {
     "name": "stderr",
     "output_type": "stream",
     "text": [
      " 54%|█████▎    | 107/200 [7:40:58<6:40:06, 258.13s/it]"
     ]
    },
    {
     "name": "stdout",
     "output_type": "stream",
     "text": [
      "Epoch 108 / trn/loss=0.7248\n",
      "Epoch 108 / train/metric=0.5082\n"
     ]
    },
    {
     "name": "stderr",
     "output_type": "stream",
     "text": [
      " 54%|█████▍    | 108/200 [7:45:16<6:35:32, 257.96s/it]"
     ]
    },
    {
     "name": "stdout",
     "output_type": "stream",
     "text": [
      "Epoch 108 / val/metric=0.5146\n",
      "Epoch 109 / trn/loss=0.7274\n",
      "Epoch 109 / train/metric=0.5105\n"
     ]
    },
    {
     "name": "stderr",
     "output_type": "stream",
     "text": [
      " 55%|█████▍    | 109/200 [7:49:34<6:31:16, 257.98s/it]"
     ]
    },
    {
     "name": "stdout",
     "output_type": "stream",
     "text": [
      "Epoch 109 / val/metric=0.4966\n",
      "Epoch 110 / trn/loss=0.7246\n",
      "Epoch 110 / train/metric=0.5066\n"
     ]
    },
    {
     "name": "stderr",
     "output_type": "stream",
     "text": [
      " 55%|█████▌    | 110/200 [7:53:51<6:26:41, 257.79s/it]"
     ]
    },
    {
     "name": "stdout",
     "output_type": "stream",
     "text": [
      "Epoch 110 / val/metric=0.5210\n",
      "Epoch 111 / trn/loss=0.7236\n",
      "Epoch 111 / train/metric=0.5066\n"
     ]
    },
    {
     "name": "stderr",
     "output_type": "stream",
     "text": [
      " 56%|█████▌    | 111/200 [7:58:09<6:22:29, 257.85s/it]"
     ]
    },
    {
     "name": "stdout",
     "output_type": "stream",
     "text": [
      "Epoch 111 / val/metric=0.5032\n",
      "Epoch 112 / trn/loss=0.7221\n",
      "Epoch 112 / train/metric=0.5042\n"
     ]
    },
    {
     "name": "stderr",
     "output_type": "stream",
     "text": [
      " 56%|█████▌    | 112/200 [8:02:27<6:18:07, 257.82s/it]"
     ]
    },
    {
     "name": "stdout",
     "output_type": "stream",
     "text": [
      "Epoch 112 / val/metric=0.4986\n",
      "Epoch 113 / trn/loss=0.7262\n",
      "Epoch 113 / train/metric=0.5076\n"
     ]
    },
    {
     "name": "stderr",
     "output_type": "stream",
     "text": [
      " 56%|█████▋    | 113/200 [8:06:45<6:14:01, 257.95s/it]"
     ]
    },
    {
     "name": "stdout",
     "output_type": "stream",
     "text": [
      "Epoch 113 / val/metric=0.4915\n",
      "Epoch 114 / trn/loss=0.7230\n",
      "Epoch 114 / train/metric=0.5061\n"
     ]
    },
    {
     "name": "stderr",
     "output_type": "stream",
     "text": [
      " 57%|█████▋    | 114/200 [8:11:03<6:09:44, 257.95s/it]"
     ]
    },
    {
     "name": "stdout",
     "output_type": "stream",
     "text": [
      "Epoch 114 / val/metric=0.5000\n",
      "Epoch 115 / trn/loss=0.7192\n",
      "Epoch 115 / train/metric=0.5029\n"
     ]
    },
    {
     "name": "stderr",
     "output_type": "stream",
     "text": [
      " 57%|█████▊    | 115/200 [8:15:21<6:05:22, 257.92s/it]"
     ]
    },
    {
     "name": "stdout",
     "output_type": "stream",
     "text": [
      "Epoch 115 / val/metric=0.5002\n",
      "Epoch 116 / trn/loss=0.7198\n",
      "Epoch 116 / train/metric=0.5047\n"
     ]
    },
    {
     "name": "stderr",
     "output_type": "stream",
     "text": [
      " 58%|█████▊    | 116/200 [8:19:39<6:01:01, 257.88s/it]"
     ]
    },
    {
     "name": "stdout",
     "output_type": "stream",
     "text": [
      "Epoch 116 / val/metric=0.4921\n",
      "Epoch 117 / trn/loss=0.7246\n",
      "Epoch 117 / train/metric=0.5065\n"
     ]
    },
    {
     "name": "stderr",
     "output_type": "stream",
     "text": [
      " 58%|█████▊    | 117/200 [8:23:57<5:56:46, 257.91s/it]"
     ]
    },
    {
     "name": "stdout",
     "output_type": "stream",
     "text": [
      "Epoch 117 / val/metric=0.5014\n",
      "Epoch 118 / trn/loss=0.7126\n",
      "Epoch 118 / train/metric=0.4981\n"
     ]
    },
    {
     "name": "stderr",
     "output_type": "stream",
     "text": [
      " 59%|█████▉    | 118/200 [8:28:14<5:52:23, 257.84s/it]"
     ]
    },
    {
     "name": "stdout",
     "output_type": "stream",
     "text": [
      "Epoch 118 / val/metric=0.4857\n",
      "Epoch 119 / trn/loss=0.7091\n",
      "Epoch 119 / train/metric=0.4963\n"
     ]
    },
    {
     "name": "stderr",
     "output_type": "stream",
     "text": [
      " 60%|█████▉    | 119/200 [8:32:32<5:48:06, 257.86s/it]"
     ]
    },
    {
     "name": "stdout",
     "output_type": "stream",
     "text": [
      "Epoch 119 / val/metric=0.4917\n",
      "Epoch 120 / trn/loss=0.7157\n",
      "Epoch 120 / train/metric=0.4996\n"
     ]
    },
    {
     "name": "stderr",
     "output_type": "stream",
     "text": [
      " 60%|██████    | 120/200 [8:36:50<5:43:50, 257.88s/it]"
     ]
    },
    {
     "name": "stdout",
     "output_type": "stream",
     "text": [
      "Epoch 120 / val/metric=0.4989\n",
      "Epoch 121 / trn/loss=0.7179\n",
      "Epoch 121 / train/metric=0.5038\n"
     ]
    },
    {
     "name": "stderr",
     "output_type": "stream",
     "text": [
      " 60%|██████    | 121/200 [8:41:08<5:39:23, 257.77s/it]"
     ]
    },
    {
     "name": "stdout",
     "output_type": "stream",
     "text": [
      "Epoch 121 / val/metric=0.5201\n",
      "Epoch 122 / trn/loss=0.7114\n",
      "Epoch 122 / train/metric=0.4974\n"
     ]
    },
    {
     "name": "stderr",
     "output_type": "stream",
     "text": [
      " 61%|██████    | 122/200 [8:45:25<5:34:59, 257.69s/it]"
     ]
    },
    {
     "name": "stdout",
     "output_type": "stream",
     "text": [
      "Epoch 122 / val/metric=0.4923\n",
      "Epoch 123 / trn/loss=0.7106\n",
      "Epoch 123 / train/metric=0.4957\n"
     ]
    },
    {
     "name": "stderr",
     "output_type": "stream",
     "text": [
      " 62%|██████▏   | 123/200 [8:49:43<5:30:43, 257.70s/it]"
     ]
    },
    {
     "name": "stdout",
     "output_type": "stream",
     "text": [
      "Epoch 123 / val/metric=0.5101\n",
      "Epoch 124 / trn/loss=0.7121\n",
      "Epoch 124 / train/metric=0.4975\n"
     ]
    },
    {
     "name": "stderr",
     "output_type": "stream",
     "text": [
      " 62%|██████▏   | 124/200 [8:54:01<5:26:25, 257.70s/it]"
     ]
    },
    {
     "name": "stdout",
     "output_type": "stream",
     "text": [
      "Epoch 124 / val/metric=0.5222\n",
      "Epoch 125 / trn/loss=0.7083\n",
      "Epoch 125 / train/metric=0.4957\n"
     ]
    },
    {
     "name": "stderr",
     "output_type": "stream",
     "text": [
      " 62%|██████▎   | 125/200 [8:58:19<5:22:14, 257.79s/it]"
     ]
    },
    {
     "name": "stdout",
     "output_type": "stream",
     "text": [
      "Epoch 125 / val/metric=0.5093\n",
      "Epoch 126 / trn/loss=0.7088\n",
      "Epoch 126 / train/metric=0.4969\n"
     ]
    },
    {
     "name": "stderr",
     "output_type": "stream",
     "text": [
      " 63%|██████▎   | 126/200 [9:02:37<5:17:57, 257.80s/it]"
     ]
    },
    {
     "name": "stdout",
     "output_type": "stream",
     "text": [
      "Epoch 126 / val/metric=0.4951\n",
      "Epoch 127 / trn/loss=0.7085\n",
      "Epoch 127 / train/metric=0.4955\n"
     ]
    },
    {
     "name": "stderr",
     "output_type": "stream",
     "text": [
      " 64%|██████▎   | 127/200 [9:06:54<5:13:37, 257.77s/it]"
     ]
    },
    {
     "name": "stdout",
     "output_type": "stream",
     "text": [
      "Epoch 127 / val/metric=0.5108\n",
      "Epoch 128 / trn/loss=0.7068\n",
      "Epoch 128 / train/metric=0.4943\n"
     ]
    },
    {
     "name": "stderr",
     "output_type": "stream",
     "text": [
      " 64%|██████▍   | 128/200 [9:11:12<5:09:26, 257.87s/it]"
     ]
    },
    {
     "name": "stdout",
     "output_type": "stream",
     "text": [
      "Epoch 128 / val/metric=0.4908\n",
      "Epoch 129 / trn/loss=0.7027\n",
      "Epoch 129 / train/metric=0.4923\n"
     ]
    },
    {
     "name": "stderr",
     "output_type": "stream",
     "text": [
      " 64%|██████▍   | 129/200 [9:15:31<5:05:16, 257.98s/it]"
     ]
    },
    {
     "name": "stdout",
     "output_type": "stream",
     "text": [
      "Epoch 129 / val/metric=0.4987\n",
      "Epoch 130 / trn/loss=0.7041\n",
      "Epoch 130 / train/metric=0.4930\n"
     ]
    },
    {
     "name": "stderr",
     "output_type": "stream",
     "text": [
      " 65%|██████▌   | 130/200 [9:19:48<5:00:55, 257.93s/it]"
     ]
    },
    {
     "name": "stdout",
     "output_type": "stream",
     "text": [
      "Epoch 130 / val/metric=0.5065\n",
      "Epoch 131 / trn/loss=0.7068\n",
      "Epoch 131 / train/metric=0.4956\n"
     ]
    },
    {
     "name": "stderr",
     "output_type": "stream",
     "text": [
      " 66%|██████▌   | 131/200 [9:24:06<4:56:37, 257.93s/it]"
     ]
    },
    {
     "name": "stdout",
     "output_type": "stream",
     "text": [
      "Epoch 131 / val/metric=0.5047\n",
      "Epoch 132 / trn/loss=0.7018\n",
      "Epoch 132 / train/metric=0.4913\n"
     ]
    },
    {
     "name": "stderr",
     "output_type": "stream",
     "text": [
      " 66%|██████▌   | 132/200 [9:28:24<4:52:19, 257.93s/it]"
     ]
    },
    {
     "name": "stdout",
     "output_type": "stream",
     "text": [
      "Epoch 132 / val/metric=0.5012\n",
      "Epoch 133 / trn/loss=0.7010\n",
      "Epoch 133 / train/metric=0.4889\n"
     ]
    },
    {
     "name": "stderr",
     "output_type": "stream",
     "text": [
      " 66%|██████▋   | 133/200 [9:32:42<4:47:58, 257.88s/it]"
     ]
    },
    {
     "name": "stdout",
     "output_type": "stream",
     "text": [
      "Epoch 133 / val/metric=0.5000\n",
      "Epoch 134 / trn/loss=0.7044\n",
      "Epoch 134 / train/metric=0.4933\n"
     ]
    },
    {
     "name": "stderr",
     "output_type": "stream",
     "text": [
      " 67%|██████▋   | 134/200 [9:37:00<4:43:42, 257.91s/it]"
     ]
    },
    {
     "name": "stdout",
     "output_type": "stream",
     "text": [
      "Epoch 134 / val/metric=0.4956\n",
      "Epoch 135 / trn/loss=0.7040\n",
      "Epoch 135 / train/metric=0.4942\n"
     ]
    },
    {
     "name": "stderr",
     "output_type": "stream",
     "text": [
      " 68%|██████▊   | 135/200 [9:41:18<4:39:20, 257.85s/it]"
     ]
    },
    {
     "name": "stdout",
     "output_type": "stream",
     "text": [
      "Epoch 135 / val/metric=0.4922\n",
      "Epoch 136 / trn/loss=0.7070\n",
      "Epoch 136 / train/metric=0.4955\n"
     ]
    },
    {
     "name": "stderr",
     "output_type": "stream",
     "text": [
      " 68%|██████▊   | 136/200 [9:45:35<4:34:52, 257.70s/it]"
     ]
    },
    {
     "name": "stdout",
     "output_type": "stream",
     "text": [
      "Epoch 136 / val/metric=0.4926\n",
      "Epoch 137 / trn/loss=0.7016\n",
      "Epoch 137 / train/metric=0.4904\n"
     ]
    },
    {
     "name": "stderr",
     "output_type": "stream",
     "text": [
      "                                                      "
     ]
    },
    {
     "name": "stdout",
     "output_type": "stream",
     "text": [
      "Epoch 137 / val/metric=0.5213\n",
      "Not improved for 30 epochs, terminate the train\n"
     ]
    },
    {
     "name": "stderr",
     "output_type": "stream",
     "text": [
      "\r"
     ]
    },
    {
     "data": {
      "text/html": [
       "Waiting for W&B process to finish... <strong style=\"color:green\">(success).</strong>"
      ],
      "text/plain": [
       "<IPython.core.display.HTML object>"
      ]
     },
     "metadata": {},
     "output_type": "display_data"
    },
    {
     "name": "stderr",
     "output_type": "stream",
     "text": [
      "wandb: WARNING Source type is set to 'repo' but some required information is missing from the environment. A job will not be created from this run. See https://docs.wandb.ai/guides/launch/create-job\n"
     ]
    },
    {
     "data": {
      "text/html": [
       "<style>\n",
       "    table.wandb td:nth-child(1) { padding: 0 10px; text-align: left ; width: auto;} td:nth-child(2) {text-align: left ; width: 100%}\n",
       "    .wandb-row { display: flex; flex-direction: row; flex-wrap: wrap; justify-content: flex-start; width: 100% }\n",
       "    .wandb-col { display: flex; flex-direction: column; flex-basis: 100%; flex: 1; padding: 10px; }\n",
       "    </style>\n",
       "<div class=\"wandb-row\"><div class=\"wandb-col\"><h3>Run history:</h3><br/><table class=\"wandb\"><tr><td>best_total_log_loss</td><td>▁</td></tr><tr><td>lr</td><td>▁▁▁▂▂▂▃▄▄▅▆▆▇▇▇██████████▇▇▇▇▇▆▆▆▆▅▅▅▄▄▄</td></tr><tr><td>train_any_in_metric</td><td>▄▅▅▇▆▇█▆▅▆▆▅▆▅▅▄▄▄▃▄▄▅▄▄▄▄▄▄▃▃▃▃▃▃▂▂▂▂▁▁</td></tr><tr><td>train_any_loss</td><td>▆▂▃▃▆▆▂▄▄▇▇▅▄▂▃▅▃▄█▁▁▆▃▄▃▆▁▅▅█▂▆▂▃▃▆▅▃▇▄</td></tr><tr><td>train_avg_loss</td><td>▅▄▄▂▆▅▂▄▃▇▅█▃▂▃▄▄▃▆▂▁▄▄▃▅▃▂▅▅█▃▅▂▂▃▅▄▂▅▄</td></tr><tr><td>train_avg_metric</td><td>█▇▇▇▇▇▇▇▇▆▆▆▅▅▅▅▅▅▄▅▄▃▄▄▄▄▃▄▃▃▃▂▂▂▂▂▂▁▁▁</td></tr><tr><td>train_bowel_loss</td><td>▁▁▅▁▅▁▁▁▁▁▁▁▁▁▁▁▁▁▅▁▁▁▁▁▁▁▁▁▅█▁▁▁▁▇▁▄▁▁▁</td></tr><tr><td>train_bowel_metric</td><td>▇▆▅▆▆▆▆▆▆█▇▆▆▇▇▇▇▇▆▆▆▆▅▅▆▅▅▄▄▄▄▄▂▃▂▂▃▂▁▂</td></tr><tr><td>train_extrav_loss</td><td>▅█▃▁▂▅▃▅▃▇▂▃▃▃▃▃▂▅▅▃▂▂▅▃▃▂▂▂▂▅▂▂▅▅▂▂▂▃▄▅</td></tr><tr><td>train_extrav_metric</td><td>▁▁▂▂▄▃▂██▄▅▄▄▅▅▆▅▆▅▅▃▄▅▄▄▄▃▅▄▃▄▃▂▃▃▂▃▃▃▃</td></tr><tr><td>train_kidney_loss</td><td>▄▁▁▂▁▁▁▂▁▆▃▁▃▁▁▁▇▁▁▄▁▃▁▂█▁▂▂▄▅▄▁▁▁▂▄▁▃▄▁</td></tr><tr><td>train_kidney_metric</td><td>█▆▆▇▇▆▇██▇▆▇▅▆▅▅▆▄▅▇▅▄▅▄▃▃▄▄▂▃▃▃▂▂▂▂▁▁▂▂</td></tr><tr><td>train_liver_loss</td><td>▁▁▂▁▄▃▁▂▂▁▂█▁▁▃▂▁▁▃▁▁▁▂▂▂▂▁▂▁▂▁▂▁▁▁▂▂▁▁▃</td></tr><tr><td>train_liver_metric</td><td>▆▆▆▆▇██▇▆▆▅▅▆▅▅▅▄▅▃▄▅▂▃▄▃▄▂▃▄▃▃▃▃▃▁▂▂▁▂▁</td></tr><tr><td>train_spleen_loss</td><td>▄▃▃▃▃▃▂▃▁▃▄▄▂▂▂▆▁▂▂▂▁▄▄▂▂▁▃▅▃▃▂█▁▂▁▄▁▂▂▁</td></tr><tr><td>train_spleen_metric</td><td>█▇▇▅▅▅▄▃▃▄▄▄▄▃▃▃▄▃▃▃▃▂▃▂▃▂▃▂▂▃▂▂▂▂▂▂▁▂▁▂</td></tr><tr><td>valid_any_in_metric</td><td>▃▃▄▆▄▄▄█▃▆▆▃▂▃▃▄▃▂▅▂▂▂▃▁▄▂▂▄▄▄▂▁▄▃▁▃▁▁▂▃</td></tr><tr><td>valid_avg_metric</td><td>▇▆▇▅▆█▆▃▃▅▆▆▇▃▆▃▄▄▄▄▄▇▅▇▃▃▇▃▂▃▃▃▄▂▁▂▄▁▂▂</td></tr><tr><td>valid_bowel_metric</td><td>▄▄▄▄▅▃▄▃▆▄▃▄▃▂▆▃▄▅▄█▆▄▇▅▄▅▄▆▃▃▄▆▃▄▁▂▃▅▄▆</td></tr><tr><td>valid_extrav_metric</td><td>▂▁▁▃▄▇▅▂▄▃▄▆█▃▃▅▄▄▃▄▄▃▄▅▃▄▃▃▃▃▃▃▃▂▃▂▇▃▄▂</td></tr><tr><td>valid_kidney_metric</td><td>▂▂▂▁▁▇▂▁▁█▇▅█▂█▁▅▃▅▂▃▅▆▃▆▂▂▄▂▅▅▄▃▂▃▅▃▂▄▄</td></tr><tr><td>valid_liver_metric</td><td>▃▃▃▂▃▃▃▂▂▂▃▄▂▂▅▂▂▂▂▂▂▄▁█▁▃▄▁▁▂▂▂▂▁▁▁▂▁▂▁</td></tr><tr><td>valid_spleen_metric</td><td>█▇█▄▅▄▃▂▂▃▂▂▃▃▁▂▂▃▃▃▃▆▃▂▁▁▇▁▂▂▂▃▄▂▁▁▂▁▁▁</td></tr></table><br/></div><div class=\"wandb-col\"><h3>Run summary:</h3><br/><table class=\"wandb\"><tr><td>best_total_log_loss</td><td>0.48545</td></tr><tr><td>lr</td><td>0.00211</td></tr><tr><td>train_any_in_metric</td><td>0.59096</td></tr><tr><td>train_any_loss</td><td>2.1881</td></tr><tr><td>train_avg_loss</td><td>0.81173</td></tr><tr><td>train_avg_metric</td><td>0.49035</td></tr><tr><td>train_bowel_loss</td><td>0.02251</td></tr><tr><td>train_bowel_metric</td><td>0.14529</td></tr><tr><td>train_extrav_loss</td><td>0.54561</td></tr><tr><td>train_extrav_metric</td><td>0.61512</td></tr><tr><td>train_kidney_loss</td><td>1.08977</td></tr><tr><td>train_kidney_metric</td><td>0.45195</td></tr><tr><td>train_liver_loss</td><td>0.66857</td></tr><tr><td>train_liver_metric</td><td>0.53536</td></tr><tr><td>train_spleen_loss</td><td>0.35582</td></tr><tr><td>train_spleen_metric</td><td>0.60344</td></tr><tr><td>valid_any_in_metric</td><td>0.57266</td></tr><tr><td>valid_avg_metric</td><td>0.52131</td></tr><tr><td>valid_bowel_metric</td><td>0.20676</td></tr><tr><td>valid_extrav_metric</td><td>0.62978</td></tr><tr><td>valid_kidney_metric</td><td>0.43536</td></tr><tr><td>valid_liver_metric</td><td>0.57334</td></tr><tr><td>valid_spleen_metric</td><td>0.70995</td></tr></table><br/></div></div>"
      ],
      "text/plain": [
       "<IPython.core.display.HTML object>"
      ]
     },
     "metadata": {},
     "output_type": "display_data"
    },
    {
     "data": {
      "text/html": [
       " View run <strong style=\"color:#cdcd00\">timm/resnet10t.c3_in1k_2nd_std_opt-seg0.938</strong> at: <a href='https://wandb.ai/junseonglee/RSNA_ABTD/runs/fr086z2f' target=\"_blank\">https://wandb.ai/junseonglee/RSNA_ABTD/runs/fr086z2f</a><br/>Synced 6 W&B file(s), 0 media file(s), 0 artifact file(s) and 0 other file(s)"
      ],
      "text/plain": [
       "<IPython.core.display.HTML object>"
      ]
     },
     "metadata": {},
     "output_type": "display_data"
    },
    {
     "data": {
      "text/html": [
       "Find logs at: <code>/home/junseonglee/Desktop/01_codes/inputs/rsna-2023-abdominal-trauma-detection/wandb/run-20231003_012612-fr086z2f/logs</code>"
      ],
      "text/plain": [
       "<IPython.core.display.HTML object>"
      ]
     },
     "metadata": {},
     "output_type": "display_data"
    }
   ],
   "source": [
    "model = AbdominalClassifier()\n",
    "model.to(DEVICE)\n",
    "\n",
    "wandb.init(\n",
    "    config = wandb_config,\n",
    "    project= PROJECT_NAME,\n",
    "    group  = GROUP_NAME,\n",
    "    name   = RUN_NAME,\n",
    "    dir    = BASE_PATH)\n",
    "\n",
    "backbone = backbone.replace('/', '_')\n",
    "\n",
    "if __name__ == '__main__':\n",
    "    train_dataset = AbdominalCTDataset(train_meta_df[train_meta_df['fold']!=0], is_train = True, transform_set  = transforms_train, \n",
    "                                        remain_transforms_set = remain_transforms_train)\n",
    "    valid_dataset = AbdominalCTDataset(train_meta_df[train_meta_df['fold']==0], is_train = False, transform_set = None,\n",
    "                                        remain_transforms_set = None)\n",
    "    \n",
    "    train_loader = DataLoader(dataset = train_dataset, shuffle = True, batch_size = BATCH_SIZE, pin_memory = False, \n",
    "                            num_workers = N_WORKERS, drop_last = False)\n",
    "\n",
    "    valid_loader = DataLoader(dataset = valid_dataset, shuffle = False, batch_size = BATCH_SIZE, pin_memory = False, \n",
    "                            num_workers = N_WORKERS, drop_last = False)     \n",
    "    \n",
    "    ttl_iters = N_EPOCHS * len(train_loader)\n",
    "    \n",
    "    #gradient accumulation for stability of the training\n",
    "    accum_len = int(np.ceil(len(train_loader)/ACCUM_STEPS)+0.001)\n",
    "    accum_points = np.zeros(accum_len, int)\n",
    "    accum_scale  = np.zeros(accum_len, int)\n",
    "    \n",
    "    prev_step = -1\n",
    "    for i in range(0, accum_len):\n",
    "        accum_points[i] = min(prev_step+ACCUM_STEPS, len(train_loader)-1)\n",
    "        accum_scale[i]  = accum_points[i] - prev_step\n",
    "        prev_step = accum_points[i]\n",
    "\n",
    "    #Scheduler & optimizer\n",
    "    optimizer = torch.optim.AdamW(model.parameters(), lr = LR)\n",
    "    n_batch_iters = int(np.ceil(len(train_loader)/ACCUM_STEPS)+0.001)\n",
    "    #scheduler = CosineAnnealingLR(optimizer, T_max=ttl_iters, eta_min=1e-6)\n",
    "    scheduler = torch.optim.lr_scheduler.OneCycleLR(optimizer, max_lr=LR, pct_start= PCT_START,\n",
    "                                                    steps_per_epoch= n_batch_iters, epochs = N_EPOCHS)\n",
    "\n",
    "    scaler = torch.cuda.amp.GradScaler(enabled=True)\n",
    "    val_metrics = np.ones(N_EPOCHS)*100\n",
    "\n",
    "    gc.collect()\n",
    "\n",
    "    for epoch in tqdm(range(0, N_EPOCHS), leave = False):     \n",
    "\n",
    "        scheduler, scaler, optimizer = train_func(model, train_loader, scaler, scheduler, optimizer, epoch, accum_points, accum_scale)\n",
    "        metric                       = valid_func(model, valid_loader, epoch)\n",
    "        \n",
    "        #Save the best model    \n",
    "        if(metric < np.min(val_metrics)):\n",
    "            try:\n",
    "                os.makedirs(f'{BASE_PATH}/weights')\n",
    "            except:\n",
    "                a = 1\n",
    "            best_metric = metric\n",
    "            print(f'Best val_metric {best_metric} at epoch {epoch+1}!')\n",
    "            torch.save(model.state_dict(), f'{BASE_PATH}/weights/{backbone}_lr{LR}_epochs_{N_EPOCHS}_resol{UP_RESOL}_batch{BATCH_SIZE*ACCUM_STEPS}.pt')    \n",
    "            not_improve_counter=0\n",
    "            val_metrics[epoch] = metric\n",
    "            continue                    \n",
    "        val_metrics[epoch] = metric                        \n",
    "        \n",
    "        #Early stopping\n",
    "        not_improve_counter+=1\n",
    "        if(not_improve_counter == EARLY_STOP_COUNT):\n",
    "            print(f'Not improved for {not_improve_counter} epochs, terminate the train')\n",
    "            break\n",
    "wandb.log({'best_total_log_loss': best_metric})\n",
    "wandb.finish()"
   ]
  },
  {
   "cell_type": "code",
   "execution_count": 16,
   "metadata": {},
   "outputs": [
    {
     "name": "stdout",
     "output_type": "stream",
     "text": [
      "Wandb is already finished!\n"
     ]
    }
   ],
   "source": [
    "#Execute this cell to fininsh the wandb run when you stopped training.\n",
    "import wandb\n",
    "try: \n",
    "    wandb.log({'best_total_log_loss': best_metric})\n",
    "    wandb.finish()\n",
    "    \n",
    "except:\n",
    "    print('Wandb is already finished!')"
   ]
  },
  {
   "cell_type": "code",
   "execution_count": 17,
   "metadata": {},
   "outputs": [
    {
     "data": {
      "text/html": [
       "<div>\n",
       "<style scoped>\n",
       "    .dataframe tbody tr th:only-of-type {\n",
       "        vertical-align: middle;\n",
       "    }\n",
       "\n",
       "    .dataframe tbody tr th {\n",
       "        vertical-align: top;\n",
       "    }\n",
       "\n",
       "    .dataframe thead th {\n",
       "        text-align: right;\n",
       "    }\n",
       "</style>\n",
       "<table border=\"1\" class=\"dataframe\">\n",
       "  <thead>\n",
       "    <tr style=\"text-align: right;\">\n",
       "      <th></th>\n",
       "      <th>patient_id</th>\n",
       "      <th>series</th>\n",
       "      <th>bowel_healthy</th>\n",
       "      <th>bowel_injury</th>\n",
       "      <th>extravasation_healthy</th>\n",
       "      <th>extravasation_injury</th>\n",
       "      <th>kidney_healthy</th>\n",
       "      <th>kidney_low</th>\n",
       "      <th>kidney_high</th>\n",
       "      <th>liver_healthy</th>\n",
       "      <th>liver_low</th>\n",
       "      <th>liver_high</th>\n",
       "      <th>spleen_healthy</th>\n",
       "      <th>spleen_low</th>\n",
       "      <th>spleen_high</th>\n",
       "      <th>any_injury</th>\n",
       "      <th>fold</th>\n",
       "      <th>path</th>\n",
       "      <th>mask_path</th>\n",
       "      <th>cropped_path</th>\n",
       "    </tr>\n",
       "  </thead>\n",
       "  <tbody>\n",
       "    <tr>\n",
       "      <th>3540</th>\n",
       "      <td>23561</td>\n",
       "      <td>19317</td>\n",
       "      <td>1</td>\n",
       "      <td>0</td>\n",
       "      <td>1</td>\n",
       "      <td>0</td>\n",
       "      <td>1</td>\n",
       "      <td>0</td>\n",
       "      <td>0</td>\n",
       "      <td>1</td>\n",
       "      <td>0</td>\n",
       "      <td>0</td>\n",
       "      <td>1</td>\n",
       "      <td>0</td>\n",
       "      <td>0</td>\n",
       "      <td>0</td>\n",
       "      <td>4</td>\n",
       "      <td>/home/junseonglee/Desktop/01_codes/inputs/rsna...</td>\n",
       "      <td>/home/junseonglee/Desktop/01_codes/inputs/rsna...</td>\n",
       "      <td>/home/junseonglee/Desktop/01_codes/inputs/rsna...</td>\n",
       "    </tr>\n",
       "  </tbody>\n",
       "</table>\n",
       "</div>"
      ],
      "text/plain": [
       "      patient_id  series  bowel_healthy  bowel_injury  extravasation_healthy  \\\n",
       "3540       23561   19317              1             0                      1   \n",
       "\n",
       "      extravasation_injury  kidney_healthy  kidney_low  kidney_high  \\\n",
       "3540                     0               1           0            0   \n",
       "\n",
       "      liver_healthy  liver_low  liver_high  spleen_healthy  spleen_low  \\\n",
       "3540              1          0           0               1           0   \n",
       "\n",
       "      spleen_high  any_injury  fold  \\\n",
       "3540            0           0     4   \n",
       "\n",
       "                                                   path  \\\n",
       "3540  /home/junseonglee/Desktop/01_codes/inputs/rsna...   \n",
       "\n",
       "                                              mask_path  \\\n",
       "3540  /home/junseonglee/Desktop/01_codes/inputs/rsna...   \n",
       "\n",
       "                                           cropped_path  \n",
       "3540  /home/junseonglee/Desktop/01_codes/inputs/rsna...  "
      ]
     },
     "execution_count": 17,
     "metadata": {},
     "output_type": "execute_result"
    }
   ],
   "source": [
    "ind = 23561\n",
    "train_meta_df[train_meta_df['patient_id']==ind]"
   ]
  },
  {
   "cell_type": "code",
   "execution_count": 24,
   "metadata": {},
   "outputs": [
    {
     "name": "stderr",
     "output_type": "stream",
     "text": [
      "100%|██████████| 1/1 [00:00<00:00, 50.20it/s]\n"
     ]
    }
   ],
   "source": [
    "valid_dataset = AbdominalCTDataset(train_meta_df[train_meta_df['patient_id']==ind], is_train = False, transform_set = None,\n",
    "                                    remain_transforms_set = None)\n",
    "\n",
    "valid_loader = DataLoader(dataset = valid_dataset, shuffle = False, batch_size = BATCH_SIZE, pin_memory = False, \n",
    "                        num_workers = N_WORKERS, drop_last = False)     "
   ]
  },
  {
   "cell_type": "code",
   "execution_count": 25,
   "metadata": {},
   "outputs": [],
   "source": [
    "X_outs=[]\n",
    "ys=[]\n",
    "model.eval()\n",
    "model.load_state_dict(torch.load(f'{BASE_PATH}/weights/231003_resnet10t_dicomO_std_CV0.485.pt'))\n",
    "for X_bowel, X_lkid, X_rkid, X_liv, X_spl, X_tot, y in valid_loader:\n",
    "    batch_size = y.shape[0]\n",
    "    X_bowel, X_lkid, X_rkid = X_bowel.to(DEVICE), X_lkid.to(DEVICE), X_rkid.to(DEVICE)\n",
    "    X_liv, X_spl, X_tot     = X_liv.to(DEVICE), X_spl.to(DEVICE), X_tot.to(DEVICE)\n",
    "    y = y.to(DEVICE)           \n",
    "    with torch.cuda.amp.autocast(enabled=True):                \n",
    "        with torch.no_grad():                 \n",
    "            X_out, X_any = model(X_bowel, X_lkid, X_rkid, X_liv, X_spl, X_tot)                                          \n",
    "            y_any = torch.cat([torch.ones(batch_size, 1).to(DEVICE)- y[:,13:14],y[:,13:14]], dim = 1)              \n",
    "            X_out = apply_softmax_to_labels(X_out).to('cpu').numpy()\n",
    "\n",
    "            X_any = X_any.to('cpu').numpy()\n",
    "            X_out = np.hstack([X_out, X_any])\n",
    "            X_outs.append(X_out)\n",
    "\n",
    "            y     = y.to('cpu').numpy()[:,:-1]\n",
    "            y_any = y_any.to('cpu').numpy()\n",
    "            y     = np.hstack([y, y_any])\n",
    "            ys.append(y)\n",
    "\n",
    "X_outs = np.vstack(X_outs) \n",
    "ys     = np.vstack(ys)\n",
    "#metric = calculate_score(X_outs, ys, 'valid')                      \n",
    "\n",
    "del X_bowel, X_lkid, X_rkid, X_liv, X_spl, X_tot, X_any\n",
    "gc.collect()        \n",
    "torch.cuda.empty_cache()   "
   ]
  },
  {
   "cell_type": "code",
   "execution_count": 26,
   "metadata": {},
   "outputs": [
    {
     "data": {
      "text/plain": [
       "array([ 0.8515625 ,  0.14868164,  0.6298828 ,  0.3701172 ,  0.9379883 ,\n",
       "        0.03500366,  0.02693176,  0.94873047,  0.04693604,  0.00417709,\n",
       "        0.9091797 ,  0.07794189,  0.01283264, -0.46212062, -0.9941018 ],\n",
       "      dtype=float32)"
      ]
     },
     "execution_count": 26,
     "metadata": {},
     "output_type": "execute_result"
    }
   ],
   "source": [
    "np.average(X_outs, axis = 0)\n"
   ]
  },
  {
   "cell_type": "code",
   "execution_count": 27,
   "metadata": {},
   "outputs": [
    {
     "data": {
      "text/plain": [
       "1"
      ]
     },
     "execution_count": 27,
     "metadata": {},
     "output_type": "execute_result"
    }
   ],
   "source": [
    "len(X_outs)"
   ]
  },
  {
   "cell_type": "code",
   "execution_count": null,
   "metadata": {},
   "outputs": [],
   "source": []
  }
 ],
 "metadata": {
  "kernelspec": {
   "display_name": "Python 3 (ipykernel)",
   "language": "python",
   "name": "python3"
  },
  "language_info": {
   "codemirror_mode": {
    "name": "ipython",
    "version": 3
   },
   "file_extension": ".py",
   "mimetype": "text/x-python",
   "name": "python",
   "nbconvert_exporter": "python",
   "pygments_lexer": "ipython3",
   "version": "3.11.4"
  }
 },
 "nbformat": 4,
 "nbformat_minor": 4
}

{
 "cells": [
  {
   "cell_type": "code",
   "execution_count": 1,
   "metadata": {},
   "outputs": [],
   "source": [
    "import pandas as pd\n",
    "import numpy as np\n",
    "import cv2\n",
    "from matplotlib import pyplot as plt\n",
    "import sklearn.metrics\n",
    "import warnings\n",
    "from sklearn.exceptions import UserWarning\n",
    "warnings.filterwarnings('ignore', category=UserWarning)\n",
    "\n",
    "import torch\n",
    "from torchvision import transforms\n",
    "from torch.utils.data import Dataset, DataLoader\n",
    "from torch.optim.lr_scheduler import CosineAnnealingLR\n",
    "from torch import nn\n",
    "from resnet3d import generate_model\n",
    "from timm.utils import AverageMeter\n",
    "\n",
    "from tqdm import tqdm\n",
    "import sys\n",
    "import glob\n",
    "import gc\n",
    "import os\n",
    "\n",
    "os.environ['CUDA_LAUNCH_BLOCKING']='1'"
   ]
  },
  {
   "attachments": {},
   "cell_type": "markdown",
   "metadata": {},
   "source": [
    "# Parameters"
   ]
  },
  {
   "cell_type": "code",
   "execution_count": 2,
   "metadata": {},
   "outputs": [],
   "source": [
    "BASE_PATH = '/home/junseonglee/01_codes/input/rsna-2023-abdominal-trauma-detection'\n",
    "RESOL = 256\n",
    "BATCH_SIZE = 8\n",
    "LR = 0.001\n",
    "N_EPOCHS = 30\n",
    "train_df = pd.read_csv(f'{BASE_PATH}/train.csv')\n",
    "train_meta_df = pd.read_csv(f'{BASE_PATH}/train_meta.csv')\n",
    "train_df = train_df.sort_values(by=['patient_id'])\n",
    "\n",
    "DEVICE = torch.device('cuda' if torch.cuda.is_available() else 'cpu')\n",
    "#DEVICE = 'cpu'"
   ]
  },
  {
   "attachments": {},
   "cell_type": "markdown",
   "metadata": {},
   "source": [
    "# Dataset"
   ]
  },
  {
   "cell_type": "code",
   "execution_count": 3,
   "metadata": {},
   "outputs": [
    {
     "name": "stdout",
     "output_type": "stream",
     "text": [
      "tensor([1., 0., 1., 0., 1., 0., 0., 0., 1., 0., 1., 0., 0., 1.])\n"
     ]
    },
    {
     "data": {
      "text/plain": [
       "16"
      ]
     },
     "execution_count": 3,
     "metadata": {},
     "output_type": "execute_result"
    }
   ],
   "source": [
    "class AbdominalCTDataset(Dataset):\n",
    "    def __init__(self, meta_df):\n",
    "        self.meta_df = meta_df\n",
    "    \n",
    "    def __len__(self):\n",
    "        return len(self.meta_df)\n",
    "    \n",
    "    def __getitem__(self, idx):\n",
    "        row = self.meta_df.iloc[idx]\n",
    "        label = row[['bowel_healthy','bowel_injury',\n",
    "                    'extravasation_healthy','extravasation_injury',\n",
    "                    'kidney_healthy','kidney_low','kidney_high',\n",
    "                    'liver_healthy','liver_low','liver_high',\n",
    "                    'spleen_healthy','spleen_low','spleen_high', 'any_injury']]\n",
    "        data_3d = cv2.imread(row['path'], cv2.IMREAD_GRAYSCALE)\n",
    "        data_3d = cv2.equalizeHist(data_3d)\n",
    "        data_3d = data_3d.reshape(1, RESOL, RESOL, RESOL).astype(float)  # channel, 3D\n",
    "        #avg std\n",
    "        data_3d -=47.5739\n",
    "        data_3d /=34.6175\n",
    "        data_3d = torch.from_numpy(data_3d.astype(np.float32))\n",
    "        label = label.to_numpy().astype(np.float32)\n",
    "                \n",
    "        #any_injury = label[-1]\n",
    "        #nu_any_injury = np.zeros(2)\n",
    "        #nu_any_injury[int(any_injury)]= 1\n",
    "        \n",
    "        #label = np.hstack([label[:-1], nu_any_injury])\n",
    "        label = torch.from_numpy(label)\n",
    "        return data_3d, label        \n",
    "\n",
    "train_dataset = AbdominalCTDataset(train_meta_df)\n",
    "data_3d, label = train_dataset[0]\n",
    "print(label)\n",
    "\n",
    "del train_dataset, data_3d, label\n",
    "gc.collect()"
   ]
  },
  {
   "cell_type": "code",
   "execution_count": 4,
   "metadata": {},
   "outputs": [
    {
     "data": {
      "text/plain": [
       "'\\n#normalizatino parameter\\ntrain_dataset = AbdominalCTDataset(train_meta_df)\\ndata_3d, label = train_dataset[0]\\n\\navgs = np.zeros(len(train_dataset))\\nstds = np.zeros(len(train_dataset))\\nfor i in tqdm(range(0, len(train_dataset))):\\n    data_3d, label = train_dataset[i]\\n    data_3d = data_3d.numpy()\\n    avgs[i] = np.average(data_3d)\\n    stds[i] = np.std(data_3d)\\nprint(np.average(avgs))\\nprint(np.average(stds))    \\n\\ndel train_dataset, data_3d, label, avgs, stds\\ngc.collect()\\n'"
      ]
     },
     "execution_count": 4,
     "metadata": {},
     "output_type": "execute_result"
    }
   ],
   "source": [
    "'''\n",
    "#normalizatino parameter\n",
    "train_dataset = AbdominalCTDataset(train_meta_df)\n",
    "data_3d, label = train_dataset[0]\n",
    "\n",
    "avgs = np.zeros(len(train_dataset))\n",
    "stds = np.zeros(len(train_dataset))\n",
    "for i in tqdm(range(0, len(train_dataset))):\n",
    "    data_3d, label = train_dataset[i]\n",
    "    data_3d = data_3d.numpy()\n",
    "    avgs[i] = np.average(data_3d)\n",
    "    stds[i] = np.std(data_3d)\n",
    "print(np.average(avgs))\n",
    "print(np.average(stds))    \n",
    "\n",
    "del train_dataset, data_3d, label, avgs, stds\n",
    "gc.collect()\n",
    "'''"
   ]
  },
  {
   "attachments": {},
   "cell_type": "markdown",
   "metadata": {},
   "source": [
    "# Model"
   ]
  },
  {
   "cell_type": "code",
   "execution_count": 5,
   "metadata": {},
   "outputs": [],
   "source": [
    "class AbdominalClassifier(nn.Module):\n",
    "    def __init__(self, model_depth, device = DEVICE):\n",
    "        super().__init__()\n",
    "        self.device = device\n",
    "        self.resnet3d = generate_model(model_depth = model_depth, n_input_channels = 1)\n",
    "        self.flatten  = nn.Flatten()\n",
    "        self.dropout  = nn.Dropout(p=0.5)\n",
    "        self.softmax  = nn.Softmax(dim=1)\n",
    "        self.sigmoid  = nn.Sigmoid()\n",
    "        size_res_out  = 56832\n",
    "        self.fc_bowel = nn.Linear(size_res_out, 2)\n",
    "        self.fc_extrav= nn.Linear(size_res_out, 2)\n",
    "        self.fc_kidney= nn.Linear(size_res_out, 3)\n",
    "        self.fc_liver = nn.Linear(size_res_out, 3)\n",
    "        self.fc_spleen= nn.Linear(size_res_out, 3)\n",
    "        \n",
    "        self.maxpool  = nn.MaxPool1d(5, 1)\n",
    "\n",
    "    def forward(self, x):\n",
    "        x = self.resnet3d(x)\n",
    "        for i in range(0, 4):\n",
    "            x[i] = self.flatten(x[i])\n",
    "        x = torch.cat(x, axis = 1)\n",
    "        x     = self.dropout(x)\n",
    "        bowel = self.fc_bowel(x)\n",
    "        extrav= self.fc_extrav(x)\n",
    "        kidney= self.fc_kidney(x)\n",
    "        liver = self.fc_liver(x)\n",
    "        spleen= self.fc_spleen(x)\n",
    "\n",
    "        labels = torch.cat([bowel, extrav, kidney, liver, spleen], dim = 1)\n",
    "\n",
    "        bowel_soft = self.softmax(bowel)\n",
    "        extrav_soft = self.softmax(extrav)\n",
    "        kidney_soft = self.softmax(kidney)\n",
    "        liver_soft = self.softmax(liver)\n",
    "        spleen_soft = self.softmax(spleen)\n",
    "\n",
    "        any_in = torch.cat([1-bowel_soft[:,0:1], 1-extrav_soft[:,0:1], \n",
    "                            1-kidney_soft[:,0:1], 1-liver_soft[:,0:1], 1-spleen_soft[:,0:1]], dim = 1) \n",
    "        any_in = self.maxpool(any_in)\n",
    "        any_not_in = 1-any_in\n",
    "        any_in = torch.cat([any_not_in, any_in], dim = 1)\n",
    "\n",
    "        return labels, any_in"
   ]
  },
  {
   "cell_type": "code",
   "execution_count": 6,
   "metadata": {},
   "outputs": [
    {
     "name": "stdout",
     "output_type": "stream",
     "text": [
      "15094349\n"
     ]
    },
    {
     "data": {
      "text/plain": [
       "0"
      ]
     },
     "execution_count": 6,
     "metadata": {},
     "output_type": "execute_result"
    }
   ],
   "source": [
    "model = AbdominalClassifier(10)\n",
    "\n",
    "def get_n_params(model):\n",
    "    pp=0\n",
    "    for p in list(model.parameters()):\n",
    "        nn=1\n",
    "        for s in list(p.size()):\n",
    "            nn = nn*s\n",
    "        pp += nn\n",
    "    return pp\n",
    "\n",
    "print(get_n_params(model))\n",
    "del model\n",
    "gc.collect()"
   ]
  },
  {
   "cell_type": "code",
   "execution_count": 7,
   "metadata": {},
   "outputs": [],
   "source": [
    "train_dataset = AbdominalCTDataset(train_meta_df[train_meta_df['fold']!=0])\n",
    "valid_dataset = AbdominalCTDataset(train_meta_df[train_meta_df['fold']==0])\n",
    "\n",
    "train_loader = DataLoader(dataset = train_dataset, shuffle = True, batch_size = BATCH_SIZE, pin_memory = True, \n",
    "                          num_workers = 8, drop_last = False)\n",
    "\n",
    "valid_loader = DataLoader(dataset = valid_dataset, shuffle = False, batch_size = BATCH_SIZE, pin_memory = True, \n",
    "                          num_workers = 8, drop_last = False)                        "
   ]
  },
  {
   "attachments": {},
   "cell_type": "markdown",
   "metadata": {},
   "source": [
    "# Train"
   ]
  },
  {
   "cell_type": "code",
   "execution_count": 8,
   "metadata": {},
   "outputs": [],
   "source": [
    "model = AbdominalClassifier(18)\n",
    "model.to(DEVICE)\n",
    "\n",
    "optimizer = torch.optim.AdamW(model.parameters(), lr = LR)\n",
    "ttl_iters = N_EPOCHS * len(train_loader)\n",
    "scheduler = torch.optim.lr_scheduler.OneCycleLR(optimizer, max_lr=LR, \n",
    "                                                steps_per_epoch=len(train_loader), epochs = N_EPOCHS)\n",
    "#scheduler = CosineAnnealingLR(optimizer, T_max=ttl_iters, eta_min=1e-6)\n",
    "\n",
    "\n",
    "weights = np.ones(2)\n",
    "weights[1] = 2\n",
    "crit_bowel  = nn.CrossEntropyLoss(weight = torch.from_numpy(weights).to(DEVICE))\n",
    "weights[1] = 6\n",
    "crit_extrav = nn.CrossEntropyLoss(weight = torch.from_numpy(weights).to(DEVICE))\n",
    "crit_any = nn.CrossEntropyLoss(weight = torch.from_numpy(weights).to(DEVICE))\n",
    "\n",
    "weights = np.ones((3))\n",
    "weights[1] = 2\n",
    "weights[2] = 4\n",
    "crit_kidney = nn.CrossEntropyLoss(weight = torch.from_numpy(weights).to(DEVICE))\n",
    "crit_liver  = nn.CrossEntropyLoss(weight = torch.from_numpy(weights).to(DEVICE))\n",
    "crit_spleen = nn.CrossEntropyLoss(weight = torch.from_numpy(weights).to(DEVICE))\n"
   ]
  },
  {
   "cell_type": "code",
   "execution_count": 9,
   "metadata": {},
   "outputs": [],
   "source": [
    "def normalize_to_one(tensor):\n",
    "    norm = torch.sum(tensor, 1)\n",
    "    for i in range(0, tensor.shape[1]):\n",
    "        tensor[:,i]/=norm\n",
    "    return tensor\n",
    "\n",
    "def apply_softmax_to_labels(X_out):\n",
    "    softmax = nn.Softmax(dim=1)\n",
    "\n",
    "    X_out[:,:2]    = normalize_to_one(softmax(X_out[:,:2]))\n",
    "    X_out[:,2:4]   = normalize_to_one(softmax(X_out[:,2:4]))\n",
    "    X_out[:,4:7]   = normalize_to_one(softmax(X_out[:,4:7]))\n",
    "    X_out[:,7:10]  = normalize_to_one(softmax(X_out[:,7:10]))\n",
    "    X_out[:,10:13] = normalize_to_one(softmax(X_out[:,10:13]))\n",
    "\n",
    "    return X_out\n",
    "\n",
    "def calculate_score(X_outs, ys):\n",
    "    bowel_weights =  ys[:,0] + 2*ys[:,1]\n",
    "    extrav_weights = ys[:,2] + 6*ys[:,3]\n",
    "    kidney_weights = ys[:,4] + 2*ys[:,5] + 4*ys[:,6]\n",
    "    liver_weights  = ys[:,7] + 2*ys[:,8] + 4*ys[:,9]\n",
    "    spleen_weights = ys[:,10] + 2*ys[:,11] + 4*ys[:,12]\n",
    "    any_in_weights = ys[:,13] + 6*ys[:,14]\n",
    "\n",
    "    loss = (\n",
    "             sklearn.metrics.log_loss(ys[:,:2], X_outs[:,:2], sample_weight = bowel_weights)\n",
    "           + sklearn.metrics.log_loss(ys[:,2:4], X_outs[:,2:4], sample_weight = extrav_weights)\n",
    "           + sklearn.metrics.log_loss(ys[:,4:7], X_outs[:,4:7], sample_weight = kidney_weights)\n",
    "           + sklearn.metrics.log_loss(ys[:,7:10], X_outs[:,7:10], sample_weight = liver_weights)\n",
    "           + sklearn.metrics.log_loss(ys[:,10:13], X_outs[:,10:13], sample_weight = spleen_weights)\n",
    "           + sklearn.metrics.log_loss(ys[:,13:15], X_outs[:,13:15], sample_weight =  any_in_weights)\n",
    "           ) / 6\n",
    "    return loss"
   ]
  },
  {
   "cell_type": "code",
   "execution_count": 10,
   "metadata": {},
   "outputs": [
    {
     "name": "stderr",
     "output_type": "stream",
     "text": [
      "  0%|          | 0/473 [00:00<?, ?it/s]/home/junseonglee/miniconda3/envs/rapids-23.06/lib/python3.10/site-packages/torch/nn/modules/conv.py:608: UserWarning: Applied workaround for CuDNN issue, install nvrtc.so (Triggered internally at ../aten/src/ATen/native/cudnn/Conv_v8.cpp:80.)\n",
      "  return F.conv3d(\n",
      "                                                                                  \r"
     ]
    },
    {
     "name": "stdout",
     "output_type": "stream",
     "text": [
      "Epoch 1 / trn/loss=0.9407\n"
     ]
    },
    {
     "name": "stderr",
     "output_type": "stream",
     "text": [
      "/home/junseonglee/miniconda3/envs/rapids-23.06/lib/python3.10/site-packages/sklearn/metrics/_classification.py:2916: UserWarning: The y_pred values do not sum to one. Starting from 1.5 thiswill result in an error.\n",
      "  warnings.warn(\n",
      "/home/junseonglee/miniconda3/envs/rapids-23.06/lib/python3.10/site-packages/sklearn/metrics/_classification.py:2916: UserWarning: The y_pred values do not sum to one. Starting from 1.5 thiswill result in an error.\n",
      "  warnings.warn(\n",
      "/home/junseonglee/miniconda3/envs/rapids-23.06/lib/python3.10/site-packages/sklearn/metrics/_classification.py:2916: UserWarning: The y_pred values do not sum to one. Starting from 1.5 thiswill result in an error.\n",
      "  warnings.warn(\n",
      "/home/junseonglee/miniconda3/envs/rapids-23.06/lib/python3.10/site-packages/sklearn/metrics/_classification.py:2916: UserWarning: The y_pred values do not sum to one. Starting from 1.5 thiswill result in an error.\n",
      "  warnings.warn(\n",
      "/home/junseonglee/miniconda3/envs/rapids-23.06/lib/python3.10/site-packages/sklearn/metrics/_classification.py:2916: UserWarning: The y_pred values do not sum to one. Starting from 1.5 thiswill result in an error.\n",
      "  warnings.warn(\n"
     ]
    },
    {
     "name": "stdout",
     "output_type": "stream",
     "text": [
      "Epoch 1 / val/loss=0.8085\n",
      "Best val_metric 0.8085478295159066 at epoch 1!\n"
     ]
    },
    {
     "name": "stderr",
     "output_type": "stream",
     "text": [
      "                                                                                  \r"
     ]
    },
    {
     "name": "stdout",
     "output_type": "stream",
     "text": [
      "Epoch 2 / trn/loss=0.9467\n"
     ]
    },
    {
     "name": "stderr",
     "output_type": "stream",
     "text": [
      "/home/junseonglee/miniconda3/envs/rapids-23.06/lib/python3.10/site-packages/sklearn/metrics/_classification.py:2916: UserWarning: The y_pred values do not sum to one. Starting from 1.5 thiswill result in an error.\n",
      "  warnings.warn(\n",
      "/home/junseonglee/miniconda3/envs/rapids-23.06/lib/python3.10/site-packages/sklearn/metrics/_classification.py:2916: UserWarning: The y_pred values do not sum to one. Starting from 1.5 thiswill result in an error.\n",
      "  warnings.warn(\n",
      "/home/junseonglee/miniconda3/envs/rapids-23.06/lib/python3.10/site-packages/sklearn/metrics/_classification.py:2916: UserWarning: The y_pred values do not sum to one. Starting from 1.5 thiswill result in an error.\n",
      "  warnings.warn(\n",
      "/home/junseonglee/miniconda3/envs/rapids-23.06/lib/python3.10/site-packages/sklearn/metrics/_classification.py:2916: UserWarning: The y_pred values do not sum to one. Starting from 1.5 thiswill result in an error.\n",
      "  warnings.warn(\n",
      "/home/junseonglee/miniconda3/envs/rapids-23.06/lib/python3.10/site-packages/sklearn/metrics/_classification.py:2916: UserWarning: The y_pred values do not sum to one. Starting from 1.5 thiswill result in an error.\n",
      "  warnings.warn(\n"
     ]
    },
    {
     "name": "stdout",
     "output_type": "stream",
     "text": [
      "Epoch 2 / val/loss=0.6616\n",
      "Best val_metric 0.6616173343306172 at epoch 2!\n"
     ]
    },
    {
     "name": "stderr",
     "output_type": "stream",
     "text": [
      "                                                                                  \r"
     ]
    },
    {
     "name": "stdout",
     "output_type": "stream",
     "text": [
      "Epoch 3 / trn/loss=0.9881\n"
     ]
    },
    {
     "name": "stderr",
     "output_type": "stream",
     "text": [
      "/home/junseonglee/miniconda3/envs/rapids-23.06/lib/python3.10/site-packages/sklearn/metrics/_classification.py:2916: UserWarning: The y_pred values do not sum to one. Starting from 1.5 thiswill result in an error.\n",
      "  warnings.warn(\n",
      "/home/junseonglee/miniconda3/envs/rapids-23.06/lib/python3.10/site-packages/sklearn/metrics/_classification.py:2916: UserWarning: The y_pred values do not sum to one. Starting from 1.5 thiswill result in an error.\n",
      "  warnings.warn(\n",
      "/home/junseonglee/miniconda3/envs/rapids-23.06/lib/python3.10/site-packages/sklearn/metrics/_classification.py:2916: UserWarning: The y_pred values do not sum to one. Starting from 1.5 thiswill result in an error.\n",
      "  warnings.warn(\n",
      "/home/junseonglee/miniconda3/envs/rapids-23.06/lib/python3.10/site-packages/sklearn/metrics/_classification.py:2916: UserWarning: The y_pred values do not sum to one. Starting from 1.5 thiswill result in an error.\n",
      "  warnings.warn(\n",
      "/home/junseonglee/miniconda3/envs/rapids-23.06/lib/python3.10/site-packages/sklearn/metrics/_classification.py:2916: UserWarning: The y_pred values do not sum to one. Starting from 1.5 thiswill result in an error.\n",
      "  warnings.warn(\n"
     ]
    },
    {
     "name": "stdout",
     "output_type": "stream",
     "text": [
      "Epoch 3 / val/loss=0.7488\n"
     ]
    },
    {
     "name": "stderr",
     "output_type": "stream",
     "text": [
      "Train loss: 0.7419307654102643:  68%|██████▊   | 324/473 [02:10<00:58,  2.54it/s] "
     ]
    }
   ],
   "source": [
    "if __name__ == '__main__':\n",
    "    scaler = torch.cuda.amp.GradScaler(enabled=True)\n",
    "    val_metrics = np.ones(N_EPOCHS)*100\n",
    "\n",
    "    for epoch in range(0, N_EPOCHS):\n",
    "        train_meters = {'loss': AverageMeter()}\n",
    "        val_meters   = {'loss': AverageMeter()}\n",
    "        \n",
    "        model.train()\n",
    "        pbar = tqdm(train_loader, leave=False)    \n",
    "        for X, y in pbar:\n",
    "            batch_size = X.shape[0]\n",
    "            X, y = X.to(DEVICE), y.to(DEVICE)\n",
    "            optimizer.zero_grad()\n",
    "            \n",
    "            with torch.cuda.amp.autocast(enabled=True):\n",
    "                X_out, X_any  = model(X)\n",
    "                loss  = crit_bowel(X_out[:,:2], y[:,:2])\n",
    "                loss += crit_extrav(X_out[:,2:4], y[:,2:4])\n",
    "                loss += crit_kidney(X_out[:,4:7], y[:,4:7])\n",
    "                loss += crit_liver(X_out[:,7:10], y[:,7:10])\n",
    "                loss += crit_spleen(X_out[:,10:13], y[:,10:13])\n",
    "\n",
    "                loss += crit_any(X_any,  torch.cat([torch.ones(batch_size, 1).to(DEVICE)- y[:,13:14],y[:,13:14]], dim = 1))  \n",
    "                loss /= 6\n",
    "                scaler.scale(loss).backward()\n",
    "                scaler.step(optimizer)\n",
    "                scheduler.step()\n",
    "                scaler.update()          \n",
    "\n",
    "            trn_loss = loss.item()      \n",
    "            train_meters['loss'].update(trn_loss, n=X.size(0))     \n",
    "            pbar.set_description(f'Train loss: {trn_loss}')   \n",
    "        print('Epoch {:d} / trn/loss={:.4f}'.format(epoch+1, train_meters['loss'].avg))    \n",
    "        \n",
    "\n",
    "        X_outs=[]\n",
    "        ys=[]\n",
    "        model.eval()\n",
    "        for X, y in tqdm(valid_loader, leave=False):\n",
    "            batch_size = X.shape[0]        \n",
    "            X, y = X.to(DEVICE), y.to(DEVICE)\n",
    "            with torch.cuda.amp.autocast(enabled=True):        \n",
    "                with torch.no_grad():                 \n",
    "                    X_out, X_any = model(X)                                           \n",
    "                    y_any = torch.cat([torch.ones(batch_size, 1).to(DEVICE)- y[:,13:14],y[:,13:14]], dim = 1)              \n",
    "                              \n",
    "                    X_out = apply_softmax_to_labels(X_out).to('cpu').numpy()\n",
    "\n",
    "                    X_any = X_any.to('cpu').numpy()\n",
    "                    X_out = np.hstack([X_out, X_any])\n",
    "                    X_outs.append(X_out)\n",
    "\n",
    "                    y     = y.to('cpu').numpy()[:,:-1]\n",
    "                    y_any = y_any.to('cpu').numpy()\n",
    "                    y     = np.hstack([y, y_any])\n",
    "                    ys.append(y)\n",
    "\n",
    "        X_outs = np.vstack(X_outs) \n",
    "        ys     = np.vstack(ys)\n",
    "        metric = calculate_score(X_outs, ys)                \n",
    "        print('Epoch {:d} / val/loss={:.4f}'.format(epoch+1, metric))   \n",
    "        \n",
    "        #Save the best model    \n",
    "        if(metric < np.min(val_metrics)):\n",
    "            try:\n",
    "                os.makedirs(f'{BASE_PATH}/weights')\n",
    "            except:\n",
    "                a = 1\n",
    "            best_metric = metric\n",
    "            print(f'Best val_metric {best_metric} at epoch {epoch+1}!')\n",
    "            torch.save(model, f'{BASE_PATH}/weights/best.pt')    \n",
    "        val_metrics[epoch] = metric\n",
    "        "
   ]
  },
  {
   "cell_type": "code",
   "execution_count": null,
   "metadata": {},
   "outputs": [],
   "source": []
  }
 ],
 "metadata": {
  "kernelspec": {
   "display_name": "rapids-23.06",
   "language": "python",
   "name": "python3"
  },
  "language_info": {
   "codemirror_mode": {
    "name": "ipython",
    "version": 3
   },
   "file_extension": ".py",
   "mimetype": "text/x-python",
   "name": "python",
   "nbconvert_exporter": "python",
   "pygments_lexer": "ipython3",
   "version": "3.10.12"
  },
  "orig_nbformat": 4
 },
 "nbformat": 4,
 "nbformat_minor": 2
}

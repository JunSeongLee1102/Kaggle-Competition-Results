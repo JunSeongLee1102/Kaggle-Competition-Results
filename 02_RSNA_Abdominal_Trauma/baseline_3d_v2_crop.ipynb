{
 "cells": [
  {
   "cell_type": "code",
   "execution_count": 1,
   "metadata": {},
   "outputs": [
    {
     "name": "stderr",
     "output_type": "stream",
     "text": [
      "/home/junseonglee/miniconda3/envs/rsna_abtd/lib/python3.11/site-packages/tqdm/auto.py:21: TqdmWarning: IProgress not found. Please update jupyter and ipywidgets. See https://ipywidgets.readthedocs.io/en/stable/user_install.html\n",
      "  from .autonotebook import tqdm as notebook_tqdm\n",
      "Failed to detect the name of this notebook, you can set it manually with the WANDB_NOTEBOOK_NAME environment variable to enable code saving.\n",
      "\u001b[34m\u001b[1mwandb\u001b[0m: Currently logged in as: \u001b[33mjunseonglee\u001b[0m. Use \u001b[1m`wandb login --relogin`\u001b[0m to force relogin\n",
      "\u001b[34m\u001b[1mwandb\u001b[0m: \u001b[33mWARNING\u001b[0m If you're specifying your api key in code, ensure this code is not shared publicly.\n",
      "\u001b[34m\u001b[1mwandb\u001b[0m: \u001b[33mWARNING\u001b[0m Consider setting the WANDB_API_KEY environment variable, or running `wandb login` from the command line.\n",
      "\u001b[34m\u001b[1mwandb\u001b[0m: Appending key for api.wandb.ai to your netrc file: /home/junseonglee/.netrc\n"
     ]
    },
    {
     "data": {
      "text/plain": [
       "True"
      ]
     },
     "execution_count": 1,
     "metadata": {},
     "output_type": "execute_result"
    }
   ],
   "source": [
    "from tqdm import tqdm\n",
    "import sys\n",
    "import glob\n",
    "import gc\n",
    "import os\n",
    "sys.path.append('./lib_models')\n",
    "\n",
    "import pandas as pd\n",
    "import numpy as np\n",
    "import scipy as sp\n",
    "import cv2\n",
    "from matplotlib import pyplot as plt\n",
    "import sklearn.metrics\n",
    "import warnings\n",
    "import pydicom\n",
    "import dicomsdl\n",
    "from joblib import Parallel, delayed\n",
    "#import h5py\n",
    "import bz2\n",
    "import pickle\n",
    "import gzip\n",
    "import mgzip\n",
    "from iterstrat.ml_stratifiers import MultilabelStratifiedKFold\n",
    "from multiprocessing import Pool\n",
    "import lz4.frame\n",
    "\n",
    "\n",
    "import torch\n",
    "from torchvision import transforms\n",
    "from torch.utils.data import Dataset, DataLoader\n",
    "from torch.optim.lr_scheduler import CosineAnnealingLR\n",
    "from torch import nn\n",
    "\n",
    "import segmentation_models_pytorch as smp\n",
    "import timm\n",
    "from timm.utils import AverageMeter\n",
    "from timm.models import resnet\n",
    "\n",
    "#sys.path.append('/home/junseonglee/Desktop/01_codes/inputs/rsna-2023-abdominal-trauma-detection')\n",
    "import timm_new\n",
    "\n",
    "from monai.transforms import Resize\n",
    "import  monai.transforms as transforms\n",
    "\n",
    "import wandb\n",
    "sys.path.append('./lib_models')\n",
    "\n",
    "wandb.login(key = '585f58f321685308f7933861d9dde7488de0970b')\n",
    "#warnings.filterwarnings('ignore', category=UserWarning)\n",
    "#os.environ['CUDA_LAUNCH_BLOCKING']='1'\n"
   ]
  },
  {
   "cell_type": "code",
   "execution_count": 2,
   "metadata": {},
   "outputs": [
    {
     "data": {
      "text/plain": [
       "'0.9.7'"
      ]
     },
     "execution_count": 2,
     "metadata": {},
     "output_type": "execute_result"
    }
   ],
   "source": [
    "timm_new.__version__"
   ]
  },
  {
   "cell_type": "markdown",
   "metadata": {},
   "source": [
    "# Parameters"
   ]
  },
  {
   "cell_type": "code",
   "execution_count": 3,
   "metadata": {},
   "outputs": [
    {
     "data": {
      "text/plain": [
       "device(type='cuda')"
      ]
     },
     "execution_count": 3,
     "metadata": {},
     "output_type": "execute_result"
    }
   ],
   "source": [
    "backbone = 'seresnext50_32x4d.racm_in1k'\n",
    "\n",
    "IS_WANDB = True\n",
    "PROJECT_NAME = 'RSNA_ABTD'\n",
    "GROUP_NAME= 'backbone_test'\n",
    "RUN_NAME=   f'{backbone}'\n",
    "\n",
    "if not IS_WANDB:\n",
    "    PROJECT_NAME = 'Dummy_Project'\n",
    "\n",
    "BASE_PATH  = '/home/junseonglee/Desktop/01_codes/inputs/rsna-2023-abdominal-trauma-detection'\n",
    "TRAIN_PATH = f'{BASE_PATH}/train_images'\n",
    "DATA_PATH = f'{BASE_PATH}/3d_preprocessed'\n",
    "\n",
    "seg_inference_dir = f'{BASE_PATH}/seg_infer_results'\n",
    "cropped_img_dir   = f'{BASE_PATH}/3d_preprocessed_crop'\n",
    "\n",
    "if not os.path.isdir(DATA_PATH):\n",
    "    os.mkdir(DATA_PATH)\n",
    "\n",
    "RESOL = 128\n",
    "UP_RESOL = 128\n",
    "N_CHANNELS = 6\n",
    "BATCH_SIZE = 20\n",
    "N_WORKERS  = 10\n",
    "LR = 0.0005\n",
    "N_EPOCHS = 100\n",
    "EARLY_STOP_COUNT = 20\n",
    "N_FOLDS  = 5\n",
    "N_PREPROCESS_CHUNKS = 12\n",
    "train_df = pd.read_csv(f'{BASE_PATH}/train.csv')\n",
    "train_df = train_df.sort_values(by=['patient_id'])\n",
    "n_blocks = 4\n",
    "drop_rate = 0.2\n",
    "drop_path_rate = 0.2\n",
    "p_mixup = 0.0\n",
    "\n",
    "\n",
    "#backbone = 'efficientnet_b1'\n",
    "\n",
    "\n",
    "\n",
    "wandb_config = {\n",
    "    'RESOL': RESOL,\n",
    "    'BACKBONE': backbone,\n",
    "    'N_CHANNELS': N_CHANNELS,\n",
    "    'N_EPOCHS': N_EPOCHS,\n",
    "    'N_FOLDS': N_FOLDS,\n",
    "    'EARLY_STOP_COUNT': EARLY_STOP_COUNT,\n",
    "    'BATCH_SIZE': BATCH_SIZE,    \n",
    "    'LR': LR,\n",
    "    'N_EPOCHS': N_EPOCHS,\n",
    "    'DROP_RATE': drop_rate,\n",
    "    'DROP_PATH_RATE': drop_path_rate,\n",
    "    'MIXUP_RATE': p_mixup\n",
    "}\n",
    "\n",
    "DEVICE = torch.device('cuda' if torch.cuda.is_available() else 'cpu')\n",
    "DEVICE\n",
    "#DEVICE = 'cpu'"
   ]
  },
  {
   "cell_type": "markdown",
   "metadata": {},
   "source": [
    "# Data split"
   ]
  },
  {
   "cell_type": "code",
   "execution_count": 4,
   "metadata": {},
   "outputs": [
    {
     "data": {
      "text/plain": [
       "(array([0, 1, 2, 3, 4]), array([630, 629, 630, 629, 629]))"
      ]
     },
     "execution_count": 4,
     "metadata": {},
     "output_type": "execute_result"
    }
   ],
   "source": [
    "train_df = pd.read_csv(f'{BASE_PATH}/train.csv')\n",
    "train_meta = pd.read_csv(f'{BASE_PATH}/train_series_meta.csv')\n",
    "train_df = train_df.sort_values(by=['patient_id'])\n",
    "train_df\n",
    "\n",
    "TRAIN_PATH = BASE_PATH + \"/train_images/\"\n",
    "n_chunk = 8\n",
    "patients = os.listdir(TRAIN_PATH)\n",
    "n_patients = len(patients)\n",
    "rng_patients = np.linspace(0, n_patients+1, n_chunk+1, dtype = int)\n",
    "patients_cts = glob.glob(f'{TRAIN_PATH}/*/*')\n",
    "n_cts = len(patients_cts)\n",
    "patients_cts_arr = np.zeros((n_cts, 2), int)\n",
    "data_paths=[]\n",
    "for i in range(0, n_cts):\n",
    "    patient, ct = patients_cts[i].split('/')[-2:]\n",
    "    patients_cts_arr[i] = patient, ct\n",
    "    data_paths.append(f'{BASE_PATH}/3d_preprocessed/{patients_cts_arr[i,0]}_{patients_cts_arr[i,1]}.pkl')\n",
    "TRAIN_IMG_PATH = BASE_PATH + '/processed' \n",
    "\n",
    "#Generate tables for training\n",
    "train_meta_df = pd.DataFrame(patients_cts_arr, columns = ['patient_id', 'series'])\n",
    "\n",
    "#5-fold splitting\n",
    "train_df['fold'] = 0\n",
    "labels = train_df[['bowel_healthy','bowel_injury',\n",
    "                    'extravasation_healthy','extravasation_injury',\n",
    "                    'kidney_healthy','kidney_low','kidney_high',\n",
    "                    'liver_healthy','liver_low','liver_high',\n",
    "                    'spleen_healthy','spleen_low','spleen_high',\n",
    "                    'any_injury']].to_numpy()\n",
    "\n",
    "mskf = MultilabelStratifiedKFold(n_splits=N_FOLDS, shuffle=True, random_state=0)\n",
    "counter = 0\n",
    "for train_index, test_index in mskf.split(np.ones(len(train_df)), labels):\n",
    "    for i in range(0, len(test_index)):\n",
    "        train_df['fold'][test_index[i]] = counter\n",
    "    counter+=1\n",
    "\n",
    "train_meta_df = train_meta_df.join(train_df.set_index('patient_id'), on='patient_id')\n",
    "train_meta_df['path']=data_paths\n",
    "\n",
    "#For mask paths\n",
    "mask_paths = []\n",
    "cropped_paths = []\n",
    "for i in range(0, len(train_meta_df)):\n",
    "    row = train_meta_df.iloc[i]\n",
    "    file_name = row['path'].split('/')[-1]\n",
    "    mask_paths.append(f'{seg_inference_dir}/{file_name}')\n",
    "    cropped_paths.append(f'{cropped_img_dir}/{file_name}')\n",
    "train_meta_df['mask_path'] = mask_paths\n",
    "train_meta_df['cropped_path'] = cropped_paths\n",
    "\n",
    "train_meta_df.to_csv(f'{BASE_PATH}/train_meta.csv', index = False)\n",
    "np.unique(train_df['fold'].to_numpy(), return_counts = True)\n"
   ]
  },
  {
   "cell_type": "markdown",
   "metadata": {},
   "source": [
    "# Dataset"
   ]
  },
  {
   "cell_type": "code",
   "execution_count": 5,
   "metadata": {},
   "outputs": [],
   "source": [
    "def compress(name, data):\n",
    "    with gzip.open(name, 'wb') as f:\n",
    "        pickle.dump(data, f)\n",
    "\n",
    "def decompress(name):\n",
    "    with gzip.open(name, 'rb') as f:\n",
    "        data = pickle.load(f)\n",
    "    return data\n",
    "\n",
    "\n",
    "def compress_fast(name, data):  \n",
    "    np.save(name, data)\n",
    "\n",
    "def decompress_fast(name):\n",
    "    data = np.load(f'{name}.npy')\n",
    "    return data\n",
    "\n",
    "def save_png(name, data):\n",
    "    cv2.imwrite(f'{name}.png', data)\n",
    "\n",
    "\n",
    "def load_png(name):\n",
    "    data = cv2.imread(f'{name}.png', cv2.IMREAD_UNCHANGED)\n",
    "    return data\n"
   ]
  },
  {
   "cell_type": "code",
   "execution_count": 6,
   "metadata": {},
   "outputs": [],
   "source": [
    "#The order of the crop region data format\n",
    "#Z start/end, Y start/end, X start/end for each mask channels + total region for the extravasation prediction\n",
    "def calc_crop_region(mask):\n",
    "    crop_range = np.zeros((6, 6))\n",
    "    crop_range[:,::2]=10000\n",
    "    mask_z = np.max(mask, axis = (2, 3)).astype(bool)\n",
    "    mask_y = np.max(mask, axis = (1, 3)).astype(bool)\n",
    "    mask_x = np.max(mask, axis = (1, 2)).astype(bool)\n",
    "    \n",
    "    template_range = np.arange(0, RESOL)\n",
    "\n",
    "    for mi in range(0, 5):\n",
    "        zrange = template_range[mask_z[mi]]\n",
    "        yrange = template_range[mask_y[mi]]\n",
    "        xrange = template_range[mask_x[mi]]\n",
    "        # For incomplete organ\n",
    "        if(len(zrange)==0):\n",
    "            zrange = template_range.copy()\n",
    "            yrange = template_range.copy()\n",
    "            xrange = template_range.copy()\n",
    "\n",
    "        crop_range[mi] = np.min(zrange), np.max(zrange)+1, np.min(yrange), np.max(yrange)+1, np.min(xrange), np.max(xrange)+1\n",
    "\n",
    "    crop_range[5] = np.min(crop_range[:5, 0]), np.max(crop_range[:5, 1]), np.min(crop_range[:5, 2]), \\\n",
    "                    np.max(crop_range[:5, 3]), np.min(crop_range[:5,4]), np.max(crop_range[:5, 5])\n",
    "    \n",
    "    crop_range[:,:2]/=len(mask_z[0])\n",
    "    crop_range[:,2:4]/=len(mask_y[0])\n",
    "    crop_range[:,4:6]/=len(mask_x[0])\n",
    "\n",
    "    # Then make extravasation (# 5 mask) to reference one and convert other mask's crop respective to it\n",
    "    # --> To minimize the loading size due to speed issue.\n",
    "    zmin, rel_zrange = crop_range[5,0], crop_range[5,1]-crop_range[5,0]\n",
    "    ymin, rel_yrange = crop_range[5,2], crop_range[5,3]-crop_range[5,2]\n",
    "    xmin, rel_xrange = crop_range[5,4], crop_range[5,5]-crop_range[5,4]\n",
    "\n",
    "    crop_range[:5,:2] = (crop_range[:5,:2]-zmin)/rel_zrange\n",
    "    crop_range[:5,2:4] = (crop_range[:5,2:4]-ymin)/rel_yrange\n",
    "    crop_range[:5,4:6] = (crop_range[:5,4:6]-xmin)/rel_xrange\n",
    "\n",
    "    return crop_range\n",
    "\n",
    "def crop_resize_avg_and_std_3d(data, region):\n",
    "    shapes = np.shape(data)\n",
    "    region[:2]*=shapes[0]\n",
    "    region[2:4]*=shapes[1]\n",
    "    region[4:6]*=shapes[2]\n",
    "    region = region.astype(int)\n",
    "\n",
    "    cropped = data[region[0]:region[1], region[2]:region[3], region[4]:region[5]]\n",
    "    slices = []\n",
    "    for i in range(0, len(cropped)):\n",
    "        slices.append(cv2.resize(cropped[i], (RESOL, RESOL))[None])\n",
    "    \n",
    "    slices = np.vstack(slices)\n",
    "    \n",
    "    resized_cropped = np.zeros((RESOL, RESOL, RESOL))\n",
    "    for i in range(0, len(slices[0,0])):\n",
    "        resized_cropped[:,:,i] = cv2.resize(slices[:,:,i], (RESOL, RESOL))\n",
    "    \n",
    "    std = np.std(resized_cropped)\n",
    "    avg = np.average(resized_cropped)\n",
    "    resized_cropped = (resized_cropped-avg)/std\n",
    "    resized_cropped = resized_cropped.astype(np.float32)\n",
    "\n",
    "    del cropped, slices\n",
    "    gc.collect()\n",
    "    return resized_cropped"
   ]
  },
  {
   "cell_type": "code",
   "execution_count": 7,
   "metadata": {},
   "outputs": [],
   "source": [
    "def standardize_pixel_array(dcm: pydicom.dataset.FileDataset) -> np.ndarray:\n",
    "    \"\"\"\n",
    "    Source : https://www.kaggle.com/competitions/rsna-2023-abdominal-trauma-detection/discussion/427217\n",
    "    \"\"\"\n",
    "    # Correct DICOM pixel_array if PixelRepresentation == 1.\n",
    "    pixel_array = dcm.pixel_array\n",
    "    pixel_rep = dcm.PixelRepresentation\n",
    "\n",
    "    return pixel_array\n",
    "\n",
    "def process_3d_crop(save_path, mask_path, data_path = TRAIN_PATH):\n",
    "    tmp = save_path.split('/')[-1][:-4]\n",
    "    tmp = tmp.split('_')\n",
    "    patient, study = int(tmp[0]), int(tmp[1])\n",
    "    \n",
    "    mask = decompress(mask_path)\n",
    "    crop_regions = calc_crop_region(mask)\n",
    "    absolute_crop = crop_regions[5].copy() # To load minimum pixels...\n",
    "\n",
    "    crop_regions[5] = 0, 1, 0, 1, 0, 1\n",
    "\n",
    "    imgs = {}    \n",
    "    \n",
    "    for f in sorted(glob.glob(data_path + f'/{patient}/{study}/*.dcm')):      \n",
    "        pixel_rep = 0\n",
    "        bit_shift = 0\n",
    "        dtype = 0\n",
    "        try:            \n",
    "            dicom = pydicom.dcmread(f)        \n",
    "            img = standardize_pixel_array(dicom)\n",
    "            img_shape = np.shape(img)\n",
    "            xy_crop_range = absolute_crop[2:].copy()   \n",
    "            xy_crop_range[0:2]*=img_shape[0]\n",
    "            xy_crop_range[2:4]*=img_shape[1]            \n",
    "            xy_crop_range = xy_crop_range.astype(int)\n",
    "            img = img.astype(float)\n",
    "            break\n",
    "        except:\n",
    "            continue\n",
    "            \n",
    "    for f in sorted(glob.glob(data_path + f'/{patient}/{study}/*.dcm')):\n",
    "        #For the case that some of the image can't be read -> error without this though don't know why  \n",
    "        img = dicomsdl.open(f).pixelData(storedvalue=True)[xy_crop_range[0]:xy_crop_range[1], xy_crop_range[2]:xy_crop_range[3]]\n",
    "        img = img.astype(float)\n",
    "        \n",
    "        #dicom = pydicom.dcmread(f)\n",
    "        #img = standardize_pixel_array(dicom).astype(float)\n",
    "        #ind = int((f.split('/')[-1])[:-4])\n",
    "        pos_z = -int((f.split('/')[-1])[:-4])\n",
    "        imgs[pos_z] = img\n",
    "\n",
    "\n",
    "    #sample_z = np.linspace(0, len(imgs)-1, RESOL, dtype=int)\n",
    "\n",
    "    imgs_3d = []\n",
    "    n_imgs = len(imgs)    \n",
    "    z_crop_range= (absolute_crop[0:2]*n_imgs).astype(int)\n",
    "\n",
    "    #print(z_crop_range)\n",
    "    for i, k in enumerate(sorted(imgs.keys())):\n",
    "        #if i in sample_z:\n",
    "        if(i >= z_crop_range[0] and i < z_crop_range[1]):\n",
    "            img = imgs[k]\n",
    "            imgs_3d.append(img[None])\n",
    "        \n",
    "    imgs_3d = np.vstack(imgs_3d)\n",
    "    imgs_3d = ((imgs_3d - imgs_3d.min()) / (imgs_3d.max() - imgs_3d.min()))\n",
    "\n",
    "    if dicom.PhotometricInterpretation == \"MONOCHROME1\":\n",
    "        imgs_3d = 1.0 - imgs_3d\n",
    "\n",
    "    #Loaded original imgs_3d    \n",
    "    processed_img_3d = np.zeros((6, RESOL, RESOL, RESOL))\n",
    "\n",
    "    for i in range(0, 6):     \n",
    "        #To deal with almost not detected slices\n",
    "        try:   \n",
    "            processed_img_3d[i] = crop_resize_avg_and_std_3d(imgs_3d, crop_regions[i])\n",
    "        except:\n",
    "            processed_img_3d[i] = crop_resize_avg_and_std_3d(imgs_3d, np.array([0, 1, 0, 1, 0, 1]))\n",
    "\n",
    "    #here to\n",
    "    #gzip too slow maybe I should divide the inference process to chunks or do not save in the inference notebooks\\\n",
    "    \n",
    "    \n",
    "    processed_img_3d = (processed_img_3d).astype(np.float16)\n",
    "    #compress(save_path, processed_img_3d)\n",
    "    compress_fast(save_path, processed_img_3d)                      \n",
    "    #save_pickle(save_path, processed_img_3d)\n",
    "\n",
    "    del imgs, img\n",
    "    gc.collect()\n",
    "    return processed_img_3d\n",
    "\n"
   ]
  },
  {
   "cell_type": "code",
   "execution_count": 8,
   "metadata": {},
   "outputs": [],
   "source": [
    "# Preprocess dataset\n",
    "rng_samples = np.linspace(0, len(train_meta_df), N_PREPROCESS_CHUNKS+1, dtype = int)\n",
    "def process_3d_wrapper(process_ind, rng_samples = rng_samples, train_meta_df = train_meta_df):\n",
    "    for i in tqdm(range(rng_samples[process_ind], rng_samples[process_ind+1])):\n",
    "        if not os.path.isfile(train_meta_df.iloc[i]['path']):\n",
    "            process_3d(train_meta_df.iloc[i]['path'])"
   ]
  },
  {
   "cell_type": "code",
   "execution_count": 19,
   "metadata": {},
   "outputs": [
    {
     "name": "stdout",
     "output_type": "stream",
     "text": [
      "tensor([1., 0., 1., 0., 1., 0., 0., 1., 0., 0., 1., 0., 0., 0.])\n"
     ]
    },
    {
     "data": {
      "text/plain": [
       "2086"
      ]
     },
     "execution_count": 19,
     "metadata": {},
     "output_type": "execute_result"
    }
   ],
   "source": [
    "class AbdominalCTDataset(Dataset):\n",
    "    def __init__(self, meta_df, is_train = True, transform_set = None):\n",
    "        self.meta_df = meta_df\n",
    "        self.is_train = is_train\n",
    "        self.transform_set = transform_set\n",
    "    def __len__(self):\n",
    "        return len(self.meta_df)\n",
    "    \n",
    "    def __getitem__(self, idx):\n",
    "        row = self.meta_df.iloc[idx]\n",
    "        label = row[['bowel_healthy','bowel_injury',\n",
    "                    'extravasation_healthy','extravasation_injury',\n",
    "                    'kidney_healthy','kidney_low','kidney_high',\n",
    "                    'liver_healthy','liver_low','liver_high',\n",
    "                    'spleen_healthy','spleen_low','spleen_high', 'any_injury']]\n",
    "\n",
    "        #To avoid loading issue when applying multiprocessing to the unzip module\n",
    "        try:\n",
    "        #data_3d = decompress_fast(row['cropped_path'])  \n",
    "            data_3d = decompress_fast(row['cropped_path'])            \n",
    "            #data_3d = data_3d.reshape(6, RESOL, RESOL, RESOL).astype(np.float32)  # channel, 3D             \n",
    "        except:                \n",
    "            while(1):\n",
    "                try:\n",
    "                    data_3d = decompress_fast(row['cropped_path'])        \n",
    "                    break                        \n",
    "                except:\n",
    "                    continue\n",
    "                \n",
    "            #data_3d = process_3d_crop(row['cropped_path'], row['mask_path'])           \n",
    "            #data_3d = data_3d.reshape(6, RESOL, RESOL, RESOL).astype(np.float32)  # channel, 3D                 \n",
    "\n",
    "        data_3d = torch.from_numpy(data_3d)\n",
    "        if self.transform_set is not None:\n",
    "            data_3d = self.transform_set({'image':data_3d})\n",
    "            data_3d = data_3d['image']\n",
    "        #augmentation  \n",
    "        #if self.is_train:            \n",
    "        #    random_angle = np.random.rand(1)[0]*360.0-180.0\n",
    "        #    data_3d = transforms.functional.rotate(data_3d, random_angle, transforms.InterpolationMode.BILINEAR)\n",
    "            \n",
    "\n",
    "        label = label.to_numpy().astype(np.float32)\n",
    "                \n",
    "        label = torch.from_numpy(label)\n",
    "        return data_3d, label        \n",
    "\n",
    "train_dataset = AbdominalCTDataset(train_meta_df)\n",
    "data_3d, label = train_dataset[0]\n",
    "print(label)\n",
    "\n",
    "del train_dataset, data_3d, label\n",
    "gc.collect()"
   ]
  },
  {
   "cell_type": "code",
   "execution_count": 10,
   "metadata": {},
   "outputs": [],
   "source": [
    "import timm.models.layers"
   ]
  },
  {
   "cell_type": "markdown",
   "metadata": {},
   "source": [
    "# Model"
   ]
  },
  {
   "cell_type": "code",
   "execution_count": 11,
   "metadata": {},
   "outputs": [],
   "source": [
    "from timm.models.layers.conv2d_same import Conv2dSame\n",
    "from conv3d_same import Conv3dSame\n",
    "\n",
    "\n",
    "def convert_3d(module):\n",
    "\n",
    "    module_output = module\n",
    "    if isinstance(module, torch.nn.BatchNorm2d):\n",
    "        module_output = torch.nn.BatchNorm3d(\n",
    "            module.num_features,\n",
    "            module.eps,\n",
    "            module.momentum,\n",
    "            module.affine,\n",
    "            module.track_running_stats,\n",
    "        )\n",
    "        if module.affine:\n",
    "            with torch.no_grad():\n",
    "                module_output.weight = module.weight\n",
    "                module_output.bias = module.bias\n",
    "        module_output.running_mean = module.running_mean\n",
    "        module_output.running_var = module.running_var\n",
    "        module_output.num_batches_tracked = module.num_batches_tracked\n",
    "        if hasattr(module, \"qconfig\"):\n",
    "            module_output.qconfig = module.qconfig\n",
    "            \n",
    "    elif isinstance(module, Conv2dSame):\n",
    "        module_output = Conv3dSame(\n",
    "            in_channels=module.in_channels,\n",
    "            out_channels=module.out_channels,\n",
    "            kernel_size=module.kernel_size[0],\n",
    "            stride=module.stride[0],\n",
    "            padding=module.padding[0],\n",
    "            dilation=module.dilation[0],\n",
    "            groups=module.groups,\n",
    "            bias=module.bias is not None,\n",
    "        )\n",
    "        module_output.weight = torch.nn.Parameter(module.weight.unsqueeze(-1).repeat(1,1,1,1,module.kernel_size[0]))\n",
    "\n",
    "    elif isinstance(module, torch.nn.Conv2d):\n",
    "        module_output = torch.nn.Conv3d(\n",
    "            in_channels=module.in_channels,\n",
    "            out_channels=module.out_channels,\n",
    "            kernel_size=module.kernel_size[0],\n",
    "            stride=module.stride[0],\n",
    "            padding=module.padding[0],\n",
    "            dilation=module.dilation[0],\n",
    "            groups=module.groups,\n",
    "            bias=module.bias is not None,\n",
    "            padding_mode=module.padding_mode\n",
    "        )\n",
    "        module_output.weight = torch.nn.Parameter(module.weight.unsqueeze(-1).repeat(1,1,1,1,module.kernel_size[0]))\n",
    "\n",
    "    elif isinstance(module, torch.nn.MaxPool2d):\n",
    "        module_output = torch.nn.MaxPool3d(\n",
    "            kernel_size=module.kernel_size,\n",
    "            stride=module.stride,\n",
    "            padding=module.padding,\n",
    "            dilation=module.dilation,\n",
    "            ceil_mode=module.ceil_mode,\n",
    "        )\n",
    "    elif isinstance(module, torch.nn.AvgPool2d):\n",
    "        module_output = torch.nn.AvgPool3d(\n",
    "            kernel_size=module.kernel_size,\n",
    "            stride=module.stride,\n",
    "            padding=module.padding,\n",
    "            ceil_mode=module.ceil_mode,\n",
    "        )\n",
    "\n",
    "    for name, child in module.named_children():\n",
    "        module_output.add_module(\n",
    "            name, convert_3d(child)\n",
    "        )\n",
    "    del module\n",
    "\n",
    "    return module_output\n",
    "\n",
    "\n",
    "#m = TimmSegModel(backbone)\n",
    "#m = convert_3d(m)\n",
    "#out = m(torch.rand(1, 1, 128,128,128))\n",
    "#for i in range(0, len(out)):\n",
    "#    print(out[i].shape)"
   ]
  },
  {
   "cell_type": "code",
   "execution_count": 12,
   "metadata": {},
   "outputs": [],
   "source": [
    "class TimmSegModel(nn.Module):\n",
    "    def __init__(self, backbone, segtype='unet', pretrained=False):\n",
    "        super(TimmSegModel, self).__init__()\n",
    "\n",
    "        self.encoder = timm_new.create_model(\n",
    "            backbone,\n",
    "            in_chans=N_CHANNELS,\n",
    "            features_only=True,\n",
    "            drop_rate=drop_rate,\n",
    "            drop_path_rate=drop_path_rate,\n",
    "            pretrained=pretrained\n",
    "        )\n",
    "        g = self.encoder(torch.rand(1, N_CHANNELS, 64, 64))\n",
    "        encoder_channels = [1] + [_.shape[1] for _ in g]\n",
    "        decoder_channels = [256, 128, 64, 32, 16]\n",
    "        \n",
    "        #if segtype == 'unet':\n",
    "        #    self.decoder = smp.unet.decoder.UnetDecoder(\n",
    "        #        encoder_channels=encoder_channels[:n_blocks+1],\n",
    "        #        decoder_channels=decoder_channels[:n_blocks],\n",
    "        #        n_blocks=n_blocks,\n",
    "        #    )\n",
    "        self.avgpool = nn.AvgPool2d(5, 4, 2)\n",
    "        \n",
    "        [_.shape[1] for _ in g]\n",
    "        self.convs1x1 = nn.ModuleList()    \n",
    "        self.batchnorms = nn.ModuleList()    \n",
    "        self.batchnorms13 = nn.ModuleList()\n",
    "        for i in range(0, len(g)):\n",
    "            self.convs1x1.append(nn.Conv2d(g[i].shape[1], 13, 1))\n",
    "            self.batchnorms.append(nn.BatchNorm2d(g[i].shape[1]))\n",
    "            self.batchnorms13.append(nn.BatchNorm2d(13))\n",
    "\n",
    "        del g\n",
    "        gc.collect()\n",
    "    def forward(self,x):\n",
    "        global_features = self.encoder(x)[:n_blocks]        \n",
    "        for i in range(0, len(global_features)):\n",
    "            global_features[i] = self.batchnorms[i](global_features[i])\n",
    "            global_features[i] = self.convs1x1[i](global_features[i])\n",
    "            global_features[i] = self.batchnorms13[i](global_features[i])\n",
    "            \n",
    "            #global_features[i] = self.avgpool(global_features[i])\n",
    "        return global_features\n",
    "        #seg_features = self.decoder(*global_features)\n",
    "        #seg_features = self.segmentation_head(seg_features)\n"
   ]
  },
  {
   "cell_type": "code",
   "execution_count": 13,
   "metadata": {},
   "outputs": [],
   "source": [
    "class AbdominalClassifier(nn.Module):\n",
    "    def __init__(self, device = DEVICE):\n",
    "        super().__init__()\n",
    "        self.device = device\n",
    "        self.upsample = torch.nn.Upsample(size = [UP_RESOL, UP_RESOL, UP_RESOL])\n",
    "        self.resnet3d = TimmSegModel(backbone)\n",
    "        self.resnet3d = convert_3d(self.resnet3d)\n",
    "        #self.resnet3d.load_state_dict(torch.load(f'{BASE_PATH}/seg_models_backup/timm3d_res18d_unet4b_128_128_128_dsv2_flip12_shift333p7_gd1p5_bs4_lr3e4_20x50ep_fold0_best.pth'), strict=False)\n",
    "        self.flatten  = nn.Flatten()\n",
    "        self.dropout  = nn.Dropout(p=0.5)\n",
    "        self.softmax  = nn.Softmax(dim=1)        \n",
    "        self.maxpool  = nn.MaxPool1d(5, 1)\n",
    "    def forward(self, x):\n",
    "        batch_size = x.shape[0]\n",
    "        x = self.upsample(x)\n",
    "        x = self.resnet3d(x)\n",
    "        pooled_features = []\n",
    "        for i in range(0, len(x)):        \n",
    "            #pooled_features.append(self.flatten(torch.sum(x[i], dim = 1)))\n",
    "            pooled_features.append(torch.reshape(torch.mean(x[i], dim = (2, 3, 4)), (batch_size, 13, 1)))\n",
    "            \n",
    "        x = torch.cat(pooled_features, dim=2)\n",
    "        labels = torch.mean(x, dim=2)\n",
    "        \n",
    "        bowel_soft = self.softmax(labels[:,0:2])\n",
    "        extrav_soft = self.softmax(labels[:,2:4])\n",
    "        kidney_soft = self.softmax(labels[:,4:7])\n",
    "        liver_soft = self.softmax(labels[:,7:10])\n",
    "        spleen_soft = self.softmax(labels[:,10:13])\n",
    "\n",
    "        any_in = torch.cat([1-bowel_soft[:,0:1], 1-extrav_soft[:,0:1], \n",
    "                            1-kidney_soft[:,0:1], 1-liver_soft[:,0:1], 1-spleen_soft[:,0:1]], dim = 1) \n",
    "        any_in = self.maxpool(any_in)\n",
    "        any_not_in = 1-any_in\n",
    "        any_in = torch.cat([any_not_in, any_in], dim = 1)\n",
    "\n",
    "        return labels, any_in"
   ]
  },
  {
   "cell_type": "code",
   "execution_count": 14,
   "metadata": {},
   "outputs": [
    {
     "name": "stdout",
     "output_type": "stream",
     "text": [
      "28513329\n"
     ]
    },
    {
     "data": {
      "text/plain": [
       "0"
      ]
     },
     "execution_count": 14,
     "metadata": {},
     "output_type": "execute_result"
    }
   ],
   "source": [
    "model = AbdominalClassifier()\n",
    "\n",
    "def get_n_params(model):\n",
    "    pp=0\n",
    "    for p in list(model.parameters()):\n",
    "        nn=1\n",
    "        for s in list(p.size()):\n",
    "            nn = nn*s\n",
    "        pp += nn\n",
    "    return pp\n",
    "\n",
    "print(get_n_params(model))\n",
    "del model\n",
    "gc.collect()"
   ]
  },
  {
   "cell_type": "markdown",
   "metadata": {},
   "source": [
    "# Train"
   ]
  },
  {
   "cell_type": "code",
   "execution_count": 15,
   "metadata": {},
   "outputs": [],
   "source": [
    "model = AbdominalClassifier()\n",
    "model.to(DEVICE)\n",
    "\n",
    "\n",
    "#scheduler = CosineAnnealingLR(optimizer, T_max=ttl_iters, eta_min=1e-6)\n",
    "\n",
    "\n",
    "weights = np.ones(2)\n",
    "weights[1] = 2\n",
    "crit_bowel  = nn.CrossEntropyLoss(weight = torch.from_numpy(weights).to(DEVICE))\n",
    "weights[1] = 6\n",
    "crit_extrav = nn.CrossEntropyLoss(weight = torch.from_numpy(weights).to(DEVICE))\n",
    "crit_any = nn.CrossEntropyLoss(weight = torch.from_numpy(weights).to(DEVICE))\n",
    "\n",
    "weights = np.ones((3))\n",
    "weights[1] = 2\n",
    "weights[2] = 4\n",
    "crit_kidney = nn.CrossEntropyLoss(weight = torch.from_numpy(weights).to(DEVICE))\n",
    "crit_liver  = nn.CrossEntropyLoss(weight = torch.from_numpy(weights).to(DEVICE))\n",
    "crit_spleen = nn.CrossEntropyLoss(weight = torch.from_numpy(weights).to(DEVICE))\n"
   ]
  },
  {
   "cell_type": "code",
   "execution_count": 16,
   "metadata": {},
   "outputs": [],
   "source": [
    "def normalize_to_one(tensor):\n",
    "    norm = torch.sum(tensor, 1)\n",
    "    for i in range(0, tensor.shape[1]):\n",
    "        tensor[:,i]/=norm\n",
    "    return tensor\n",
    "\n",
    "def apply_softmax_to_labels(X_out):\n",
    "    softmax = nn.Softmax(dim=1)\n",
    "\n",
    "    X_out[:,:2]    = normalize_to_one(softmax(X_out[:,:2]))\n",
    "    X_out[:,2:4]   = normalize_to_one(softmax(X_out[:,2:4]))\n",
    "    X_out[:,4:7]   = normalize_to_one(softmax(X_out[:,4:7]))\n",
    "    X_out[:,7:10]  = normalize_to_one(softmax(X_out[:,7:10]))\n",
    "    X_out[:,10:13] = normalize_to_one(softmax(X_out[:,10:13]))\n",
    "\n",
    "    return X_out\n",
    "\n",
    "def calculate_score(X_outs, ys, step = 'train'):\n",
    "    X_outs = X_outs.astype(np.float64)\n",
    "    ys     = ys.astype(np.float64)\n",
    "\n",
    "    bowel_weights  =  ys[:,0] + 2*ys[:,1]\n",
    "    extrav_weights = ys[:,2] + 6*ys[:,3]\n",
    "    kidney_weights = ys[:,4] + 2*ys[:,5] + 4*ys[:,6]\n",
    "    liver_weights  = ys[:,7] + 2*ys[:,8] + 4*ys[:,9]\n",
    "    spleen_weights = ys[:,10] + 2*ys[:,11] + 4*ys[:,12]\n",
    "    any_in_weights = ys[:,13] + 6*ys[:,14]\n",
    "    \n",
    "\n",
    "    bowel_loss  = sklearn.metrics.log_loss(ys[:,:2], X_outs[:,:2], sample_weight = bowel_weights)\n",
    "    extrav_loss = sklearn.metrics.log_loss(ys[:,2:4], X_outs[:,2:4], sample_weight = extrav_weights)\n",
    "    kidney_loss = sklearn.metrics.log_loss(ys[:,4:7], X_outs[:,4:7], sample_weight = kidney_weights)\n",
    "    liver_loss  = sklearn.metrics.log_loss(ys[:,7:10], X_outs[:,7:10], sample_weight = liver_weights)\n",
    "    spleen_loss = sklearn.metrics.log_loss(ys[:,10:13], X_outs[:,10:13], sample_weight = spleen_weights)\n",
    "    any_in_loss = sklearn.metrics.log_loss(ys[:,13:15], X_outs[:,13:15], sample_weight =  any_in_weights)\n",
    "    \n",
    "    avg_loss = (bowel_loss + extrav_loss + kidney_loss + liver_loss + spleen_loss + any_in_loss)/6\n",
    "\n",
    "    losses= {f'{step}_bowel_metric': bowel_loss, f'{step}_extrav_metric': extrav_loss, f'{step}_kidney_metric': kidney_loss,\n",
    "             f'{step}_liver_metric': liver_loss, f'{step}_spleen_metric': spleen_loss, f'{step}_any_in_metric': any_in_loss,\n",
    "             f'{step}_avg_metric': avg_loss}\n",
    "\n",
    "    wandb.log(losses)\n",
    "    return avg_loss\n",
    "\n",
    "def calculate_loss(X_out, X_any, y):\n",
    "    batch_size = X_out.shape[0]\n",
    "    bowel_loss  = crit_bowel(X_out[:,:2], y[:,:2])\n",
    "    extrav_loss = crit_extrav(X_out[:,2:4], y[:,2:4])\n",
    "    kidney_loss = crit_kidney(X_out[:,4:7], y[:,4:7])\n",
    "    liver_loss  = crit_liver(X_out[:,7:10], y[:,7:10])\n",
    "    spleen_loss = crit_spleen(X_out[:,10:13], y[:,10:13])\n",
    "    any_in_loss = crit_any(X_any,  torch.cat([torch.ones(batch_size, 1).to(DEVICE)- y[:,13:14],y[:,13:14]], dim = 1))\n",
    "    \n",
    "    avg_loss = (bowel_loss + extrav_loss + kidney_loss + liver_loss + spleen_loss + any_in_loss)/6\n",
    "    return bowel_loss, extrav_loss, kidney_loss, liver_loss, spleen_loss, any_in_loss, avg_loss"
   ]
  },
  {
   "cell_type": "code",
   "execution_count": 17,
   "metadata": {},
   "outputs": [],
   "source": [
    "def mixup(inputs, truth, clip=[0, 1]):\n",
    "    indices = torch.randperm(inputs.size(0))\n",
    "    shuffled_input = inputs[indices]\n",
    "    shuffled_labels = truth[indices]\n",
    "\n",
    "    lam = np.random.uniform(clip[0], clip[1])\n",
    "    inputs = inputs * lam + shuffled_input * (1 - lam)\n",
    "    return inputs, truth, shuffled_labels, lam\n",
    "\n",
    "transforms_train = transforms.Compose([\n",
    "    transforms.RandFlipd(keys=[\"image\"], prob=0.5, spatial_axis=1),\n",
    "    transforms.RandFlipd(keys=[\"image\"], prob=0.5, spatial_axis=2),\n",
    "    transforms.RandAffined(keys=[\"image\"], translate_range=[int(x*y) for x, y in zip([RESOL, RESOL, RESOL], [0.3, 0.3, 0.3])], padding_mode='zeros', prob=0.7),\n",
    "    transforms.RandGridDistortiond(keys=(\"image\"), prob=0.5, distort_limit=(-0.01, 0.01), mode=\"nearest\"),    \n",
    "    #monai.transforms.RandGibbsNoise(prob=0.1, alpha=(0.0, 1.0)),\n",
    "])\n",
    "\n",
    "transforms_valid = transforms.Compose([\n",
    "])"
   ]
  },
  {
   "cell_type": "code",
   "execution_count": 18,
   "metadata": {},
   "outputs": [
    {
     "data": {
      "text/html": [
       "wandb version 0.15.10 is available!  To upgrade, please run:\n",
       " $ pip install wandb --upgrade"
      ],
      "text/plain": [
       "<IPython.core.display.HTML object>"
      ]
     },
     "metadata": {},
     "output_type": "display_data"
    },
    {
     "data": {
      "text/html": [
       "Tracking run with wandb version 0.15.9"
      ],
      "text/plain": [
       "<IPython.core.display.HTML object>"
      ]
     },
     "metadata": {},
     "output_type": "display_data"
    },
    {
     "data": {
      "text/html": [
       "Run data is saved locally in <code>/home/junseonglee/Desktop/01_codes/inputs/rsna-2023-abdominal-trauma-detection/wandb/run-20230910_142320-6esks12q</code>"
      ],
      "text/plain": [
       "<IPython.core.display.HTML object>"
      ]
     },
     "metadata": {},
     "output_type": "display_data"
    },
    {
     "data": {
      "text/html": [
       "Syncing run <strong><a href='https://wandb.ai/junseonglee/RSNA_ABTD/runs/6esks12q' target=\"_blank\">seresnext50_32x4d.racm_in1k</a></strong> to <a href='https://wandb.ai/junseonglee/RSNA_ABTD' target=\"_blank\">Weights & Biases</a> (<a href='https://wandb.me/run' target=\"_blank\">docs</a>)<br/>"
      ],
      "text/plain": [
       "<IPython.core.display.HTML object>"
      ]
     },
     "metadata": {},
     "output_type": "display_data"
    },
    {
     "data": {
      "text/html": [
       " View project at <a href='https://wandb.ai/junseonglee/RSNA_ABTD' target=\"_blank\">https://wandb.ai/junseonglee/RSNA_ABTD</a>"
      ],
      "text/plain": [
       "<IPython.core.display.HTML object>"
      ]
     },
     "metadata": {},
     "output_type": "display_data"
    },
    {
     "data": {
      "text/html": [
       " View run at <a href='https://wandb.ai/junseonglee/RSNA_ABTD/runs/6esks12q' target=\"_blank\">https://wandb.ai/junseonglee/RSNA_ABTD/runs/6esks12q</a>"
      ],
      "text/plain": [
       "<IPython.core.display.HTML object>"
      ]
     },
     "metadata": {},
     "output_type": "display_data"
    },
    {
     "name": "stderr",
     "output_type": "stream",
     "text": [
      "  0%|          | 0/100 [00:00<?, ?it/s]"
     ]
    },
    {
     "name": "stdout",
     "output_type": "stream",
     "text": [
      "Epoch 1 / trn/loss=0.9937\n",
      "Epoch 1 / train/metric=0.7324\n"
     ]
    },
    {
     "name": "stderr",
     "output_type": "stream",
     "text": [
      "  1%|          | 1/100 [03:04<5:04:19, 184.44s/it]"
     ]
    },
    {
     "name": "stdout",
     "output_type": "stream",
     "text": [
      "Epoch 1 / val/metric=0.6297\n",
      "Best val_metric 0.629709709993903 at epoch 1!\n",
      "Epoch 2 / trn/loss=0.8619\n",
      "Epoch 2 / train/metric=0.6122\n",
      "Epoch 2 / val/metric=0.5868\n",
      "Best val_metric 0.5867643945378124 at epoch 2!\n"
     ]
    },
    {
     "name": "stderr",
     "output_type": "stream",
     "text": [
      "  2%|▏         | 2/100 [06:10<5:03:12, 185.64s/it]"
     ]
    },
    {
     "name": "stdout",
     "output_type": "stream",
     "text": [
      "Epoch 3 / trn/loss=0.8381\n",
      "Epoch 3 / train/metric=0.5904\n"
     ]
    },
    {
     "name": "stderr",
     "output_type": "stream",
     "text": [
      "  3%|▎         | 3/100 [09:17<5:00:35, 185.93s/it]"
     ]
    },
    {
     "name": "stdout",
     "output_type": "stream",
     "text": [
      "Epoch 3 / val/metric=0.5762\n",
      "Best val_metric 0.576180901089089 at epoch 3!\n",
      "Epoch 4 / trn/loss=0.8322\n",
      "Epoch 4 / train/metric=0.5852\n",
      "Epoch 4 / val/metric=0.5713\n",
      "Best val_metric 0.5713243340592015 at epoch 4!\n"
     ]
    },
    {
     "name": "stderr",
     "output_type": "stream",
     "text": [
      "  4%|▍         | 4/100 [12:25<4:58:54, 186.81s/it]"
     ]
    },
    {
     "name": "stdout",
     "output_type": "stream",
     "text": [
      "Epoch 5 / trn/loss=0.8281\n",
      "Epoch 5 / train/metric=0.5819\n",
      "Epoch 5 / val/metric=0.5644\n",
      "Best val_metric 0.5643900709921791 at epoch 5!\n"
     ]
    },
    {
     "name": "stderr",
     "output_type": "stream",
     "text": [
      "  5%|▌         | 5/100 [15:31<4:55:10, 186.43s/it]"
     ]
    },
    {
     "name": "stdout",
     "output_type": "stream",
     "text": [
      "Epoch 6 / trn/loss=0.8218\n",
      "Epoch 6 / train/metric=0.5770\n"
     ]
    },
    {
     "name": "stderr",
     "output_type": "stream",
     "text": [
      "  6%|▌         | 6/100 [18:39<4:53:05, 187.08s/it]"
     ]
    },
    {
     "name": "stdout",
     "output_type": "stream",
     "text": [
      "Epoch 6 / val/metric=0.5596\n",
      "Best val_metric 0.5595909351966831 at epoch 6!\n",
      "Epoch 7 / trn/loss=0.8150\n",
      "Epoch 7 / train/metric=0.5721\n"
     ]
    },
    {
     "name": "stderr",
     "output_type": "stream",
     "text": [
      "  7%|▋         | 7/100 [21:45<4:49:25, 186.73s/it]"
     ]
    },
    {
     "name": "stdout",
     "output_type": "stream",
     "text": [
      "Epoch 7 / val/metric=0.5499\n",
      "Best val_metric 0.549861121385481 at epoch 7!\n",
      "Epoch 8 / trn/loss=0.8096\n",
      "Epoch 8 / train/metric=0.5682\n"
     ]
    },
    {
     "name": "stderr",
     "output_type": "stream",
     "text": [
      "  8%|▊         | 8/100 [24:50<4:45:35, 186.26s/it]"
     ]
    },
    {
     "name": "stdout",
     "output_type": "stream",
     "text": [
      "Epoch 8 / val/metric=0.5447\n",
      "Best val_metric 0.5446953613639632 at epoch 8!\n",
      "Epoch 9 / trn/loss=0.8033\n",
      "Epoch 9 / train/metric=0.5646\n"
     ]
    },
    {
     "name": "stderr",
     "output_type": "stream",
     "text": [
      "  9%|▉         | 9/100 [27:56<4:42:03, 185.97s/it]"
     ]
    },
    {
     "name": "stdout",
     "output_type": "stream",
     "text": [
      "Epoch 9 / val/metric=0.5500\n",
      "Epoch 10 / trn/loss=0.7923\n",
      "Epoch 10 / train/metric=0.5565\n"
     ]
    },
    {
     "name": "stderr",
     "output_type": "stream",
     "text": [
      " 10%|█         | 10/100 [31:01<4:38:42, 185.80s/it]"
     ]
    },
    {
     "name": "stdout",
     "output_type": "stream",
     "text": [
      "Epoch 10 / val/metric=0.5826\n",
      "Epoch 11 / trn/loss=0.7890\n",
      "Epoch 11 / train/metric=0.5544\n"
     ]
    },
    {
     "name": "stderr",
     "output_type": "stream",
     "text": [
      " 11%|█         | 11/100 [34:06<4:35:27, 185.70s/it]"
     ]
    },
    {
     "name": "stdout",
     "output_type": "stream",
     "text": [
      "Epoch 11 / val/metric=0.5408\n",
      "Best val_metric 0.5408037341116848 at epoch 11!\n",
      "Epoch 12 / trn/loss=0.7866\n",
      "Epoch 12 / train/metric=0.5523\n"
     ]
    },
    {
     "name": "stderr",
     "output_type": "stream",
     "text": [
      " 12%|█▏        | 12/100 [37:12<4:32:14, 185.62s/it]"
     ]
    },
    {
     "name": "stdout",
     "output_type": "stream",
     "text": [
      "Epoch 12 / val/metric=0.5485\n",
      "Epoch 13 / trn/loss=0.7777\n",
      "Epoch 13 / train/metric=0.5454\n"
     ]
    },
    {
     "name": "stderr",
     "output_type": "stream",
     "text": [
      " 13%|█▎        | 13/100 [40:18<4:29:27, 185.83s/it]"
     ]
    },
    {
     "name": "stdout",
     "output_type": "stream",
     "text": [
      "Epoch 13 / val/metric=0.5464\n",
      "Epoch 14 / trn/loss=0.7796\n",
      "Epoch 14 / train/metric=0.5478\n"
     ]
    },
    {
     "name": "stderr",
     "output_type": "stream",
     "text": [
      " 14%|█▍        | 14/100 [43:25<4:26:40, 186.06s/it]"
     ]
    },
    {
     "name": "stdout",
     "output_type": "stream",
     "text": [
      "Epoch 14 / val/metric=0.5495\n",
      "Epoch 15 / trn/loss=0.7755\n",
      "Epoch 15 / train/metric=0.5452\n",
      "Epoch 15 / val/metric=0.5395\n",
      "Best val_metric 0.539544020982779 at epoch 15!\n"
     ]
    },
    {
     "name": "stderr",
     "output_type": "stream",
     "text": [
      " 15%|█▌        | 15/100 [46:32<4:24:03, 186.39s/it]"
     ]
    },
    {
     "name": "stdout",
     "output_type": "stream",
     "text": [
      "Epoch 16 / trn/loss=0.7707\n",
      "Epoch 16 / train/metric=0.5405\n"
     ]
    },
    {
     "name": "stderr",
     "output_type": "stream",
     "text": [
      " 16%|█▌        | 16/100 [49:38<4:20:57, 186.40s/it]"
     ]
    },
    {
     "name": "stdout",
     "output_type": "stream",
     "text": [
      "Epoch 16 / val/metric=0.5290\n",
      "Best val_metric 0.5289675568586799 at epoch 16!\n",
      "Epoch 17 / trn/loss=0.7745\n",
      "Epoch 17 / train/metric=0.5425\n"
     ]
    },
    {
     "name": "stderr",
     "output_type": "stream",
     "text": [
      " 17%|█▋        | 17/100 [52:46<4:18:18, 186.73s/it]"
     ]
    },
    {
     "name": "stdout",
     "output_type": "stream",
     "text": [
      "Epoch 17 / val/metric=0.6010\n",
      "Epoch 18 / trn/loss=0.7630\n",
      "Epoch 18 / train/metric=0.5344\n"
     ]
    },
    {
     "name": "stderr",
     "output_type": "stream",
     "text": [
      " 18%|█▊        | 18/100 [55:52<4:15:08, 186.69s/it]"
     ]
    },
    {
     "name": "stdout",
     "output_type": "stream",
     "text": [
      "Epoch 18 / val/metric=0.5543\n",
      "Epoch 19 / trn/loss=0.7683\n",
      "Epoch 19 / train/metric=0.5390\n"
     ]
    },
    {
     "name": "stderr",
     "output_type": "stream",
     "text": [
      " 19%|█▉        | 19/100 [59:00<4:12:11, 186.80s/it]"
     ]
    },
    {
     "name": "stdout",
     "output_type": "stream",
     "text": [
      "Epoch 19 / val/metric=0.5461\n",
      "Epoch 20 / trn/loss=0.7638\n",
      "Epoch 20 / train/metric=0.5357\n"
     ]
    },
    {
     "name": "stderr",
     "output_type": "stream",
     "text": [
      " 20%|██        | 20/100 [1:02:06<4:08:50, 186.64s/it]"
     ]
    },
    {
     "name": "stdout",
     "output_type": "stream",
     "text": [
      "Epoch 20 / val/metric=0.6505\n",
      "Epoch 21 / trn/loss=0.7580\n",
      "Epoch 21 / train/metric=0.5300\n"
     ]
    },
    {
     "name": "stderr",
     "output_type": "stream",
     "text": [
      " 21%|██        | 21/100 [1:05:11<4:05:19, 186.32s/it]"
     ]
    },
    {
     "name": "stdout",
     "output_type": "stream",
     "text": [
      "Epoch 21 / val/metric=0.6044\n",
      "Epoch 22 / trn/loss=0.7552\n",
      "Epoch 22 / train/metric=0.5286\n"
     ]
    },
    {
     "name": "stderr",
     "output_type": "stream",
     "text": [
      " 22%|██▏       | 22/100 [1:08:18<4:02:28, 186.52s/it]"
     ]
    },
    {
     "name": "stdout",
     "output_type": "stream",
     "text": [
      "Epoch 22 / val/metric=0.5538\n",
      "Epoch 23 / trn/loss=0.7540\n",
      "Epoch 23 / train/metric=0.5277\n"
     ]
    },
    {
     "name": "stderr",
     "output_type": "stream",
     "text": [
      " 23%|██▎       | 23/100 [1:11:24<3:59:07, 186.33s/it]"
     ]
    },
    {
     "name": "stdout",
     "output_type": "stream",
     "text": [
      "Epoch 23 / val/metric=0.5415\n",
      "Epoch 24 / trn/loss=0.7498\n",
      "Epoch 24 / train/metric=0.5238\n"
     ]
    },
    {
     "name": "stderr",
     "output_type": "stream",
     "text": [
      " 24%|██▍       | 24/100 [1:14:31<3:56:07, 186.42s/it]"
     ]
    },
    {
     "name": "stdout",
     "output_type": "stream",
     "text": [
      "Epoch 24 / val/metric=0.5663\n",
      "Epoch 25 / trn/loss=0.7581\n",
      "Epoch 25 / train/metric=0.5317\n"
     ]
    },
    {
     "name": "stderr",
     "output_type": "stream",
     "text": [
      " 25%|██▌       | 25/100 [1:17:36<3:52:36, 186.08s/it]"
     ]
    },
    {
     "name": "stdout",
     "output_type": "stream",
     "text": [
      "Epoch 25 / val/metric=0.5335\n",
      "Epoch 26 / trn/loss=0.7494\n",
      "Epoch 26 / train/metric=0.5231\n"
     ]
    },
    {
     "name": "stderr",
     "output_type": "stream",
     "text": [
      " 26%|██▌       | 26/100 [1:20:42<3:49:34, 186.14s/it]"
     ]
    },
    {
     "name": "stdout",
     "output_type": "stream",
     "text": [
      "Epoch 26 / val/metric=0.5740\n",
      "Epoch 27 / trn/loss=0.7508\n",
      "Epoch 27 / train/metric=0.5237\n"
     ]
    },
    {
     "name": "stderr",
     "output_type": "stream",
     "text": [
      " 27%|██▋       | 27/100 [1:23:49<3:46:44, 186.36s/it]"
     ]
    },
    {
     "name": "stdout",
     "output_type": "stream",
     "text": [
      "Epoch 27 / val/metric=0.5524\n"
     ]
    },
    {
     "name": "stderr",
     "output_type": "stream",
     "text": [
      "                                                     "
     ]
    },
    {
     "name": "stdout",
     "output_type": "stream",
     "text": [
      "Epoch 28 / trn/loss=nan\n"
     ]
    },
    {
     "name": "stderr",
     "output_type": "stream",
     "text": [
      "\r"
     ]
    },
    {
     "ename": "ValueError",
     "evalue": "Input contains NaN.",
     "output_type": "error",
     "traceback": [
      "\u001b[0;31m---------------------------------------------------------------------------\u001b[0m",
      "\u001b[0;31mValueError\u001b[0m                                Traceback (most recent call last)",
      "Cell \u001b[0;32mIn[18], line 104\u001b[0m\n\u001b[1;32m    102\u001b[0m X_outs \u001b[39m=\u001b[39m np\u001b[39m.\u001b[39mvstack(X_outs) \n\u001b[1;32m    103\u001b[0m ys     \u001b[39m=\u001b[39m np\u001b[39m.\u001b[39mvstack(ys)\n\u001b[0;32m--> 104\u001b[0m metric \u001b[39m=\u001b[39m calculate_score(X_outs, ys, \u001b[39m'\u001b[39m\u001b[39mtrain\u001b[39m\u001b[39m'\u001b[39m)                 \n\u001b[1;32m    105\u001b[0m \u001b[39mprint\u001b[39m(\u001b[39m'\u001b[39m\u001b[39mEpoch \u001b[39m\u001b[39m{:d}\u001b[39;00m\u001b[39m / train/metric=\u001b[39m\u001b[39m{:.4f}\u001b[39;00m\u001b[39m'\u001b[39m\u001b[39m.\u001b[39mformat(epoch\u001b[39m+\u001b[39m\u001b[39m1\u001b[39m, metric))   \n\u001b[1;32m    107\u001b[0m \u001b[39mdel\u001b[39;00m X, X_outs, y, ys, X_any\n",
      "Cell \u001b[0;32mIn[16], line 30\u001b[0m, in \u001b[0;36mcalculate_score\u001b[0;34m(X_outs, ys, step)\u001b[0m\n\u001b[1;32m     26\u001b[0m spleen_weights \u001b[39m=\u001b[39m ys[:,\u001b[39m10\u001b[39m] \u001b[39m+\u001b[39m \u001b[39m2\u001b[39m\u001b[39m*\u001b[39mys[:,\u001b[39m11\u001b[39m] \u001b[39m+\u001b[39m \u001b[39m4\u001b[39m\u001b[39m*\u001b[39mys[:,\u001b[39m12\u001b[39m]\n\u001b[1;32m     27\u001b[0m any_in_weights \u001b[39m=\u001b[39m ys[:,\u001b[39m13\u001b[39m] \u001b[39m+\u001b[39m \u001b[39m6\u001b[39m\u001b[39m*\u001b[39mys[:,\u001b[39m14\u001b[39m]\n\u001b[0;32m---> 30\u001b[0m bowel_loss  \u001b[39m=\u001b[39m sklearn\u001b[39m.\u001b[39mmetrics\u001b[39m.\u001b[39mlog_loss(ys[:,:\u001b[39m2\u001b[39m], X_outs[:,:\u001b[39m2\u001b[39m], sample_weight \u001b[39m=\u001b[39m bowel_weights)\n\u001b[1;32m     31\u001b[0m extrav_loss \u001b[39m=\u001b[39m sklearn\u001b[39m.\u001b[39mmetrics\u001b[39m.\u001b[39mlog_loss(ys[:,\u001b[39m2\u001b[39m:\u001b[39m4\u001b[39m], X_outs[:,\u001b[39m2\u001b[39m:\u001b[39m4\u001b[39m], sample_weight \u001b[39m=\u001b[39m extrav_weights)\n\u001b[1;32m     32\u001b[0m kidney_loss \u001b[39m=\u001b[39m sklearn\u001b[39m.\u001b[39mmetrics\u001b[39m.\u001b[39mlog_loss(ys[:,\u001b[39m4\u001b[39m:\u001b[39m7\u001b[39m], X_outs[:,\u001b[39m4\u001b[39m:\u001b[39m7\u001b[39m], sample_weight \u001b[39m=\u001b[39m kidney_weights)\n",
      "File \u001b[0;32m~/miniconda3/envs/rsna_abtd/lib/python3.11/site-packages/sklearn/utils/_param_validation.py:211\u001b[0m, in \u001b[0;36mvalidate_params.<locals>.decorator.<locals>.wrapper\u001b[0;34m(*args, **kwargs)\u001b[0m\n\u001b[1;32m    205\u001b[0m \u001b[39mtry\u001b[39;00m:\n\u001b[1;32m    206\u001b[0m     \u001b[39mwith\u001b[39;00m config_context(\n\u001b[1;32m    207\u001b[0m         skip_parameter_validation\u001b[39m=\u001b[39m(\n\u001b[1;32m    208\u001b[0m             prefer_skip_nested_validation \u001b[39mor\u001b[39;00m global_skip_validation\n\u001b[1;32m    209\u001b[0m         )\n\u001b[1;32m    210\u001b[0m     ):\n\u001b[0;32m--> 211\u001b[0m         \u001b[39mreturn\u001b[39;00m func(\u001b[39m*\u001b[39margs, \u001b[39m*\u001b[39m\u001b[39m*\u001b[39mkwargs)\n\u001b[1;32m    212\u001b[0m \u001b[39mexcept\u001b[39;00m InvalidParameterError \u001b[39mas\u001b[39;00m e:\n\u001b[1;32m    213\u001b[0m     \u001b[39m# When the function is just a wrapper around an estimator, we allow\u001b[39;00m\n\u001b[1;32m    214\u001b[0m     \u001b[39m# the function to delegate validation to the estimator, but we replace\u001b[39;00m\n\u001b[1;32m    215\u001b[0m     \u001b[39m# the name of the estimator by the name of the function in the error\u001b[39;00m\n\u001b[1;32m    216\u001b[0m     \u001b[39m# message to avoid confusion.\u001b[39;00m\n\u001b[1;32m    217\u001b[0m     msg \u001b[39m=\u001b[39m re\u001b[39m.\u001b[39msub(\n\u001b[1;32m    218\u001b[0m         \u001b[39mr\u001b[39m\u001b[39m\"\u001b[39m\u001b[39mparameter of \u001b[39m\u001b[39m\\\u001b[39m\u001b[39mw+ must be\u001b[39m\u001b[39m\"\u001b[39m,\n\u001b[1;32m    219\u001b[0m         \u001b[39mf\u001b[39m\u001b[39m\"\u001b[39m\u001b[39mparameter of \u001b[39m\u001b[39m{\u001b[39;00mfunc\u001b[39m.\u001b[39m\u001b[39m__qualname__\u001b[39m\u001b[39m}\u001b[39;00m\u001b[39m must be\u001b[39m\u001b[39m\"\u001b[39m,\n\u001b[1;32m    220\u001b[0m         \u001b[39mstr\u001b[39m(e),\n\u001b[1;32m    221\u001b[0m     )\n",
      "File \u001b[0;32m~/miniconda3/envs/rsna_abtd/lib/python3.11/site-packages/sklearn/metrics/_classification.py:2838\u001b[0m, in \u001b[0;36mlog_loss\u001b[0;34m(y_true, y_pred, eps, normalize, sample_weight, labels)\u001b[0m\n\u001b[1;32m   2746\u001b[0m \u001b[39m@validate_params\u001b[39m(\n\u001b[1;32m   2747\u001b[0m     {\n\u001b[1;32m   2748\u001b[0m         \u001b[39m\"\u001b[39m\u001b[39my_true\u001b[39m\u001b[39m\"\u001b[39m: [\u001b[39m\"\u001b[39m\u001b[39marray-like\u001b[39m\u001b[39m\"\u001b[39m],\n\u001b[0;32m   (...)\u001b[0m\n\u001b[1;32m   2758\u001b[0m     y_true, y_pred, \u001b[39m*\u001b[39m, eps\u001b[39m=\u001b[39m\u001b[39m\"\u001b[39m\u001b[39mauto\u001b[39m\u001b[39m\"\u001b[39m, normalize\u001b[39m=\u001b[39m\u001b[39mTrue\u001b[39;00m, sample_weight\u001b[39m=\u001b[39m\u001b[39mNone\u001b[39;00m, labels\u001b[39m=\u001b[39m\u001b[39mNone\u001b[39;00m\n\u001b[1;32m   2759\u001b[0m ):\n\u001b[1;32m   2760\u001b[0m \u001b[39m    \u001b[39m\u001b[39mr\u001b[39m\u001b[39m\"\"\"Log loss, aka logistic loss or cross-entropy loss.\u001b[39;00m\n\u001b[1;32m   2761\u001b[0m \n\u001b[1;32m   2762\u001b[0m \u001b[39m    This is the loss function used in (multinomial) logistic regression\u001b[39;00m\n\u001b[0;32m   (...)\u001b[0m\n\u001b[1;32m   2836\u001b[0m \u001b[39m    0.21616...\u001b[39;00m\n\u001b[1;32m   2837\u001b[0m \u001b[39m    \"\"\"\u001b[39;00m\n\u001b[0;32m-> 2838\u001b[0m     y_pred \u001b[39m=\u001b[39m check_array(\n\u001b[1;32m   2839\u001b[0m         y_pred, ensure_2d\u001b[39m=\u001b[39m\u001b[39mFalse\u001b[39;00m, dtype\u001b[39m=\u001b[39m[np\u001b[39m.\u001b[39mfloat64, np\u001b[39m.\u001b[39mfloat32, np\u001b[39m.\u001b[39mfloat16]\n\u001b[1;32m   2840\u001b[0m     )\n\u001b[1;32m   2841\u001b[0m     \u001b[39mif\u001b[39;00m eps \u001b[39m==\u001b[39m \u001b[39m\"\u001b[39m\u001b[39mauto\u001b[39m\u001b[39m\"\u001b[39m:\n\u001b[1;32m   2842\u001b[0m         eps \u001b[39m=\u001b[39m np\u001b[39m.\u001b[39mfinfo(y_pred\u001b[39m.\u001b[39mdtype)\u001b[39m.\u001b[39meps\n",
      "File \u001b[0;32m~/miniconda3/envs/rsna_abtd/lib/python3.11/site-packages/sklearn/utils/validation.py:959\u001b[0m, in \u001b[0;36mcheck_array\u001b[0;34m(array, accept_sparse, accept_large_sparse, dtype, order, copy, force_all_finite, ensure_2d, allow_nd, ensure_min_samples, ensure_min_features, estimator, input_name)\u001b[0m\n\u001b[1;32m    953\u001b[0m         \u001b[39mraise\u001b[39;00m \u001b[39mValueError\u001b[39;00m(\n\u001b[1;32m    954\u001b[0m             \u001b[39m\"\u001b[39m\u001b[39mFound array with dim \u001b[39m\u001b[39m%d\u001b[39;00m\u001b[39m. \u001b[39m\u001b[39m%s\u001b[39;00m\u001b[39m expected <= 2.\u001b[39m\u001b[39m\"\u001b[39m\n\u001b[1;32m    955\u001b[0m             \u001b[39m%\u001b[39m (array\u001b[39m.\u001b[39mndim, estimator_name)\n\u001b[1;32m    956\u001b[0m         )\n\u001b[1;32m    958\u001b[0m     \u001b[39mif\u001b[39;00m force_all_finite:\n\u001b[0;32m--> 959\u001b[0m         _assert_all_finite(\n\u001b[1;32m    960\u001b[0m             array,\n\u001b[1;32m    961\u001b[0m             input_name\u001b[39m=\u001b[39minput_name,\n\u001b[1;32m    962\u001b[0m             estimator_name\u001b[39m=\u001b[39mestimator_name,\n\u001b[1;32m    963\u001b[0m             allow_nan\u001b[39m=\u001b[39mforce_all_finite \u001b[39m==\u001b[39m \u001b[39m\"\u001b[39m\u001b[39mallow-nan\u001b[39m\u001b[39m\"\u001b[39m,\n\u001b[1;32m    964\u001b[0m         )\n\u001b[1;32m    966\u001b[0m \u001b[39mif\u001b[39;00m ensure_min_samples \u001b[39m>\u001b[39m \u001b[39m0\u001b[39m:\n\u001b[1;32m    967\u001b[0m     n_samples \u001b[39m=\u001b[39m _num_samples(array)\n",
      "File \u001b[0;32m~/miniconda3/envs/rsna_abtd/lib/python3.11/site-packages/sklearn/utils/validation.py:124\u001b[0m, in \u001b[0;36m_assert_all_finite\u001b[0;34m(X, allow_nan, msg_dtype, estimator_name, input_name)\u001b[0m\n\u001b[1;32m    121\u001b[0m \u001b[39mif\u001b[39;00m first_pass_isfinite:\n\u001b[1;32m    122\u001b[0m     \u001b[39mreturn\u001b[39;00m\n\u001b[0;32m--> 124\u001b[0m _assert_all_finite_element_wise(\n\u001b[1;32m    125\u001b[0m     X,\n\u001b[1;32m    126\u001b[0m     xp\u001b[39m=\u001b[39mxp,\n\u001b[1;32m    127\u001b[0m     allow_nan\u001b[39m=\u001b[39mallow_nan,\n\u001b[1;32m    128\u001b[0m     msg_dtype\u001b[39m=\u001b[39mmsg_dtype,\n\u001b[1;32m    129\u001b[0m     estimator_name\u001b[39m=\u001b[39mestimator_name,\n\u001b[1;32m    130\u001b[0m     input_name\u001b[39m=\u001b[39minput_name,\n\u001b[1;32m    131\u001b[0m )\n",
      "File \u001b[0;32m~/miniconda3/envs/rsna_abtd/lib/python3.11/site-packages/sklearn/utils/validation.py:173\u001b[0m, in \u001b[0;36m_assert_all_finite_element_wise\u001b[0;34m(X, xp, allow_nan, msg_dtype, estimator_name, input_name)\u001b[0m\n\u001b[1;32m    156\u001b[0m \u001b[39mif\u001b[39;00m estimator_name \u001b[39mand\u001b[39;00m input_name \u001b[39m==\u001b[39m \u001b[39m\"\u001b[39m\u001b[39mX\u001b[39m\u001b[39m\"\u001b[39m \u001b[39mand\u001b[39;00m has_nan_error:\n\u001b[1;32m    157\u001b[0m     \u001b[39m# Improve the error message on how to handle missing values in\u001b[39;00m\n\u001b[1;32m    158\u001b[0m     \u001b[39m# scikit-learn.\u001b[39;00m\n\u001b[1;32m    159\u001b[0m     msg_err \u001b[39m+\u001b[39m\u001b[39m=\u001b[39m (\n\u001b[1;32m    160\u001b[0m         \u001b[39mf\u001b[39m\u001b[39m\"\u001b[39m\u001b[39m\\n\u001b[39;00m\u001b[39m{\u001b[39;00mestimator_name\u001b[39m}\u001b[39;00m\u001b[39m does not accept missing values\u001b[39m\u001b[39m\"\u001b[39m\n\u001b[1;32m    161\u001b[0m         \u001b[39m\"\u001b[39m\u001b[39m encoded as NaN natively. For supervised learning, you might want\u001b[39m\u001b[39m\"\u001b[39m\n\u001b[0;32m   (...)\u001b[0m\n\u001b[1;32m    171\u001b[0m         \u001b[39m\"\u001b[39m\u001b[39m#estimators-that-handle-nan-values\u001b[39m\u001b[39m\"\u001b[39m\n\u001b[1;32m    172\u001b[0m     )\n\u001b[0;32m--> 173\u001b[0m \u001b[39mraise\u001b[39;00m \u001b[39mValueError\u001b[39;00m(msg_err)\n",
      "\u001b[0;31mValueError\u001b[0m: Input contains NaN."
     ]
    }
   ],
   "source": [
    "wandb.init(\n",
    "    config = wandb_config,\n",
    "    project= PROJECT_NAME,\n",
    "    group  = GROUP_NAME,\n",
    "    name   = RUN_NAME,\n",
    "    dir    = BASE_PATH)\n",
    "\n",
    "if __name__ == '__main__':\n",
    "    train_dataset = AbdominalCTDataset(train_meta_df[train_meta_df['fold']!=0], is_train = True, transform_set  = transforms_train)\n",
    "    valid_dataset = AbdominalCTDataset(train_meta_df[train_meta_df['fold']==0], is_train = False, transform_set = transforms_valid)\n",
    "\n",
    "        \n",
    "    \n",
    "    train_loader = DataLoader(dataset = train_dataset, shuffle = True, batch_size = BATCH_SIZE, pin_memory = False, \n",
    "                            num_workers = N_WORKERS, drop_last = False)\n",
    "\n",
    "    valid_loader = DataLoader(dataset = valid_dataset, shuffle = False, batch_size = BATCH_SIZE, pin_memory = False, \n",
    "                            num_workers = N_WORKERS//2, drop_last = False)     \n",
    "    \n",
    "    ttl_iters = N_EPOCHS * len(train_loader)\n",
    "    optimizer = torch.optim.AdamW(model.parameters(), lr = LR)\n",
    "    n_batch_iters = len(train_loader)\n",
    "    scheduler = torch.optim.lr_scheduler.OneCycleLR(optimizer, max_lr=LR, \n",
    "                                                    steps_per_epoch= n_batch_iters, epochs = N_EPOCHS)\n",
    "\n",
    "    scaler = torch.cuda.amp.GradScaler(enabled=True)\n",
    "    gc.collect()\n",
    "\n",
    "    val_metrics = np.ones(N_EPOCHS)*100\n",
    "\n",
    "    for epoch in tqdm(range(0, N_EPOCHS), leave = False):     \n",
    "\n",
    "        train_meters = {'loss': AverageMeter()}\n",
    "        val_meters   = {'loss': AverageMeter()}\n",
    "        \n",
    "        model.train()\n",
    "        #pbar = tqdm(train_loader, leave=False)  \n",
    "\n",
    "        X_outs=[]\n",
    "        ys=[]\n",
    "        counter = 0\n",
    "        last_count_on = False\n",
    "        for X, y in train_loader:\n",
    "            current_lr = float(scheduler.get_last_lr()[0])\n",
    "            wandb.log({'lr': current_lr})\n",
    "            counter+=1\n",
    "            batch_size = X.shape[0]\n",
    "            X, y = X.to(DEVICE), y.to(DEVICE)\n",
    "            optimizer.zero_grad()\n",
    "            with torch.cuda.amp.autocast(enabled=True):  \n",
    "                X_out, X_any  = model(X)\n",
    "                do_mixup = False\n",
    "                if np.random.random() < p_mixup:\n",
    "                    do_mixup = True\n",
    "                    X, y, labels_shuffled, lam = mixup(X, y)                \n",
    "                \n",
    "                bowel_loss, extrav_loss, kidney_loss, liver_loss, spleen_loss, any_in_loss, avg_loss = calculate_loss(X_out, X_any, y)\n",
    "                if do_mixup:\n",
    "                    bowel_loss2, extrav_loss2, kidney_loss2, liver_loss2, spleen_loss2, any_in_loss2, avg_loss2 = calculate_loss(X_out, X_any, labels_shuffled)\n",
    "                    bowel_loss  = bowel_loss * lam  + bowel_loss2 * (1 - lam)\n",
    "                    extrav_loss = extrav_loss * lam  + extrav_loss2 * (1 - lam)\n",
    "                    kidney_loss = kidney_loss * lam  + kidney_loss2 * (1 - lam)         \n",
    "                    liver_loss  = liver_loss * lam  + liver_loss2 * (1 - lam) \n",
    "                    spleen_loss = spleen_loss * lam  + spleen_loss2 * (1 - lam) \n",
    "                    any_in_loss = any_in_loss * lam  + any_in_loss2 * (1 - lam) \n",
    "                    avg_loss = avg_loss * lam  + avg_loss2 * (1 - lam)       \n",
    "                    \n",
    "                step = 'train'\n",
    "                wandb.log({f'{step}_bowel_loss': bowel_loss.item(),\n",
    "                           f'{step}_extrav_loss': extrav_loss.item(),\n",
    "                           f'{step}_kidney_loss': kidney_loss.item(),\n",
    "                           f'{step}_liver_loss': liver_loss.item(),\n",
    "                           f'{step}_spleen_loss': spleen_loss.item(),\n",
    "                           f'{step}_any_loss': any_in_loss.item(),\n",
    "                           f'{step}_avg_loss': avg_loss.item()\n",
    "                           })\n",
    "\n",
    "                scaler.scale(avg_loss).backward()\n",
    "                scaler.step(optimizer)\n",
    "                scheduler.step()\n",
    "                scaler.update()                              \n",
    "\n",
    "            #Metric calculation\n",
    "            y_any = torch.cat([torch.ones(batch_size, 1).to(DEVICE)- y[:,13:14],y[:,13:14]], dim = 1)    \n",
    "            X_out = apply_softmax_to_labels(X_out).detach().to('cpu').numpy()\n",
    "            X_any = X_any.detach().to('cpu').numpy()\n",
    "            X_out = np.hstack([X_out, X_any])\n",
    "            X_outs.append(X_out)\n",
    "\n",
    "            y     = y.to('cpu').numpy()[:,:-1]\n",
    "            y_any = y_any.to('cpu').numpy()\n",
    "            y     = np.hstack([y, y_any])\n",
    "            ys.append(y)\n",
    "\n",
    "            trn_loss = avg_loss.item()      \n",
    "            train_meters['loss'].update(trn_loss, n=X.size(0))     \n",
    "            #pbar.set_description(f'Train loss: {trn_loss}')   \n",
    "            \n",
    "            \n",
    "        print('Epoch {:d} / trn/loss={:.4f}'.format(epoch+1, train_meters['loss'].avg))    \n",
    "\n",
    "        X_outs = np.vstack(X_outs) \n",
    "        ys     = np.vstack(ys)\n",
    "        metric = calculate_score(X_outs, ys, 'train')                 \n",
    "        print('Epoch {:d} / train/metric={:.4f}'.format(epoch+1, metric))   \n",
    "\n",
    "        del X, X_outs, y, ys, X_any\n",
    "        gc.collect()\n",
    "        torch.cuda.empty_cache()\n",
    "\n",
    "        X_outs=[]\n",
    "        ys=[]\n",
    "        model.eval()\n",
    "        for X, y in valid_loader:        \n",
    "            batch_size = X.shape[0]        \n",
    "            X, y = X.to(DEVICE), y.to(DEVICE)\n",
    "                 \n",
    "            with torch.cuda.amp.autocast(enabled=True):                \n",
    "                with torch.no_grad():                 \n",
    "                    X_out, X_any = model(X)                                           \n",
    "                    y_any = torch.cat([torch.ones(batch_size, 1).to(DEVICE)- y[:,13:14],y[:,13:14]], dim = 1)              \n",
    "                              \n",
    "                    X_out = apply_softmax_to_labels(X_out).to('cpu').numpy()\n",
    "\n",
    "                    X_any = X_any.to('cpu').numpy()\n",
    "                    X_out = np.hstack([X_out, X_any])\n",
    "                    X_outs.append(X_out)\n",
    "\n",
    "                    y     = y.to('cpu').numpy()[:,:-1]\n",
    "                    y_any = y_any.to('cpu').numpy()\n",
    "                    y     = np.hstack([y, y_any])\n",
    "                    ys.append(y)\n",
    "\n",
    "        X_outs = np.vstack(X_outs) \n",
    "        ys     = np.vstack(ys)\n",
    "        metric = calculate_score(X_outs, ys, 'valid')                \n",
    "        print('Epoch {:d} / val/metric={:.4f}'.format(epoch+1, metric))           \n",
    "        \n",
    "        del X, X_outs, y, ys, X_any\n",
    "        gc.collect()        \n",
    "        torch.cuda.empty_cache()\n",
    "        \n",
    "        #Save the best model    \n",
    "        if(metric < np.min(val_metrics)):\n",
    "            try:\n",
    "                os.makedirs(f'{BASE_PATH}/weights')\n",
    "            except:\n",
    "                a = 1\n",
    "            best_metric = metric\n",
    "            print(f'Best val_metric {best_metric} at epoch {epoch+1}!')\n",
    "            torch.save(model, f'{BASE_PATH}/weights/{backbone}_lr{LR}_epochs_{N_EPOCHS}_resol{UP_RESOL}_batch{BATCH_SIZE}.pt')    \n",
    "            not_improve_counter=0\n",
    "            val_metrics[epoch] = metric\n",
    "            continue            \n",
    "        \n",
    "        val_metrics[epoch] = metric                        \n",
    "        not_improve_counter+=1\n",
    "        if(not_improve_counter == EARLY_STOP_COUNT):\n",
    "            print(f'Not improved for {not_improve_counter} epochs, terminate the train')\n",
    "            break\n",
    "        \n",
    "wandb.log({'best_total_log_loss': best_metric})\n",
    "wandb.finish()"
   ]
  },
  {
   "cell_type": "code",
   "execution_count": null,
   "metadata": {},
   "outputs": [],
   "source": [
    "import wandb\n",
    "try:\n",
    "    wandb.log({'best_total_log_loss': best_metric})\n",
    "    wandb.finish()\n",
    "    \n",
    "except:\n",
    "    print('Wandb is already finished!')"
   ]
  },
  {
   "cell_type": "code",
   "execution_count": null,
   "metadata": {},
   "outputs": [],
   "source": []
  }
 ],
 "metadata": {
  "kernelspec": {
   "display_name": "Python 3 (ipykernel)",
   "language": "python",
   "name": "python3"
  },
  "language_info": {
   "codemirror_mode": {
    "name": "ipython",
    "version": 3
   },
   "file_extension": ".py",
   "mimetype": "text/x-python",
   "name": "python",
   "nbconvert_exporter": "python",
   "pygments_lexer": "ipython3",
   "version": "3.11.4"
  }
 },
 "nbformat": 4,
 "nbformat_minor": 4
}

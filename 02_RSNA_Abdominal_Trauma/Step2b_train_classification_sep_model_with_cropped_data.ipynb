{
 "cells": [
  {
   "cell_type": "code",
   "execution_count": 1,
   "metadata": {},
   "outputs": [
    {
     "name": "stderr",
     "output_type": "stream",
     "text": [
      "/home/junseonglee/miniconda3/envs/rsna_abtd/lib/python3.11/site-packages/tqdm/auto.py:21: TqdmWarning: IProgress not found. Please update jupyter and ipywidgets. See https://ipywidgets.readthedocs.io/en/stable/user_install.html\n",
      "  from .autonotebook import tqdm as notebook_tqdm\n",
      "Failed to detect the name of this notebook, you can set it manually with the WANDB_NOTEBOOK_NAME environment variable to enable code saving.\n",
      "\u001b[34m\u001b[1mwandb\u001b[0m: Currently logged in as: \u001b[33mjunseonglee\u001b[0m. Use \u001b[1m`wandb login --relogin`\u001b[0m to force relogin\n",
      "\u001b[34m\u001b[1mwandb\u001b[0m: \u001b[33mWARNING\u001b[0m If you're specifying your api key in code, ensure this code is not shared publicly.\n",
      "\u001b[34m\u001b[1mwandb\u001b[0m: \u001b[33mWARNING\u001b[0m Consider setting the WANDB_API_KEY environment variable, or running `wandb login` from the command line.\n",
      "\u001b[34m\u001b[1mwandb\u001b[0m: Appending key for api.wandb.ai to your netrc file: /home/junseonglee/.netrc\n"
     ]
    },
    {
     "data": {
      "text/plain": [
       "True"
      ]
     },
     "execution_count": 1,
     "metadata": {},
     "output_type": "execute_result"
    }
   ],
   "source": [
    "import time\n",
    "from tqdm import tqdm\n",
    "import sys\n",
    "import glob\n",
    "import gc\n",
    "import os\n",
    "sys.path.append('./lib_models')\n",
    "\n",
    "import pandas as pd\n",
    "import numpy as np\n",
    "import scipy as sp\n",
    "import cv2\n",
    "from PIL import Image\n",
    "from matplotlib import pyplot as plt\n",
    "import sklearn.metrics\n",
    "import warnings\n",
    "import pydicom\n",
    "import dicomsdl\n",
    "from joblib import Parallel, delayed\n",
    "import pickle\n",
    "import gzip\n",
    "from iterstrat.ml_stratifiers import MultilabelStratifiedKFold\n",
    "from multiprocessing import Pool\n",
    "import torch\n",
    "from torchvision import transforms\n",
    "from torch.utils.data import Dataset, DataLoader\n",
    "from torch.optim.lr_scheduler import CosineAnnealingLR\n",
    "from torch import nn\n",
    "from torchvision.io import read_image\n",
    "import segmentation_models_pytorch as smp\n",
    "import timm\n",
    "from timm.utils import AverageMeter\n",
    "from timm.models import resnet\n",
    "import timm_new\n",
    "\n",
    "from monai.transforms import Resize\n",
    "import  monai.transforms as transforms\n",
    "\n",
    "from timm.models.layers.conv2d_same import Conv2dSame\n",
    "from conv3d_same import Conv3dSame\n",
    "\n",
    "\n",
    "import wandb\n",
    "sys.path.append('./lib_models')\n",
    "\n",
    "wandb.login(key = '585f58f321685308f7933861d9dde7488de0970b')"
   ]
  },
  {
   "cell_type": "markdown",
   "metadata": {},
   "source": [
    "# Parameters"
   ]
  },
  {
   "cell_type": "code",
   "execution_count": 2,
   "metadata": {},
   "outputs": [
    {
     "data": {
      "text/plain": [
       "device(type='cuda')"
      ]
     },
     "execution_count": 2,
     "metadata": {},
     "output_type": "execute_result"
    }
   ],
   "source": [
    "backbone = 'timm/resnet10t.c3_in1k'\n",
    "\n",
    "IS_WANDB = True\n",
    "PROJECT_NAME = 'RSNA_ABTD'\n",
    "GROUP_NAME= 'model_test'\n",
    "RUN_NAME=   f'{backbone}_separated_ratio'\n",
    "\n",
    "if not IS_WANDB:\n",
    "    PROJECT_NAME = 'Dummy_Project'\n",
    "\n",
    "BASE_PATH  = '/home/junseonglee/Desktop/01_codes/inputs/rsna-2023-abdominal-trauma-detection'\n",
    "TRAIN_PATH = f'{BASE_PATH}/train_images'\n",
    "DATA_PATH = f'{BASE_PATH}/3d_preprocessed'\n",
    "\n",
    "seg_inference_dir = f'{BASE_PATH}/seg_infer_results'\n",
    "cropped_img_dir   = f'{BASE_PATH}/3d_preprocessed_crop_ratio'\n",
    "\n",
    "if not os.path.isdir(DATA_PATH):\n",
    "    os.mkdir(DATA_PATH)\n",
    "\n",
    "RESOL = 128\n",
    "UP_RESOL = 128\n",
    "N_CHANNELS = 6\n",
    "BATCH_SIZE = 8\n",
    "ACCUM_STEPS = 3\n",
    "N_WORKERS  = 8\n",
    "LR = 0.001\n",
    "N_EPOCHS = 200\n",
    "EARLY_STOP_COUNT = 30\n",
    "N_FOLDS  = 5\n",
    "N_PREPROCESS_CHUNKS = 12\n",
    "n_blocks = 4\n",
    "drop_rate = 0.2\n",
    "drop_path_rate = 0.2\n",
    "p_mixup = 0.0\n",
    "\n",
    "DROP_REGION= {'HOLES': [3, 20],\n",
    "                'SIZE': [5, 20],\n",
    "                'PROB': 0.5,\n",
    "                'FILL': (-3, 3)}\n",
    "\n",
    "wandb_config = {\n",
    "    'RESOL': RESOL,\n",
    "    'BACKBONE': backbone,\n",
    "    'N_CHANNELS': N_CHANNELS,\n",
    "    'N_EPOCHS': N_EPOCHS,\n",
    "    'N_FOLDS': N_FOLDS,\n",
    "    'EARLY_STOP_COUNT': EARLY_STOP_COUNT,\n",
    "    'BATCH_SIZE': BATCH_SIZE,    \n",
    "    'LR': LR,\n",
    "    'N_EPOCHS': N_EPOCHS,\n",
    "    'DROP_RATE': drop_rate,\n",
    "    'DROP_PATH_RATE': drop_path_rate,\n",
    "    'MIXUP_RATE': p_mixup,\n",
    "    'DROP_REGION': DROP_REGION\n",
    "}\n",
    "\n",
    "DEVICE = torch.device('cuda' if torch.cuda.is_available() else 'cpu')\n",
    "DEVICE"
   ]
  },
  {
   "cell_type": "code",
   "execution_count": 3,
   "metadata": {},
   "outputs": [
    {
     "data": {
      "text/plain": [
       "(array([0, 1, 2, 3, 4]), array([929, 947, 948, 951, 936]))"
      ]
     },
     "execution_count": 3,
     "metadata": {},
     "output_type": "execute_result"
    }
   ],
   "source": [
    "# Mask related parameters\n",
    "# Order 0: Bowel, 1: left kidney, 2: right kidney, 3: liver, 4: spleen\n",
    "\n",
    "chan_keys = ['bowel', 'left_kidney', 'right_kidney', 'liver', 'spleen', 'total']\n",
    "chan_dict = {}\n",
    "for i in range(0, 6):\n",
    "    chan_dict[i] = chan_keys[i]\n",
    "\n",
    "train_meta_df = pd.read_csv(f'{BASE_PATH}/train_meta.csv')\n",
    "np.unique(train_meta_df['fold'].to_numpy(), return_counts = True)"
   ]
  },
  {
   "cell_type": "code",
   "execution_count": 4,
   "metadata": {},
   "outputs": [],
   "source": [
    "def compress(name, data):\n",
    "    with gzip.open(name, 'wb') as f:\n",
    "        pickle.dump(data, f)\n",
    "\n",
    "def decompress(name):\n",
    "    with gzip.open(name, 'rb') as f:\n",
    "        data = pickle.load(f)\n",
    "    return data\n",
    "\n",
    "\n",
    "def compress_fast(name, data):  \n",
    "    np.save(name, data)\n",
    "\n",
    "def decompress_fast(name):\n",
    "    data = np.load(f'{name}.npy')\n",
    "    return data"
   ]
  },
  {
   "cell_type": "markdown",
   "metadata": {},
   "source": [
    "# Model"
   ]
  },
  {
   "cell_type": "code",
   "execution_count": 5,
   "metadata": {},
   "outputs": [],
   "source": [
    "def convert_3d(module):\n",
    "\n",
    "    module_output = module\n",
    "    if isinstance(module, torch.nn.BatchNorm2d):\n",
    "        module_output = torch.nn.BatchNorm3d(\n",
    "            module.num_features,\n",
    "            module.eps,\n",
    "            module.momentum,\n",
    "            module.affine,\n",
    "            module.track_running_stats,\n",
    "        )\n",
    "        if module.affine:\n",
    "            with torch.no_grad():\n",
    "                module_output.weight = module.weight\n",
    "                module_output.bias = module.bias\n",
    "        module_output.running_mean = module.running_mean\n",
    "        module_output.running_var = module.running_var\n",
    "        module_output.num_batches_tracked = module.num_batches_tracked\n",
    "        if hasattr(module, \"qconfig\"):\n",
    "            module_output.qconfig = module.qconfig\n",
    "            \n",
    "    elif isinstance(module, Conv2dSame):\n",
    "        module_output = Conv3dSame(\n",
    "            in_channels=module.in_channels,\n",
    "            out_channels=module.out_channels,\n",
    "            kernel_size=module.kernel_size[0],\n",
    "            stride=module.stride[0],\n",
    "            padding=module.padding[0],\n",
    "            dilation=module.dilation[0],\n",
    "            groups=module.groups,\n",
    "            bias=module.bias is not None,\n",
    "        )\n",
    "        module_output.weight = torch.nn.Parameter(module.weight.unsqueeze(-1).repeat(1,1,1,1,module.kernel_size[0]))\n",
    "\n",
    "    elif isinstance(module, torch.nn.Conv2d):\n",
    "        module_output = torch.nn.Conv3d(\n",
    "            in_channels=module.in_channels,\n",
    "            out_channels=module.out_channels,\n",
    "            kernel_size=module.kernel_size[0],\n",
    "            stride=module.stride[0],\n",
    "            padding=module.padding[0],\n",
    "            dilation=module.dilation[0],\n",
    "            groups=module.groups,\n",
    "            bias=module.bias is not None,\n",
    "            padding_mode=module.padding_mode\n",
    "        )\n",
    "        module_output.weight = torch.nn.Parameter(module.weight.unsqueeze(-1).repeat(1,1,1,1,module.kernel_size[0]))\n",
    "\n",
    "    elif isinstance(module, torch.nn.MaxPool2d):\n",
    "        module_output = torch.nn.MaxPool3d(\n",
    "            kernel_size=module.kernel_size,\n",
    "            stride=module.stride,\n",
    "            padding=module.padding,\n",
    "            dilation=module.dilation,\n",
    "            ceil_mode=module.ceil_mode,\n",
    "        )\n",
    "    elif isinstance(module, torch.nn.AvgPool2d):\n",
    "        module_output = torch.nn.AvgPool3d(\n",
    "            kernel_size=module.kernel_size,\n",
    "            stride=module.stride,\n",
    "            padding=module.padding,\n",
    "            ceil_mode=module.ceil_mode,\n",
    "        )\n",
    "\n",
    "    for name, child in module.named_children():\n",
    "        module_output.add_module(\n",
    "            name, convert_3d(child)\n",
    "        )\n",
    "    del module\n",
    "\n",
    "    return module_output"
   ]
  },
  {
   "cell_type": "code",
   "execution_count": 6,
   "metadata": {},
   "outputs": [],
   "source": [
    "class Timm3DModel(nn.Module):\n",
    "    def __init__(self, backbone, n_channels, n_labels, segtype='unet', pretrained=False):\n",
    "        super(Timm3DModel, self).__init__()\n",
    "        self.n_labels = n_labels\n",
    "        self.encoder = timm_new.create_model(\n",
    "            backbone,\n",
    "            in_chans=n_channels,\n",
    "            features_only=True,\n",
    "            drop_rate=drop_rate,\n",
    "            drop_path_rate=drop_path_rate,\n",
    "            pretrained=pretrained\n",
    "        )\n",
    "        g = self.encoder(torch.rand(1, n_channels, 64, 64))\n",
    "        encoder_channels = [1] + [_.shape[1] for _ in g]\n",
    "        decoder_channels = [256, 128, 64, 32, 16]\n",
    "\n",
    "        self.avgpool = nn.AvgPool2d(5, 4, 2)\n",
    "        \n",
    "        [_.shape[1] for _ in g]\n",
    "        self.convs1x1 = nn.ModuleList()    \n",
    "        self.batchnorms = nn.ModuleList()    \n",
    "        self.batchnorms13 = nn.ModuleList()\n",
    "        for i in range(0, len(g)):\n",
    "            self.convs1x1.append(nn.Conv2d(g[i].shape[1], self.n_labels, 1))\n",
    "        del g\n",
    "        gc.collect()\n",
    "        \n",
    "    def forward(self,x):\n",
    "        batch_size = x.shape[0]\n",
    "        global_features = self.encoder(x)[:n_blocks]        \n",
    "        for i in range(0, len(global_features)):\n",
    "            global_features[i] = self.convs1x1[i](global_features[i])\n",
    "        return global_features\n",
    "    \n",
    "    \n",
    "class Timm3DModelClassifier(nn.Module):\n",
    "    def __init__(self, backbone, n_channels, n_labels, segtype='unet', pretrained=False):\n",
    "        super(Timm3DModelClassifier, self).__init__()\n",
    "        self.model_3d = Timm3DModel(backbone, n_channels, n_labels, segtype, pretrained)\n",
    "        self.model_3d = convert_3d(self.model_3d)\n",
    "        self.n_channels = n_channels\n",
    "        self.n_labels = n_labels    \n",
    "        \n",
    "    def forward(self, x):\n",
    "        batch_size = x.shape[0]\n",
    "        x = self.model_3d(x)\n",
    "        pooled_features = []\n",
    "        for i in range(0, len(x)):\n",
    "            pooled_features.append(torch.reshape(torch.mean(x[i], dim = (2, 3, 4)), (batch_size, self.n_labels, 1)))\n",
    "        pooled_features = torch.cat(pooled_features, dim=2)     \n",
    "        labels = torch.mean(pooled_features, dim = 2)\n",
    "        return labels"
   ]
  },
  {
   "cell_type": "code",
   "execution_count": 7,
   "metadata": {},
   "outputs": [],
   "source": [
    "class AbdominalClassifier(nn.Module):\n",
    "    def __init__(self, device = DEVICE):\n",
    "        super().__init__()\n",
    "        self.device = device\n",
    "        self.upsample = torch.nn.Upsample(size = [UP_RESOL, UP_RESOL, UP_RESOL])\n",
    "        \n",
    "        self.model3d_bowel        = Timm3DModelClassifier(backbone, 1, 2)      \n",
    "        self.model3d_extrav       = Timm3DModelClassifier(backbone, 1, 2)\n",
    "        self.model3d_kidney_left  = Timm3DModelClassifier(backbone, 1, 3)\n",
    "        self.model3d_kidney_right = Timm3DModelClassifier(backbone, 1, 3)\n",
    "        self.model3d_liver        = Timm3DModelClassifier(backbone, 1, 3)\n",
    "        self.model3d_spleen       = Timm3DModelClassifier(backbone, 1, 3)\n",
    "        \n",
    "        self.flatten  = nn.Flatten()\n",
    "        self.dropout  = nn.Dropout(p=0.5)\n",
    "        self.softmax  = nn.Softmax(dim=1)        \n",
    "        self.maxpool  = nn.MaxPool1d(5, 1)\n",
    "        \n",
    "    def forward(self, x_bowel, x_kidney_left, x_kidney_right, x_liver, x_spleen, x_total):\n",
    "        bowel_label        = self.model3d_bowel(x_bowel)\n",
    "        extrav_label       = self.model3d_extrav(x_total)\n",
    "        kidney_label_left  = self.model3d_kidney_left(x_kidney_left)\n",
    "        kidney_label_right = self.model3d_kidney_right(x_kidney_right)\n",
    "        kidney_label       = (kidney_label_left + kidney_label_right)/2\n",
    "        liver_label        = self.model3d_liver(x_liver)\n",
    "        spleen_label       = self.model3d_spleen(x_spleen)\n",
    "        \n",
    "        \n",
    "        labels = torch.cat([bowel_label, extrav_label, kidney_label, liver_label, spleen_label], dim = 1)\n",
    "        \n",
    "        bowel_soft = self.softmax(bowel_label)\n",
    "        extrav_soft = self.softmax(extrav_label)\n",
    "        kidney_soft = self.softmax(kidney_label)\n",
    "        liver_soft = self.softmax(liver_label)\n",
    "        spleen_soft = self.softmax(spleen_label)\n",
    "\n",
    "        any_in = torch.cat([1-bowel_soft[:,0:1], 1-extrav_soft[:,0:1], \n",
    "                            1-kidney_soft[:,0:1], 1-liver_soft[:,0:1], 1-spleen_soft[:,0:1]], dim = 1) \n",
    "        any_in = self.maxpool(any_in)\n",
    "        any_not_in = 1-any_in\n",
    "        any_in = torch.cat([any_not_in, any_in], dim = 1)\n",
    "\n",
    "        return labels, any_in\n",
    "    "
   ]
  },
  {
   "cell_type": "code",
   "execution_count": 8,
   "metadata": {},
   "outputs": [
    {
     "name": "stdout",
     "output_type": "stream",
     "text": [
      "86478624\n"
     ]
    },
    {
     "data": {
      "text/plain": [
       "0"
      ]
     },
     "execution_count": 8,
     "metadata": {},
     "output_type": "execute_result"
    }
   ],
   "source": [
    "model = AbdominalClassifier()\n",
    "\n",
    "def get_n_params(model):\n",
    "    pp=0\n",
    "    for p in list(model.parameters()):\n",
    "        nn=1\n",
    "        for s in list(p.size()):\n",
    "            nn = nn*s\n",
    "        pp += nn\n",
    "    return pp\n",
    "\n",
    "print(get_n_params(model))\n",
    "del model\n",
    "gc.collect()"
   ]
  },
  {
   "cell_type": "markdown",
   "metadata": {},
   "source": [
    "# Metric & Loss"
   ]
  },
  {
   "cell_type": "code",
   "execution_count": 9,
   "metadata": {},
   "outputs": [],
   "source": [
    "weights = np.ones(2)\n",
    "weights[1] = 2\n",
    "crit_bowel  = nn.CrossEntropyLoss(weight = torch.from_numpy(weights).to(DEVICE))\n",
    "weights[1] = 6\n",
    "crit_extrav = nn.CrossEntropyLoss(weight = torch.from_numpy(weights).to(DEVICE))\n",
    "crit_any = nn.CrossEntropyLoss(weight = torch.from_numpy(weights).to(DEVICE))\n",
    "\n",
    "weights = np.ones((3))\n",
    "weights[1] = 2\n",
    "weights[2] = 4\n",
    "crit_kidney = nn.CrossEntropyLoss(weight = torch.from_numpy(weights).to(DEVICE))\n",
    "crit_liver  = nn.CrossEntropyLoss(weight = torch.from_numpy(weights).to(DEVICE))\n",
    "crit_spleen = nn.CrossEntropyLoss(weight = torch.from_numpy(weights).to(DEVICE))"
   ]
  },
  {
   "cell_type": "code",
   "execution_count": 10,
   "metadata": {},
   "outputs": [],
   "source": [
    "def normalize_to_one(tensor):\n",
    "    norm = torch.sum(tensor, 1)\n",
    "    for i in range(0, tensor.shape[1]):\n",
    "        tensor[:,i]/=norm\n",
    "    return tensor\n",
    "\n",
    "def apply_softmax_to_labels(X_out):\n",
    "    softmax = nn.Softmax(dim=1)\n",
    "\n",
    "    X_out[:,:2]    = normalize_to_one(softmax(X_out[:,:2]))\n",
    "    X_out[:,2:4]   = normalize_to_one(softmax(X_out[:,2:4]))\n",
    "    X_out[:,4:7]   = normalize_to_one(softmax(X_out[:,4:7]))\n",
    "    X_out[:,7:10]  = normalize_to_one(softmax(X_out[:,7:10]))\n",
    "    X_out[:,10:13] = normalize_to_one(softmax(X_out[:,10:13]))\n",
    "\n",
    "    return X_out\n",
    "\n",
    "def calculate_score(X_outs, ys, step = 'train'):\n",
    "    X_outs = X_outs.astype(np.float64)\n",
    "    ys     = ys.astype(np.float64)\n",
    "\n",
    "    bowel_weights  =  ys[:,0] + 2*ys[:,1]\n",
    "    extrav_weights = ys[:,2] + 6*ys[:,3]\n",
    "    kidney_weights = ys[:,4] + 2*ys[:,5] + 4*ys[:,6]\n",
    "    liver_weights  = ys[:,7] + 2*ys[:,8] + 4*ys[:,9]\n",
    "    spleen_weights = ys[:,10] + 2*ys[:,11] + 4*ys[:,12]\n",
    "    any_in_weights = ys[:,13] + 6*ys[:,14]\n",
    "    \n",
    "\n",
    "    bowel_loss  = sklearn.metrics.log_loss(ys[:,:2], X_outs[:,:2], sample_weight = bowel_weights)\n",
    "    extrav_loss = sklearn.metrics.log_loss(ys[:,2:4], X_outs[:,2:4], sample_weight = extrav_weights)\n",
    "    kidney_loss = sklearn.metrics.log_loss(ys[:,4:7], X_outs[:,4:7], sample_weight = kidney_weights)\n",
    "    liver_loss  = sklearn.metrics.log_loss(ys[:,7:10], X_outs[:,7:10], sample_weight = liver_weights)\n",
    "    spleen_loss = sklearn.metrics.log_loss(ys[:,10:13], X_outs[:,10:13], sample_weight = spleen_weights)\n",
    "    any_in_loss = sklearn.metrics.log_loss(ys[:,13:15], X_outs[:,13:15], sample_weight =  any_in_weights)\n",
    "    \n",
    "    avg_loss = (bowel_loss + extrav_loss + kidney_loss + liver_loss + spleen_loss + any_in_loss)/6\n",
    "\n",
    "    losses= {f'{step}_bowel_metric': bowel_loss, f'{step}_extrav_metric': extrav_loss, f'{step}_kidney_metric': kidney_loss,\n",
    "             f'{step}_liver_metric': liver_loss, f'{step}_spleen_metric': spleen_loss, f'{step}_any_in_metric': any_in_loss,\n",
    "             f'{step}_avg_metric': avg_loss}\n",
    "\n",
    "    wandb.log(losses)\n",
    "    return avg_loss\n",
    "\n",
    "def calculate_loss(X_out, X_any, y):\n",
    "    batch_size = X_out.shape[0]\n",
    "    bowel_loss  = crit_bowel(X_out[:,:2], y[:,:2])\n",
    "    extrav_loss = crit_extrav(X_out[:,2:4], y[:,2:4])\n",
    "    kidney_loss = crit_kidney(X_out[:,4:7], y[:,4:7])\n",
    "    liver_loss  = crit_liver(X_out[:,7:10], y[:,7:10])\n",
    "    spleen_loss = crit_spleen(X_out[:,10:13], y[:,10:13])\n",
    "    any_in_loss = crit_any(X_any,  torch.cat([torch.ones(batch_size, 1).to(DEVICE)- y[:,13:14],y[:,13:14]], dim = 1))\n",
    "    \n",
    "    avg_loss = (bowel_loss + extrav_loss + kidney_loss + liver_loss + spleen_loss + any_in_loss)/6\n",
    "    return bowel_loss, extrav_loss, kidney_loss, liver_loss, spleen_loss, any_in_loss, avg_loss"
   ]
  },
  {
   "cell_type": "markdown",
   "metadata": {},
   "source": [
    "# Augmentations"
   ]
  },
  {
   "cell_type": "code",
   "execution_count": 11,
   "metadata": {},
   "outputs": [],
   "source": [
    "def mixup(inputs, truth, clip=[0, 1]):\n",
    "    indices = torch.randperm(inputs.size(0))\n",
    "    shuffled_input = inputs[indices]\n",
    "    shuffled_labels = truth[indices]\n",
    "\n",
    "    lam = np.random.uniform(clip[0], clip[1])\n",
    "    inputs = inputs * lam + shuffled_input * (1 - lam)\n",
    "    return inputs, truth, shuffled_labels, lam\n",
    "\n",
    "transforms_train = transforms.Compose([\n",
    "    transforms.RandFlipd(keys=chan_keys, prob=0.5, spatial_axis=1),\n",
    "    transforms.RandFlipd(keys=chan_keys, prob=0.5, spatial_axis=2),\n",
    "    #transforms.RandAffined(keys=chan_keys, translate_range=[int(x*y) for x, y in zip([RESOL, RESOL, RESOL], [0.3, 0.3, 0.3])], padding_mode='zeros', prob=0.7),\n",
    "    transforms.RandGridDistortiond(keys=chan_keys, prob=0.5, distort_limit=(-0.01, 0.01), mode=\"nearest\"),    \n",
    "])\n",
    "\n",
    "remain_transforms_train = transforms.Compose([\n",
    "    #transforms.RandCoarseDropout(holes = DROP_REGION['HOLES'][0], max_holes = DROP_REGION['HOLES'][1],\n",
    "    #                        spatial_size = DROP_REGION['SIZE'][0]*np.ones(3, int), max_spatial_size =DROP_REGION['SIZE'][1]*np.ones(3, int), \n",
    "    #                        prob = DROP_REGION['PROB'], \n",
    "    #                        fill_value = DROP_REGION['FILL'])\n",
    "])\n",
    "\n",
    "\n",
    "\n",
    "transforms_common_preprocessing = transforms.Compose([\n",
    "    #transforms.HistogramNormalize(num_bins = 256, min = 0, max = 255)\n",
    "])"
   ]
  },
  {
   "cell_type": "markdown",
   "metadata": {},
   "source": [
    "# Dataset"
   ]
  },
  {
   "cell_type": "code",
   "execution_count": 12,
   "metadata": {},
   "outputs": [],
   "source": [
    "class AbdominalCTDataset(Dataset):\n",
    "    def __init__(self, meta_df, is_train = True, transform_set = None, remain_transforms_set = None):\n",
    "        self.meta_df = meta_df\n",
    "        self.is_train = is_train\n",
    "        self.transform_set = transform_set\n",
    "        self.remain_transforms_set = remain_transforms_set\n",
    "        self.data_3ds = []        \n",
    "        for i in tqdm(range(0, len(self.meta_df))):\n",
    "            tmp_data_3ds = {}\n",
    "            base_name = self.meta_df.iloc[i]['cropped_path']            \n",
    "            for j in range(0, 6):\n",
    "                tmp_data_3d = decompress_fast(f'{base_name}_{j}')[None]\n",
    "                tmp_data_3d = torch.from_numpy(tmp_data_3d)\n",
    "                tmp_data_3ds[chan_dict[j]] = tmp_data_3d            \n",
    "            self.data_3ds.append(tmp_data_3ds)\n",
    "\n",
    "    def __len__(self):\n",
    "        return len(self.meta_df)\n",
    "    \n",
    "    def __getitem__(self, idx):\n",
    "        row = self.meta_df.iloc[idx]\n",
    "        label = row[['bowel_healthy','bowel_injury',\n",
    "                    'extravasation_healthy','extravasation_injury',\n",
    "                    'kidney_healthy','kidney_low','kidney_high',\n",
    "                    'liver_healthy','liver_low','liver_high',\n",
    "                    'spleen_healthy','spleen_low','spleen_high', 'any_injury']]\n",
    "        \n",
    "        data_3d = self.data_3ds[idx].copy()\n",
    "        \n",
    "        if self.is_train:\n",
    "            if self.transform_set is not None:\n",
    "                data_3d = self.transform_set(data_3d)\n",
    "\n",
    "            if self.remain_transforms_set is not None:   \n",
    "                for i in range(0, 6):\n",
    "                    data_3d[chan_dict[i]] = self.remain_transforms_set(data_3d[chan_dict[i]])\n",
    "        \n",
    "        label = label.to_numpy().astype(np.float32)                    \n",
    "        label = torch.from_numpy(label)\n",
    "                    \n",
    "        return data_3d['bowel'], data_3d['left_kidney'], data_3d['right_kidney'], \\\n",
    "                data_3d['liver'], data_3d['spleen'], data_3d['total'], label        \n"
   ]
  },
  {
   "cell_type": "code",
   "execution_count": 13,
   "metadata": {},
   "outputs": [],
   "source": [
    "#data_3d= torch.rand((6, 128, 128, 128))*0.5\n",
    "#data_3d = remain_transforms_train(data_3d)\n",
    "#torch.max(data_3d)\n",
    "#print(data_3d)"
   ]
  },
  {
   "cell_type": "markdown",
   "metadata": {},
   "source": [
    "# Train loop"
   ]
  },
  {
   "cell_type": "code",
   "execution_count": 14,
   "metadata": {},
   "outputs": [],
   "source": [
    "def train_func(model, train_loader, scaler, scheduler, optimizer, epoch, accum_points, accum_scale):\n",
    "    train_meters = {'loss': AverageMeter()}\n",
    "    model.train()\n",
    "    X_outs=[]\n",
    "    ys=[]\n",
    "    accum_counter = 0\n",
    "    counter = 0\n",
    "    for X_bowel, X_lkid, X_rkid, X_liv, X_spl, X_tot, y in train_loader:\n",
    "        X_bowel, X_lkid, X_rkid = X_bowel.to(DEVICE), X_lkid.to(DEVICE), X_rkid.to(DEVICE)\n",
    "        X_liv, X_spl, X_tot     = X_liv.to(DEVICE), X_spl.to(DEVICE), X_tot.to(DEVICE)\n",
    "        y = y.to(DEVICE)\n",
    "        current_lr = float(scheduler.get_last_lr()[0])\n",
    "        wandb.log({})\n",
    "        \n",
    "        batch_size = X_bowel.shape[0]\n",
    "        optimizer.zero_grad()\n",
    "        with torch.cuda.amp.autocast(enabled=True):  \n",
    "            X_out, X_any  = model(X_bowel, X_lkid, X_rkid, X_liv, X_spl, X_tot)\n",
    "            do_mixup = False\n",
    "            if np.random.random() < p_mixup:\n",
    "                do_mixup = True\n",
    "                X, y, labels_shuffled, lam = mixup(X, y)                \n",
    "            \n",
    "            bowel_loss, extrav_loss, kidney_loss, liver_loss, spleen_loss, any_in_loss, avg_loss = calculate_loss(X_out, X_any, y)\n",
    "            if do_mixup:\n",
    "                bowel_loss2, extrav_loss2, kidney_loss2, liver_loss2, spleen_loss2, any_in_loss2, avg_loss2 = calculate_loss(X_out, X_any, labels_shuffled)\n",
    "                bowel_loss  = bowel_loss * lam  + bowel_loss2 * (1 - lam)\n",
    "                extrav_loss = extrav_loss * lam  + extrav_loss2 * (1 - lam)\n",
    "                kidney_loss = kidney_loss * lam  + kidney_loss2 * (1 - lam)         \n",
    "                liver_loss  = liver_loss * lam  + liver_loss2 * (1 - lam) \n",
    "                spleen_loss = spleen_loss * lam  + spleen_loss2 * (1 - lam) \n",
    "                any_in_loss = any_in_loss * lam  + any_in_loss2 * (1 - lam) \n",
    "                avg_loss = avg_loss * lam  + avg_loss2 * (1 - lam)       \n",
    "                \n",
    "            step = 'train'\n",
    "            wandb.log({ 'lr': current_lr,\n",
    "                        f'{step}_bowel_loss': bowel_loss.item(),\n",
    "                        f'{step}_extrav_loss': extrav_loss.item(),\n",
    "                        f'{step}_kidney_loss': kidney_loss.item(),\n",
    "                        f'{step}_liver_loss': liver_loss.item(),\n",
    "                        f'{step}_spleen_loss': spleen_loss.item(),\n",
    "                        f'{step}_any_loss': any_in_loss.item(),\n",
    "                        f'{step}_avg_loss': avg_loss.item()\n",
    "                        })\n",
    "            \n",
    "            scaler.scale(avg_loss/accum_scale[accum_counter]).backward()\n",
    "            if(counter==accum_points[accum_counter]):\n",
    "                scaler.step(optimizer)\n",
    "                scheduler.step()\n",
    "                scaler.update()    \n",
    "                accum_counter+=1                \n",
    "        counter+=1                   \n",
    "\n",
    "        #Metric calculation\n",
    "        y_any = torch.cat([torch.ones(batch_size, 1).to(DEVICE)- y[:,13:14],y[:,13:14]], dim = 1)    \n",
    "        X_out = apply_softmax_to_labels(X_out).detach().to('cpu').numpy()\n",
    "        X_any = X_any.detach().to('cpu').numpy()\n",
    "        X_out = np.hstack([X_out, X_any])\n",
    "        X_outs.append(X_out)\n",
    "\n",
    "        y     = y.to('cpu').numpy()[:,:-1]\n",
    "        y_any = y_any.to('cpu').numpy()\n",
    "        y     = np.hstack([y, y_any])\n",
    "        ys.append(y)\n",
    "\n",
    "        trn_loss = avg_loss.item()      \n",
    "        train_meters['loss'].update(trn_loss, n=batch_size)     \n",
    "        #pbar.set_description(f'Train loss: {trn_loss}')   \n",
    "        \n",
    "        \n",
    "    print('Epoch {:d} / trn/loss={:.4f}'.format(epoch+1, train_meters['loss'].avg))    \n",
    "\n",
    "    X_outs = np.vstack(X_outs) \n",
    "    ys     = np.vstack(ys)\n",
    "    metric = calculate_score(X_outs, ys, 'train')                 \n",
    "    print('Epoch {:d} / train/metric={:.4f}'.format(epoch+1, metric))   \n",
    "\n",
    "    del X_bowel, X_lkid, X_rkid, X_liv, X_spl, X_tot, X_outs, y, ys, X_any\n",
    "    gc.collect()\n",
    "    torch.cuda.empty_cache()    \n",
    "    return scheduler, scaler, optimizer\n",
    "\n",
    "\n",
    "def valid_func(model, valid_loader):\n",
    "    X_outs=[]\n",
    "    ys=[]\n",
    "    model.eval()\n",
    "    for X_bowel, X_lkid, X_rkid, X_liv, X_spl, X_tot, y in valid_loader:\n",
    "        batch_size = y.shape[0]\n",
    "        X_bowel, X_lkid, X_rkid = X_bowel.to(DEVICE), X_lkid.to(DEVICE), X_rkid.to(DEVICE)\n",
    "        X_liv, X_spl, X_tot     = X_liv.to(DEVICE), X_spl.to(DEVICE), X_tot.to(DEVICE)\n",
    "        y = y.to(DEVICE)           \n",
    "        with torch.cuda.amp.autocast(enabled=True):                \n",
    "            with torch.no_grad():                 \n",
    "                X_out, X_any = model(X_bowel, X_lkid, X_rkid, X_liv, X_spl, X_tot)                                          \n",
    "                y_any = torch.cat([torch.ones(batch_size, 1).to(DEVICE)- y[:,13:14],y[:,13:14]], dim = 1)              \n",
    "                X_out = apply_softmax_to_labels(X_out).to('cpu').numpy()\n",
    "\n",
    "                X_any = X_any.to('cpu').numpy()\n",
    "                X_out = np.hstack([X_out, X_any])\n",
    "                X_outs.append(X_out)\n",
    "\n",
    "                y     = y.to('cpu').numpy()[:,:-1]\n",
    "                y_any = y_any.to('cpu').numpy()\n",
    "                y     = np.hstack([y, y_any])\n",
    "                ys.append(y)\n",
    "\n",
    "    X_outs = np.vstack(X_outs) \n",
    "    ys     = np.vstack(ys)\n",
    "    metric = calculate_score(X_outs, ys, 'valid')                \n",
    "    print('Epoch {:d} / val/metric={:.4f}'.format(epoch+1, metric))           \n",
    "    \n",
    "    del X_bowel, X_lkid, X_rkid, X_liv, X_spl, X_tot, X_outs, y, ys, X_any\n",
    "    gc.collect()        \n",
    "    torch.cuda.empty_cache()   \n",
    "    return metric "
   ]
  },
  {
   "cell_type": "code",
   "execution_count": 15,
   "metadata": {},
   "outputs": [
    {
     "data": {
      "text/html": [
       "wandb version 0.15.10 is available!  To upgrade, please run:\n",
       " $ pip install wandb --upgrade"
      ],
      "text/plain": [
       "<IPython.core.display.HTML object>"
      ]
     },
     "metadata": {},
     "output_type": "display_data"
    },
    {
     "data": {
      "text/html": [
       "Tracking run with wandb version 0.15.9"
      ],
      "text/plain": [
       "<IPython.core.display.HTML object>"
      ]
     },
     "metadata": {},
     "output_type": "display_data"
    },
    {
     "data": {
      "text/html": [
       "Run data is saved locally in <code>/home/junseonglee/Desktop/01_codes/inputs/rsna-2023-abdominal-trauma-detection/wandb/run-20230921_235351-x8izn1x0</code>"
      ],
      "text/plain": [
       "<IPython.core.display.HTML object>"
      ]
     },
     "metadata": {},
     "output_type": "display_data"
    },
    {
     "data": {
      "text/html": [
       "Syncing run <strong><a href='https://wandb.ai/junseonglee/RSNA_ABTD/runs/x8izn1x0' target=\"_blank\">timm/resnet10t.c3_in1k_separated_ratio</a></strong> to <a href='https://wandb.ai/junseonglee/RSNA_ABTD' target=\"_blank\">Weights & Biases</a> (<a href='https://wandb.me/run' target=\"_blank\">docs</a>)<br/>"
      ],
      "text/plain": [
       "<IPython.core.display.HTML object>"
      ]
     },
     "metadata": {},
     "output_type": "display_data"
    },
    {
     "data": {
      "text/html": [
       " View project at <a href='https://wandb.ai/junseonglee/RSNA_ABTD' target=\"_blank\">https://wandb.ai/junseonglee/RSNA_ABTD</a>"
      ],
      "text/plain": [
       "<IPython.core.display.HTML object>"
      ]
     },
     "metadata": {},
     "output_type": "display_data"
    },
    {
     "data": {
      "text/html": [
       " View run at <a href='https://wandb.ai/junseonglee/RSNA_ABTD/runs/x8izn1x0' target=\"_blank\">https://wandb.ai/junseonglee/RSNA_ABTD/runs/x8izn1x0</a>"
      ],
      "text/plain": [
       "<IPython.core.display.HTML object>"
      ]
     },
     "metadata": {},
     "output_type": "display_data"
    },
    {
     "name": "stderr",
     "output_type": "stream",
     "text": [
      "100%|██████████| 3782/3782 [01:38<00:00, 38.25it/s]\n",
      "100%|██████████| 929/929 [00:35<00:00, 26.48it/s]\n",
      "  0%|          | 0/200 [00:00<?, ?it/s]"
     ]
    },
    {
     "name": "stdout",
     "output_type": "stream",
     "text": [
      "Epoch 1 / trn/loss=1.0044\n",
      "Epoch 1 / train/metric=0.7420\n",
      "Epoch 1 / val/metric=0.6674\n",
      "Best val_metric 0.6673919152737042 at epoch 1!\n"
     ]
    },
    {
     "name": "stderr",
     "output_type": "stream",
     "text": [
      "  0%|          | 1/200 [05:01<16:39:25, 301.34s/it]"
     ]
    },
    {
     "name": "stdout",
     "output_type": "stream",
     "text": [
      "Epoch 2 / trn/loss=0.8968\n",
      "Epoch 2 / train/metric=0.6445\n",
      "Epoch 2 / val/metric=0.6235\n",
      "Best val_metric 0.6234755591239058 at epoch 2!\n"
     ]
    },
    {
     "name": "stderr",
     "output_type": "stream",
     "text": [
      "  1%|          | 2/200 [09:52<16:15:00, 295.46s/it]"
     ]
    },
    {
     "name": "stdout",
     "output_type": "stream",
     "text": [
      "Epoch 3 / trn/loss=0.8667\n",
      "Epoch 3 / train/metric=0.6177\n",
      "Epoch 3 / val/metric=0.6087\n",
      "Best val_metric 0.6086653604035522 at epoch 3!\n"
     ]
    },
    {
     "name": "stderr",
     "output_type": "stream",
     "text": [
      "  2%|▏         | 3/200 [14:45<16:06:18, 294.31s/it]"
     ]
    },
    {
     "name": "stdout",
     "output_type": "stream",
     "text": [
      "Epoch 4 / trn/loss=0.8567\n",
      "Epoch 4 / train/metric=0.6089\n",
      "Epoch 4 / val/metric=0.6014\n",
      "Best val_metric 0.6013808430036833 at epoch 4!\n"
     ]
    },
    {
     "name": "stderr",
     "output_type": "stream",
     "text": [
      "  2%|▏         | 4/200 [19:38<16:00:02, 293.89s/it]"
     ]
    },
    {
     "name": "stdout",
     "output_type": "stream",
     "text": [
      "Epoch 5 / trn/loss=0.8490\n",
      "Epoch 5 / train/metric=0.6026\n",
      "Epoch 5 / val/metric=0.5956\n",
      "Best val_metric 0.5956333367306278 at epoch 5!\n"
     ]
    },
    {
     "name": "stderr",
     "output_type": "stream",
     "text": [
      "  2%|▎         | 5/200 [24:32<15:55:18, 293.94s/it]"
     ]
    },
    {
     "name": "stdout",
     "output_type": "stream",
     "text": [
      "Epoch 6 / trn/loss=0.8437\n",
      "Epoch 6 / train/metric=0.5987\n",
      "Epoch 6 / val/metric=0.5905\n",
      "Best val_metric 0.5905096442998758 at epoch 6!\n"
     ]
    },
    {
     "name": "stderr",
     "output_type": "stream",
     "text": [
      "  3%|▎         | 6/200 [29:26<15:50:08, 293.86s/it]"
     ]
    },
    {
     "name": "stdout",
     "output_type": "stream",
     "text": [
      "Epoch 7 / trn/loss=0.8379\n",
      "Epoch 7 / train/metric=0.5942\n",
      "Epoch 7 / val/metric=0.5773\n",
      "Best val_metric 0.5773230003639047 at epoch 7!\n"
     ]
    },
    {
     "name": "stderr",
     "output_type": "stream",
     "text": [
      "  4%|▎         | 7/200 [34:18<15:43:05, 293.19s/it]"
     ]
    },
    {
     "name": "stdout",
     "output_type": "stream",
     "text": [
      "Epoch 8 / trn/loss=0.8211\n",
      "Epoch 8 / train/metric=0.5790\n",
      "Epoch 8 / val/metric=0.5595\n",
      "Best val_metric 0.5594779906844848 at epoch 8!\n"
     ]
    },
    {
     "name": "stderr",
     "output_type": "stream",
     "text": [
      "  4%|▍         | 8/200 [39:12<15:38:47, 293.37s/it]"
     ]
    },
    {
     "name": "stdout",
     "output_type": "stream",
     "text": [
      "Epoch 9 / trn/loss=0.8105\n",
      "Epoch 9 / train/metric=0.5690\n",
      "Epoch 9 / val/metric=0.5555\n",
      "Best val_metric 0.5555250599633342 at epoch 9!\n"
     ]
    },
    {
     "name": "stderr",
     "output_type": "stream",
     "text": [
      "  4%|▍         | 9/200 [44:06<15:34:36, 293.59s/it]"
     ]
    },
    {
     "name": "stdout",
     "output_type": "stream",
     "text": [
      "Epoch 10 / trn/loss=0.8076\n",
      "Epoch 10 / train/metric=0.5669\n",
      "Epoch 10 / val/metric=0.5510\n",
      "Best val_metric 0.5509811448537765 at epoch 10!\n"
     ]
    },
    {
     "name": "stderr",
     "output_type": "stream",
     "text": [
      "  5%|▌         | 10/200 [48:59<15:29:18, 293.47s/it]"
     ]
    },
    {
     "name": "stdout",
     "output_type": "stream",
     "text": [
      "Epoch 11 / trn/loss=0.8054\n",
      "Epoch 11 / train/metric=0.5661\n",
      "Epoch 11 / val/metric=0.5502\n",
      "Best val_metric 0.5501604041681606 at epoch 11!\n"
     ]
    },
    {
     "name": "stderr",
     "output_type": "stream",
     "text": [
      "  6%|▌         | 11/200 [53:54<15:25:56, 293.95s/it]"
     ]
    },
    {
     "name": "stdout",
     "output_type": "stream",
     "text": [
      "Epoch 12 / trn/loss=0.8033\n",
      "Epoch 12 / train/metric=0.5633\n",
      "Epoch 12 / val/metric=0.5456\n",
      "Best val_metric 0.545578822268815 at epoch 12!\n"
     ]
    },
    {
     "name": "stderr",
     "output_type": "stream",
     "text": [
      "  6%|▌         | 12/200 [58:48<15:21:28, 294.09s/it]"
     ]
    },
    {
     "name": "stdout",
     "output_type": "stream",
     "text": [
      "Epoch 13 / trn/loss=0.8034\n",
      "Epoch 13 / train/metric=0.5643\n"
     ]
    },
    {
     "name": "stderr",
     "output_type": "stream",
     "text": [
      "  6%|▋         | 13/200 [1:03:41<15:14:53, 293.55s/it]"
     ]
    },
    {
     "name": "stdout",
     "output_type": "stream",
     "text": [
      "Epoch 13 / val/metric=0.5488\n",
      "Epoch 14 / trn/loss=0.8047\n",
      "Epoch 14 / train/metric=0.5656\n"
     ]
    },
    {
     "name": "stderr",
     "output_type": "stream",
     "text": [
      "  7%|▋         | 14/200 [1:08:35<15:10:26, 293.69s/it]"
     ]
    },
    {
     "name": "stdout",
     "output_type": "stream",
     "text": [
      "Epoch 14 / val/metric=0.5462\n",
      "Epoch 15 / trn/loss=0.7987\n",
      "Epoch 15 / train/metric=0.5603\n",
      "Epoch 15 / val/metric=0.5444\n",
      "Best val_metric 0.5443859571738096 at epoch 15!\n"
     ]
    },
    {
     "name": "stderr",
     "output_type": "stream",
     "text": [
      "  8%|▊         | 15/200 [1:13:30<15:06:50, 294.11s/it]"
     ]
    },
    {
     "name": "stdout",
     "output_type": "stream",
     "text": [
      "Epoch 16 / trn/loss=0.8004\n",
      "Epoch 16 / train/metric=0.5609\n"
     ]
    },
    {
     "name": "stderr",
     "output_type": "stream",
     "text": [
      "  8%|▊         | 16/200 [1:18:24<15:02:00, 294.13s/it]"
     ]
    },
    {
     "name": "stdout",
     "output_type": "stream",
     "text": [
      "Epoch 16 / val/metric=0.5447\n",
      "Epoch 17 / trn/loss=0.7988\n",
      "Epoch 17 / train/metric=0.5598\n",
      "Epoch 17 / val/metric=0.5407\n",
      "Best val_metric 0.5407216195673618 at epoch 17!\n"
     ]
    },
    {
     "name": "stderr",
     "output_type": "stream",
     "text": [
      "  8%|▊         | 17/200 [1:23:19<14:57:53, 294.39s/it]"
     ]
    },
    {
     "name": "stdout",
     "output_type": "stream",
     "text": [
      "Epoch 18 / trn/loss=0.7954\n",
      "Epoch 18 / train/metric=0.5581\n"
     ]
    },
    {
     "name": "stderr",
     "output_type": "stream",
     "text": [
      "  9%|▉         | 18/200 [1:28:13<14:52:31, 294.24s/it]"
     ]
    },
    {
     "name": "stdout",
     "output_type": "stream",
     "text": [
      "Epoch 18 / val/metric=0.5505\n",
      "Epoch 19 / trn/loss=0.7967\n",
      "Epoch 19 / train/metric=0.5589\n",
      "Epoch 19 / val/metric=0.5394\n",
      "Best val_metric 0.5393605096136288 at epoch 19!\n"
     ]
    },
    {
     "name": "stderr",
     "output_type": "stream",
     "text": [
      " 10%|▉         | 19/200 [1:33:07<14:47:43, 294.27s/it]"
     ]
    },
    {
     "name": "stdout",
     "output_type": "stream",
     "text": [
      "Epoch 20 / trn/loss=0.7968\n",
      "Epoch 20 / train/metric=0.5589\n",
      "Epoch 20 / val/metric=0.5381\n",
      "Best val_metric 0.5380551845802015 at epoch 20!\n"
     ]
    },
    {
     "name": "stderr",
     "output_type": "stream",
     "text": [
      " 10%|█         | 20/200 [1:38:01<14:42:47, 294.27s/it]"
     ]
    },
    {
     "name": "stdout",
     "output_type": "stream",
     "text": [
      "Epoch 21 / trn/loss=0.7953\n",
      "Epoch 21 / train/metric=0.5593\n",
      "Epoch 21 / val/metric=0.5365\n",
      "Best val_metric 0.5364786954691629 at epoch 21!\n"
     ]
    },
    {
     "name": "stderr",
     "output_type": "stream",
     "text": [
      " 10%|█         | 21/200 [1:42:54<14:36:24, 293.77s/it]"
     ]
    },
    {
     "name": "stdout",
     "output_type": "stream",
     "text": [
      "Epoch 22 / trn/loss=0.7967\n",
      "Epoch 22 / train/metric=0.5594\n"
     ]
    },
    {
     "name": "stderr",
     "output_type": "stream",
     "text": [
      " 11%|█         | 22/200 [1:47:48<14:32:01, 293.94s/it]"
     ]
    },
    {
     "name": "stdout",
     "output_type": "stream",
     "text": [
      "Epoch 22 / val/metric=0.5533\n",
      "Epoch 23 / trn/loss=0.7990\n",
      "Epoch 23 / train/metric=0.5612\n"
     ]
    },
    {
     "name": "stderr",
     "output_type": "stream",
     "text": [
      " 12%|█▏        | 23/200 [1:52:43<14:27:32, 294.08s/it]"
     ]
    },
    {
     "name": "stdout",
     "output_type": "stream",
     "text": [
      "Epoch 23 / val/metric=0.5410\n",
      "Epoch 24 / trn/loss=0.7960\n",
      "Epoch 24 / train/metric=0.5579\n",
      "Epoch 24 / val/metric=0.5357\n",
      "Best val_metric 0.5356680835732083 at epoch 24!\n"
     ]
    },
    {
     "name": "stderr",
     "output_type": "stream",
     "text": [
      " 12%|█▏        | 24/200 [1:57:37<14:23:00, 294.21s/it]"
     ]
    },
    {
     "name": "stdout",
     "output_type": "stream",
     "text": [
      "Epoch 25 / trn/loss=0.7934\n",
      "Epoch 25 / train/metric=0.5552\n"
     ]
    },
    {
     "name": "stderr",
     "output_type": "stream",
     "text": [
      " 12%|█▎        | 25/200 [2:02:31<14:17:55, 294.15s/it]"
     ]
    },
    {
     "name": "stdout",
     "output_type": "stream",
     "text": [
      "Epoch 25 / val/metric=0.5443\n",
      "Epoch 26 / trn/loss=0.7897\n",
      "Epoch 26 / train/metric=0.5531\n"
     ]
    },
    {
     "name": "stderr",
     "output_type": "stream",
     "text": [
      " 13%|█▎        | 26/200 [2:07:26<14:13:54, 294.45s/it]"
     ]
    },
    {
     "name": "stdout",
     "output_type": "stream",
     "text": [
      "Epoch 26 / val/metric=0.5417\n",
      "Epoch 27 / trn/loss=0.7926\n",
      "Epoch 27 / train/metric=0.5563\n"
     ]
    },
    {
     "name": "stderr",
     "output_type": "stream",
     "text": [
      " 14%|█▎        | 27/200 [2:12:21<14:09:14, 294.53s/it]"
     ]
    },
    {
     "name": "stdout",
     "output_type": "stream",
     "text": [
      "Epoch 27 / val/metric=0.5511\n",
      "Epoch 28 / trn/loss=0.7917\n",
      "Epoch 28 / train/metric=0.5550\n"
     ]
    },
    {
     "name": "stderr",
     "output_type": "stream",
     "text": [
      " 14%|█▍        | 28/200 [2:17:16<14:04:25, 294.57s/it]"
     ]
    },
    {
     "name": "stdout",
     "output_type": "stream",
     "text": [
      "Epoch 28 / val/metric=0.5376\n",
      "Epoch 29 / trn/loss=0.7889\n",
      "Epoch 29 / train/metric=0.5517\n"
     ]
    },
    {
     "name": "stderr",
     "output_type": "stream",
     "text": [
      " 14%|█▍        | 29/200 [2:22:09<13:58:40, 294.27s/it]"
     ]
    },
    {
     "name": "stdout",
     "output_type": "stream",
     "text": [
      "Epoch 29 / val/metric=0.5447\n",
      "Epoch 30 / trn/loss=0.7881\n",
      "Epoch 30 / train/metric=0.5522\n"
     ]
    },
    {
     "name": "stderr",
     "output_type": "stream",
     "text": [
      " 15%|█▌        | 30/200 [2:27:04<13:53:58, 294.35s/it]"
     ]
    },
    {
     "name": "stdout",
     "output_type": "stream",
     "text": [
      "Epoch 30 / val/metric=0.5495\n",
      "Epoch 31 / trn/loss=0.7887\n",
      "Epoch 31 / train/metric=0.5516\n"
     ]
    },
    {
     "name": "stderr",
     "output_type": "stream",
     "text": [
      " 16%|█▌        | 31/200 [2:31:58<13:48:51, 294.27s/it]"
     ]
    },
    {
     "name": "stdout",
     "output_type": "stream",
     "text": [
      "Epoch 31 / val/metric=0.5517\n",
      "Epoch 32 / trn/loss=0.7968\n",
      "Epoch 32 / train/metric=0.5604\n"
     ]
    },
    {
     "name": "stderr",
     "output_type": "stream",
     "text": [
      " 16%|█▌        | 32/200 [2:36:52<13:43:29, 294.10s/it]"
     ]
    },
    {
     "name": "stdout",
     "output_type": "stream",
     "text": [
      "Epoch 32 / val/metric=0.5428\n",
      "Epoch 33 / trn/loss=0.7928\n",
      "Epoch 33 / train/metric=0.5563\n"
     ]
    },
    {
     "name": "stderr",
     "output_type": "stream",
     "text": [
      " 16%|█▋        | 33/200 [2:41:46<13:38:30, 294.07s/it]"
     ]
    },
    {
     "name": "stdout",
     "output_type": "stream",
     "text": [
      "Epoch 33 / val/metric=0.5402\n",
      "Epoch 34 / trn/loss=0.7910\n",
      "Epoch 34 / train/metric=0.5542\n"
     ]
    },
    {
     "name": "stderr",
     "output_type": "stream",
     "text": [
      " 17%|█▋        | 34/200 [2:46:40<13:33:41, 294.10s/it]"
     ]
    },
    {
     "name": "stdout",
     "output_type": "stream",
     "text": [
      "Epoch 34 / val/metric=0.5378\n",
      "Epoch 35 / trn/loss=0.7866\n",
      "Epoch 35 / train/metric=0.5494\n",
      "Epoch 35 / val/metric=0.5347\n",
      "Best val_metric 0.5347487492166493 at epoch 35!\n"
     ]
    },
    {
     "name": "stderr",
     "output_type": "stream",
     "text": [
      " 18%|█▊        | 35/200 [2:51:35<13:29:24, 294.33s/it]"
     ]
    },
    {
     "name": "stdout",
     "output_type": "stream",
     "text": [
      "Epoch 36 / trn/loss=0.7910\n",
      "Epoch 36 / train/metric=0.5529\n",
      "Epoch 36 / val/metric=0.5268\n",
      "Best val_metric 0.5267589615024719 at epoch 36!\n"
     ]
    },
    {
     "name": "stderr",
     "output_type": "stream",
     "text": [
      " 18%|█▊        | 36/200 [2:56:29<13:24:07, 294.19s/it]"
     ]
    },
    {
     "name": "stdout",
     "output_type": "stream",
     "text": [
      "Epoch 37 / trn/loss=0.7865\n",
      "Epoch 37 / train/metric=0.5497\n"
     ]
    },
    {
     "name": "stderr",
     "output_type": "stream",
     "text": [
      " 18%|█▊        | 37/200 [3:01:23<13:19:05, 294.14s/it]"
     ]
    },
    {
     "name": "stdout",
     "output_type": "stream",
     "text": [
      "Epoch 37 / val/metric=0.5438\n",
      "Epoch 38 / trn/loss=0.7883\n",
      "Epoch 38 / train/metric=0.5521\n"
     ]
    },
    {
     "name": "stderr",
     "output_type": "stream",
     "text": [
      " 19%|█▉        | 38/200 [3:06:18<13:14:49, 294.38s/it]"
     ]
    },
    {
     "name": "stdout",
     "output_type": "stream",
     "text": [
      "Epoch 38 / val/metric=0.5457\n",
      "Epoch 39 / trn/loss=0.7849\n",
      "Epoch 39 / train/metric=0.5490\n"
     ]
    },
    {
     "name": "stderr",
     "output_type": "stream",
     "text": [
      " 20%|█▉        | 39/200 [3:11:12<13:09:40, 294.29s/it]"
     ]
    },
    {
     "name": "stdout",
     "output_type": "stream",
     "text": [
      "Epoch 39 / val/metric=0.5357\n",
      "Epoch 40 / trn/loss=0.7857\n",
      "Epoch 40 / train/metric=0.5512\n"
     ]
    },
    {
     "name": "stderr",
     "output_type": "stream",
     "text": [
      " 20%|██        | 40/200 [3:16:06<13:04:37, 294.23s/it]"
     ]
    },
    {
     "name": "stdout",
     "output_type": "stream",
     "text": [
      "Epoch 40 / val/metric=0.5394\n",
      "Epoch 41 / trn/loss=0.7817\n",
      "Epoch 41 / train/metric=0.5475\n"
     ]
    },
    {
     "name": "stderr",
     "output_type": "stream",
     "text": [
      " 20%|██        | 41/200 [3:21:01<13:00:08, 294.40s/it]"
     ]
    },
    {
     "name": "stdout",
     "output_type": "stream",
     "text": [
      "Epoch 41 / val/metric=0.5573\n",
      "Epoch 42 / trn/loss=0.7875\n",
      "Epoch 42 / train/metric=0.5530\n"
     ]
    },
    {
     "name": "stderr",
     "output_type": "stream",
     "text": [
      " 21%|██        | 42/200 [3:25:54<12:54:23, 294.07s/it]"
     ]
    },
    {
     "name": "stdout",
     "output_type": "stream",
     "text": [
      "Epoch 42 / val/metric=0.5504\n",
      "Epoch 43 / trn/loss=0.7850\n",
      "Epoch 43 / train/metric=0.5499\n"
     ]
    },
    {
     "name": "stderr",
     "output_type": "stream",
     "text": [
      " 22%|██▏       | 43/200 [3:30:48<12:49:18, 294.00s/it]"
     ]
    },
    {
     "name": "stdout",
     "output_type": "stream",
     "text": [
      "Epoch 43 / val/metric=0.5288\n",
      "Epoch 44 / trn/loss=0.7835\n",
      "Epoch 44 / train/metric=0.5486\n"
     ]
    },
    {
     "name": "stderr",
     "output_type": "stream",
     "text": [
      " 22%|██▏       | 44/200 [3:35:42<12:44:29, 294.03s/it]"
     ]
    },
    {
     "name": "stdout",
     "output_type": "stream",
     "text": [
      "Epoch 44 / val/metric=0.5366\n",
      "Epoch 45 / trn/loss=0.7831\n",
      "Epoch 45 / train/metric=0.5476\n"
     ]
    },
    {
     "name": "stderr",
     "output_type": "stream",
     "text": [
      " 22%|██▎       | 45/200 [3:40:36<12:39:36, 294.04s/it]"
     ]
    },
    {
     "name": "stdout",
     "output_type": "stream",
     "text": [
      "Epoch 45 / val/metric=0.5391\n",
      "Epoch 46 / trn/loss=0.7858\n",
      "Epoch 46 / train/metric=0.5504\n"
     ]
    },
    {
     "name": "stderr",
     "output_type": "stream",
     "text": [
      " 23%|██▎       | 46/200 [3:45:30<12:34:38, 294.01s/it]"
     ]
    },
    {
     "name": "stdout",
     "output_type": "stream",
     "text": [
      "Epoch 46 / val/metric=0.5318\n",
      "Epoch 47 / trn/loss=0.7791\n",
      "Epoch 47 / train/metric=0.5461\n",
      "Epoch 47 / val/metric=0.5193\n",
      "Best val_metric 0.5193423416192084 at epoch 47!\n"
     ]
    },
    {
     "name": "stderr",
     "output_type": "stream",
     "text": [
      " 24%|██▎       | 47/200 [3:50:25<12:30:31, 294.32s/it]"
     ]
    },
    {
     "name": "stdout",
     "output_type": "stream",
     "text": [
      "Epoch 48 / trn/loss=0.7797\n",
      "Epoch 48 / train/metric=0.5463\n"
     ]
    },
    {
     "name": "stderr",
     "output_type": "stream",
     "text": [
      " 24%|██▍       | 48/200 [3:55:18<12:24:35, 293.92s/it]"
     ]
    },
    {
     "name": "stdout",
     "output_type": "stream",
     "text": [
      "Epoch 48 / val/metric=0.5248\n",
      "Epoch 49 / trn/loss=0.7742\n",
      "Epoch 49 / train/metric=0.5406\n"
     ]
    },
    {
     "name": "stderr",
     "output_type": "stream",
     "text": [
      " 24%|██▍       | 49/200 [4:00:12<12:19:36, 293.88s/it]"
     ]
    },
    {
     "name": "stdout",
     "output_type": "stream",
     "text": [
      "Epoch 49 / val/metric=0.5369\n",
      "Epoch 50 / trn/loss=0.7796\n",
      "Epoch 50 / train/metric=0.5456\n"
     ]
    },
    {
     "name": "stderr",
     "output_type": "stream",
     "text": [
      " 25%|██▌       | 50/200 [4:05:06<12:15:10, 294.07s/it]"
     ]
    },
    {
     "name": "stdout",
     "output_type": "stream",
     "text": [
      "Epoch 50 / val/metric=0.5325\n",
      "Epoch 51 / trn/loss=0.7748\n",
      "Epoch 51 / train/metric=0.5407\n"
     ]
    },
    {
     "name": "stderr",
     "output_type": "stream",
     "text": [
      " 26%|██▌       | 51/200 [4:10:01<12:10:59, 294.36s/it]"
     ]
    },
    {
     "name": "stdout",
     "output_type": "stream",
     "text": [
      "Epoch 51 / val/metric=0.5252\n",
      "Epoch 52 / trn/loss=0.7705\n",
      "Epoch 52 / train/metric=0.5389\n"
     ]
    },
    {
     "name": "stderr",
     "output_type": "stream",
     "text": [
      " 26%|██▌       | 52/200 [4:14:54<12:05:15, 294.02s/it]"
     ]
    },
    {
     "name": "stdout",
     "output_type": "stream",
     "text": [
      "Epoch 52 / val/metric=0.5511\n",
      "Epoch 53 / trn/loss=0.7759\n",
      "Epoch 53 / train/metric=0.5434\n"
     ]
    },
    {
     "name": "stderr",
     "output_type": "stream",
     "text": [
      " 26%|██▋       | 53/200 [4:19:48<12:00:16, 293.99s/it]"
     ]
    },
    {
     "name": "stdout",
     "output_type": "stream",
     "text": [
      "Epoch 53 / val/metric=0.5258\n",
      "Epoch 54 / trn/loss=0.7710\n",
      "Epoch 54 / train/metric=0.5381\n"
     ]
    },
    {
     "name": "stderr",
     "output_type": "stream",
     "text": [
      " 27%|██▋       | 54/200 [4:24:42<11:54:58, 293.83s/it]"
     ]
    },
    {
     "name": "stdout",
     "output_type": "stream",
     "text": [
      "Epoch 54 / val/metric=0.5230\n",
      "Epoch 55 / trn/loss=0.7701\n",
      "Epoch 55 / train/metric=0.5398\n"
     ]
    },
    {
     "name": "stderr",
     "output_type": "stream",
     "text": [
      " 28%|██▊       | 55/200 [4:29:37<11:50:44, 294.10s/it]"
     ]
    },
    {
     "name": "stdout",
     "output_type": "stream",
     "text": [
      "Epoch 55 / val/metric=0.5221\n",
      "Epoch 56 / trn/loss=0.7709\n",
      "Epoch 56 / train/metric=0.5383\n"
     ]
    },
    {
     "name": "stderr",
     "output_type": "stream",
     "text": [
      " 28%|██▊       | 56/200 [4:34:32<11:46:30, 294.38s/it]"
     ]
    },
    {
     "name": "stdout",
     "output_type": "stream",
     "text": [
      "Epoch 56 / val/metric=0.5319\n",
      "Epoch 57 / trn/loss=0.7661\n",
      "Epoch 57 / train/metric=0.5350\n",
      "Epoch 57 / val/metric=0.5173\n",
      "Best val_metric 0.5173366571998507 at epoch 57!\n"
     ]
    },
    {
     "name": "stderr",
     "output_type": "stream",
     "text": [
      " 28%|██▊       | 57/200 [4:39:26<11:41:19, 294.26s/it]"
     ]
    },
    {
     "name": "stdout",
     "output_type": "stream",
     "text": [
      "Epoch 58 / trn/loss=0.7617\n",
      "Epoch 58 / train/metric=0.5293\n"
     ]
    },
    {
     "name": "stderr",
     "output_type": "stream",
     "text": [
      " 29%|██▉       | 58/200 [4:44:20<11:36:51, 294.44s/it]"
     ]
    },
    {
     "name": "stdout",
     "output_type": "stream",
     "text": [
      "Epoch 58 / val/metric=0.5310\n",
      "Epoch 59 / trn/loss=0.7577\n",
      "Epoch 59 / train/metric=0.5276\n"
     ]
    },
    {
     "name": "stderr",
     "output_type": "stream",
     "text": [
      " 30%|██▉       | 59/200 [4:49:14<11:31:28, 294.25s/it]"
     ]
    },
    {
     "name": "stdout",
     "output_type": "stream",
     "text": [
      "Epoch 59 / val/metric=0.5177\n",
      "Epoch 60 / trn/loss=0.7647\n",
      "Epoch 60 / train/metric=0.5317\n"
     ]
    },
    {
     "name": "stderr",
     "output_type": "stream",
     "text": [
      " 30%|███       | 60/200 [4:54:08<11:26:20, 294.14s/it]"
     ]
    },
    {
     "name": "stdout",
     "output_type": "stream",
     "text": [
      "Epoch 60 / val/metric=0.5303\n",
      "Epoch 61 / trn/loss=0.7596\n",
      "Epoch 61 / train/metric=0.5281\n"
     ]
    },
    {
     "name": "stderr",
     "output_type": "stream",
     "text": [
      " 30%|███       | 61/200 [4:59:02<11:21:20, 294.10s/it]"
     ]
    },
    {
     "name": "stdout",
     "output_type": "stream",
     "text": [
      "Epoch 61 / val/metric=0.5204\n",
      "Epoch 62 / trn/loss=0.7590\n",
      "Epoch 62 / train/metric=0.5282\n"
     ]
    },
    {
     "name": "stderr",
     "output_type": "stream",
     "text": [
      " 31%|███       | 62/200 [5:03:56<11:16:32, 294.15s/it]"
     ]
    },
    {
     "name": "stdout",
     "output_type": "stream",
     "text": [
      "Epoch 62 / val/metric=0.5371\n",
      "Epoch 63 / trn/loss=0.7592\n",
      "Epoch 63 / train/metric=0.5297\n",
      "Epoch 63 / val/metric=0.5099\n",
      "Best val_metric 0.5098514817845469 at epoch 63!\n"
     ]
    },
    {
     "name": "stderr",
     "output_type": "stream",
     "text": [
      " 32%|███▏      | 63/200 [5:08:51<11:11:49, 294.23s/it]"
     ]
    },
    {
     "name": "stdout",
     "output_type": "stream",
     "text": [
      "Epoch 64 / trn/loss=0.7474\n",
      "Epoch 64 / train/metric=0.5193\n"
     ]
    },
    {
     "name": "stderr",
     "output_type": "stream",
     "text": [
      " 32%|███▏      | 64/200 [5:13:45<11:06:54, 294.23s/it]"
     ]
    },
    {
     "name": "stdout",
     "output_type": "stream",
     "text": [
      "Epoch 64 / val/metric=0.5414\n",
      "Epoch 65 / trn/loss=0.7554\n",
      "Epoch 65 / train/metric=0.5258\n",
      "Epoch 65 / val/metric=0.5076\n",
      "Best val_metric 0.5075754292341164 at epoch 65!\n"
     ]
    },
    {
     "name": "stderr",
     "output_type": "stream",
     "text": [
      " 32%|███▎      | 65/200 [5:18:40<11:02:29, 294.44s/it]"
     ]
    },
    {
     "name": "stdout",
     "output_type": "stream",
     "text": [
      "Epoch 66 / trn/loss=0.7503\n",
      "Epoch 66 / train/metric=0.5223\n",
      "Epoch 66 / val/metric=0.5001\n",
      "Best val_metric 0.5000953818585667 at epoch 66!\n"
     ]
    },
    {
     "name": "stderr",
     "output_type": "stream",
     "text": [
      " 33%|███▎      | 66/200 [5:23:34<10:57:31, 294.42s/it]"
     ]
    },
    {
     "name": "stdout",
     "output_type": "stream",
     "text": [
      "Epoch 67 / trn/loss=0.7506\n",
      "Epoch 67 / train/metric=0.5224\n"
     ]
    },
    {
     "name": "stderr",
     "output_type": "stream",
     "text": [
      " 34%|███▎      | 67/200 [5:28:28<10:52:16, 294.26s/it]"
     ]
    },
    {
     "name": "stdout",
     "output_type": "stream",
     "text": [
      "Epoch 67 / val/metric=0.5205\n",
      "Epoch 68 / trn/loss=0.7525\n",
      "Epoch 68 / train/metric=0.5231\n"
     ]
    },
    {
     "name": "stderr",
     "output_type": "stream",
     "text": [
      " 34%|███▍      | 68/200 [5:33:21<10:46:43, 293.96s/it]"
     ]
    },
    {
     "name": "stdout",
     "output_type": "stream",
     "text": [
      "Epoch 68 / val/metric=0.5056\n",
      "Epoch 69 / trn/loss=0.7430\n",
      "Epoch 69 / train/metric=0.5152\n"
     ]
    },
    {
     "name": "stderr",
     "output_type": "stream",
     "text": [
      " 34%|███▍      | 69/200 [5:38:16<10:42:04, 294.08s/it]"
     ]
    },
    {
     "name": "stdout",
     "output_type": "stream",
     "text": [
      "Epoch 69 / val/metric=0.5306\n",
      "Epoch 70 / trn/loss=0.7350\n",
      "Epoch 70 / train/metric=0.5093\n"
     ]
    },
    {
     "name": "stderr",
     "output_type": "stream",
     "text": [
      " 35%|███▌      | 70/200 [5:43:11<10:37:55, 294.42s/it]"
     ]
    },
    {
     "name": "stdout",
     "output_type": "stream",
     "text": [
      "Epoch 70 / val/metric=0.5531\n",
      "Epoch 71 / trn/loss=0.7433\n",
      "Epoch 71 / train/metric=0.5156\n"
     ]
    },
    {
     "name": "stderr",
     "output_type": "stream",
     "text": [
      " 36%|███▌      | 71/200 [5:48:05<10:32:49, 294.34s/it]"
     ]
    },
    {
     "name": "stdout",
     "output_type": "stream",
     "text": [
      "Epoch 71 / val/metric=0.5021\n",
      "Epoch 72 / trn/loss=0.7371\n",
      "Epoch 72 / train/metric=0.5112\n"
     ]
    },
    {
     "name": "stderr",
     "output_type": "stream",
     "text": [
      " 36%|███▌      | 72/200 [5:53:00<10:28:02, 294.39s/it]"
     ]
    },
    {
     "name": "stdout",
     "output_type": "stream",
     "text": [
      "Epoch 72 / val/metric=0.5181\n",
      "Epoch 73 / trn/loss=0.7391\n",
      "Epoch 73 / train/metric=0.5130\n"
     ]
    },
    {
     "name": "stderr",
     "output_type": "stream",
     "text": [
      " 36%|███▋      | 73/200 [5:57:54<10:23:02, 294.35s/it]"
     ]
    },
    {
     "name": "stdout",
     "output_type": "stream",
     "text": [
      "Epoch 73 / val/metric=0.5023\n",
      "Epoch 74 / trn/loss=0.7417\n",
      "Epoch 74 / train/metric=0.5139\n",
      "Epoch 74 / val/metric=0.4946\n",
      "Best val_metric 0.4946221208407218 at epoch 74!\n"
     ]
    },
    {
     "name": "stderr",
     "output_type": "stream",
     "text": [
      " 37%|███▋      | 74/200 [6:02:49<10:18:32, 294.55s/it]"
     ]
    },
    {
     "name": "stdout",
     "output_type": "stream",
     "text": [
      "Epoch 75 / trn/loss=0.7384\n",
      "Epoch 75 / train/metric=0.5120\n"
     ]
    },
    {
     "name": "stderr",
     "output_type": "stream",
     "text": [
      " 38%|███▊      | 75/200 [6:07:43<10:13:29, 294.47s/it]"
     ]
    },
    {
     "name": "stdout",
     "output_type": "stream",
     "text": [
      "Epoch 75 / val/metric=0.5022\n",
      "Epoch 76 / trn/loss=0.7321\n",
      "Epoch 76 / train/metric=0.5068\n"
     ]
    },
    {
     "name": "stderr",
     "output_type": "stream",
     "text": [
      " 38%|███▊      | 76/200 [6:12:37<10:08:18, 294.34s/it]"
     ]
    },
    {
     "name": "stdout",
     "output_type": "stream",
     "text": [
      "Epoch 76 / val/metric=0.5037\n",
      "Epoch 77 / trn/loss=0.7321\n",
      "Epoch 77 / train/metric=0.5064\n"
     ]
    },
    {
     "name": "stderr",
     "output_type": "stream",
     "text": [
      " 38%|███▊      | 77/200 [6:17:31<10:03:12, 294.25s/it]"
     ]
    },
    {
     "name": "stdout",
     "output_type": "stream",
     "text": [
      "Epoch 77 / val/metric=0.5053\n",
      "Epoch 78 / trn/loss=0.7353\n",
      "Epoch 78 / train/metric=0.5100\n"
     ]
    },
    {
     "name": "stderr",
     "output_type": "stream",
     "text": [
      " 39%|███▉      | 78/200 [6:22:25<9:57:52, 294.03s/it] "
     ]
    },
    {
     "name": "stdout",
     "output_type": "stream",
     "text": [
      "Epoch 78 / val/metric=0.5220\n",
      "Epoch 79 / trn/loss=0.7266\n",
      "Epoch 79 / train/metric=0.5028\n"
     ]
    },
    {
     "name": "stderr",
     "output_type": "stream",
     "text": [
      " 40%|███▉      | 79/200 [6:27:18<9:52:41, 293.89s/it]"
     ]
    },
    {
     "name": "stdout",
     "output_type": "stream",
     "text": [
      "Epoch 79 / val/metric=0.5072\n",
      "Epoch 80 / trn/loss=0.7280\n",
      "Epoch 80 / train/metric=0.5032\n",
      "Epoch 80 / val/metric=0.4874\n",
      "Best val_metric 0.48744185415697777 at epoch 80!\n"
     ]
    },
    {
     "name": "stderr",
     "output_type": "stream",
     "text": [
      " 40%|████      | 80/200 [6:32:13<9:48:16, 294.13s/it]"
     ]
    },
    {
     "name": "stdout",
     "output_type": "stream",
     "text": [
      "Epoch 81 / trn/loss=0.7240\n",
      "Epoch 81 / train/metric=0.5002\n"
     ]
    },
    {
     "name": "stderr",
     "output_type": "stream",
     "text": [
      " 40%|████      | 81/200 [6:37:06<9:42:42, 293.81s/it]"
     ]
    },
    {
     "name": "stdout",
     "output_type": "stream",
     "text": [
      "Epoch 81 / val/metric=0.4978\n",
      "Epoch 82 / trn/loss=0.7280\n",
      "Epoch 82 / train/metric=0.5046\n"
     ]
    },
    {
     "name": "stderr",
     "output_type": "stream",
     "text": [
      " 41%|████      | 82/200 [6:41:58<9:36:22, 293.07s/it]"
     ]
    },
    {
     "name": "stdout",
     "output_type": "stream",
     "text": [
      "Epoch 82 / val/metric=0.5142\n",
      "Epoch 83 / trn/loss=0.7249\n",
      "Epoch 83 / train/metric=0.5015\n"
     ]
    },
    {
     "name": "stderr",
     "output_type": "stream",
     "text": [
      " 42%|████▏     | 83/200 [6:46:52<9:31:59, 293.33s/it]"
     ]
    },
    {
     "name": "stdout",
     "output_type": "stream",
     "text": [
      "Epoch 83 / val/metric=0.5058\n",
      "Epoch 84 / trn/loss=0.7205\n",
      "Epoch 84 / train/metric=0.4980\n"
     ]
    },
    {
     "name": "stderr",
     "output_type": "stream",
     "text": [
      " 42%|████▏     | 84/200 [6:51:45<9:27:19, 293.44s/it]"
     ]
    },
    {
     "name": "stdout",
     "output_type": "stream",
     "text": [
      "Epoch 84 / val/metric=0.5034\n",
      "Epoch 85 / trn/loss=0.7260\n",
      "Epoch 85 / train/metric=0.5017\n"
     ]
    },
    {
     "name": "stderr",
     "output_type": "stream",
     "text": [
      " 42%|████▎     | 85/200 [6:56:39<9:22:39, 293.56s/it]"
     ]
    },
    {
     "name": "stdout",
     "output_type": "stream",
     "text": [
      "Epoch 85 / val/metric=0.5023\n",
      "Epoch 86 / trn/loss=0.7163\n",
      "Epoch 86 / train/metric=0.4935\n"
     ]
    },
    {
     "name": "stderr",
     "output_type": "stream",
     "text": [
      " 43%|████▎     | 86/200 [7:01:34<9:18:21, 293.88s/it]"
     ]
    },
    {
     "name": "stdout",
     "output_type": "stream",
     "text": [
      "Epoch 86 / val/metric=0.5184\n",
      "Epoch 87 / trn/loss=0.7214\n",
      "Epoch 87 / train/metric=0.5003\n"
     ]
    },
    {
     "name": "stderr",
     "output_type": "stream",
     "text": [
      " 44%|████▎     | 87/200 [7:06:28<9:13:28, 293.88s/it]"
     ]
    },
    {
     "name": "stdout",
     "output_type": "stream",
     "text": [
      "Epoch 87 / val/metric=0.5122\n",
      "Epoch 88 / trn/loss=0.7173\n",
      "Epoch 88 / train/metric=0.4946\n"
     ]
    },
    {
     "name": "stderr",
     "output_type": "stream",
     "text": [
      " 44%|████▍     | 88/200 [7:11:21<9:08:34, 293.88s/it]"
     ]
    },
    {
     "name": "stdout",
     "output_type": "stream",
     "text": [
      "Epoch 88 / val/metric=0.5065\n",
      "Epoch 89 / trn/loss=0.7142\n",
      "Epoch 89 / train/metric=0.4915\n"
     ]
    },
    {
     "name": "stderr",
     "output_type": "stream",
     "text": [
      " 44%|████▍     | 89/200 [7:16:15<9:03:39, 293.87s/it]"
     ]
    },
    {
     "name": "stdout",
     "output_type": "stream",
     "text": [
      "Epoch 89 / val/metric=0.5011\n",
      "Epoch 90 / trn/loss=0.7118\n",
      "Epoch 90 / train/metric=0.4898\n"
     ]
    },
    {
     "name": "stderr",
     "output_type": "stream",
     "text": [
      " 45%|████▌     | 90/200 [7:21:10<8:59:02, 294.03s/it]"
     ]
    },
    {
     "name": "stdout",
     "output_type": "stream",
     "text": [
      "Epoch 90 / val/metric=0.5132\n",
      "Epoch 91 / trn/loss=0.7156\n",
      "Epoch 91 / train/metric=0.4944\n"
     ]
    },
    {
     "name": "stderr",
     "output_type": "stream",
     "text": [
      " 46%|████▌     | 91/200 [7:26:03<8:54:00, 293.95s/it]"
     ]
    },
    {
     "name": "stdout",
     "output_type": "stream",
     "text": [
      "Epoch 91 / val/metric=0.5000\n",
      "Epoch 92 / trn/loss=0.7056\n",
      "Epoch 92 / train/metric=0.4853\n"
     ]
    },
    {
     "name": "stderr",
     "output_type": "stream",
     "text": [
      " 46%|████▌     | 92/200 [7:30:57<8:48:47, 293.78s/it]"
     ]
    },
    {
     "name": "stdout",
     "output_type": "stream",
     "text": [
      "Epoch 92 / val/metric=0.5104\n",
      "Epoch 93 / trn/loss=0.7043\n",
      "Epoch 93 / train/metric=0.4853\n"
     ]
    },
    {
     "name": "stderr",
     "output_type": "stream",
     "text": [
      " 46%|████▋     | 93/200 [7:35:49<8:42:57, 293.25s/it]"
     ]
    },
    {
     "name": "stdout",
     "output_type": "stream",
     "text": [
      "Epoch 93 / val/metric=0.5117\n",
      "Epoch 94 / trn/loss=0.7141\n",
      "Epoch 94 / train/metric=0.4935\n"
     ]
    },
    {
     "name": "stderr",
     "output_type": "stream",
     "text": [
      " 47%|████▋     | 94/200 [7:40:41<8:37:21, 292.85s/it]"
     ]
    },
    {
     "name": "stdout",
     "output_type": "stream",
     "text": [
      "Epoch 94 / val/metric=0.5015\n",
      "Epoch 95 / trn/loss=0.7123\n",
      "Epoch 95 / train/metric=0.4912\n"
     ]
    },
    {
     "name": "stderr",
     "output_type": "stream",
     "text": [
      " 48%|████▊     | 95/200 [7:45:33<8:32:07, 292.64s/it]"
     ]
    },
    {
     "name": "stdout",
     "output_type": "stream",
     "text": [
      "Epoch 95 / val/metric=0.4960\n",
      "Epoch 96 / trn/loss=0.7071\n",
      "Epoch 96 / train/metric=0.4867\n"
     ]
    },
    {
     "name": "stderr",
     "output_type": "stream",
     "text": [
      " 48%|████▊     | 96/200 [7:50:25<8:26:55, 292.45s/it]"
     ]
    },
    {
     "name": "stdout",
     "output_type": "stream",
     "text": [
      "Epoch 96 / val/metric=0.4961\n",
      "Epoch 97 / trn/loss=0.6996\n",
      "Epoch 97 / train/metric=0.4810\n"
     ]
    },
    {
     "name": "stderr",
     "output_type": "stream",
     "text": [
      " 48%|████▊     | 97/200 [7:55:19<8:22:57, 292.98s/it]"
     ]
    },
    {
     "name": "stdout",
     "output_type": "stream",
     "text": [
      "Epoch 97 / val/metric=0.5011\n",
      "Epoch 98 / trn/loss=0.7052\n",
      "Epoch 98 / train/metric=0.4856\n"
     ]
    },
    {
     "name": "stderr",
     "output_type": "stream",
     "text": [
      " 49%|████▉     | 98/200 [8:00:13<8:18:39, 293.32s/it]"
     ]
    },
    {
     "name": "stdout",
     "output_type": "stream",
     "text": [
      "Epoch 98 / val/metric=0.5127\n",
      "Epoch 99 / trn/loss=0.7048\n",
      "Epoch 99 / train/metric=0.4866\n"
     ]
    },
    {
     "name": "stderr",
     "output_type": "stream",
     "text": [
      " 50%|████▉     | 99/200 [8:05:05<8:12:58, 292.85s/it]"
     ]
    },
    {
     "name": "stdout",
     "output_type": "stream",
     "text": [
      "Epoch 99 / val/metric=0.5009\n",
      "Epoch 100 / trn/loss=0.6921\n",
      "Epoch 100 / train/metric=0.4743\n"
     ]
    },
    {
     "name": "stderr",
     "output_type": "stream",
     "text": [
      "wandb: Network error (ReadTimeout), entering retry loop.\n"
     ]
    },
    {
     "name": "stdout",
     "output_type": "stream",
     "text": [
      "Epoch 100 / val/metric=0.4834\n",
      "Best val_metric 0.48337520229861686 at epoch 100!\n"
     ]
    },
    {
     "name": "stderr",
     "output_type": "stream",
     "text": [
      " 50%|█████     | 100/200 [8:09:59<8:08:41, 293.21s/it]"
     ]
    },
    {
     "name": "stdout",
     "output_type": "stream",
     "text": [
      "Epoch 101 / trn/loss=0.6993\n",
      "Epoch 101 / train/metric=0.4813\n"
     ]
    },
    {
     "name": "stderr",
     "output_type": "stream",
     "text": [
      " 50%|█████     | 101/200 [8:14:54<8:04:35, 293.69s/it]"
     ]
    },
    {
     "name": "stdout",
     "output_type": "stream",
     "text": [
      "Epoch 101 / val/metric=0.5159\n",
      "Epoch 102 / trn/loss=0.6981\n",
      "Epoch 102 / train/metric=0.4786\n"
     ]
    },
    {
     "name": "stderr",
     "output_type": "stream",
     "text": [
      " 51%|█████     | 102/200 [8:19:48<7:59:44, 293.72s/it]"
     ]
    },
    {
     "name": "stdout",
     "output_type": "stream",
     "text": [
      "Epoch 102 / val/metric=0.4935\n",
      "Epoch 103 / trn/loss=0.7042\n",
      "Epoch 103 / train/metric=0.4848\n"
     ]
    },
    {
     "name": "stderr",
     "output_type": "stream",
     "text": [
      " 52%|█████▏    | 103/200 [8:24:42<7:55:09, 293.91s/it]"
     ]
    },
    {
     "name": "stdout",
     "output_type": "stream",
     "text": [
      "Epoch 103 / val/metric=0.4992\n",
      "Epoch 104 / trn/loss=0.6902\n",
      "Epoch 104 / train/metric=0.4725\n"
     ]
    },
    {
     "name": "stderr",
     "output_type": "stream",
     "text": [
      " 52%|█████▏    | 104/200 [8:29:37<7:50:49, 294.26s/it]"
     ]
    },
    {
     "name": "stdout",
     "output_type": "stream",
     "text": [
      "Epoch 104 / val/metric=0.4945\n",
      "Epoch 105 / trn/loss=0.6842\n",
      "Epoch 105 / train/metric=0.4664\n"
     ]
    },
    {
     "name": "stderr",
     "output_type": "stream",
     "text": [
      " 52%|█████▎    | 105/200 [8:34:32<7:46:11, 294.43s/it]"
     ]
    },
    {
     "name": "stdout",
     "output_type": "stream",
     "text": [
      "Epoch 105 / val/metric=0.5012\n",
      "Epoch 106 / trn/loss=0.6878\n",
      "Epoch 106 / train/metric=0.4698\n"
     ]
    },
    {
     "name": "stderr",
     "output_type": "stream",
     "text": [
      " 53%|█████▎    | 106/200 [8:39:26<7:41:11, 294.38s/it]"
     ]
    },
    {
     "name": "stdout",
     "output_type": "stream",
     "text": [
      "Epoch 106 / val/metric=0.4867\n",
      "Epoch 107 / trn/loss=0.6845\n",
      "Epoch 107 / train/metric=0.4671\n"
     ]
    },
    {
     "name": "stderr",
     "output_type": "stream",
     "text": [
      " 54%|█████▎    | 107/200 [8:44:18<7:34:54, 293.49s/it]"
     ]
    },
    {
     "name": "stdout",
     "output_type": "stream",
     "text": [
      "Epoch 107 / val/metric=0.4992\n",
      "Epoch 108 / trn/loss=0.6844\n",
      "Epoch 108 / train/metric=0.4679\n"
     ]
    },
    {
     "name": "stderr",
     "output_type": "stream",
     "text": [
      " 54%|█████▍    | 108/200 [8:49:12<7:30:17, 293.67s/it]"
     ]
    },
    {
     "name": "stdout",
     "output_type": "stream",
     "text": [
      "Epoch 108 / val/metric=0.5027\n",
      "Epoch 109 / trn/loss=0.6796\n",
      "Epoch 109 / train/metric=0.4638\n"
     ]
    },
    {
     "name": "stderr",
     "output_type": "stream",
     "text": [
      " 55%|█████▍    | 109/200 [8:54:06<7:25:49, 293.95s/it]"
     ]
    },
    {
     "name": "stdout",
     "output_type": "stream",
     "text": [
      "Epoch 109 / val/metric=0.5102\n",
      "Epoch 110 / trn/loss=0.6843\n",
      "Epoch 110 / train/metric=0.4692\n"
     ]
    },
    {
     "name": "stderr",
     "output_type": "stream",
     "text": [
      " 55%|█████▌    | 110/200 [8:59:02<7:21:33, 294.37s/it]"
     ]
    },
    {
     "name": "stdout",
     "output_type": "stream",
     "text": [
      "Epoch 110 / val/metric=0.4994\n",
      "Epoch 111 / trn/loss=0.6832\n",
      "Epoch 111 / train/metric=0.4681\n"
     ]
    },
    {
     "name": "stderr",
     "output_type": "stream",
     "text": [
      " 56%|█████▌    | 111/200 [9:03:56<7:16:42, 294.41s/it]"
     ]
    },
    {
     "name": "stdout",
     "output_type": "stream",
     "text": [
      "Epoch 111 / val/metric=0.5050\n",
      "Epoch 112 / trn/loss=0.6774\n",
      "Epoch 112 / train/metric=0.4616\n"
     ]
    },
    {
     "name": "stderr",
     "output_type": "stream",
     "text": [
      " 56%|█████▌    | 112/200 [9:08:50<7:11:45, 294.38s/it]"
     ]
    },
    {
     "name": "stdout",
     "output_type": "stream",
     "text": [
      "Epoch 112 / val/metric=0.4997\n",
      "Epoch 113 / trn/loss=0.6803\n",
      "Epoch 113 / train/metric=0.4646\n"
     ]
    },
    {
     "name": "stderr",
     "output_type": "stream",
     "text": [
      " 56%|█████▋    | 113/200 [9:13:45<7:06:43, 294.29s/it]"
     ]
    },
    {
     "name": "stdout",
     "output_type": "stream",
     "text": [
      "Epoch 113 / val/metric=0.4943\n",
      "Epoch 114 / trn/loss=0.6722\n",
      "Epoch 114 / train/metric=0.4572\n",
      "Epoch 114 / val/metric=0.4760\n",
      "Best val_metric 0.4760328437074442 at epoch 114!\n"
     ]
    },
    {
     "name": "stderr",
     "output_type": "stream",
     "text": [
      " 57%|█████▋    | 114/200 [9:18:40<7:02:12, 294.57s/it]"
     ]
    },
    {
     "name": "stdout",
     "output_type": "stream",
     "text": [
      "Epoch 115 / trn/loss=0.6812\n",
      "Epoch 115 / train/metric=0.4653\n"
     ]
    },
    {
     "name": "stderr",
     "output_type": "stream",
     "text": [
      " 57%|█████▊    | 115/200 [9:23:34<6:57:08, 294.45s/it]"
     ]
    },
    {
     "name": "stdout",
     "output_type": "stream",
     "text": [
      "Epoch 115 / val/metric=0.4862\n",
      "Epoch 116 / trn/loss=0.6676\n",
      "Epoch 116 / train/metric=0.4539\n"
     ]
    },
    {
     "name": "stderr",
     "output_type": "stream",
     "text": [
      " 58%|█████▊    | 116/200 [9:28:29<6:52:18, 294.51s/it]"
     ]
    },
    {
     "name": "stdout",
     "output_type": "stream",
     "text": [
      "Epoch 116 / val/metric=0.4940\n",
      "Epoch 117 / trn/loss=0.6721\n",
      "Epoch 117 / train/metric=0.4587\n"
     ]
    },
    {
     "name": "stderr",
     "output_type": "stream",
     "text": [
      " 58%|█████▊    | 117/200 [9:33:23<6:47:11, 294.35s/it]"
     ]
    },
    {
     "name": "stdout",
     "output_type": "stream",
     "text": [
      "Epoch 117 / val/metric=0.4866\n",
      "Epoch 118 / trn/loss=0.6626\n",
      "Epoch 118 / train/metric=0.4490\n"
     ]
    },
    {
     "name": "stderr",
     "output_type": "stream",
     "text": [
      " 59%|█████▉    | 118/200 [9:38:16<6:41:50, 294.03s/it]"
     ]
    },
    {
     "name": "stdout",
     "output_type": "stream",
     "text": [
      "Epoch 118 / val/metric=0.5063\n",
      "Epoch 119 / trn/loss=0.6643\n",
      "Epoch 119 / train/metric=0.4522\n"
     ]
    },
    {
     "name": "stderr",
     "output_type": "stream",
     "text": [
      " 60%|█████▉    | 119/200 [9:43:10<6:36:49, 293.94s/it]"
     ]
    },
    {
     "name": "stdout",
     "output_type": "stream",
     "text": [
      "Epoch 119 / val/metric=0.4922\n",
      "Epoch 120 / trn/loss=0.6665\n",
      "Epoch 120 / train/metric=0.4523\n"
     ]
    },
    {
     "name": "stderr",
     "output_type": "stream",
     "text": [
      " 60%|██████    | 120/200 [9:48:04<6:32:11, 294.14s/it]"
     ]
    },
    {
     "name": "stdout",
     "output_type": "stream",
     "text": [
      "Epoch 120 / val/metric=0.4864\n",
      "Epoch 121 / trn/loss=0.6606\n",
      "Epoch 121 / train/metric=0.4477\n"
     ]
    },
    {
     "name": "stderr",
     "output_type": "stream",
     "text": [
      " 60%|██████    | 121/200 [9:52:57<6:26:45, 293.74s/it]"
     ]
    },
    {
     "name": "stdout",
     "output_type": "stream",
     "text": [
      "Epoch 121 / val/metric=0.4993\n",
      "Epoch 122 / trn/loss=0.6598\n",
      "Epoch 122 / train/metric=0.4473\n"
     ]
    },
    {
     "name": "stderr",
     "output_type": "stream",
     "text": [
      " 61%|██████    | 122/200 [9:57:51<6:22:01, 293.87s/it]"
     ]
    },
    {
     "name": "stdout",
     "output_type": "stream",
     "text": [
      "Epoch 122 / val/metric=0.4788\n",
      "Epoch 123 / trn/loss=0.6587\n",
      "Epoch 123 / train/metric=0.4471\n"
     ]
    },
    {
     "name": "stderr",
     "output_type": "stream",
     "text": [
      " 62%|██████▏   | 123/200 [10:02:46<6:17:32, 294.19s/it]"
     ]
    },
    {
     "name": "stdout",
     "output_type": "stream",
     "text": [
      "Epoch 123 / val/metric=0.4894\n",
      "Epoch 124 / trn/loss=0.6548\n",
      "Epoch 124 / train/metric=0.4433\n"
     ]
    },
    {
     "name": "stderr",
     "output_type": "stream",
     "text": [
      " 62%|██████▏   | 124/200 [10:07:41<6:13:01, 294.50s/it]"
     ]
    },
    {
     "name": "stdout",
     "output_type": "stream",
     "text": [
      "Epoch 124 / val/metric=0.4831\n",
      "Epoch 125 / trn/loss=0.6552\n",
      "Epoch 125 / train/metric=0.4438\n"
     ]
    },
    {
     "name": "stderr",
     "output_type": "stream",
     "text": [
      " 62%|██████▎   | 125/200 [10:12:35<6:07:52, 294.30s/it]"
     ]
    },
    {
     "name": "stdout",
     "output_type": "stream",
     "text": [
      "Epoch 125 / val/metric=0.4894\n",
      "Epoch 126 / trn/loss=0.6528\n",
      "Epoch 126 / train/metric=0.4405\n"
     ]
    },
    {
     "name": "stderr",
     "output_type": "stream",
     "text": [
      " 63%|██████▎   | 126/200 [10:17:29<6:02:58, 294.30s/it]"
     ]
    },
    {
     "name": "stdout",
     "output_type": "stream",
     "text": [
      "Epoch 126 / val/metric=0.4936\n",
      "Epoch 127 / trn/loss=0.6431\n",
      "Epoch 127 / train/metric=0.4330\n"
     ]
    },
    {
     "name": "stderr",
     "output_type": "stream",
     "text": [
      " 64%|██████▎   | 127/200 [10:22:24<5:58:07, 294.35s/it]"
     ]
    },
    {
     "name": "stdout",
     "output_type": "stream",
     "text": [
      "Epoch 127 / val/metric=0.5009\n",
      "Epoch 128 / trn/loss=0.6467\n",
      "Epoch 128 / train/metric=0.4361\n"
     ]
    },
    {
     "name": "stderr",
     "output_type": "stream",
     "text": [
      " 64%|██████▍   | 128/200 [10:27:18<5:53:00, 294.18s/it]"
     ]
    },
    {
     "name": "stdout",
     "output_type": "stream",
     "text": [
      "Epoch 128 / val/metric=0.4871\n",
      "Epoch 129 / trn/loss=0.6387\n",
      "Epoch 129 / train/metric=0.4294\n"
     ]
    },
    {
     "name": "stderr",
     "output_type": "stream",
     "text": [
      " 64%|██████▍   | 129/200 [10:32:13<5:48:26, 294.46s/it]"
     ]
    },
    {
     "name": "stdout",
     "output_type": "stream",
     "text": [
      "Epoch 129 / val/metric=0.4894\n",
      "Epoch 130 / trn/loss=0.6414\n",
      "Epoch 130 / train/metric=0.4319\n"
     ]
    },
    {
     "name": "stderr",
     "output_type": "stream",
     "text": [
      " 65%|██████▌   | 130/200 [10:37:06<5:43:07, 294.11s/it]"
     ]
    },
    {
     "name": "stdout",
     "output_type": "stream",
     "text": [
      "Epoch 130 / val/metric=0.4900\n",
      "Epoch 131 / trn/loss=0.6369\n",
      "Epoch 131 / train/metric=0.4298\n"
     ]
    },
    {
     "name": "stderr",
     "output_type": "stream",
     "text": [
      " 66%|██████▌   | 131/200 [10:41:59<5:37:58, 293.89s/it]"
     ]
    },
    {
     "name": "stdout",
     "output_type": "stream",
     "text": [
      "Epoch 131 / val/metric=0.5096\n",
      "Epoch 132 / trn/loss=0.6353\n",
      "Epoch 132 / train/metric=0.4266\n"
     ]
    },
    {
     "name": "stderr",
     "output_type": "stream",
     "text": [
      " 66%|██████▌   | 132/200 [10:46:54<5:33:23, 294.16s/it]"
     ]
    },
    {
     "name": "stdout",
     "output_type": "stream",
     "text": [
      "Epoch 132 / val/metric=0.4884\n",
      "Epoch 133 / trn/loss=0.6337\n",
      "Epoch 133 / train/metric=0.4257\n"
     ]
    },
    {
     "name": "stderr",
     "output_type": "stream",
     "text": [
      " 66%|██████▋   | 133/200 [10:51:47<5:28:07, 293.84s/it]"
     ]
    },
    {
     "name": "stdout",
     "output_type": "stream",
     "text": [
      "Epoch 133 / val/metric=0.4926\n",
      "Epoch 134 / trn/loss=0.6339\n",
      "Epoch 134 / train/metric=0.4256\n"
     ]
    },
    {
     "name": "stderr",
     "output_type": "stream",
     "text": [
      "                                                       "
     ]
    },
    {
     "name": "stdout",
     "output_type": "stream",
     "text": [
      "Epoch 134 / val/metric=0.5033\n",
      "Not improved for 20 epochs, terminate the train\n"
     ]
    },
    {
     "name": "stderr",
     "output_type": "stream",
     "text": [
      "\r"
     ]
    },
    {
     "data": {
      "text/html": [
       "Waiting for W&B process to finish... <strong style=\"color:green\">(success).</strong>"
      ],
      "text/plain": [
       "<IPython.core.display.HTML object>"
      ]
     },
     "metadata": {},
     "output_type": "display_data"
    },
    {
     "name": "stderr",
     "output_type": "stream",
     "text": [
      "wandb: WARNING Source type is set to 'repo' but some required information is missing from the environment. A job will not be created from this run. See https://docs.wandb.ai/guides/launch/create-job\n"
     ]
    },
    {
     "data": {
      "text/html": [
       "<style>\n",
       "    table.wandb td:nth-child(1) { padding: 0 10px; text-align: left ; width: auto;} td:nth-child(2) {text-align: left ; width: 100%}\n",
       "    .wandb-row { display: flex; flex-direction: row; flex-wrap: wrap; justify-content: flex-start; width: 100% }\n",
       "    .wandb-col { display: flex; flex-direction: column; flex-basis: 100%; flex: 1; padding: 10px; }\n",
       "    </style>\n",
       "<div class=\"wandb-row\"><div class=\"wandb-col\"><h3>Run history:</h3><br/><table class=\"wandb\"><tr><td>best_total_log_loss</td><td>▁</td></tr><tr><td>lr</td><td>▁▁▁▂▂▂▃▃▄▅▅▆▆▇▇██████████▇▇▇▇▇▇▆▆▆▅▅▅▅▄▄</td></tr><tr><td>train_any_in_metric</td><td>▇██▆▇▆▆▆▆▆▆▆▆▇▆▆▆▅▅▅▅▄▄▆▅▄▄▄▄▄▃▃▄▃▃▂▂▂▂▁</td></tr><tr><td>train_any_loss</td><td>▂▇▆▃▄▁▆▃▁█▂▂▁▃▃▃▃▃▆▁▃▁▄▅▂▃▇▄▃▂▄▁▄▆▅▂▄▂▂▅</td></tr><tr><td>train_avg_loss</td><td>▃█▄▃▄▁▆▂▁▇▃▃▁▃▃▄▃▃▇▁▃▁▅▅▂▃▇▄▅▂▄▁▄▅▆▁▄▃▃▅</td></tr><tr><td>train_avg_metric</td><td>█▇▆▅▅▅▅▅▅▅▅▅▅▅▅▅▅▄▄▄▄▄▄▄▄▃▃▃▃▃▃▂▂▂▂▂▂▁▁▁</td></tr><tr><td>train_bowel_loss</td><td>▂▃▃▁▄▁▁▁▁▁▁▁▁▁▁▁▁▁█▁▁▁▁▃▁▃▁▁▁▁▂▁▁▁▁▁▁▄▃▁</td></tr><tr><td>train_bowel_metric</td><td>█▅▄▄▄▄▄▄▄▄▄▄▄▄▄▃▃▃▃▃▃▃▃▃▃▃▂▂▃▂▂▂▃▂▂▂▂▁▁▁</td></tr><tr><td>train_extrav_loss</td><td>▅█▂▅▅▂▅▂▂▄▃▂▂▃▂▂▂▅▅▂▁▂▃▂▂▄▁▅▅▁▂▂▁▃▁▂▂▃▂▃</td></tr><tr><td>train_extrav_metric</td><td>▇▇▇▇▆▆▆█▇▆█▇▆▇▆▅▇█▆▅▆▅▆▄▄▄▅▃▄▃▅▃▃▃▁▄▂▂▂▁</td></tr><tr><td>train_kidney_loss</td><td>▃▅▂▁▁▁█▁▁▁▅▅▁▅▁▁▁▁▁▁▄▁▃▁▂▁▅▂▃▂▅▁▁▁▃▁▂▂▂▂</td></tr><tr><td>train_kidney_metric</td><td>█▇▄▄▃▃▃▃▃▃▃▃▃▃▃▃▃▃▃▃▃▃▃▂▃▂▂▂▂▂▂▂▂▂▁▁▂▁▁▁</td></tr><tr><td>train_liver_loss</td><td>▂▃▃▁▁▁▃▁▁▄▁▂▁▁▃▆▃▃▇▂▃▁█▇▃▂▆▃▂▃▂▁█▆▆▃█▂▁█</td></tr><tr><td>train_liver_metric</td><td>█▆▅▅▆▅▅▅▅▅▅▅▆▅▅▄▅▄▅▅▅▄▄▄▃▄▄▃▃▃▃▃▂▃▃▃▂▃▁▁</td></tr><tr><td>train_spleen_loss</td><td>▂▅▃▃▂▂▃▃▂▆▃▂▂▂▃▃▂▂▁▁▂▁▂▄▂▂▆▂▆▂▁▁▃▃█▁▃▂▃▂</td></tr><tr><td>train_spleen_metric</td><td>█▇▇▇▇▇▇▇▇▇▆▆▆▆▆▆▅▅▅▅▄▄▄▄▄▃▃▃▃▂▃▂▂▂▂▁▁▁▁▁</td></tr><tr><td>valid_any_in_metric</td><td>▇█▆▆▅▆▄▅▄▇▃▆▅▅▅▂▄▇▃▃▄▅▃▁▆▃▃▃▃▃▂▄▃▂▄▂▃▁▃▃</td></tr><tr><td>valid_avg_metric</td><td>█▇▅▄▄▄▅▄▄▄▄▄▄▄▃▅▄▄▄▂▂▃▂▃▃▃▃▃▂▁▂▁▂▂▂▁▁▂▂▂</td></tr><tr><td>valid_bowel_metric</td><td>▅▂▁▂▁▂▂▂▃▂▁▂▃▃▂▁▅▂▃▂▂▆▄▂▄▂▇▄▃▄▃▄▆█▆▆▇▇▇▇</td></tr><tr><td>valid_extrav_metric</td><td>▂▂▃▂▃▃▃▂▄▃▄▃▄▂▁█▁▃▃▃▁▁▃▂▁▁▁▂▂▂▂▂▃▃▂▂▂▃▂▂</td></tr><tr><td>valid_kidney_metric</td><td>█▇▃▂▂▂▂▂▂▃▂▂▂▂▂▂▁▂▂▂▄▃▂▂▂▂▂▂▂▁▂▁▂▂▂▂▁▂▁▁</td></tr><tr><td>valid_liver_metric</td><td>▆▅▅▄▄▄▅▄▃▃▅▅▄▃▄▅▂▂▃▂▂▁▂█▃▂▁▂▂▂▃▂▂▂▂▃▁▃▁▃</td></tr><tr><td>valid_spleen_metric</td><td>█▇▇▆▆▇▇▆▆▅▅▆▆▆▅▅█▄▇▃▂▃▃▄▃▇▅▅▂▁▂▁▂▂▁▁▁▁▂▃</td></tr></table><br/></div><div class=\"wandb-col\"><h3>Run summary:</h3><br/><table class=\"wandb\"><tr><td>best_total_log_loss</td><td>0.47603</td></tr><tr><td>lr</td><td>0.00046</td></tr><tr><td>train_any_in_metric</td><td>0.52078</td></tr><tr><td>train_any_loss</td><td>0.88861</td></tr><tr><td>train_avg_loss</td><td>0.35342</td></tr><tr><td>train_avg_metric</td><td>0.4256</td></tr><tr><td>train_bowel_loss</td><td>0.01205</td></tr><tr><td>train_bowel_metric</td><td>0.10919</td></tr><tr><td>train_extrav_loss</td><td>0.32776</td></tr><tr><td>train_extrav_metric</td><td>0.53728</td></tr><tr><td>train_kidney_loss</td><td>0.33654</td></tr><tr><td>train_kidney_metric</td><td>0.37895</td></tr><tr><td>train_liver_loss</td><td>0.355</td></tr><tr><td>train_liver_metric</td><td>0.51708</td></tr><tr><td>train_spleen_loss</td><td>0.20055</td></tr><tr><td>train_spleen_metric</td><td>0.49033</td></tr><tr><td>valid_any_in_metric</td><td>0.59796</td></tr><tr><td>valid_avg_metric</td><td>0.50335</td></tr><tr><td>valid_bowel_metric</td><td>0.25168</td></tr><tr><td>valid_extrav_metric</td><td>0.59521</td></tr><tr><td>valid_kidney_metric</td><td>0.40245</td></tr><tr><td>valid_liver_metric</td><td>0.61901</td></tr><tr><td>valid_spleen_metric</td><td>0.5538</td></tr></table><br/></div></div>"
      ],
      "text/plain": [
       "<IPython.core.display.HTML object>"
      ]
     },
     "metadata": {},
     "output_type": "display_data"
    },
    {
     "data": {
      "text/html": [
       " View run <strong style=\"color:#cdcd00\">timm/resnet10t.c3_in1k_separated_ratio</strong> at: <a href='https://wandb.ai/junseonglee/RSNA_ABTD/runs/x8izn1x0' target=\"_blank\">https://wandb.ai/junseonglee/RSNA_ABTD/runs/x8izn1x0</a><br/>Synced 6 W&B file(s), 0 media file(s), 0 artifact file(s) and 0 other file(s)"
      ],
      "text/plain": [
       "<IPython.core.display.HTML object>"
      ]
     },
     "metadata": {},
     "output_type": "display_data"
    },
    {
     "data": {
      "text/html": [
       "Find logs at: <code>/home/junseonglee/Desktop/01_codes/inputs/rsna-2023-abdominal-trauma-detection/wandb/run-20230921_235351-x8izn1x0/logs</code>"
      ],
      "text/plain": [
       "<IPython.core.display.HTML object>"
      ]
     },
     "metadata": {},
     "output_type": "display_data"
    }
   ],
   "source": [
    "model = AbdominalClassifier()\n",
    "model.to(DEVICE)\n",
    "\n",
    "wandb.init(\n",
    "    config = wandb_config,\n",
    "    project= PROJECT_NAME,\n",
    "    group  = GROUP_NAME,\n",
    "    name   = RUN_NAME,\n",
    "    dir    = BASE_PATH)\n",
    "\n",
    "backbone = backbone.replace('/', '_')\n",
    "\n",
    "if __name__ == '__main__':\n",
    "    train_dataset = AbdominalCTDataset(train_meta_df[train_meta_df['fold']!=0], is_train = True, transform_set  = transforms_train, \n",
    "                                        remain_transforms_set = remain_transforms_train)\n",
    "    valid_dataset = AbdominalCTDataset(train_meta_df[train_meta_df['fold']==0], is_train = False, transform_set = None,\n",
    "                                        remain_transforms_set = None)        \n",
    "    \n",
    "    train_loader = DataLoader(dataset = train_dataset, shuffle = True, batch_size = BATCH_SIZE, pin_memory = False, \n",
    "                            num_workers = N_WORKERS, drop_last = False)\n",
    "\n",
    "    valid_loader = DataLoader(dataset = valid_dataset, shuffle = False, batch_size = BATCH_SIZE, pin_memory = False, \n",
    "                            num_workers = N_WORKERS, drop_last = False)     \n",
    "    \n",
    "    ttl_iters = N_EPOCHS * len(train_loader)\n",
    "    \n",
    "    #gradient accumulation for stability of the training\n",
    "    accum_len = int(np.ceil(len(train_loader)/ACCUM_STEPS)+0.001)\n",
    "    accum_points = np.zeros(accum_len, int)\n",
    "    accum_scale  = np.zeros(accum_len, int)\n",
    "    \n",
    "    prev_step = -1\n",
    "    for i in range(0, accum_len):\n",
    "        accum_points[i] = min(prev_step+ACCUM_STEPS, len(train_loader)-1)\n",
    "        accum_scale[i]  = accum_points[i] - prev_step\n",
    "        prev_step = accum_points[i]\n",
    "\n",
    "    #Scheduler & optimizer\n",
    "    optimizer = torch.optim.AdamW(model.parameters(), lr = LR)\n",
    "    n_batch_iters = int(np.ceil(len(train_loader)/ACCUM_STEPS)+0.001)\n",
    "    #scheduler = CosineAnnealingLR(optimizer, T_max=ttl_iters, eta_min=1e-6)\n",
    "    scheduler = torch.optim.lr_scheduler.OneCycleLR(optimizer, max_lr=LR, \n",
    "                                                    steps_per_epoch= n_batch_iters, epochs = N_EPOCHS)\n",
    "\n",
    "    scaler = torch.cuda.amp.GradScaler(enabled=True)\n",
    "    val_metrics = np.ones(N_EPOCHS)*100\n",
    "\n",
    "    gc.collect()\n",
    "\n",
    "    for epoch in tqdm(range(0, N_EPOCHS), leave = False):     \n",
    "\n",
    "        scheduler, scaler, optimizer = train_func(model, train_loader, scaler, scheduler, optimizer, epoch, accum_points, accum_scale)\n",
    "        metric                       = valid_func(model, valid_loader)\n",
    "        \n",
    "        #Save the best model    \n",
    "        if(metric < np.min(val_metrics)):\n",
    "            try:\n",
    "                os.makedirs(f'{BASE_PATH}/weights')\n",
    "            except:\n",
    "                a = 1\n",
    "            best_metric = metric\n",
    "            print(f'Best val_metric {best_metric} at epoch {epoch+1}!')\n",
    "            torch.save(model, f'{BASE_PATH}/weights/{backbone}_lr{LR}_epochs_{N_EPOCHS}_resol{UP_RESOL}_batch{BATCH_SIZE}.pt')    \n",
    "            not_improve_counter=0\n",
    "            val_metrics[epoch] = metric\n",
    "            continue                    \n",
    "        val_metrics[epoch] = metric                        \n",
    "        \n",
    "        #Early stopping\n",
    "        not_improve_counter+=1\n",
    "        if(not_improve_counter == EARLY_STOP_COUNT):\n",
    "            print(f'Not improved for {not_improve_counter} epochs, terminate the train')\n",
    "            break\n",
    "wandb.log({'best_total_log_loss': best_metric})\n",
    "wandb.finish()"
   ]
  },
  {
   "cell_type": "code",
   "execution_count": 16,
   "metadata": {},
   "outputs": [
    {
     "name": "stdout",
     "output_type": "stream",
     "text": [
      "Wandb is already finished!\n"
     ]
    }
   ],
   "source": [
    "#Execute this cell to fininsh the wandb run when you stopped training.\n",
    "\n",
    "import wandb\n",
    "try: \n",
    "    wandb.log({'best_total_log_loss': best_metric})\n",
    "    wandb.finish()\n",
    "    \n",
    "except:\n",
    "    print('Wandb is already finished!')"
   ]
  }
 ],
 "metadata": {
  "kernelspec": {
   "display_name": "Python 3 (ipykernel)",
   "language": "python",
   "name": "python3"
  },
  "language_info": {
   "codemirror_mode": {
    "name": "ipython",
    "version": 3
   },
   "file_extension": ".py",
   "mimetype": "text/x-python",
   "name": "python",
   "nbconvert_exporter": "python",
   "pygments_lexer": "ipython3",
   "version": "3.11.4"
  }
 },
 "nbformat": 4,
 "nbformat_minor": 4
}
